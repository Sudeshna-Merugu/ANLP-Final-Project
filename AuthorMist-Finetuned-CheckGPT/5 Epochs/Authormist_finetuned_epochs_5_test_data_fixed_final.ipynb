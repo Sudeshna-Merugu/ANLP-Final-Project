{
 "cells": [
  {
   "cell_type": "markdown",
   "metadata": {
    "id": "pMa4-WfUxqFm"
   },
   "source": [
    "#CHECKGPT DATASET (SAME AS THE ORIGINAL PAPER) WAS USED FOR FINE-TUNING AUTHORMIST"
   ]
  },
  {
   "cell_type": "code",
   "execution_count": null,
   "metadata": {
    "colab": {
     "base_uri": "https://localhost:8080/"
    },
    "collapsed": true,
    "id": "DB_YuXY652Wt",
    "outputId": "173d7cad-ca5a-4142-944e-42adfce503ec"
   },
   "outputs": [
    {
     "name": "stdout",
     "output_type": "stream",
     "text": [
      "Cloning into 'CheckGPT-v2'...\n",
      "remote: Enumerating objects: 145, done.\u001b[K\n",
      "remote: Counting objects: 100% (38/38), done.\u001b[K\n",
      "remote: Compressing objects: 100% (25/25), done.\u001b[K\n",
      "remote: Total 145 (delta 14), reused 29 (delta 9), pack-reused 107 (from 1)\u001b[K\n",
      "Receiving objects: 100% (145/145), 1.10 GiB | 27.91 MiB/s, done.\n",
      "Resolving deltas: 100% (50/50), done.\n",
      "Updating files: 100% (68/68), done.\n"
     ]
    }
   ],
   "source": [
    "!git clone https://github.com/liuzey/CheckGPT-v2.git"
   ]
  },
  {
   "cell_type": "code",
   "execution_count": null,
   "metadata": {
    "colab": {
     "base_uri": "https://localhost:8080/"
    },
    "collapsed": true,
    "id": "JhnrYALb6RZL",
    "outputId": "3c42b67a-222f-442e-a6d9-250121574429"
   },
   "outputs": [
    {
     "name": "stdout",
     "output_type": "stream",
     "text": [
      "Collecting datasets\n",
      "  Downloading datasets-3.5.0-py3-none-any.whl.metadata (19 kB)\n",
      "Collecting trl\n",
      "  Downloading trl-0.17.0-py3-none-any.whl.metadata (12 kB)\n",
      "Requirement already satisfied: filelock in /usr/local/lib/python3.11/dist-packages (from datasets) (3.18.0)\n",
      "Requirement already satisfied: numpy>=1.17 in /usr/local/lib/python3.11/dist-packages (from datasets) (2.0.2)\n",
      "Requirement already satisfied: pyarrow>=15.0.0 in /usr/local/lib/python3.11/dist-packages (from datasets) (18.1.0)\n",
      "Collecting dill<0.3.9,>=0.3.0 (from datasets)\n",
      "  Downloading dill-0.3.8-py3-none-any.whl.metadata (10 kB)\n",
      "Requirement already satisfied: pandas in /usr/local/lib/python3.11/dist-packages (from datasets) (2.2.2)\n",
      "Requirement already satisfied: requests>=2.32.2 in /usr/local/lib/python3.11/dist-packages (from datasets) (2.32.3)\n",
      "Requirement already satisfied: tqdm>=4.66.3 in /usr/local/lib/python3.11/dist-packages (from datasets) (4.67.1)\n",
      "Collecting xxhash (from datasets)\n",
      "  Downloading xxhash-3.5.0-cp311-cp311-manylinux_2_17_x86_64.manylinux2014_x86_64.whl.metadata (12 kB)\n",
      "Collecting multiprocess<0.70.17 (from datasets)\n",
      "  Downloading multiprocess-0.70.16-py311-none-any.whl.metadata (7.2 kB)\n",
      "Collecting fsspec<=2024.12.0,>=2023.1.0 (from fsspec[http]<=2024.12.0,>=2023.1.0->datasets)\n",
      "  Downloading fsspec-2024.12.0-py3-none-any.whl.metadata (11 kB)\n",
      "Requirement already satisfied: aiohttp in /usr/local/lib/python3.11/dist-packages (from datasets) (3.11.15)\n",
      "Requirement already satisfied: huggingface-hub>=0.24.0 in /usr/local/lib/python3.11/dist-packages (from datasets) (0.30.2)\n",
      "Requirement already satisfied: packaging in /usr/local/lib/python3.11/dist-packages (from datasets) (24.2)\n",
      "Requirement already satisfied: pyyaml>=5.1 in /usr/local/lib/python3.11/dist-packages (from datasets) (6.0.2)\n",
      "Requirement already satisfied: accelerate>=0.34.0 in /usr/local/lib/python3.11/dist-packages (from trl) (1.5.2)\n",
      "Requirement already satisfied: rich in /usr/local/lib/python3.11/dist-packages (from trl) (13.9.4)\n",
      "Requirement already satisfied: transformers>=4.46.0 in /usr/local/lib/python3.11/dist-packages (from trl) (4.51.3)\n",
      "Requirement already satisfied: psutil in /usr/local/lib/python3.11/dist-packages (from accelerate>=0.34.0->trl) (5.9.5)\n",
      "Requirement already satisfied: torch>=2.0.0 in /usr/local/lib/python3.11/dist-packages (from accelerate>=0.34.0->trl) (2.6.0+cu124)\n",
      "Requirement already satisfied: safetensors>=0.4.3 in /usr/local/lib/python3.11/dist-packages (from accelerate>=0.34.0->trl) (0.5.3)\n",
      "Requirement already satisfied: aiohappyeyeballs>=2.3.0 in /usr/local/lib/python3.11/dist-packages (from aiohttp->datasets) (2.6.1)\n",
      "Requirement already satisfied: aiosignal>=1.1.2 in /usr/local/lib/python3.11/dist-packages (from aiohttp->datasets) (1.3.2)\n",
      "Requirement already satisfied: attrs>=17.3.0 in /usr/local/lib/python3.11/dist-packages (from aiohttp->datasets) (25.3.0)\n",
      "Requirement already satisfied: frozenlist>=1.1.1 in /usr/local/lib/python3.11/dist-packages (from aiohttp->datasets) (1.6.0)\n",
      "Requirement already satisfied: multidict<7.0,>=4.5 in /usr/local/lib/python3.11/dist-packages (from aiohttp->datasets) (6.4.3)\n",
      "Requirement already satisfied: propcache>=0.2.0 in /usr/local/lib/python3.11/dist-packages (from aiohttp->datasets) (0.3.1)\n",
      "Requirement already satisfied: yarl<2.0,>=1.17.0 in /usr/local/lib/python3.11/dist-packages (from aiohttp->datasets) (1.20.0)\n",
      "Requirement already satisfied: typing-extensions>=3.7.4.3 in /usr/local/lib/python3.11/dist-packages (from huggingface-hub>=0.24.0->datasets) (4.13.2)\n",
      "Requirement already satisfied: charset-normalizer<4,>=2 in /usr/local/lib/python3.11/dist-packages (from requests>=2.32.2->datasets) (3.4.1)\n",
      "Requirement already satisfied: idna<4,>=2.5 in /usr/local/lib/python3.11/dist-packages (from requests>=2.32.2->datasets) (3.10)\n",
      "Requirement already satisfied: urllib3<3,>=1.21.1 in /usr/local/lib/python3.11/dist-packages (from requests>=2.32.2->datasets) (2.3.0)\n",
      "Requirement already satisfied: certifi>=2017.4.17 in /usr/local/lib/python3.11/dist-packages (from requests>=2.32.2->datasets) (2025.1.31)\n",
      "Requirement already satisfied: regex!=2019.12.17 in /usr/local/lib/python3.11/dist-packages (from transformers>=4.46.0->trl) (2024.11.6)\n",
      "Requirement already satisfied: tokenizers<0.22,>=0.21 in /usr/local/lib/python3.11/dist-packages (from transformers>=4.46.0->trl) (0.21.1)\n",
      "Requirement already satisfied: python-dateutil>=2.8.2 in /usr/local/lib/python3.11/dist-packages (from pandas->datasets) (2.8.2)\n",
      "Requirement already satisfied: pytz>=2020.1 in /usr/local/lib/python3.11/dist-packages (from pandas->datasets) (2025.2)\n",
      "Requirement already satisfied: tzdata>=2022.7 in /usr/local/lib/python3.11/dist-packages (from pandas->datasets) (2025.2)\n",
      "Requirement already satisfied: markdown-it-py>=2.2.0 in /usr/local/lib/python3.11/dist-packages (from rich->trl) (3.0.0)\n",
      "Requirement already satisfied: pygments<3.0.0,>=2.13.0 in /usr/local/lib/python3.11/dist-packages (from rich->trl) (2.18.0)\n",
      "Requirement already satisfied: mdurl~=0.1 in /usr/local/lib/python3.11/dist-packages (from markdown-it-py>=2.2.0->rich->trl) (0.1.2)\n",
      "Requirement already satisfied: six>=1.5 in /usr/local/lib/python3.11/dist-packages (from python-dateutil>=2.8.2->pandas->datasets) (1.17.0)\n",
      "Requirement already satisfied: networkx in /usr/local/lib/python3.11/dist-packages (from torch>=2.0.0->accelerate>=0.34.0->trl) (3.4.2)\n",
      "Requirement already satisfied: jinja2 in /usr/local/lib/python3.11/dist-packages (from torch>=2.0.0->accelerate>=0.34.0->trl) (3.1.6)\n",
      "Collecting nvidia-cuda-nvrtc-cu12==12.4.127 (from torch>=2.0.0->accelerate>=0.34.0->trl)\n",
      "  Downloading nvidia_cuda_nvrtc_cu12-12.4.127-py3-none-manylinux2014_x86_64.whl.metadata (1.5 kB)\n",
      "Collecting nvidia-cuda-runtime-cu12==12.4.127 (from torch>=2.0.0->accelerate>=0.34.0->trl)\n",
      "  Downloading nvidia_cuda_runtime_cu12-12.4.127-py3-none-manylinux2014_x86_64.whl.metadata (1.5 kB)\n",
      "Collecting nvidia-cuda-cupti-cu12==12.4.127 (from torch>=2.0.0->accelerate>=0.34.0->trl)\n",
      "  Downloading nvidia_cuda_cupti_cu12-12.4.127-py3-none-manylinux2014_x86_64.whl.metadata (1.6 kB)\n",
      "Collecting nvidia-cudnn-cu12==9.1.0.70 (from torch>=2.0.0->accelerate>=0.34.0->trl)\n",
      "  Downloading nvidia_cudnn_cu12-9.1.0.70-py3-none-manylinux2014_x86_64.whl.metadata (1.6 kB)\n",
      "Collecting nvidia-cublas-cu12==12.4.5.8 (from torch>=2.0.0->accelerate>=0.34.0->trl)\n",
      "  Downloading nvidia_cublas_cu12-12.4.5.8-py3-none-manylinux2014_x86_64.whl.metadata (1.5 kB)\n",
      "Collecting nvidia-cufft-cu12==11.2.1.3 (from torch>=2.0.0->accelerate>=0.34.0->trl)\n",
      "  Downloading nvidia_cufft_cu12-11.2.1.3-py3-none-manylinux2014_x86_64.whl.metadata (1.5 kB)\n",
      "Collecting nvidia-curand-cu12==10.3.5.147 (from torch>=2.0.0->accelerate>=0.34.0->trl)\n",
      "  Downloading nvidia_curand_cu12-10.3.5.147-py3-none-manylinux2014_x86_64.whl.metadata (1.5 kB)\n",
      "Collecting nvidia-cusolver-cu12==11.6.1.9 (from torch>=2.0.0->accelerate>=0.34.0->trl)\n",
      "  Downloading nvidia_cusolver_cu12-11.6.1.9-py3-none-manylinux2014_x86_64.whl.metadata (1.6 kB)\n",
      "Collecting nvidia-cusparse-cu12==12.3.1.170 (from torch>=2.0.0->accelerate>=0.34.0->trl)\n",
      "  Downloading nvidia_cusparse_cu12-12.3.1.170-py3-none-manylinux2014_x86_64.whl.metadata (1.6 kB)\n",
      "Requirement already satisfied: nvidia-cusparselt-cu12==0.6.2 in /usr/local/lib/python3.11/dist-packages (from torch>=2.0.0->accelerate>=0.34.0->trl) (0.6.2)\n",
      "Requirement already satisfied: nvidia-nccl-cu12==2.21.5 in /usr/local/lib/python3.11/dist-packages (from torch>=2.0.0->accelerate>=0.34.0->trl) (2.21.5)\n",
      "Requirement already satisfied: nvidia-nvtx-cu12==12.4.127 in /usr/local/lib/python3.11/dist-packages (from torch>=2.0.0->accelerate>=0.34.0->trl) (12.4.127)\n",
      "Collecting nvidia-nvjitlink-cu12==12.4.127 (from torch>=2.0.0->accelerate>=0.34.0->trl)\n",
      "  Downloading nvidia_nvjitlink_cu12-12.4.127-py3-none-manylinux2014_x86_64.whl.metadata (1.5 kB)\n",
      "Requirement already satisfied: triton==3.2.0 in /usr/local/lib/python3.11/dist-packages (from torch>=2.0.0->accelerate>=0.34.0->trl) (3.2.0)\n",
      "Requirement already satisfied: sympy==1.13.1 in /usr/local/lib/python3.11/dist-packages (from torch>=2.0.0->accelerate>=0.34.0->trl) (1.13.1)\n",
      "Requirement already satisfied: mpmath<1.4,>=1.1.0 in /usr/local/lib/python3.11/dist-packages (from sympy==1.13.1->torch>=2.0.0->accelerate>=0.34.0->trl) (1.3.0)\n",
      "Requirement already satisfied: MarkupSafe>=2.0 in /usr/local/lib/python3.11/dist-packages (from jinja2->torch>=2.0.0->accelerate>=0.34.0->trl) (3.0.2)\n",
      "Downloading datasets-3.5.0-py3-none-any.whl (491 kB)\n",
      "\u001b[2K   \u001b[90m━━━━━━━━━━━━━━━━━━━━━━━━━━━━━━━━━━━━━━━━\u001b[0m \u001b[32m491.2/491.2 kB\u001b[0m \u001b[31m15.2 MB/s\u001b[0m eta \u001b[36m0:00:00\u001b[0m\n",
      "\u001b[?25hDownloading trl-0.17.0-py3-none-any.whl (348 kB)\n",
      "\u001b[2K   \u001b[90m━━━━━━━━━━━━━━━━━━━━━━━━━━━━━━━━━━━━━━━━\u001b[0m \u001b[32m348.0/348.0 kB\u001b[0m \u001b[31m33.6 MB/s\u001b[0m eta \u001b[36m0:00:00\u001b[0m\n",
      "\u001b[?25hDownloading dill-0.3.8-py3-none-any.whl (116 kB)\n",
      "\u001b[2K   \u001b[90m━━━━━━━━━━━━━━━━━━━━━━━━━━━━━━━━━━━━━━━━\u001b[0m \u001b[32m116.3/116.3 kB\u001b[0m \u001b[31m12.9 MB/s\u001b[0m eta \u001b[36m0:00:00\u001b[0m\n",
      "\u001b[?25hDownloading fsspec-2024.12.0-py3-none-any.whl (183 kB)\n",
      "\u001b[2K   \u001b[90m━━━━━━━━━━━━━━━━━━━━━━━━━━━━━━━━━━━━━━━━\u001b[0m \u001b[32m183.9/183.9 kB\u001b[0m \u001b[31m19.6 MB/s\u001b[0m eta \u001b[36m0:00:00\u001b[0m\n",
      "\u001b[?25hDownloading multiprocess-0.70.16-py311-none-any.whl (143 kB)\n",
      "\u001b[2K   \u001b[90m━━━━━━━━━━━━━━━━━━━━━━━━━━━━━━━━━━━━━━━━\u001b[0m \u001b[32m143.5/143.5 kB\u001b[0m \u001b[31m15.6 MB/s\u001b[0m eta \u001b[36m0:00:00\u001b[0m\n",
      "\u001b[?25hDownloading xxhash-3.5.0-cp311-cp311-manylinux_2_17_x86_64.manylinux2014_x86_64.whl (194 kB)\n",
      "\u001b[2K   \u001b[90m━━━━━━━━━━━━━━━━━━━━━━━━━━━━━━━━━━━━━━━━\u001b[0m \u001b[32m194.8/194.8 kB\u001b[0m \u001b[31m19.4 MB/s\u001b[0m eta \u001b[36m0:00:00\u001b[0m\n",
      "\u001b[?25hDownloading nvidia_cublas_cu12-12.4.5.8-py3-none-manylinux2014_x86_64.whl (363.4 MB)\n",
      "\u001b[2K   \u001b[90m━━━━━━━━━━━━━━━━━━━━━━━━━━━━━━━━━━━━━━━━\u001b[0m \u001b[32m363.4/363.4 MB\u001b[0m \u001b[31m3.2 MB/s\u001b[0m eta \u001b[36m0:00:00\u001b[0m\n",
      "\u001b[?25hDownloading nvidia_cuda_cupti_cu12-12.4.127-py3-none-manylinux2014_x86_64.whl (13.8 MB)\n",
      "\u001b[2K   \u001b[90m━━━━━━━━━━━━━━━━━━━━━━━━━━━━━━━━━━━━━━━━\u001b[0m \u001b[32m13.8/13.8 MB\u001b[0m \u001b[31m133.3 MB/s\u001b[0m eta \u001b[36m0:00:00\u001b[0m\n",
      "\u001b[?25hDownloading nvidia_cuda_nvrtc_cu12-12.4.127-py3-none-manylinux2014_x86_64.whl (24.6 MB)\n",
      "\u001b[2K   \u001b[90m━━━━━━━━━━━━━━━━━━━━━━━━━━━━━━━━━━━━━━━━\u001b[0m \u001b[32m24.6/24.6 MB\u001b[0m \u001b[31m103.1 MB/s\u001b[0m eta \u001b[36m0:00:00\u001b[0m\n",
      "\u001b[?25hDownloading nvidia_cuda_runtime_cu12-12.4.127-py3-none-manylinux2014_x86_64.whl (883 kB)\n",
      "\u001b[2K   \u001b[90m━━━━━━━━━━━━━━━━━━━━━━━━━━━━━━━━━━━━━━━━\u001b[0m \u001b[32m883.7/883.7 kB\u001b[0m \u001b[31m66.2 MB/s\u001b[0m eta \u001b[36m0:00:00\u001b[0m\n",
      "\u001b[?25hDownloading nvidia_cudnn_cu12-9.1.0.70-py3-none-manylinux2014_x86_64.whl (664.8 MB)\n",
      "\u001b[2K   \u001b[90m━━━━━━━━━━━━━━━━━━━━━━━━━━━━━━━━━━━━━━━━\u001b[0m \u001b[32m664.8/664.8 MB\u001b[0m \u001b[31m1.7 MB/s\u001b[0m eta \u001b[36m0:00:00\u001b[0m\n",
      "\u001b[?25hDownloading nvidia_cufft_cu12-11.2.1.3-py3-none-manylinux2014_x86_64.whl (211.5 MB)\n",
      "\u001b[2K   \u001b[90m━━━━━━━━━━━━━━━━━━━━━━━━━━━━━━━━━━━━━━━━\u001b[0m \u001b[32m211.5/211.5 MB\u001b[0m \u001b[31m11.5 MB/s\u001b[0m eta \u001b[36m0:00:00\u001b[0m\n",
      "\u001b[?25hDownloading nvidia_curand_cu12-10.3.5.147-py3-none-manylinux2014_x86_64.whl (56.3 MB)\n",
      "\u001b[2K   \u001b[90m━━━━━━━━━━━━━━━━━━━━━━━━━━━━━━━━━━━━━━━━\u001b[0m \u001b[32m56.3/56.3 MB\u001b[0m \u001b[31m44.0 MB/s\u001b[0m eta \u001b[36m0:00:00\u001b[0m\n",
      "\u001b[?25hDownloading nvidia_cusolver_cu12-11.6.1.9-py3-none-manylinux2014_x86_64.whl (127.9 MB)\n",
      "\u001b[2K   \u001b[90m━━━━━━━━━━━━━━━━━━━━━━━━━━━━━━━━━━━━━━━━\u001b[0m \u001b[32m127.9/127.9 MB\u001b[0m \u001b[31m20.4 MB/s\u001b[0m eta \u001b[36m0:00:00\u001b[0m\n",
      "\u001b[?25hDownloading nvidia_cusparse_cu12-12.3.1.170-py3-none-manylinux2014_x86_64.whl (207.5 MB)\n",
      "\u001b[2K   \u001b[90m━━━━━━━━━━━━━━━━━━━━━━━━━━━━━━━━━━━━━━━━\u001b[0m \u001b[32m207.5/207.5 MB\u001b[0m \u001b[31m3.3 MB/s\u001b[0m eta \u001b[36m0:00:00\u001b[0m\n",
      "\u001b[?25hDownloading nvidia_nvjitlink_cu12-12.4.127-py3-none-manylinux2014_x86_64.whl (21.1 MB)\n",
      "\u001b[2K   \u001b[90m━━━━━━━━━━━━━━━━━━━━━━━━━━━━━━━━━━━━━━━━\u001b[0m \u001b[32m21.1/21.1 MB\u001b[0m \u001b[31m110.0 MB/s\u001b[0m eta \u001b[36m0:00:00\u001b[0m\n",
      "\u001b[?25hInstalling collected packages: xxhash, nvidia-nvjitlink-cu12, nvidia-curand-cu12, nvidia-cufft-cu12, nvidia-cuda-runtime-cu12, nvidia-cuda-nvrtc-cu12, nvidia-cuda-cupti-cu12, nvidia-cublas-cu12, fsspec, dill, nvidia-cusparse-cu12, nvidia-cudnn-cu12, multiprocess, nvidia-cusolver-cu12, datasets, trl\n",
      "  Attempting uninstall: nvidia-nvjitlink-cu12\n",
      "    Found existing installation: nvidia-nvjitlink-cu12 12.5.82\n",
      "    Uninstalling nvidia-nvjitlink-cu12-12.5.82:\n",
      "      Successfully uninstalled nvidia-nvjitlink-cu12-12.5.82\n",
      "  Attempting uninstall: nvidia-curand-cu12\n",
      "    Found existing installation: nvidia-curand-cu12 10.3.6.82\n",
      "    Uninstalling nvidia-curand-cu12-10.3.6.82:\n",
      "      Successfully uninstalled nvidia-curand-cu12-10.3.6.82\n",
      "  Attempting uninstall: nvidia-cufft-cu12\n",
      "    Found existing installation: nvidia-cufft-cu12 11.2.3.61\n",
      "    Uninstalling nvidia-cufft-cu12-11.2.3.61:\n",
      "      Successfully uninstalled nvidia-cufft-cu12-11.2.3.61\n",
      "  Attempting uninstall: nvidia-cuda-runtime-cu12\n",
      "    Found existing installation: nvidia-cuda-runtime-cu12 12.5.82\n",
      "    Uninstalling nvidia-cuda-runtime-cu12-12.5.82:\n",
      "      Successfully uninstalled nvidia-cuda-runtime-cu12-12.5.82\n",
      "  Attempting uninstall: nvidia-cuda-nvrtc-cu12\n",
      "    Found existing installation: nvidia-cuda-nvrtc-cu12 12.5.82\n",
      "    Uninstalling nvidia-cuda-nvrtc-cu12-12.5.82:\n",
      "      Successfully uninstalled nvidia-cuda-nvrtc-cu12-12.5.82\n",
      "  Attempting uninstall: nvidia-cuda-cupti-cu12\n",
      "    Found existing installation: nvidia-cuda-cupti-cu12 12.5.82\n",
      "    Uninstalling nvidia-cuda-cupti-cu12-12.5.82:\n",
      "      Successfully uninstalled nvidia-cuda-cupti-cu12-12.5.82\n",
      "  Attempting uninstall: nvidia-cublas-cu12\n",
      "    Found existing installation: nvidia-cublas-cu12 12.5.3.2\n",
      "    Uninstalling nvidia-cublas-cu12-12.5.3.2:\n",
      "      Successfully uninstalled nvidia-cublas-cu12-12.5.3.2\n",
      "  Attempting uninstall: fsspec\n",
      "    Found existing installation: fsspec 2025.3.2\n",
      "    Uninstalling fsspec-2025.3.2:\n",
      "      Successfully uninstalled fsspec-2025.3.2\n",
      "  Attempting uninstall: nvidia-cusparse-cu12\n",
      "    Found existing installation: nvidia-cusparse-cu12 12.5.1.3\n",
      "    Uninstalling nvidia-cusparse-cu12-12.5.1.3:\n",
      "      Successfully uninstalled nvidia-cusparse-cu12-12.5.1.3\n",
      "  Attempting uninstall: nvidia-cudnn-cu12\n",
      "    Found existing installation: nvidia-cudnn-cu12 9.3.0.75\n",
      "    Uninstalling nvidia-cudnn-cu12-9.3.0.75:\n",
      "      Successfully uninstalled nvidia-cudnn-cu12-9.3.0.75\n",
      "  Attempting uninstall: nvidia-cusolver-cu12\n",
      "    Found existing installation: nvidia-cusolver-cu12 11.6.3.83\n",
      "    Uninstalling nvidia-cusolver-cu12-11.6.3.83:\n",
      "      Successfully uninstalled nvidia-cusolver-cu12-11.6.3.83\n",
      "\u001b[31mERROR: pip's dependency resolver does not currently take into account all the packages that are installed. This behaviour is the source of the following dependency conflicts.\n",
      "gcsfs 2025.3.2 requires fsspec==2025.3.2, but you have fsspec 2024.12.0 which is incompatible.\u001b[0m\u001b[31m\n",
      "\u001b[0mSuccessfully installed datasets-3.5.0 dill-0.3.8 fsspec-2024.12.0 multiprocess-0.70.16 nvidia-cublas-cu12-12.4.5.8 nvidia-cuda-cupti-cu12-12.4.127 nvidia-cuda-nvrtc-cu12-12.4.127 nvidia-cuda-runtime-cu12-12.4.127 nvidia-cudnn-cu12-9.1.0.70 nvidia-cufft-cu12-11.2.1.3 nvidia-curand-cu12-10.3.5.147 nvidia-cusolver-cu12-11.6.1.9 nvidia-cusparse-cu12-12.3.1.170 nvidia-nvjitlink-cu12-12.4.127 trl-0.17.0 xxhash-3.5.0\n"
     ]
    }
   ],
   "source": [
    "!pip install datasets trl"
   ]
  },
  {
   "cell_type": "markdown",
   "metadata": {
    "id": "8bVBM80px4sH"
   },
   "source": [
    "###Imports"
   ]
  },
  {
   "cell_type": "code",
   "execution_count": null,
   "metadata": {
    "id": "QerlRE2tiEsW"
   },
   "outputs": [],
   "source": [
    "from transformers import (pipeline, AutoTokenizer, AutoModel, AutoModelForCausalLM)\n",
    "import torch\n",
    "import torch.nn.functional as F\n",
    "from tqdm import tqdm\n",
    "import pandas as pd\n",
    "import numpy as np\n",
    "from sklearn.metrics import roc_curve, auc\n",
    "import matplotlib.pyplot as plt\n",
    "import argparse\n",
    "import gc\n",
    "from datasets import Dataset\n",
    "from trl import GRPOConfig, GRPOTrainer\n",
    "from sklearn.model_selection import train_test_split\n",
    "import json\n",
    "import os\n",
    "from peft import LoraConfig, get_peft_model, TaskType, PeftModel, PeftConfig"
   ]
  },
  {
   "cell_type": "code",
   "execution_count": null,
   "metadata": {
    "id": "XT8TFFE4iFjI"
   },
   "outputs": [],
   "source": [
    "# Clear memory at start\n",
    "gc.collect()\n",
    "torch.cuda.empty_cache()"
   ]
  },
  {
   "cell_type": "markdown",
   "metadata": {
    "id": "ut3-Ze28x8xU"
   },
   "source": [
    "### Preparing the dataset using CHECKGPT"
   ]
  },
  {
   "cell_type": "code",
   "execution_count": null,
   "metadata": {
    "colab": {
     "base_uri": "https://localhost:8080/"
    },
    "id": "Fiu0fhUSiLTk",
    "outputId": "92ddcaa4-de0a-416c-f200-4ba22d3b71fd"
   },
   "outputs": [
    {
     "name": "stdout",
     "output_type": "stream",
     "text": [
      "Loading data...\n",
      "Limiting dataset to 300 samples to prevent OOM\n",
      "Training samples: 240\n"
     ]
    }
   ],
   "source": [
    "import json\n",
    "from datasets import Dataset\n",
    "from sklearn.model_selection import train_test_split\n",
    "\n",
    "# Function to create paraphrase prompt\n",
    "def create_paraphrase_prompt(text: str) -> str:\n",
    "    return f\"\"\"Please paraphrase the following text to make it more human-like while preserving the original meaning:\n",
    "{text}\n",
    "Paraphrased text:\"\"\"\n",
    "\n",
    "# Load and prepare data\n",
    "print(\"Loading data...\")\n",
    "\n",
    "# Load AI-generated texts\n",
    "with open('CheckGPT-v2/GPABenchmark/CS_TASK1/gpt.json', 'r') as f:\n",
    "    gpt_data = json.load(f)\n",
    "ai_texts = list(gpt_data.values())  # <-- fixed here\n",
    "\n",
    "# Load Human-written texts\n",
    "with open('CheckGPT-v2/GPABenchmark/CS_TASK1/hum.json', 'r') as f:\n",
    "    hum_data = json.load(f)\n",
    "hum_texts = list(hum_data.values())  # <-- fixed here\n",
    "\n",
    "# Limit dataset size to prevent OOM\n",
    "max_samples = 300\n",
    "if len(ai_texts) > max_samples:\n",
    "    print(f\"Limiting dataset to {max_samples} samples to prevent OOM\")\n",
    "    ai_texts = ai_texts[:max_samples]\n",
    "\n",
    "# Split AI texts into train/test\n",
    "train_texts, test_texts = train_test_split(ai_texts, test_size=0.2, random_state=42)\n",
    "\n",
    "# Attach paraphrasing prompt to AI texts\n",
    "train_texts = [create_paraphrase_prompt(text) for text in train_texts]\n",
    "test_texts = [create_paraphrase_prompt(text) for text in test_texts]\n",
    "\n",
    "# Create datasets\n",
    "train_dataset = Dataset.from_dict({\"prompt\": train_texts})\n",
    "test_dataset = Dataset.from_dict({\"prompt\": test_texts})\n",
    "\n",
    "print(f\"Training samples: {len(train_texts)}\")"
   ]
  },
  {
   "cell_type": "markdown",
   "metadata": {
    "id": "KMJKMXrdycBL"
   },
   "source": [
    "### GRPO Config being setup along with PEFT"
   ]
  },
  {
   "cell_type": "code",
   "execution_count": null,
   "metadata": {
    "colab": {
     "base_uri": "https://localhost:8080/"
    },
    "id": "qzJ3FGpgiLQs",
    "outputId": "3b9cde5f-d660-49d3-ad01-2e5fa4f8dd05"
   },
   "outputs": [
    {
     "name": "stdout",
     "output_type": "stream",
     "text": [
      "Configuring training...\n"
     ]
    }
   ],
   "source": [
    "# Initialize the RADAR detector as None - will be loaded on first use\n",
    "radar_detector = None\n",
    "\n",
    "# Configure training with optimized settings for memory efficiency\n",
    "print(\"Configuring training...\")\n",
    "training_args = GRPOConfig(\n",
    "    output_dir=\"checkpoints/\",\n",
    "    logging_steps=3,\n",
    "    per_device_train_batch_size=16,\n",
    "    per_device_eval_batch_size=16,\n",
    "    gradient_accumulation_steps=8,\n",
    "    num_train_epochs=5,\n",
    "    fp16=True,\n",
    "    optim=\"adamw_torch\",\n",
    "    gradient_checkpointing=True,\n",
    "    max_grad_norm=0.5,\n",
    "    remove_unused_columns=False,\n",
    "    dataloader_num_workers=1,\n",
    "    save_total_limit=1,\n",
    "    save_strategy=\"epoch\",\n",
    "    eval_strategy=\"no\",\n",
    "    num_generations=2,\n",
    ")\n",
    "\n",
    "# Define PEFT configuration for LoRA\n",
    "peft_config = LoraConfig(\n",
    "    task_type=TaskType.CAUSAL_LM,\n",
    "    inference_mode=False,\n",
    "    r=16,\n",
    "    lora_alpha=128,\n",
    "    lora_dropout=0,\n",
    "    target_modules=[\"q_proj\", \"k_proj\", \"v_proj\", \"o_proj\", \"gate_proj\", \"up_proj\", \"down_proj\"],\n",
    ")"
   ]
  },
  {
   "cell_type": "markdown",
   "metadata": {
    "id": "TTrnV_J7yh6w"
   },
   "source": [
    "### RADAR and DetectGPT are used as detectors along with the SemanticSimilarityChecker"
   ]
  },
  {
   "cell_type": "code",
   "execution_count": null,
   "metadata": {
    "id": "HTJQp2LtiLOX"
   },
   "outputs": [],
   "source": [
    "# Define multiple detector classes\n",
    "class Radar():\n",
    "    def __init__(self, device=\"cpu\"):\n",
    "        self.device = device\n",
    "        self.judge_model = None\n",
    "\n",
    "    def _load_model(self):\n",
    "        if self.judge_model is None:\n",
    "            print(\"Loading RADAR model...\")\n",
    "            self.judge_model = pipeline(\n",
    "                \"text-classification\",\n",
    "                model=\"TrustSafeAI/RADAR-Vicuna-7B\",\n",
    "                tokenizer=\"TrustSafeAI/RADAR-Vicuna-7B\",\n",
    "                max_length=512,\n",
    "                padding='max_length',\n",
    "                truncation=True,\n",
    "                device=self.device,\n",
    "            )\n",
    "            print(\"RADAR model loaded successfully\")\n",
    "\n",
    "    def score(self, response_list):\n",
    "        self._load_model()\n",
    "        scores = self.judge_model(response_list)\n",
    "        return [\n",
    "            (score[\"score\"] if score[\"label\"] == \"LABEL_0\" else 1 - score[\"score\"])\n",
    "            for score in scores\n",
    "        ]\n",
    "\n",
    "# Add another detector class (example for an OpenAI-based detector)\n",
    "class DetectGPT():\n",
    "    def __init__(self, device=\"cpu\"):\n",
    "        self.device = device\n",
    "        self.judge_model = None\n",
    "\n",
    "    def _load_model(self):\n",
    "        if self.judge_model is None:\n",
    "            print(\"Loading DetectGPT model...\")\n",
    "            self.judge_model = pipeline(\n",
    "                \"text-classification\",\n",
    "                model=\"Hello-SimpleAI/chatgpt-detector-roberta\",  # Example model\n",
    "                tokenizer=\"Hello-SimpleAI/chatgpt-detector-roberta\",\n",
    "                max_length=512,\n",
    "                padding='max_length',\n",
    "                truncation=True,\n",
    "                device=self.device,\n",
    "            )\n",
    "            print(\"DetectGPT model loaded successfully\")\n",
    "\n",
    "    def score(self, response_list):\n",
    "        self._load_model()\n",
    "        scores = self.judge_model(response_list)\n",
    "        return [\n",
    "            (score[\"score\"] if score[\"label\"] == \"1\" else 1 - score[\"score\"])\n",
    "            for score in scores\n",
    "        ]\n",
    "\n",
    "# Add a semantic similarity checker\n",
    "class SemanticSimilarityChecker():\n",
    "    def __init__(self, device=\"cpu\"):\n",
    "        self.device = device\n",
    "        self.model = None\n",
    "        self.tokenizer = None\n",
    "\n",
    "    def _load_model(self):\n",
    "        if self.model is None:\n",
    "            print(\"Loading Semantic Similarity model...\")\n",
    "            self.model = AutoModel.from_pretrained('sentence-transformers/all-mpnet-base-v2').to(self.device)\n",
    "            self.tokenizer = AutoTokenizer.from_pretrained('sentence-transformers/all-mpnet-base-v2')\n",
    "            print(\"Semantic Similarity model loaded successfully\")\n",
    "\n",
    "    def _mean_pooling(self, model_output, attention_mask):\n",
    "        token_embeddings = model_output[0]\n",
    "        input_mask_expanded = attention_mask.unsqueeze(-1).expand(token_embeddings.size()).float()\n",
    "        return torch.sum(token_embeddings * input_mask_expanded, 1) / torch.clamp(input_mask_expanded.sum(1), min=1e-9)\n",
    "\n",
    "    def get_embeddings(self, texts):\n",
    "        self._load_model()\n",
    "        encoded_input = self.tokenizer(texts, padding=True, truncation=True, return_tensors='pt').to(self.device)\n",
    "        with torch.no_grad():\n",
    "            model_output = self.model(**encoded_input)\n",
    "        return self._mean_pooling(model_output, encoded_input['attention_mask'])\n",
    "\n",
    "    def compute_similarity(self, original_texts, paraphrased_texts):\n",
    "        # Get original texts from prompts (assuming prompt format is the same as in your code)\n",
    "        extracted_originals = []\n",
    "        for prompt in original_texts:\n",
    "            text_start = prompt.find(\"following text:\") + len(\"following text:\")\n",
    "            text_end = prompt.find(\"Paraphrased text:\")\n",
    "            extracted_originals.append(prompt[text_start:text_end].strip())\n",
    "\n",
    "        original_embeddings = self.get_embeddings(extracted_originals)\n",
    "        paraphrased_embeddings = self.get_embeddings(paraphrased_texts)\n",
    "\n",
    "        # Compute cosine similarity\n",
    "        similarities = []\n",
    "        for i in range(len(original_embeddings)):\n",
    "            similarity = F.cosine_similarity(original_embeddings[i].unsqueeze(0),\n",
    "                                            paraphrased_embeddings[i].unsqueeze(0)).item()\n",
    "            similarities.append(similarity)\n",
    "\n",
    "        return similarities\n",
    "\n",
    "# Initialize all detectors as None - will be loaded on first use\n",
    "radar_detector = None\n",
    "detectgpt_detector = None\n",
    "semantic_checker = None\n",
    "\n",
    "# Define a comprehensive reward function that combines multiple detectors\n",
    "def multi_detector_reward_func(completions, prompts=None, **kwargs):\n",
    "    global radar_detector, detectgpt_detector, semantic_checker\n",
    "\n",
    "    # Initialize detectors if needed\n",
    "    if radar_detector is None:\n",
    "        radar_detector = Radar(device=\"cpu\")\n",
    "    if detectgpt_detector is None:\n",
    "        detectgpt_detector = DetectGPT(device=\"cpu\")\n",
    "    if semantic_checker is None:\n",
    "        semantic_checker = SemanticSimilarityChecker(device=\"cpu\")\n",
    "\n",
    "    # Process in smaller batches to reduce memory usage\n",
    "    batch_size = 16\n",
    "    all_rewards = []\n",
    "\n",
    "    for i in range(0, len(completions), batch_size):\n",
    "        batch_completions = completions[i:i+batch_size]\n",
    "        batch_prompts = prompts[i:i+batch_size] if prompts else None\n",
    "\n",
    "        # Get detector scores (lower is better - represents AI probability)\n",
    "        radar_scores = radar_detector.score(batch_completions)\n",
    "        detectgpt_scores = detectgpt_detector.score(batch_completions)\n",
    "\n",
    "        # Calculate semantic similarity (higher is better)\n",
    "        if prompts:\n",
    "            semantic_scores = semantic_checker.compute_similarity(batch_prompts, batch_completions)\n",
    "        else:\n",
    "            semantic_scores = [1.0] * len(batch_completions)  # Default if no prompts\n",
    "\n",
    "        # Calculate combined rewards\n",
    "        for j in range(len(batch_completions)):\n",
    "            # Detector rewards (higher is better - represents human-likeness)\n",
    "            detector_reward = 0.5 * (1.0 - radar_scores[j]) + 0.5 * (1.0 - detectgpt_scores[j])\n",
    "\n",
    "            # Semantic preservation reward (higher is better)\n",
    "            semantic_reward = semantic_scores[j]\n",
    "\n",
    "            combined_reward = 0.7 * detector_reward + 0.3 * semantic_reward\n",
    "\n",
    "            all_rewards.append(combined_reward)\n",
    "\n",
    "        # Clear memory after each batch\n",
    "        gc.collect()\n",
    "        if torch.cuda.is_available():\n",
    "            torch.cuda.empty_cache()\n",
    "\n",
    "    return all_rewards"
   ]
  },
  {
   "cell_type": "markdown",
   "metadata": {
    "id": "llK8bcUtzFYm"
   },
   "source": [
    "# **Fine-tuning Authormist**"
   ]
  },
  {
   "cell_type": "code",
   "execution_count": null,
   "metadata": {
    "id": "79zAtAEA8woF"
   },
   "outputs": [],
   "source": [
    "!pip install -U bitsandbytes"
   ]
  },
  {
   "cell_type": "code",
   "execution_count": null,
   "metadata": {
    "colab": {
     "base_uri": "https://localhost:8080/",
     "height": 787,
     "referenced_widgets": [
      "1dc734955c384ac28735f9dfcdecd41b",
      "9995068aaf0744708934cdde084a44e6",
      "6321ec7651804c58aa7dc2717b688587",
      "0956af1086b14129900a4b4cf0dd9843",
      "dea0a761f6b844ba91e702770bb4eaf8",
      "5071e78ea9194c08886f481a9d260d5b",
      "aa28f96ba43b4b4fa7ac7a4715bfb25c",
      "4539d6c9ec9441cfb59368898562234f",
      "5eaf46595c9f4ae580717f3bb6281e09",
      "6e9ea864c7164a0197ced39cddb4f343",
      "54f5b13132fe4918992883e41f2f130d"
     ]
    },
    "id": "L-h5iRopiLIn",
    "outputId": "00797cb9-3bfb-43f9-c191-96a2f82bfa07"
   },
   "outputs": [
    {
     "name": "stderr",
     "output_type": "stream",
     "text": [
      "The `load_in_4bit` and `load_in_8bit` arguments are deprecated and will be removed in the future versions. Please, pass a `BitsAndBytesConfig` object in `quantization_config` argument instead.\n"
     ]
    },
    {
     "name": "stdout",
     "output_type": "stream",
     "text": [
      "Loading model...\n"
     ]
    },
    {
     "data": {
      "application/vnd.jupyter.widget-view+json": {
       "model_id": "1dc734955c384ac28735f9dfcdecd41b",
       "version_major": 2,
       "version_minor": 0
      },
      "text/plain": [
       "Loading checkpoint shards:   0%|          | 0/3 [00:00<?, ?it/s]"
      ]
     },
     "metadata": {},
     "output_type": "display_data"
    },
    {
     "name": "stdout",
     "output_type": "stream",
     "text": [
      "Applying LoRA adapters to model...\n",
      "trainable params: 29,933,568 || all params: 3,115,872,256 || trainable%: 0.9607\n",
      "Model with LoRA adapters loaded successfully\n",
      "Initializing trainer...\n"
     ]
    },
    {
     "name": "stderr",
     "output_type": "stream",
     "text": [
      "/usr/local/lib/python3.11/dist-packages/peft/mapping.py:185: UserWarning: The PEFT config's `base_model_name_or_path` was renamed from 'authormist/authormist-originality' to 'None'. Please ensure that the correct base model is loaded when loading this checkpoint.\n",
      "  warnings.warn(\n",
      "No label_names provided for model class `PeftModelForCausalLM`. Since `PeftModel` hides base models input arguments, if label_names is not given, label_names can't be set automatically within `Trainer`. Note that empty label_names list will be used instead.\n"
     ]
    },
    {
     "name": "stdout",
     "output_type": "stream",
     "text": [
      "Starting training...\n"
     ]
    },
    {
     "name": "stderr",
     "output_type": "stream",
     "text": [
      "/usr/local/lib/python3.11/dist-packages/torch/utils/checkpoint.py:87: UserWarning: None of the inputs have requires_grad=True. Gradients will be None\n",
      "  warnings.warn(\n"
     ]
    },
    {
     "name": "stdout",
     "output_type": "stream",
     "text": [
      "Loading RADAR model...\n"
     ]
    },
    {
     "name": "stderr",
     "output_type": "stream",
     "text": [
      "Device set to use cpu\n"
     ]
    },
    {
     "name": "stdout",
     "output_type": "stream",
     "text": [
      "RADAR model loaded successfully\n",
      "Loading DetectGPT model...\n"
     ]
    },
    {
     "name": "stderr",
     "output_type": "stream",
     "text": [
      "Device set to use cpu\n"
     ]
    },
    {
     "name": "stdout",
     "output_type": "stream",
     "text": [
      "DetectGPT model loaded successfully\n",
      "Loading Semantic Similarity model...\n",
      "Semantic Similarity model loaded successfully\n"
     ]
    },
    {
     "data": {
      "text/html": [
       "\n",
       "    <div>\n",
       "      \n",
       "      <progress value='15' max='15' style='width:300px; height:20px; vertical-align: middle;'></progress>\n",
       "      [15/15 1:07:14, Epoch 4/5]\n",
       "    </div>\n",
       "    <table border=\"1\" class=\"dataframe\">\n",
       "  <thead>\n",
       " <tr style=\"text-align: left;\">\n",
       "      <th>Step</th>\n",
       "      <th>Training Loss</th>\n",
       "    </tr>\n",
       "  </thead>\n",
       "  <tbody>\n",
       "    <tr>\n",
       "      <td>3</td>\n",
       "      <td>0.000200</td>\n",
       "    </tr>\n",
       "    <tr>\n",
       "      <td>6</td>\n",
       "      <td>0.000300</td>\n",
       "    </tr>\n",
       "    <tr>\n",
       "      <td>9</td>\n",
       "      <td>0.000300</td>\n",
       "    </tr>\n",
       "    <tr>\n",
       "      <td>12</td>\n",
       "      <td>0.000300</td>\n",
       "    </tr>\n",
       "    <tr>\n",
       "      <td>15</td>\n",
       "      <td>0.000300</td>\n",
       "    </tr>\n",
       "  </tbody>\n",
       "</table><p>"
      ],
      "text/plain": [
       "<IPython.core.display.HTML object>"
      ]
     },
     "metadata": {},
     "output_type": "display_data"
    },
    {
     "name": "stderr",
     "output_type": "stream",
     "text": [
      "/usr/local/lib/python3.11/dist-packages/torch/utils/checkpoint.py:87: UserWarning: None of the inputs have requires_grad=True. Gradients will be None\n",
      "  warnings.warn(\n",
      "/usr/local/lib/python3.11/dist-packages/torch/utils/checkpoint.py:87: UserWarning: None of the inputs have requires_grad=True. Gradients will be None\n",
      "  warnings.warn(\n",
      "/usr/local/lib/python3.11/dist-packages/torch/utils/checkpoint.py:87: UserWarning: None of the inputs have requires_grad=True. Gradients will be None\n",
      "  warnings.warn(\n",
      "/usr/local/lib/python3.11/dist-packages/torch/utils/checkpoint.py:87: UserWarning: None of the inputs have requires_grad=True. Gradients will be None\n",
      "  warnings.warn(\n"
     ]
    },
    {
     "name": "stdout",
     "output_type": "stream",
     "text": [
      "Training completed successfully!\n"
     ]
    }
   ],
   "source": [
    "# Load model for single-device training\n",
    "print(\"Loading model...\")\n",
    "try:\n",
    "    # Load the base model first\n",
    "    model = AutoModelForCausalLM.from_pretrained(\n",
    "        \"authormist/authormist-originality\",\n",
    "        torch_dtype=torch.float16,\n",
    "        device_map=\"auto\",  # Keep this to automatically use available device\n",
    "        load_in_8bit=True,  # Keep quantization for memory efficiency\n",
    "        low_cpu_mem_usage=True\n",
    "    )\n",
    "    tokenizer = AutoTokenizer.from_pretrained(\"authormist/authormist-originality\")\n",
    "\n",
    "    # Apply LoRA adapters to the model\n",
    "    print(\"Applying LoRA adapters to model...\")\n",
    "    model = get_peft_model(model, peft_config)\n",
    "    model.print_trainable_parameters()\n",
    "\n",
    "    print(\"Model with LoRA adapters loaded successfully\")\n",
    "\n",
    "    # Initialize trainer without DeepSpeed\n",
    "    print(\"Initializing trainer...\")\n",
    "    trainer = GRPOTrainer(\n",
    "        model=model,\n",
    "        reward_funcs=multi_detector_reward_func,\n",
    "        args=training_args,\n",
    "        train_dataset=train_dataset,\n",
    "        processing_class=tokenizer,\n",
    "        peft_config=peft_config,\n",
    "    )\n",
    "\n",
    "    print(\"Starting training...\")\n",
    "    trainer.train()\n",
    "\n",
    "    print(\"Training completed successfully!\")\n",
    "\n",
    "except Exception as e:\n",
    "    print(f\"Training error: {e}\")\n",
    "    import traceback\n",
    "    traceback.print_exc()"
   ]
  },
  {
   "cell_type": "markdown",
   "metadata": {
    "id": "gxqFgzI9zlHu"
   },
   "source": [
    "### Saving and loading the fine-tuned model"
   ]
  },
  {
   "cell_type": "code",
   "execution_count": null,
   "metadata": {
    "colab": {
     "base_uri": "https://localhost:8080/",
     "height": 84,
     "referenced_widgets": [
      "c629edae3e6c48be8405168b0cbb9ebf",
      "e15718caa5914aa18bcb244a43d9ef63",
      "dedb23c8fbb54d08bd01bcd08fa0ad53",
      "20d414087b9746f6a3dce6543e558318",
      "dbcfddd99b0f45af9e5ad8764f0e91d1",
      "8e0bbe2d4ab9441b96cbea9e8c30d46d",
      "7c40e9b923544d369b81f55f04727beb",
      "cdc843629f084442b334960fcfe4e947",
      "114b5fc71dbe41e8ae4b39d4ff3d8986",
      "f8d47365d307453c800a872382e68992",
      "fd048e9f32794915948022cd635b3969"
     ]
    },
    "id": "1fFEN8gviWsf",
    "outputId": "3299b6ea-cabe-462e-f779-ce33fef1616d"
   },
   "outputs": [
    {
     "name": "stdout",
     "output_type": "stream",
     "text": [
      "Model and tokenizer saved to fine-tuned-authormist\n"
     ]
    },
    {
     "data": {
      "application/vnd.jupyter.widget-view+json": {
       "model_id": "c629edae3e6c48be8405168b0cbb9ebf",
       "version_major": 2,
       "version_minor": 0
      },
      "text/plain": [
       "Loading checkpoint shards:   0%|          | 0/3 [00:00<?, ?it/s]"
      ]
     },
     "metadata": {},
     "output_type": "display_data"
    },
    {
     "name": "stdout",
     "output_type": "stream",
     "text": [
      "Merged model saved to merged-authormist\n"
     ]
    }
   ],
   "source": [
    "# First, save the model with its adapter configuration\n",
    "output_dir = \"fine-tuned-authormist\"  # Use a different directory name without slash at the end\n",
    "os.makedirs(output_dir, exist_ok=True)\n",
    "\n",
    "# Save the LoRA model properly\n",
    "model.save_pretrained(output_dir)\n",
    "tokenizer.save_pretrained(output_dir)\n",
    "print(f\"Model and tokenizer saved to {output_dir}\")\n",
    "\n",
    "# Now for merging, load the model correctly\n",
    "try:\n",
    "    # Load the base model\n",
    "    base_model = AutoModelForCausalLM.from_pretrained(\n",
    "        \"authormist/authormist-originality\",\n",
    "        torch_dtype=torch.float16,\n",
    "        device_map=\"auto\",\n",
    "        load_in_8bit=False  # Don't use 8-bit for saving\n",
    "    )\n",
    "\n",
    "    # Load the LoRA adapters from the saved directory\n",
    "    merged_output_dir = \"merged-authormist\"\n",
    "    os.makedirs(merged_output_dir, exist_ok=True)\n",
    "\n",
    "    # Properly load the PEFT model\n",
    "    model = PeftModel.from_pretrained(base_model, output_dir)\n",
    "\n",
    "    # Merge the weights\n",
    "    merged_model = model.merge_and_unload()\n",
    "\n",
    "    # Save the merged model\n",
    "    merged_model.save_pretrained(merged_output_dir)\n",
    "    tokenizer.save_pretrained(merged_output_dir)\n",
    "\n",
    "    print(f\"Merged model saved to {merged_output_dir}\")\n",
    "\n",
    "except Exception as e:\n",
    "    print(f\"Error saving or merging model: {e}\")\n",
    "    import traceback\n",
    "    traceback.print_exc()"
   ]
  },
  {
   "cell_type": "code",
   "execution_count": null,
   "metadata": {
    "colab": {
     "base_uri": "https://localhost:8080/",
     "height": 500,
     "referenced_widgets": [
      "ce32e6a96d314827957eeed5f9d286d4",
      "0683f281d78b446790bab7279f70cfaa",
      "4c2ee9d9f27247e5beb83b92d5d64919",
      "9a8b6c31dd1e49c5a4a48823610274ee",
      "560e7e240831403993d27e5cefd5da63",
      "523a9178d1f34486b88b9d7a0eeba9bf",
      "c6a04c634e644b6a9a07222357ba5bed",
      "58ab2f8cb03e49b598b9ebc3a8875b45",
      "46efe3797fe04c1aa128950476d9c674",
      "449bcfe0420948c68be2a3826a176a48",
      "42572a5b9cdd40d0b6ecd3c1137a9ed6"
     ]
    },
    "id": "8DCispNrjtYM",
    "outputId": "75c85a0e-ec6f-4ef1-d68d-b745286260bc"
   },
   "outputs": [
    {
     "data": {
      "application/vnd.jupyter.widget-view+json": {
       "model_id": "ce32e6a96d314827957eeed5f9d286d4",
       "version_major": 2,
       "version_minor": 0
      },
      "text/plain": [
       "Loading checkpoint shards:   0%|          | 0/2 [00:00<?, ?it/s]"
      ]
     },
     "metadata": {},
     "output_type": "display_data"
    },
    {
     "data": {
      "text/plain": [
       "Qwen2ForCausalLM(\n",
       "  (model): Qwen2Model(\n",
       "    (embed_tokens): Embedding(151936, 2048)\n",
       "    (layers): ModuleList(\n",
       "      (0-35): 36 x Qwen2DecoderLayer(\n",
       "        (self_attn): Qwen2Attention(\n",
       "          (q_proj): Linear(in_features=2048, out_features=2048, bias=True)\n",
       "          (k_proj): Linear(in_features=2048, out_features=256, bias=True)\n",
       "          (v_proj): Linear(in_features=2048, out_features=256, bias=True)\n",
       "          (o_proj): Linear(in_features=2048, out_features=2048, bias=False)\n",
       "        )\n",
       "        (mlp): Qwen2MLP(\n",
       "          (gate_proj): Linear(in_features=2048, out_features=11008, bias=False)\n",
       "          (up_proj): Linear(in_features=2048, out_features=11008, bias=False)\n",
       "          (down_proj): Linear(in_features=11008, out_features=2048, bias=False)\n",
       "          (act_fn): SiLU()\n",
       "        )\n",
       "        (input_layernorm): Qwen2RMSNorm((2048,), eps=1e-06)\n",
       "        (post_attention_layernorm): Qwen2RMSNorm((2048,), eps=1e-06)\n",
       "      )\n",
       "    )\n",
       "    (norm): Qwen2RMSNorm((2048,), eps=1e-06)\n",
       "    (rotary_emb): Qwen2RotaryEmbedding()\n",
       "  )\n",
       "  (lm_head): Linear(in_features=2048, out_features=151936, bias=False)\n",
       ")"
      ]
     },
     "execution_count": 63,
     "metadata": {},
     "output_type": "execute_result"
    }
   ],
   "source": [
    "from transformers import AutoModelForCausalLM, AutoTokenizer\n",
    "import torch\n",
    "\n",
    "# Load the merged model directly\n",
    "model = AutoModelForCausalLM.from_pretrained(\n",
    "    \"merged-authormist\",\n",
    "    torch_dtype=torch.float16,\n",
    "    device_map=\"auto\"\n",
    ")\n",
    "\n",
    "# Load the tokenizer\n",
    "tokenizer = AutoTokenizer.from_pretrained(\"merged-authormist\")\n",
    "\n",
    "# Set to evaluation mode\n",
    "model.eval()"
   ]
  },
  {
   "cell_type": "markdown",
   "metadata": {
    "id": "slYUwE6Dzryh"
   },
   "source": [
    "## Getting AI and Human Generated text from our dataset"
   ]
  },
  {
   "cell_type": "code",
   "execution_count": null,
   "metadata": {
    "id": "iTVUsFI8kXP1"
   },
   "outputs": [],
   "source": [
    "import json\n",
    "from datasets import Dataset\n",
    "from sklearn.model_selection import train_test_split\n",
    "\n",
    "# Load AI-generated texts\n",
    "with open('CheckGPT-v2/GPABenchmark/CS_TASK1/gpt.json', 'r') as f:\n",
    "    gpt_data = json.load(f)\n",
    "ai_texts = list(gpt_data.values())  # <-- fixed here\n",
    "\n",
    "# Load Human-written texts\n",
    "with open('CheckGPT-v2/GPABenchmark/CS_TASK1/hum.json', 'r') as f:\n",
    "    hum_data = json.load(f)\n",
    "hum_texts = list(hum_data.values())  # <-- fixed here"
   ]
  },
  {
   "cell_type": "code",
   "execution_count": null,
   "metadata": {
    "id": "M1hTWf32lrc0"
   },
   "outputs": [],
   "source": [
    "hum_texts = hum_texts[:150]\n",
    "ai_texts = ai_texts[400:600]"
   ]
  },
  {
   "cell_type": "markdown",
   "metadata": {
    "id": "5T8HkXj8z69g"
   },
   "source": [
    "## Loading AuthorMist (fine-tuned) as a Paraphraser for Testing"
   ]
  },
  {
   "cell_type": "code",
   "execution_count": null,
   "metadata": {
    "colab": {
     "base_uri": "https://localhost:8080/",
     "height": 49,
     "referenced_widgets": [
      "42cb9c09d83a44948392cc9879bd59b0",
      "b497de446dcd46e8b2d73a76d22754d9",
      "e9008402104744ee9d0975d7bb5efd73",
      "b5c6f1a16bf747259c40edb41a0d11cd",
      "5e03338dfae545deb7dd0d90ad5e2f8d",
      "edbb753c93c0478ebfe1eef10510d0ba",
      "2b6c32196ecf4e0098015ec5fa744237",
      "2e706dbbd2b34e098f269ffc7d7bab9e",
      "267330e8d8d7436abec334d45ee26954",
      "8fb049e145c14df4a5d2c4f4ce434b08",
      "704d5087339d40839aa375f0d5de7657"
     ]
    },
    "id": "1TQxYH2nlwqT",
    "outputId": "ca3e454f-c36c-4d68-976a-c68e947d7ae4"
   },
   "outputs": [
    {
     "data": {
      "application/vnd.jupyter.widget-view+json": {
       "model_id": "42cb9c09d83a44948392cc9879bd59b0",
       "version_major": 2,
       "version_minor": 0
      },
      "text/plain": [
       "Loading checkpoint shards:   0%|          | 0/2 [00:00<?, ?it/s]"
      ]
     },
     "metadata": {},
     "output_type": "display_data"
    }
   ],
   "source": [
    "model_name = \"merged-authormist\"\n",
    "\n",
    "# Load model and tokenizer\n",
    "model = AutoModelForCausalLM.from_pretrained(\n",
    "    model_name,\n",
    "    torch_dtype=torch.float16,\n",
    "    device_map=\"auto\"\n",
    ")\n",
    "tokenizer = AutoTokenizer.from_pretrained(model_name)\n",
    "model.eval()\n",
    "\n",
    "# Set device to the first model device automatically\n",
    "device = model.device"
   ]
  },
  {
   "cell_type": "code",
   "execution_count": null,
   "metadata": {
    "colab": {
     "base_uri": "https://localhost:8080/"
    },
    "id": "S4oqS0prmFVB",
    "outputId": "c8cfa618-6e7e-498f-cc9e-41c8d83ff605"
   },
   "outputs": [
    {
     "name": "stderr",
     "output_type": "stream",
     "text": [
      "\r",
      "Paraphrasing texts:   0%|          | 0/200 [00:00<?, ?it/s]"
     ]
    },
    {
     "name": "stdout",
     "output_type": "stream",
     "text": [
      "This paper presents a new method for selecting representatives in large data sets that combines sparse graphs and geodesic distances on Grassmann manifolds. The aim is to pick a small set of representative samples that embody key features of a large dataset so that we can study and draw inferences more efficiently. First, this method creates a sparse graph based on data; nodes are data points and edges indicate similarities between pairs of points. After clustering high similarity points using graph clustering, representatives are chosen by calculating geodesic distances between pairs of data points and picking the one nearest to the cluster mean on the Grassmann manifold. Results on various real data sets show that this method outperforms other representative selection methods regarding both representativeness and efficiency. The method has broad applicability including summarizing data, visualizing data and classification tasks which all require careful selection of representative samples from large datasets.\n"
     ]
    },
    {
     "name": "stderr",
     "output_type": "stream",
     "text": [
      "\r",
      "Paraphrasing texts:   0%|          | 1/200 [00:09<30:56,  9.33s/it]"
     ]
    },
    {
     "name": "stdout",
     "output_type": "stream",
     "text": [
      "This paper investigates Thermodynamic RAM (T-RAM), a new computational framework that uses thermodynamics principles to perform calculations. It has been promising for modeling biological neurons. We here look at the potential of T-RAM to simulate cortical processing. First we introduce the architecture and working principles of T-RAM and compare them to other neuromorphic computing systems. Then we implement T-RAM for cortical processing simulation with a simple model of visual cortex as test subject. Results show that T RAM replicates important features of cortical processing such as selective attention, receptive fields and occlusion. We also study how different parameters affect performance and consider implications for developing more advanced models of cortical processing. Results suggest that T RAM could be a useful tool to study mechanisms of cortical processing and potentially lead to development of more efficient and inspired computational systems.\n"
     ]
    },
    {
     "name": "stderr",
     "output_type": "stream",
     "text": [
      "\r",
      "Paraphrasing texts:   1%|          | 2/200 [00:17<29:27,  8.93s/it]"
     ]
    },
    {
     "name": "stdout",
     "output_type": "stream",
     "text": [
      "This paper investigates how two kinds of tiles arranged randomly on a lattice create complex structures with emergent features. Tiles are squares with four different edge types which can be either adhesive or not. When tiles are placed randomly, they form different structures including aperiodic tilings and quasi crystals. Using both computer simulation and mathematical modeling, researchers study how parameters like concentration of tiles and temperature affect resultant structures. Results show promise for creating novel materials with special features through this kind of random assembly; contributions are made to the developing field of self assembling systems.\n"
     ]
    },
    {
     "name": "stderr",
     "output_type": "stream",
     "text": [
      "\r",
      "Paraphrasing texts:   2%|▏         | 3/200 [00:23<24:42,  7.53s/it]"
     ]
    },
    {
     "name": "stdout",
     "output_type": "stream",
     "text": [
      "With the growing need for energy efficient computing, there have been many approaches developed for allocating virtual machines (VMs) in cloud computing environments. This paper introduces a new method to reduce overall busy time for VMs and considers energy use very important. We model this as an optimization problem and design a heuristic algorithm that takes into account the load of VMs and server energy use. This algorithm allocates VMs so that energy consumption is balanced among servers while also minimizing overall busy time. Performance of the proposed algorithm is assessed using both real data and synthetic data. Results demonstrate that the proposed algorithm is very effective at reducing busy time while also substantially lowering energy use. Findings from this work are important for designing energy efficient cloud systems.\n"
     ]
    },
    {
     "name": "stderr",
     "output_type": "stream",
     "text": [
      "\r",
      "Paraphrasing texts:   2%|▏         | 4/200 [00:31<24:49,  7.60s/it]"
     ]
    },
    {
     "name": "stdout",
     "output_type": "stream",
     "text": [
      "This study looks at using stacked multilayer perceptrons (MLPs) to learn dynamic classes of events. Events here are those that vary over time such as traffic patterns or changes in weather. Proposed is an approach which trains a sequence of MLPs for learning different stages of event dynamics; the output of each layer feeds into the next. This stacking allows capturing dependency in time for events and thus improves accuracy of predictions. Performance is evaluated on a traffic flow dataset with goal to predict traffic flow for the following hour. Results indicate stacked MLPs perform better compared to traditional approaches like linear regression and support vector regression. Sensitivity to hyper parameters and architectural decisions is also tested experimentally. In sum, this work suggests a promising way to learn from changing events and stacked MLPs are applicable across many domains where events fluctuate over time.\n"
     ]
    },
    {
     "name": "stderr",
     "output_type": "stream",
     "text": [
      "\r",
      "Paraphrasing texts:   2%|▎         | 5/200 [00:40<26:07,  8.04s/it]"
     ]
    },
    {
     "name": "stdout",
     "output_type": "stream",
     "text": [
      "This paper proposes and evaluates an approach to study software use using knowledge graphs and focuses on the social sciences. The authors emphasize that understanding tools and methods important for research and that such knowledge graphs offer a way to see the whole picture of software use. They show results from a study which collects and analyzes information from different sources such as academic papers, software repositories and discussion forums. They illustrate how this approach reveals connections between software, researchers and research topics and shows ways to improve software use. The conclusion is that using knowledge graphs is valuable for studying software use and they suggest that this approach can serve as a basis for future work and development.\n"
     ]
    },
    {
     "name": "stderr",
     "output_type": "stream",
     "text": [
      "\r",
      "Paraphrasing texts:   3%|▎         | 6/200 [00:47<24:37,  7.61s/it]"
     ]
    },
    {
     "name": "stdout",
     "output_type": "stream",
     "text": [
      "This paper introduces an approach using deep reinforcement learning (DRL) for caching content in vehicular edge computing networks (VECNs) that use permissioned blockchains. The authors use DRL to select the best caching strategy for each vehicle by taking into account relevant factors like storage capacity and popularity of content along with network conditions. Permissioned blockchains are employed to handle distribution and sharing of cached content among vehicles and also to secure transactions among participants in VECNs. Results from simulations indicate that this DRL based caching approach performs better compared to traditional approaches in terms of hit rates and energy efficiency. Combining DRL with permissioned blockchain promises a promising solution for caching content in VECNs and substantially improves system performance.\n"
     ]
    },
    {
     "name": "stderr",
     "output_type": "stream",
     "text": [
      "\r",
      "Paraphrasing texts:   4%|▎         | 7/200 [00:54<24:38,  7.66s/it]"
     ]
    },
    {
     "name": "stdout",
     "output_type": "stream",
     "text": [
      "This paper presents an extensive review of recent progress regarding subpath queries on compressed graphs. It starts with a short introduction about significance of graph compression and its use cases across different areas. The paper then discusses different methods of compressing graphs such as adjacency lists, matrices, and multilevel decompositions. The main focus here is on subquery algorithms that run on compressed graphs along with consideration of tradeoffs between time and space efficiency. Both exact and approximate algorithms are considered and performance evaluation results on both real world and synthetic data sets are also discussed. Finally, the paper ends by outlining current open questions and avenues for future research in this domain.\n"
     ]
    },
    {
     "name": "stderr",
     "output_type": "stream",
     "text": [
      "\r",
      "Paraphrasing texts:   4%|▍         | 8/200 [01:01<23:40,  7.40s/it]"
     ]
    },
    {
     "name": "stdout",
     "output_type": "stream",
     "text": [
      "This paper examines empirical performance of machine learning pipelines used in industry and discusses ways to optimize them. It analyzes current status of pipelines and points out recurring difficulties and performance limitations. By performing experiments and case studies, authors illustrate how different optimization strategies affect pipeline performance and efficiency. Results show that combining hardware and software optimizations such as parallel processing and model pruning significantly enhance speed and quality of pipelines. Conclusions include specific recommendations for optimization and emphasize ongoing research necessary in this field.\n"
     ]
    },
    {
     "name": "stderr",
     "output_type": "stream",
     "text": [
      "\r",
      "Paraphrasing texts:   4%|▍         | 9/200 [01:06<21:12,  6.66s/it]"
     ]
    },
    {
     "name": "stdout",
     "output_type": "stream",
     "text": [
      "This work performs an overall evaluation of feature selection systems for selection of algorithms for black box numerical optimization problems. It considers performance comparison of different algorithm selection methods by their ability to select the best algorithm for each particular problem. Evaluation is performed using a set of benchmark problems and suites of algorithms. Results show that systems based on features do much better at improving performance compared to relying solely on one algorithm. Insights are also gained regarding comparative advantages and disadvantages of various selection methods and the significance of feature engineering. Findings from this research help direct further system development for optimization using black boxes.\n"
     ]
    },
    {
     "name": "stderr",
     "output_type": "stream",
     "text": [
      "\r",
      "Paraphrasing texts:   5%|▌         | 10/200 [01:12<20:35,  6.50s/it]"
     ]
    },
    {
     "name": "stdout",
     "output_type": "stream",
     "text": [
      "This paper introduces FILIP as a new model that fine tunes interaction between language and images for better performance at tasks involving computer vision and natural language processing. FILIP combines a language model with an image recognition model and trains on a large corpus of both textual and visual data. Results show that when compared to previous pre training models FILIP performs much better. This study shows effectiveness of FILIP's approach to jointly training languages and images. Results also suggest that FILIP could prove to be a useful resource for many areas of AI research.\n"
     ]
    },
    {
     "name": "stderr",
     "output_type": "stream",
     "text": [
      "\r",
      "Paraphrasing texts:   6%|▌         | 11/200 [01:18<19:45,  6.27s/it]"
     ]
    },
    {
     "name": "stdout",
     "output_type": "stream",
     "text": [
      "This paper aims to present a comprehensive study on modeling belief in dynamic systems. It consists of two parts; the first part lays out foundational elements of the subject matter. The authors start by defining the concept of belief and emphasize its significance within dynamic systems. They review existing literature comprehensively and examine different approaches within the field. Next they introduce a framework for modeling beliefs in dynamic systems which includes key elements such as representation of beliefs, updating beliefs, and evaluation of beliefs. This framework also addresses roles of uncertainty along with methods for measuring it. Authors then address challenges in modeling beliefs in dynamic systems and suggest future research directions. Concluding the first part, this paper provides a solid base for understanding belief modeling in systems that change over time. Authors provide a broad literature review and a useful framework for researchers and practitioners. This paper is a key resource for those who are interested in studying beliefs in dynamic systems.\n"
     ]
    },
    {
     "name": "stderr",
     "output_type": "stream",
     "text": [
      "\r",
      "Paraphrasing texts:   6%|▌         | 12/200 [01:28<22:46,  7.27s/it]"
     ]
    },
    {
     "name": "stdout",
     "output_type": "stream",
     "text": [
      "This paper studies when Bayesian prediction strategies work well for any loss function and for any given set of symbols. It aims to find criteria for when these strategies perform optimally and to develop a theoretical basis for proving optimality. First the authors introduce Bayesian prediction and describe its basic ideas. Then they specify what kind of loss function and set of symbols to use and explain how to apply them in prediction. Results are then stated including a theorem specifying sufficient conditions for optimality of Bayesian prediction strategy. Proof uses both math analysis and simulation results. At last conclusions are drawn and directions for further research are highlighted.\n"
     ]
    },
    {
     "name": "stderr",
     "output_type": "stream",
     "text": [
      "\r",
      "Paraphrasing texts:   6%|▋         | 13/200 [01:34<21:45,  6.98s/it]"
     ]
    },
    {
     "name": "stdout",
     "output_type": "stream",
     "text": [
      "This paper gives a detailed review of recent work related to privacy issues in social networks; it highlights current trends and developments and focuses especially on user concerns about personal data security and high expectations from network operators regarding privacy protection. Key points for future research are also emphasized. These include clarifying what privacy means and how to manage it differently across various types of social networks, and exploring new technologies and methods to enhance privacy protection on such sites. The paper ends by calling for continued research and cooperation among scholars, practitioners, and policy makers to solve this complicated and important matter of privacy in social networking.\n"
     ]
    },
    {
     "name": "stderr",
     "output_type": "stream",
     "text": [
      "\r",
      "Paraphrasing texts:   7%|▋         | 14/200 [01:40<21:00,  6.78s/it]"
     ]
    },
    {
     "name": "stdout",
     "output_type": "stream",
     "text": [
      "This paper introduces a new method for classifying scenes indoors using both spatial layout representation and scale invariant feature extraction. Spatial layout captures overall scene structure while scale invariant features extract features which resist variation in scale. By integrating both representations we obtain a more robust and accurate classifier. Experiments on various benchmark sets show effectiveness of this approach outperforming leading methods.\n"
     ]
    },
    {
     "name": "stderr",
     "output_type": "stream",
     "text": [
      "\r",
      "Paraphrasing texts:   8%|▊         | 15/200 [01:44<18:15,  5.92s/it]"
     ]
    },
    {
     "name": "stdout",
     "output_type": "stream",
     "text": [
      "This paper investigates patterns of co-location among pollutants and cancers in children through a case study. Data from specific geographic region includes measurements of pollution levels and incidence of childhood cancer. Results describe how to identify correlations between these two things. Results show that there is strong clustering of high levels of certain pollutants alongside high rates of cancer incidence. Results of this work contribute to the ongoing discussion of the relationship between environmental pollution and health and serve as important input for regulators and public health officials when deciding on regulatory actions regarding environment.\n"
     ]
    },
    {
     "name": "stderr",
     "output_type": "stream",
     "text": [
      "\r",
      "Paraphrasing texts:   8%|▊         | 16/200 [01:50<17:47,  5.80s/it]"
     ]
    },
    {
     "name": "stdout",
     "output_type": "stream",
     "text": [
      "Cycling archetypes are essential concepts in analysis of nuclear fuel cycles. This study reviews all proposed and used archetypes comprehensively. The piece starts by defining what these archetypes are and explaining why they are important for analysis. Then an overview is given of the different archetypes that have been proposed and used including the once through, closed and open archetypes. Strengths and weaknesses of each archetype along with limitations and assumptions to consider are discussed as well. Finally, the results and implications for future research and development of sustainable nuclear energy systems are summarized.\n"
     ]
    },
    {
     "name": "stderr",
     "output_type": "stream",
     "text": [
      "\r",
      "Paraphrasing texts:   8%|▊         | 17/200 [01:56<17:52,  5.86s/it]"
     ]
    },
    {
     "name": "stdout",
     "output_type": "stream",
     "text": [
      "This paper introduces a new approach for identifying emission sources in advection diffusion systems by integrating learning algorithms with the Green Function Inverse Method. Using supervised learning we estimate unknown sources using measured concentrations. We apply this inverse method to verify accuracy and to reconstruct unknown parameters. Results indicate that this new method works better than previous methods regarding both accuracy and computational speed; this makes it an attractive new tool for identifying sources in practical advection diffusion systems.\n"
     ]
    },
    {
     "name": "stderr",
     "output_type": "stream",
     "text": [
      "\r",
      "Paraphrasing texts:   9%|▉         | 18/200 [02:01<16:49,  5.54s/it]"
     ]
    },
    {
     "name": "stdout",
     "output_type": "stream",
     "text": [
      "This paper studies changes in subjective probabilities of events or propositions over time; we call this belief dynamics. We focus on studying methods for tracking and modeling this change whether at the level of individuals or groups. Methods rely on Bayesian belief networks and probabilistic graphical models. These are established frameworks for modeling uncertainties and updating beliefs. Performance is evaluated by simulation and empirical testing and we also explore key factors influencing accuracy. Results from this work will improve models for real world tasks like decision making, risk assessment, and communication of information.\n"
     ]
    },
    {
     "name": "stderr",
     "output_type": "stream",
     "text": [
      "\r",
      "Paraphrasing texts:  10%|▉         | 19/200 [02:06<16:45,  5.56s/it]"
     ]
    },
    {
     "name": "stdout",
     "output_type": "stream",
     "text": [
      "This paper looks at spectral efficiency when there are correlated desired and interfering signals that follow gamma log normal distribution. It focuses on understanding how correlation affects performance of wireless systems. Results show that performance declines sharply because of high correlation between desired and interfering signals. A theoretical basis is developed for characterizing efficiency under such conditions and insight is gained into balancing correlation against efficiency. This research has big importance for designing and optimizing communication systems and can serve as guidance for better design and robustness.\n"
     ]
    },
    {
     "name": "stderr",
     "output_type": "stream",
     "text": [
      "\r",
      "Paraphrasing texts:  10%|█         | 20/200 [02:11<16:18,  5.44s/it]"
     ]
    },
    {
     "name": "stdout",
     "output_type": "stream",
     "text": [
      "This paper characterizes sensitivity analysis for monomials through a geometric lens. Monomials are common in many disciplines such as science and engineering. Our approach interprets sensitivity matrix as sets of linear subspaces within the space of model parameters; these subspaces are shown to carry important information about how sensitive model outputs are to changes in input parameters. Specifically, dimensions and orientations of these subspaces are significant. Results indicate sensitivity depends on geometry of subspaces and their intersections. New results provide new ways to analyze and visualize sensitivities for this type of model in high dimensional spaces. Numerical examples illustrate the approach and compare favorably against previous methods.\n"
     ]
    },
    {
     "name": "stderr",
     "output_type": "stream",
     "text": [
      "\r",
      "Paraphrasing texts:  10%|█         | 21/200 [02:18<17:28,  5.86s/it]"
     ]
    },
    {
     "name": "stdout",
     "output_type": "stream",
     "text": [
      "This paper studies interference reduction methods in Cloud Radio Access Networks (C RANs) combining Rate Splitting (RS) with Common Message Decoding (CMD). RS is an attractive way to reduce interference and increase spectral efficiency but applying it to C RANs has been challenging because coordination among Baseband Units (BBUs) and Remote Radio Heads (RRHs) is difficult. This paper proposes a joint design of RS and CMD at the BBU to mitigate interference in C RANs. We develop a new algorithm to optimize splitting parameters and CMD coefficients to minimize total transmitted power and ensure service quality for all users. Results from simulation show that this method performs significantly better than previous interference mitigation approaches especially under dense and interference prone conditions. Insights are gained about potential use of RS and CMD for interference management in C RANs and these findings could guide design of future wireless systems.\n"
     ]
    },
    {
     "name": "stderr",
     "output_type": "stream",
     "text": [
      "\r",
      "Paraphrasing texts:  11%|█         | 22/200 [02:27<20:22,  6.87s/it]"
     ]
    },
    {
     "name": "stdout",
     "output_type": "stream",
     "text": [
      "This paper introduces a new way of compressing categorical data in machine learning models using submodular optimization. Many real world applications use this kind of data but their high dimensionality causes great computational burden and storage issues. We use optimization of submodular sets to choose a subset of representative categories which contain most important information from raw data. Specifically, we formulate this as a maximization problem using submodular functions and develop a greedy algorithm for efficient solution selection. We also establish theoretical guarantees for the quality of results generated by our algorithm. Empirical results show that this method outperforms previous methods both in terms of compression rate and accuracy on multiple benchmark datasets. Our approach is easy to incorporate into existing pipelines and thus promises to greatly enhance efficiency and scalability of models dealing with categorical data.\n"
     ]
    },
    {
     "name": "stderr",
     "output_type": "stream",
     "text": [
      "\r",
      "Paraphrasing texts:  12%|█▏        | 23/200 [02:36<21:30,  7.29s/it]"
     ]
    },
    {
     "name": "stdout",
     "output_type": "stream",
     "text": [
      "This paper studies structured mapping as a way to efficiently share information among many users through shared communication channels. We look at how structured mappings reduce interference and increase channel capacity. We present a theoretical framework for designing structured mappings that optimize conveying common information against resource requirements. Proposed algorithm uses sparse graph codes for practical implementation. Results from simulations show this method performs better in terms of achievable rates and decoding complexity. Conclusions are that structured mappings offer a promising solution for improving efficiency and channel capacity and have potential application areas including wireless networks and multimedia communications.\n"
     ]
    },
    {
     "name": "stderr",
     "output_type": "stream",
     "text": [
      "\r",
      "Paraphrasing texts:  12%|█▏        | 24/200 [02:41<20:00,  6.82s/it]"
     ]
    },
    {
     "name": "stdout",
     "output_type": "stream",
     "text": [
      "This paper introduces a new way of designing an artificial neuron that uses superconducting nanowires and reduces power consumption. Proposed neurons consist of loops with junctions made of nanowires that can react differently to different inputs. Using superconductivity, these junctions serve as activation functions and reduce resistance. We have developed a detailed model and performed many simulations to prove their performance features. Results indicate that proposed neurons perform very well and consume much less power compared to previous designs. We also detail a method for integration of many neurons into larger networks and show that the design can scale up to build powerful yet efficient networks. Overall this research opens an exciting path towards creating energy efficient artificial neural networks that are useful for tasks like machine learning and data analysis.\n"
     ]
    },
    {
     "name": "stderr",
     "output_type": "stream",
     "text": [
      "\r",
      "Paraphrasing texts:  12%|█▎        | 25/200 [02:49<20:50,  7.14s/it]"
     ]
    },
    {
     "name": "stdout",
     "output_type": "stream",
     "text": [
      "This paper focuses on security for edge nodes in IoT systems when considering machine learning. It specifically looks into security threats that can occur at edge nodes; these are devices placed close to a network to collect and process data from other IoT devices. With greater use of machine learning in IoT, security has become an increasing concern because machine learning algorithms are susceptible to different kinds of attacks. In this paper we analyze various kinds of attack vectors targeting these edge nodes like inference attacks, evasion attacks and poisoning attacks. We also consider what impact these attacks have on performance of ML algorithms and how they can undermine security of IoT networks. We propose several measures for defense against these attacks such as using secure communication protocols, implementing security features within ML algorithms and using secure hardware and software systems. Authors also highlight challenges for effective implementation of these countermeasures and give recommendations for future research in this field. Overall this paper offers a detailed analysis of security issues related to ML and IoT edge nodes and suggests practical means of protection. Results and suggestions in this work can help practitioners and researchers improve security of IoT networks and safe deployment of ML algorithms in IoT systems.\n"
     ]
    },
    {
     "name": "stderr",
     "output_type": "stream",
     "text": [
      "\r",
      "Paraphrasing texts:  13%|█▎        | 26/200 [03:01<24:32,  8.46s/it]"
     ]
    },
    {
     "name": "stdout",
     "output_type": "stream",
     "text": [
      "This paper looks at how autonomous systems and AI can affect stability in the nuclear sector. It investigates what role such tech might play in making things safer and securing facilities better by reducing risk of accidents and events. Also, this study considers challenges related to integrating this technology; this includes ethical issues and cyber security risks. Results indicate that using autonomous systems and AI could fundamentally change the nuclear sector and contribute to a secure future. Yet careful planning and strategy implementation is essential to ensure these technologies are used responsibly and safely. Collaboration among specialists in nuclear matters and technology is key to realizing these high tech innovations for a secure future.\n"
     ]
    },
    {
     "name": "stderr",
     "output_type": "stream",
     "text": [
      "\r",
      "Paraphrasing texts:  14%|█▎        | 27/200 [03:07<22:42,  7.87s/it]"
     ]
    },
    {
     "name": "stdout",
     "output_type": "stream",
     "text": [
      "This paper introduces an approach for efficient sampling using polynomial chaos for quantifying uncertainties and analyzing sensitivities. Authors use weighted approximate Fekete points which are known for their strong performance at producing good distributions of sampling points for interpolation of polynomials. They show that this new method achieves high accuracy using much fewer samples than traditional Monte Carlo methods. Performance is tested by means of several numerical experiments; results indicate this new method performs well as an efficient sampling strategy for quantifying uncertainties and sensitivity analysis using polynomial chaos.\n"
     ]
    },
    {
     "name": "stderr",
     "output_type": "stream",
     "text": [
      "\r",
      "Paraphrasing texts:  14%|█▍        | 28/200 [03:13<20:26,  7.13s/it]"
     ]
    },
    {
     "name": "stdout",
     "output_type": "stream",
     "text": [
      "This paper introduces a new method to improve security and robustness of communication systems for unmanned aerial vehicles (UAVs) by using reconfigurable intelligent surfaces (RISs). The introduction begins by highlighting current issues such as interference, jamming attacks, and poor reception of wireless signals. Then, it describes how RISs are promising solutions to those problems. Authors suggest a secure and robust system for UAV communications that uses RISs to modify wireless channel conditions in real time. Performance evaluation of the proposed system uses both simulation and experiment data; this shows notable improvements such as better signal quality and higher reliability along with enhanced security compared to typical UAV communication systems. Results of this research offer fresh perspectives on the significance of RISs as a core technology for secure and reliable UAV communication.\n"
     ]
    },
    {
     "name": "stderr",
     "output_type": "stream",
     "text": [
      "\r",
      "Paraphrasing texts:  14%|█▍        | 29/200 [03:21<21:21,  7.49s/it]"
     ]
    },
    {
     "name": "stdout",
     "output_type": "stream",
     "text": [
      "This paper investigates hardness and approximation of probabilistic p center problem under stress. Probabilistic p center is a familiar problem in OR and CS which seeks to find the best locations for p facilities in a network so that maximum distance to nearest facility is reduced. Stress here refers to conditions or external forces affecting decisions. This study first introduces probabilistic p center problem and some related variants like classic and stress sensitive ones. Next, it analyzes computational complexity and proves NP hardness via reduction from well known NP hard problems. Algorithms are presented for approximation of this problem under stress along with performance analysis and numerical results showing effectiveness. Results conclude the paper and suggest further research directions. Overall findings shed light on hardness and approximations of this problem under stress and serve as valuable references for researchers and practitioners in OR and CS.\n"
     ]
    },
    {
     "name": "stderr",
     "output_type": "stream",
     "text": [
      "\r",
      "Paraphrasing texts:  15%|█▌        | 30/200 [03:29<21:56,  7.75s/it]"
     ]
    },
    {
     "name": "stdout",
     "output_type": "stream",
     "text": [
      "This paper investigates constellation design optimization for non coherent multiple input multiple output channels and multiple access channels. Objective is to improve performance of data transmission by optimizing constellation designs for use on such channels. A new approach for joint constellation design is introduced which considers both channel state information and pairing information of users. Performance evaluation is carried out using simulation studies and compared against other approaches. Results indicate that this new method significantly improves Bit Error Rate performance especially at high signal to noise ratio levels. The conclusion is that this new design for joint constellation is promising and useful for practical communications systems as well.\n"
     ]
    },
    {
     "name": "stderr",
     "output_type": "stream",
     "text": [
      "\r",
      "Paraphrasing texts:  16%|█▌        | 31/200 [03:36<20:27,  7.26s/it]"
     ]
    },
    {
     "name": "stdout",
     "output_type": "stream",
     "text": [
      "Symbolic Aggregate Approximation (SAX) has been popular for time series analysis because of its effectiveness and pattern recognition capabilities. However, there are well known limitations when it comes to recognizing segments of trend. This paper proposes modifications to SAX to incorporate such segment trend information to improve performance. Through rigorous testing and evaluation, we show that this modification outperforms traditional SAX at recognizing both large and small trends in time series data. Results from this work contribute to further refinement of high performing time series analysis methods and are significant for practical applications in reality.\n"
     ]
    },
    {
     "name": "stderr",
     "output_type": "stream",
     "text": [
      "\r",
      "Paraphrasing texts:  16%|█▌        | 32/200 [03:41<19:09,  6.84s/it]"
     ]
    },
    {
     "name": "stdout",
     "output_type": "stream",
     "text": [
      "This paper introduces a new way of counting crowds by combining multi resolution fusion and priors at multiple scales. The new method makes use of both benefits of these approaches to accurately estimate the number of people present in an environment. The method works by taking scenes at various resolutions and fusing data together to produce high resolution images. Then priors at different scales refine the estimation of crowd counts. Performance of this new method has been tested on some public datasets and results show that it surpasses leading crowd counting methods. This new approach could greatly improve performance for real world tasks like crowd management and safety supervision.\n"
     ]
    },
    {
     "name": "stderr",
     "output_type": "stream",
     "text": [
      "\r",
      "Paraphrasing texts:  16%|█▋        | 33/200 [03:48<18:39,  6.70s/it]"
     ]
    },
    {
     "name": "stdout",
     "output_type": "stream",
     "text": [
      "This paper introduces a method of deep learning for better performance of systems that use proxy examples for object recognition. Usually such systems require a lot of proxy samples; this leads to high costs in computation and low scalability. However, we propose an approach called \"Less but Better\" which learns compact representations of proxy samples using deep models of graphs. Using relationships among proxies, this approach learns a lower dimensional feature space capturing discriminative information for each object category using fewer proxies. Results on different benchmarks show that this new approach excels at both accuracy and efficiency compared to previous methods that use many proxies. Overall, this work offers promising directions towards more efficient and scalable systems for object recognition.\n"
     ]
    },
    {
     "name": "stderr",
     "output_type": "stream",
     "text": [
      "\r",
      "Paraphrasing texts:  17%|█▋        | 34/200 [03:55<18:53,  6.83s/it]"
     ]
    },
    {
     "name": "stdout",
     "output_type": "stream",
     "text": [
      "This paper focuses on exploring the unsupervised domain adaptation problem with respect to maximizing the determinacy of binary classifiers. The aim of unsupervised domain adaptation is to learn a model using labeled data from a source domain and apply this model to a target domain where no labels are available. Determinacy maximization using binary classifiers is a method that uses decision boundaries learned from training classifiers separately on source and target domains to improve performance. An approach is introduced here that learns a boundary that maximizes agreement between classifiers. This reduces discrepancy between source and target domains. Results are presented for different datasets to show effectiveness of the proposed approach relative to leading methods. Concluding remarks discuss possible applications including areas like computer vision and NLP.\n"
     ]
    },
    {
     "name": "stderr",
     "output_type": "stream",
     "text": [
      "\r",
      "Paraphrasing texts:  18%|█▊        | 35/200 [04:02<19:22,  7.05s/it]"
     ]
    },
    {
     "name": "stdout",
     "output_type": "stream",
     "text": [
      "This paper introduces a new motion planning algorithm called e$ \\mathbf{^3} $mop. This algorithm integrates heuristically guided motion primitives pruning and path optimization and has sparse band structure. This algorithm tackles high dimensional planning problems with complex constraints such as those found in robotics and autonomous systems. e$ \\mathbf{^3} $mop generates a set of primitives using heuristic guidance to reduce search space; this set of primitives is then pruned by means of a new cost function that considers both costs associated with the primitive and expected future costs. This pruning step greatly reduces the number of primitives to consider, thus substantially reducing computational time. Remaining primitives are then used to build a sparse band graph capturing connectivity among them. Using a new path optimization technique that exploits the sparse band structure, this graph is optimized. Results from experiments show that e$ \\mathbf{^3} $mop excels in efficiency and quality compared to current best algorithms. Scalability is also demonstrated, rendering it suitable for large scale applications. In summary, e$ \\mathbf{^3} $mop marks an important advancement in motion planning, with great potential impact across robotics and other domains.\n"
     ]
    },
    {
     "name": "stderr",
     "output_type": "stream",
     "text": [
      "\r",
      "Paraphrasing texts:  18%|█▊        | 36/200 [04:15<23:42,  8.68s/it]"
     ]
    },
    {
     "name": "stdout",
     "output_type": "stream",
     "text": [
      "This paper suggests an integration of hybrid inference systems for better estimation of curvature using machine learning. Level set method is very common for modeling shapes and segmentation in computer vision, medicine and graphics. This method relies heavily on accurate estimation of curvature of evolving interfaces and this is critical for proper propagation of level set functions. Traditional methods for curvature estimation have some drawbacks like sensitivity to noise and uneven sampling. Therefore we propose a system that combines traditional methods with a learning model based on machine learning. This model has been trained using large datasets of both synthetically generated and real images. It uses local image features to predict curvature at every point on the evolving boundary. This hybrid system integrates predictions from the machine learning model along with results from traditional curvature estimation and produces more precise and reliable estimates of curvature. Results are evaluated on different data sets and compared against traditional methods. Results show that this hybrid system performs better than traditional methods regarding precision and reliability. Also this proposed system runs efficiently and is easy to integrate into current level set algorithms. Our research introduces a promising path towards improving both accuracy and reliability of level set methods using machine learning based approaches. System integration into other shape modeling and segmentation tasks that depend on curvature estimation could also be possible.\n"
     ]
    },
    {
     "name": "stderr",
     "output_type": "stream",
     "text": [
      "\r",
      "Paraphrasing texts:  18%|█▊        | 37/200 [04:27<26:40,  9.82s/it]"
     ]
    },
    {
     "name": "stdout",
     "output_type": "stream",
     "text": [
      "This study introduces a new way to estimate depth without supervision using H-Net, which is an attention based deep neural network and uses epipolar geometry. Depth estimation from pairs of stereo images is very important in computer vision and has applications in robotics and driving autonomously and for 3D reconstruction. This work uses an attention mechanism to learn to focus on important image areas for depth estimation. Epipolar geometry is used to impose geometric constraints on estimated depth. Experimental results show that this method performs better than leading methods on benchmark datasets. Moreover, this method can be straightforwardly adapted to tasks like optical flow estimation and super resolution too. Results indicate that H Net using epipolar geometry promises good performance for unsupervised depth estimation and could have broad application in computer vision.\n"
     ]
    },
    {
     "name": "stderr",
     "output_type": "stream",
     "text": [
      "\r",
      "Paraphrasing texts:  19%|█▉        | 38/200 [04:36<25:12,  9.33s/it]"
     ]
    },
    {
     "name": "stdout",
     "output_type": "stream",
     "text": [
      "This paper introduces SCSGuard as a novel deep learning approach for identifying frauds in Ethereum smart contracts. Fraud is an important issue because it can result in huge financial loss for users. Previous methods for fraud detection rely either on rule sets or static analysis. In contrast, SCSGuard employs deep learning to identify unusual features in contract bytecode. For evaluation, we collect a large dataset of known frauds and normal contracts and train the model via supervised learning. Performance comparison against leading methods shows that SCSGuard outperforms them both in accuracy and recall. Factors contributing to its success include selection of neural network architecture, quality and size of the training data, and adaptation through transfer learning to different types of frauds. We also point out limitations and suggest future work such as enhancing model interpretability and studying adversarial examples to test robustness. Overall results indicate great promise for using deep learning for contract fraud detection and offer insights into system design and evaluation. Results also have implications for strengthening security and trustworthiness in the Ethereum ecosystem and we hope that further research will follow along these lines.\n"
     ]
    },
    {
     "name": "stderr",
     "output_type": "stream",
     "text": [
      "\r",
      "Paraphrasing texts:  20%|█▉        | 39/200 [04:47<26:35,  9.91s/it]"
     ]
    },
    {
     "name": "stdout",
     "output_type": "stream",
     "text": [
      "This paper compares empirically the performance of four learning algorithms for collision prediction in a simulation environment: Q learning, SARSA, expected SARSA, and double Q learning. Collision prediction entails predicting the probability of collision between two agents in a two dimensional grid world. Experiments are carried out across a range of hyperparameters and performance metrics like mean squared error and average reward are evaluated for each algorithm. Results indicate that expected SARSA outperforms other methods both in terms of mean squared error and average reward whereas double Q learning performs worst. We also notice that performance of these algorithms varies strongly with hyperparameters and sensitivity to hyperparameters differs among them. Overall this study makes valuable comparisons of learning algorithms for collision prediction tasks; it reveals relative strengths and weaknesses of different algorithms which are useful for both researchers and practitioners working on related prediction tasks and helps select suitable algorithms according to different contexts.\n"
     ]
    },
    {
     "name": "stderr",
     "output_type": "stream",
     "text": [
      "\r",
      "Paraphrasing texts:  20%|██        | 40/200 [04:56<25:50,  9.69s/it]"
     ]
    },
    {
     "name": "stdout",
     "output_type": "stream",
     "text": [
      "Recently self supervised learning has gained strong attention as a powerful approach to deal with computer vision tasks without supervision. In this paper we introduce a new way to do target tracking using synthesis of data aware of targets. We combine target object images with various backgrounds to synthesize realistic training data and use this data to train deep networks to track targets in real time video. The trained network learns to discriminate target from other elements by using appearance, motion and contextual information. Results are evaluated against different benchmark datasets and compared to current top methods. Results show that our method performs competitively and excels on difficult situations compared to previous ones. This work suggests that synthesizing data aware of targets is a promising path towards unsupervised visual tracking.\n"
     ]
    },
    {
     "name": "stderr",
     "output_type": "stream",
     "text": [
      "\r",
      "Paraphrasing texts:  20%|██        | 41/200 [05:04<24:02,  9.07s/it]"
     ]
    },
    {
     "name": "stdout",
     "output_type": "stream",
     "text": [
      "This paper investigates use of Video Multimethod Assessment Fusion (VMAF) and Entropy Differences (ED) metrics for quality assessment of high frame rate (HFR) videos. As HFR videos become increasingly popular, it becomes important to develop reliable metrics to assess visual quality of such videos. VMAF and ED have been widely used in assessing quality at regular frame rates, but their suitability for HFR videos has not been well studied yet. Researchers conduct subjective tests using 30 participants with ACR method to evaluate HFR video sequences and compare subjective scores to objective scores obtained from VMAF and ED metrics. Results of diverse HFR videos with different genres and motions are analyzed to assure reliability of findings. Results show that both VMAF and ED metrics correlate well with subjective scores obtained through ACR. VMAF performs slightly better than ED but significance difference is not notable. Results contribute to development of metrics for objectively assessing visual quality of HFR videos and suggest promising applications like video compression and streaming. Results also provide guidance for development of new quality assessment algorithms specifically designed for HFR videos.\n"
     ]
    },
    {
     "name": "stderr",
     "output_type": "stream",
     "text": [
      "\r",
      "Paraphrasing texts:  21%|██        | 42/200 [05:15<25:47,  9.80s/it]"
     ]
    },
    {
     "name": "stdout",
     "output_type": "stream",
     "text": [
      "This paper introduces a new way to improve security for Industry 4.0 systems using QUDOS, a system based on cloud and edge computing. With the growing use of cloud applications and services, there is now increased demand for secure and fast processing of data. Yet current security solutions have not sufficiently addressed the complicated nature of threats faced today by industry. Therefore, the authors introduce QUDOS—a framework that executes deep neural networks securely. QUDOS leverages benefits from both cloud and edge computing to offer a strong solution for data processing in Industry 4.0. Using a consensus method based on quorums ensures secure and decentralized execution of DNNs across various edge devices and cloud servers. Secure multiparty computation methods are used to protect sensitive data during processing. Performance and security are evaluated through experiments and simulations; results demonstrate high accuracy and low latency. Results also show QUDOS excels compared to leading security solutions. In summary, QUDOS is presented as a promising enhancement for security in Industry 4.0 and offers a strong framework for executing DNNs in cloud and edge computing environments.\n"
     ]
    },
    {
     "name": "stderr",
     "output_type": "stream",
     "text": [
      "\r",
      "Paraphrasing texts:  22%|██▏       | 43/200 [05:27<27:01, 10.33s/it]"
     ]
    },
    {
     "name": "stdout",
     "output_type": "stream",
     "text": [
      "This paper introduces an approach based on supervised learning that aims to address domain shift and lack of labeled data specifically for time series data. The method uses learned temporal dependencies within time series and adapts to new domains via unsupervised learning and uses few if any labels from target domain. Learning begins by training an autoregressive model on the source domain and generating synthetic samples using this model for target domain. Using these synthetic samples the authors train a domain adaptation model to reduce the gap between source and target domains. Results on two real datasets show that this method performs better than current best practices in both accuracy and resistance to shift among domains. Results suggest that leveraging temporal dependencies in time series data using unsupervised learning is promising for adapting to domains where labeled data is scarce or absent.\n"
     ]
    },
    {
     "name": "stderr",
     "output_type": "stream",
     "text": [
      "\r",
      "Paraphrasing texts:  22%|██▏       | 44/200 [05:35<25:07,  9.67s/it]"
     ]
    },
    {
     "name": "stdout",
     "output_type": "stream",
     "text": [
      "This paper investigates filtering with consensus for a network of agents; they aim to estimate a common signal from noisy data distributed among them. An algorithm is proposed that each agent uses to update its estimate by averaging local data with estimates from neighbors. There is a fusion step as well where results combine to get an overall estimate of the signal. Performance analysis is done including conditions for convergence to consensus estimates. Bounds are also derived for error in this estimation. Simulations show effectiveness under noise and dynamics and applications include sensor networks, distributed control and multiagent systems where distributed estimation of common signals is needed.\n"
     ]
    },
    {
     "name": "stderr",
     "output_type": "stream",
     "text": [
      "\r",
      "Paraphrasing texts:  22%|██▎       | 45/200 [05:41<22:19,  8.64s/it]"
     ]
    },
    {
     "name": "stdout",
     "output_type": "stream",
     "text": [
      "This paper introduces a new approach to guided exploration of graphs using labels; users can now fine tune the proportion of labels used during this process. Guided exploration is frequently employed to navigate through big and complicated graphs and labels act as guides directing us towards interesting nodes. But traditional methods usually use a fixed proportion of labels which may not suit every situation. This new method lets users customize the proportion according to their individual preferences and aims. We present an algorithm that computes dynamically the best proportion of labels based on current progress of exploration. The algorithm considers several factors including graph density, distribution of labels and user feedback to select an optimal proportion. In order to test effectiveness we ran experiments using both real data and synthetic data. Results show that this new method excels traditional ones regarding efficiency and accuracy especially when the optimal proportion varies or is not known. We also carried out a usability study which users rated highly. In summary, we propose a flexible and effective way to navigate through big and complicated graphs and this new approach would be valuable for diverse areas such as social network analysis, recommendation systems and bioinformatics.\n"
     ]
    },
    {
     "name": "stderr",
     "output_type": "stream",
     "text": [
      "\r",
      "Paraphrasing texts:  23%|██▎       | 46/200 [05:52<24:13,  9.44s/it]"
     ]
    },
    {
     "name": "stdout",
     "output_type": "stream",
     "text": [
      "This paper proposes an approach using recurrence relations to analyze effective capacity for retransmission schemes in wireless communication systems. Effective capacity measures maximum achievable data rates with strict delay requirements. Proposed recurrence relation methodology supplies a tool for calculating effective capacity for various types of retransmission protocols such as ARQ and HARP protocols. Results from evaluation via numerical examples and simulation show effectiveness and efficiency of the proposed approach. Results of this work offer important guidance on design of efficient retransmission schemes and serve as a reference for future research related to wireless communications.\n"
     ]
    },
    {
     "name": "stderr",
     "output_type": "stream",
     "text": [
      "\r",
      "Paraphrasing texts:  24%|██▎       | 47/200 [05:58<21:18,  8.36s/it]"
     ]
    },
    {
     "name": "stdout",
     "output_type": "stream",
     "text": [
      "This paper studies the maximum minimal distance of linear codes that allow local repair and aims to find tight bounds on this distance. Recent interest has focused on such codes because they are important for designing fault tolerant storage systems. Maximum minimal distance for a code refers to the largest minimum distance that any subcode of that code can have; this is an important parameter related to the correction of errors by codes. The paper carefully examines this distance along with relationships to other code parameters and effects of code design on its value. Using various mathematical tools, the authors derive new bounds on this maximum minimal distance and assess their tightness using simulation evaluations. Results of this research offer valuable insights into improving code performance for linear codes that allow local repairs.\n"
     ]
    },
    {
     "name": "stderr",
     "output_type": "stream",
     "text": [
      "\r",
      "Paraphrasing texts:  24%|██▍       | 48/200 [06:06<20:33,  8.12s/it]"
     ]
    },
    {
     "name": "stdout",
     "output_type": "stream",
     "text": [
      "This paper offers a broad review of the literature on the Off Switch Game which has been studied within the context of game theory and decision theory. The game features two players; one player can turn off play while the other can accept or reject this choice. Results include a detailed description of the game's mathematical formulation and equilibrium states, along with discussion of application areas such as bargaining and negotiation. We also present new analytical methods for studying the game and its variants. Case studies and simulation results show their practical utility. Results from this research improve understanding of how people make decisions when they have the option to terminate interaction early and are relevant to many fields.\n"
     ]
    },
    {
     "name": "stderr",
     "output_type": "stream",
     "text": [
      "\r",
      "Paraphrasing texts:  24%|██▍       | 49/200 [06:13<19:27,  7.73s/it]"
     ]
    },
    {
     "name": "stdout",
     "output_type": "stream",
     "text": [
      "This paper looks at using adaptive pilot patterns for CA OFDM systems operating in channels that vary over time. Time varying channel conditions are problematic for CA OFDM because they result in poor performance. Adaptive pilot patterns are proposed as means to improve tracking of these time variations. Effectiveness is measured by simulations on channels that also vary. Results show improved tracking performance and better throughput and bit error rate. Contribute to developing adaptive techniques important for high speed wireless communications under dynamic conditions.\n"
     ]
    },
    {
     "name": "stderr",
     "output_type": "stream",
     "text": [
      "\r",
      "Paraphrasing texts:  25%|██▌       | 50/200 [06:18<17:22,  6.95s/it]"
     ]
    },
    {
     "name": "stdout",
     "output_type": "stream",
     "text": [
      "Contextual bandits are an approach that has been receiving increased attention recently because they excel at balancing exploration and exploitation when dealing sequentially with decision problems. This paper focuses on considering estimation issues in contextual bandits; we look at how different factors such as reward selection, number of arms, context representation choices, and sample size affect algorithm performance. We review current literature comprehensively and suggest some future research directions. Results show that performance of contextual bandits varies depending on estimation issues and emphasize the importance of careful design and evaluation of these algorithms. Insights learned here can help practitioners to design and deploy contextual bandits effectively and serve as a basis for further research.\n"
     ]
    },
    {
     "name": "stderr",
     "output_type": "stream",
     "text": [
      "\r",
      "Paraphrasing texts:  26%|██▌       | 51/200 [06:25<17:13,  6.93s/it]"
     ]
    },
    {
     "name": "stdout",
     "output_type": "stream",
     "text": [
      "This paper investigates the effectiveness of hexaconv, a new kind of neural network using hexagonal filters rather than square ones. Results show that this architecture performs similarly or better compared to regular convolutional networks when classifying images. Compared to regular networks, hexaconv also uses fewer parameters and computing resources. The conclusion drawn from these results is that hexaconv is promising and potentially useful especially for classification tasks that use hexagonal data such as satellite imagery or cell phone networks.\n"
     ]
    },
    {
     "name": "stderr",
     "output_type": "stream",
     "text": [
      "\r",
      "Paraphrasing texts:  26%|██▌       | 52/200 [06:30<15:47,  6.40s/it]"
     ]
    },
    {
     "name": "stdout",
     "output_type": "stream",
     "text": [
      "This paper introduces a model free approach for adaptive optimal control for manufacturing processes using reinforcement learning. We use reinforcement learning algorithms to optimize control policies directly and without assuming any specific model for system dynamics. We evaluate performance on tasks with a fixed time horizon; we aim to maximize total rewards. Results show that the approach is successful at adapting to changing dynamics and results in better control performance compared to traditional methods which rely on models. Results also indicate potential for real time control of manufacturing and suggest directions for further research.\n"
     ]
    },
    {
     "name": "stderr",
     "output_type": "stream",
     "text": [
      "\r",
      "Paraphrasing texts:  26%|██▋       | 53/200 [06:35<15:01,  6.14s/it]"
     ]
    },
    {
     "name": "stdout",
     "output_type": "stream",
     "text": [
      "This paper surveys recent advances in routing protocols for Delay Tolerant Networks (DTN). DTNs are used in situations where communications are difficult and conditions change rapidly, like during emergencies, space missions, or in remote places lacking reliable connectivity. The survey covers both old and new methods of routing. Results provide a clear picture of main features and performance metrics of different routing protocols; these include advantages and disadvantages. Authors also pinpoint present challenges and open questions about DTN routing and propose ways forward. Results from this study will prove useful for researchers, developers and others who wish to design, deploy or utilize DTN networks.\n"
     ]
    },
    {
     "name": "stderr",
     "output_type": "stream",
     "text": [
      "\r",
      "Paraphrasing texts:  27%|██▋       | 54/200 [06:42<15:12,  6.25s/it]"
     ]
    },
    {
     "name": "stdout",
     "output_type": "stream",
     "text": [
      "This paper proposes a new way to enhance slope limiters for use on grids that vary in size and direction. Slope limiters help stop unphysical results from occurring during computer simulations like those of fluid dynamics. Previous work has mostly concentrated on using these limiters on regular grids; this study looks at them on irregular grids too. Using a mix of adaptation techniques and new limiters, the new approach improves simulation accuracy and reliability. Results show that this new approach overcomes shortcomings of previous limiters and works well on a variety of tests. Study outcomes should be important for further development of simulation methods for irregular grids.\n"
     ]
    },
    {
     "name": "stderr",
     "output_type": "stream",
     "text": [
      "\r",
      "Paraphrasing texts:  28%|██▊       | 55/200 [06:49<15:22,  6.36s/it]"
     ]
    },
    {
     "name": "stdout",
     "output_type": "stream",
     "text": [
      "This paper looks at current status of interoperability of electronic health records (EHR) in hospitals in Tanzania and identifies important issues, challenges, and opportunities that should be addressed to improve interoperability of these systems. Using a thorough review of literature and interviews with healthcare workers and other stakeholders, researchers pinpoint major barriers to interoperability such as lack of standardization, insufficient infrastructure and technology and lack of trained personnel. Researchers also look at potential benefits like better patient care, fewer medical errors and enhanced surveillance of public health. Finally, they give recommendations to policymakers, health care organizations and technology providers on how to improve interoperability through developing standards and guidelines, investing in technology and infrastructure, and implementing professional training programs. Research results offer valuable insights into interoperability of EHRs in Tanzania and are of interest to professionals in health IT.\n"
     ]
    },
    {
     "name": "stderr",
     "output_type": "stream",
     "text": [
      "\r",
      "Paraphrasing texts:  28%|██▊       | 56/200 [06:57<16:56,  7.06s/it]"
     ]
    },
    {
     "name": "stdout",
     "output_type": "stream",
     "text": [
      "This paper introduces new methodology for efficient blind compressed sensing used in MRI. Using transform sparsification we can reduce the amount of data to acquire while retaining key features. Use of transform sparsification also reduces acquisition time and lowers cost. Method also comes with convergence guarantees that ensure reconstructed images match the original. Performance improvements are demonstrated by experiments using MRI data. Results show this new approach advances current standards in blind compressed sensing and opens up possibilities for different imaging technologies as well.\n"
     ]
    },
    {
     "name": "stderr",
     "output_type": "stream",
     "text": [
      "\r",
      "Paraphrasing texts:  28%|██▊       | 57/200 [07:02<15:28,  6.49s/it]"
     ]
    },
    {
     "name": "stdout",
     "output_type": "stream",
     "text": [
      "This paper looks at how important collisions and collision avoidance are for collective behavior. First, we look at collective behavior among animals and artificial swarms and then discuss various things that influence this behavior such as catastrophic collisions and collision avoidance. We also simulate and conduct experiments to show how collisions and avoidance affect collective behavior. We analyze the results to determine if there is a connection between those factors and the performance of a swarm. Results indicate that avoiding collisions catastrophically and effectively is essential for successful collective behavior and impacts swarm performance significantly.\n"
     ]
    },
    {
     "name": "stderr",
     "output_type": "stream",
     "text": [
      "\r",
      "Paraphrasing texts:  29%|██▉       | 58/200 [07:08<14:45,  6.23s/it]"
     ]
    },
    {
     "name": "stdout",
     "output_type": "stream",
     "text": [
      "This research evaluates performance of Graph Neural Networks (GNNs) in virtual screening by evaluating binding affinity predictions of small molecules against protein targets. Authors test multiple top GNNs on diverse complexes and compare performances with other standard methods. Results show that GNNs perform comparably or better than usual methods with high accuracy and stability. Authors also identify important aspects affecting prediction reliability like selection of hyper parameters and quality of training data. Findings from this research point out potential usefulness of GNNs for screening and highlight them as valuable tools for drug discovery.\n"
     ]
    },
    {
     "name": "stderr",
     "output_type": "stream",
     "text": [
      "\r",
      "Paraphrasing texts:  30%|██▉       | 59/200 [07:14<14:27,  6.15s/it]"
     ]
    },
    {
     "name": "stdout",
     "output_type": "stream",
     "text": [
      "This paper introduces a new method to map unordered labeled trees with opposite isomorphisms, called Anti Tai Mapping. It tackles the problem of establishing one to one relations among nodes from different unordered labeled trees while preserving similarity in both structure and labels. Based on tree tai mapping concept, we modify this idea to deal with unordered trees and to ensure anti isomorphism. Performance evaluation of this method has been conducted on different data sets and compared with previous methods; results show high performance levels in terms of accuracy and speed. Results of this research will be useful for a variety of domains including pattern recognition, machine learning and computational biology.\n"
     ]
    },
    {
     "name": "stderr",
     "output_type": "stream",
     "text": [
      "\r",
      "Paraphrasing texts:  30%|███       | 60/200 [07:21<14:41,  6.30s/it]"
     ]
    },
    {
     "name": "stdout",
     "output_type": "stream",
     "text": [
      "This paper investigates the automatic recognition of security discussion topics in microservice systems. It combines both survey results from industry professionals and experimental results to conduct a thorough analysis of this field. Surveys are conducted to understand how important security is and what difficulties exist for systems based on microservices. Experiments focus on developing and evaluating a machine learning approach to automatically recognize security discussions. Results show insights into current security levels in microservice systems and indicate that automated identification of security discussions is promising for future research and development.\n"
     ]
    },
    {
     "name": "stderr",
     "output_type": "stream",
     "text": [
      "\r",
      "Paraphrasing texts:  30%|███       | 61/200 [07:26<13:59,  6.04s/it]"
     ]
    },
    {
     "name": "stdout",
     "output_type": "stream",
     "text": [
      "This paper presents a new framework that counts and locates people in crowds using points directly rather than regions. Current approaches assume fixed behaviors for crowds but they are often inaccurate; the new framework avoids such assumptions and treats each person as an individual point. Results from real data have demonstrated improved accuracy. By taking a point approach instead of relying on regions, this work opens a new line of thought on how to better count and locate people in crowds.\n"
     ]
    },
    {
     "name": "stderr",
     "output_type": "stream",
     "text": [
      "\r",
      "Paraphrasing texts:  31%|███       | 62/200 [07:31<13:02,  5.67s/it]"
     ]
    },
    {
     "name": "stdout",
     "output_type": "stream",
     "text": [
      "This paper introduces a new method called Neurint that interpolates using neural ordinary differential equations (ODEs). Using a parametric approach, Neurint approximates solutions to systems of ODEs and learns parameters via backpropagation. Thus allowing the model to interpolate between any points within the input space. Experiments comparing Neurint against other traditional methods show higher performance and better generalization. Results suggest Neurint is a promising tool for interpolation tasks in ML and other areas.\n"
     ]
    },
    {
     "name": "stderr",
     "output_type": "stream",
     "text": [
      "\r",
      "Paraphrasing texts:  32%|███▏      | 63/200 [07:36<12:43,  5.57s/it]"
     ]
    },
    {
     "name": "stdout",
     "output_type": "stream",
     "text": [
      "This paper investigates efficient algorithms for solving adjacent quadratic shortest paths and compares different labeling algorithms including A* and Dijkstra. They introduce a new hybrid approach that combines features from both algorithms and experimentally find their proposed hybrid to perform better than other methods in terms of computation speed and solution quality. Results of this research contribute to further development of more efficient algorithms and have practical implications in areas like transportation, logistics, and network design.\n"
     ]
    },
    {
     "name": "stderr",
     "output_type": "stream",
     "text": [
      "\r",
      "Paraphrasing texts:  32%|███▏      | 64/200 [07:41<11:58,  5.29s/it]"
     ]
    },
    {
     "name": "stdout",
     "output_type": "stream",
     "text": [
      "Scene parsing is an important task in computer vision. The aim is to segment and classify objects within images or videos. This paper introduces a new method for scene parsing that leverages multiscale feature learning, purity trees, and optimal coverings. First, we extract features of an image at different levels of scale to capture both local and global context. We then use purity trees to hierarchically partition the image into regions by clustering similar pixels and objects together. Finally, we assign these regions to semantic classes via optimal covering; this results in comprehensive scene segmentation. Experiments on benchmark datasets show that our approach excels at performance for scene parsing.\n"
     ]
    },
    {
     "name": "stderr",
     "output_type": "stream",
     "text": [
      "\r",
      "Paraphrasing texts:  32%|███▎      | 65/200 [07:48<12:55,  5.75s/it]"
     ]
    },
    {
     "name": "stdout",
     "output_type": "stream",
     "text": [
      "Using the lattice Boltzmann method (LBM), a computational tool for fluid dynamics simulations, this paper presents an innovative way of massively parallelizing this method using uneven grids. While these irregular grids can flexibly handle complex shapes better than regular ones, they have proven difficult to parallelize efficiently. By leveraging the inherent parallelism in LBM we develop an approach that distributes simulations among different processors. Implementation uses hybrid MPI and OpenMP to balance workload and communication overhead. Performance evaluation shows strong scaling across various test cases and compares favorably against other parallel implementations; results indicate that the developed algorithm scales well and achieves high speedup. This work demonstrates feasibility for large scale CFD simulations.\n"
     ]
    },
    {
     "name": "stderr",
     "output_type": "stream",
     "text": [
      "\r",
      "Paraphrasing texts:  33%|███▎      | 66/200 [07:55<13:48,  6.18s/it]"
     ]
    },
    {
     "name": "stdout",
     "output_type": "stream",
     "text": [
      "This study introduces an improved method for conducting sealed bidding auctions via multiparty circular quantum key agreement. This proposal aims to solve weaknesses in traditional auctions which are susceptible to threats like bid manipulation and information leakage. By integrating principles of quantum cryptography this proposal offers higher security assurance during auction processing. Multiparty circular key agreement improves security through guaranteed secure channels among all participants along with keeping bids secret. Results from simulation and experiment show that this new protocol performs well and securely; it represents a promising approach towards running auctions securely. Findings from this work have great significance for designing and implementing secure electronic auction systems.\n"
     ]
    },
    {
     "name": "stderr",
     "output_type": "stream",
     "text": [
      "\r",
      "Paraphrasing texts:  34%|███▎      | 67/200 [08:01<13:47,  6.22s/it]"
     ]
    },
    {
     "name": "stdout",
     "output_type": "stream",
     "text": [
      "We propose a new approach to design faster algorithms that use conditional sampling. Sampling is used here to process large datasets quickly without reading all the data. Using our approach we sample only a small fraction of data to get accurate estimates with high probability of certain functions. This leads to considerable reduction of computation time and preserves accuracy. Results from testing on real data sets have shown that this new method performs better compared to previous methods. This work initiates new research paths into sub linear algorithms and has practical uses in areas like machine learning and data mining.\n"
     ]
    },
    {
     "name": "stderr",
     "output_type": "stream",
     "text": [
      "\r",
      "Paraphrasing texts:  34%|███▍      | 68/200 [08:07<13:24,  6.09s/it]"
     ]
    },
    {
     "name": "stdout",
     "output_type": "stream",
     "text": [
      "This research introduces an integrated approach for computing resource allocation in three layered IoT fog networks that merges Stackelberg games with matching algorithms. The structure includes cloud, fog and edge layers with distinct computing resources. A leader follower relationship is modelled using Stackelberg game interaction among the layers, while matching algorithms optimize resource allocation based on network boundaries and goals. Results from simulation show effectiveness of the suggested approach: high efficiency of resource allocation, reduced latency and better network performance relative to conventional methods. Results also point toward potential for combining game theory with optimization to deal with allocation issues in higher tier IoT networks.\n"
     ]
    },
    {
     "name": "stderr",
     "output_type": "stream",
     "text": [
      "\r",
      "Paraphrasing texts:  34%|███▍      | 69/200 [08:13<13:30,  6.19s/it]"
     ]
    },
    {
     "name": "stdout",
     "output_type": "stream",
     "text": [
      "Authors introduce a new beamforming method called Layered Group Sparse Beamforming (LGSB) for green wireless networks which have caching capabilities. This new method addresses the dual challenge of balancing energy efficiency and data rate. LGSB works by classifying users into different levels and assigning sparse beamforming resources to each level. Simulation results indicate LGSB performs much better than traditional methods regarding both energy efficiency and high data rates. Results from this research may help develop more sustainable and efficient wireless networks.\n"
     ]
    },
    {
     "name": "stderr",
     "output_type": "stream",
     "text": [
      "\r",
      "Paraphrasing texts:  35%|███▌      | 70/200 [08:19<12:52,  5.94s/it]"
     ]
    },
    {
     "name": "stdout",
     "output_type": "stream",
     "text": [
      "This paper introduces a new approach to clustering streaming data using the idea of evolving density mountains. It uses peak density notion to track changes in clusters over time and identify patterns of those peaks. This method is superior because it clusters in a more responsive way compared to typical methods which usually presuppose static cluster structures. Performance was tested using both artificial and real data sets; results indicate this approach excels at accuracy, efficiency and scalability. Results from this research advance clustering techniques for streams and suggest applicability to diverse fields like online market segmentation and fraud detection.\n"
     ]
    },
    {
     "name": "stderr",
     "output_type": "stream",
     "text": [
      "\r",
      "Paraphrasing texts:  36%|███▌      | 71/200 [08:25<12:43,  5.92s/it]"
     ]
    },
    {
     "name": "stdout",
     "output_type": "stream",
     "text": [
      "This study looks at the potential of applying machine learning techniques to enhance efficiency of solving Boolean Satisfiability Problems (SAT). SAT is a common problem known to be NP complete and is frequently used in diverse areas like hardware and software verification, scheduling, and cryptography. Authors propose a new method that uses machine learning models to direct the search process of current SAT solvers. Results indicate that proposed method greatly reduces solving time compared to leading solvers. Performance on different benchmark data sets shows comparable results as well; thus showing effectiveness under practical conditions. Research findings also shed light on application of machine learning to solving difficult computational tasks and suggest potential advancement possibilities.\n"
     ]
    },
    {
     "name": "stderr",
     "output_type": "stream",
     "text": [
      "\r",
      "Paraphrasing texts:  36%|███▌      | 72/200 [08:31<13:11,  6.18s/it]"
     ]
    },
    {
     "name": "stdout",
     "output_type": "stream",
     "text": [
      "The IEEE CIG 2017 competition on Game Data Mining sought the best way to predict how players behave in video games. This paper describes winning solutions and analyzes them. Winning method used machine learning including boosting gradients and deep neural nets. Results show that winning methods significantly outperform other competitors regarding accuracy of prediction. Results of this study point to potential use of combining machine learning to predict player behavior and emphasize the significance of careful choice of features and design of model structure. Authors also offer suggestions as to what might be improved and future directions for research.\n"
     ]
    },
    {
     "name": "stderr",
     "output_type": "stream",
     "text": [
      "\r",
      "Paraphrasing texts:  36%|███▋      | 73/200 [08:37<12:59,  6.14s/it]"
     ]
    },
    {
     "name": "stdout",
     "output_type": "stream",
     "text": [
      "This paper introduces a meta transfer objective aimed at learning to separate causal mechanisms. It uses ideas from transfer learning wherein learning from one task improves performance on related tasks that differ. This new objective aims to transfer the skill of separating mechanisms from one problem to another. Results from a set of experiments are reported and compared against existing methods for separating causal mechanisms. Results show the proposed objective performs better in terms of accuracy and general performance; thus it demonstrates effectiveness at improving separation of mechanisms.\n"
     ]
    },
    {
     "name": "stderr",
     "output_type": "stream",
     "text": [
      "\r",
      "Paraphrasing texts:  37%|███▋      | 74/200 [08:43<12:15,  5.83s/it]"
     ]
    },
    {
     "name": "stdout",
     "output_type": "stream",
     "text": [
      "This paper introduces an innovative approach to decoding in communications systems called SRGRAND - Symbol Reliability Guided Random Additive Noise Decoding. Conventional methods for decoding rely entirely on channel state information (CSI) to operate. However, in real communication systems, CSI is usually unreliable or stale leading to degraded performance. Proposed SRGRAND uses not just CSI but also information about the reliability of symbols. Calculated using statistical properties of transmitted symbols and channel noise, this information gives insight into the quality of each individual symbol. This extra information is used to direct decoding and reduces errors. Simulation results show that SRGRAND performs better than traditional decoding methods and provides stronger performance in practical systems.\n"
     ]
    },
    {
     "name": "stderr",
     "output_type": "stream",
     "text": [
      "\r",
      "Paraphrasing texts:  38%|███▊      | 75/200 [08:50<13:04,  6.27s/it]"
     ]
    },
    {
     "name": "stdout",
     "output_type": "stream",
     "text": [
      "Semi supervised GANs have been very popular for unsupervised learning tasks in vision and NLP but they have not been applied well to regression because it is hard to define a good loss function. This paper introduces a novel approach to extend these GANs to solve regression problems through use of feature contrast loss. This new method effectively uses both labeled and unlabeled data to learn a mapping between input and output spaces. Results on diverse benchmarks demonstrate that this approach outperforms current best methods regarding both accuracy and reliability. This research indicates that these kinds of GANs can perform much better when solving practical problems.\n"
     ]
    },
    {
     "name": "stderr",
     "output_type": "stream",
     "text": [
      "\r",
      "Paraphrasing texts:  38%|███▊      | 76/200 [08:56<13:10,  6.37s/it]"
     ]
    },
    {
     "name": "stdout",
     "output_type": "stream",
     "text": [
      "A new way of doing semantic segmentation called CCNet is presented in this paper. This method uses an attention mechanism that works well on other computer vision tasks. The core of CCNet involves using cross attention to get information from distant pixels. These distant pixels are important for good segmentation. The network structure includes a backbone for feature extraction, an attention module, and a segmentation head. This module focuses on both spatial and channel level to model pixel relationships. Results show that CCNet performs very well on benchmarks and does so with a light network design. Results indicate that proposed cross attention is promising and could work well on other tasks too.\n"
     ]
    },
    {
     "name": "stderr",
     "output_type": "stream",
     "text": [
      "\r",
      "Paraphrasing texts:  38%|███▊      | 77/200 [09:03<13:14,  6.46s/it]"
     ]
    },
    {
     "name": "stdout",
     "output_type": "stream",
     "text": [
      "This paper reports on a study aimed at developing an efficient model for real time use of UAVs. As demand increases for UAVs across different sectors, we need high performance and reliable algorithms for real time detection of objects. Proposed method uses a blend of deep learning and computer vision techniques that are fine tuned to perform precise and quick object detection in real time. Comprehensive testing on a standard dataset shows this new model performs better than current leading methods regarding both precision and speed. Results are also verified through varied real world tests such as surveillance and inspection tasks and show efficacy and practical utility. Contribution of this research is significant because it provides an extremely efficient and accurate model for real time UAV work.\n"
     ]
    },
    {
     "name": "stderr",
     "output_type": "stream",
     "text": [
      "\r",
      "Paraphrasing texts:  39%|███▉      | 78/200 [09:10<13:34,  6.68s/it]"
     ]
    },
    {
     "name": "stdout",
     "output_type": "stream",
     "text": [
      "This paper conducts a quantitative study on cryptocurrency egalitarianism and analyzes how wealth distribution among users relates to egalitarian principles. We look at Bitcoin, Ethereum, and Litecoin, three of the most used crypto currencies. We compute Gini coefficients for each to measure wealth inequality. We also look at wealth concentration among top percentiles and consider different factors such as mining and trading rates. We find that in many cryptos wealth distribution is quite unequal despite frequent claims of decentralization and democracy. We also note however that there are some ways to enhance equity in this emerging financial ecosystem such as addressing wealth concentration and promoting fair mining practices. In sum we illuminate how much crypto aligns with egalitarian ideals and offer insight into strategies for greater wealth equity.\n"
     ]
    },
    {
     "name": "stderr",
     "output_type": "stream",
     "text": [
      "\r",
      "Paraphrasing texts:  40%|███▉      | 79/200 [09:18<14:05,  6.98s/it]"
     ]
    },
    {
     "name": "stdout",
     "output_type": "stream",
     "text": [
      "This paper studies pricing problems that are simple yet nearly optimal when dealing with proportional complementarity issues. These complementarities occur frequently in economics where value rises with increased adoption among others. The research concentrates on developing pricing schemes that produce maximum total surplus from trading and that are straightforward and easy to put into practice. It introduces a new approach that integrates ideas of optimal pricing with approximation techniques to derive pricing formulas that are both high quality and practical. Results from simulations indicate that proposed pricing formulas work well, producing near optimum performance while being much easier to use than traditional methods of optimal pricing. Findings also offer significant insights for people who make pricing decisions for goods with proportional complementarity and policy makers.\n"
     ]
    },
    {
     "name": "stderr",
     "output_type": "stream",
     "text": [
      "\r",
      "Paraphrasing texts:  40%|████      | 80/200 [09:25<14:08,  7.07s/it]"
     ]
    },
    {
     "name": "stdout",
     "output_type": "stream",
     "text": [
      "This paper looks at how to design digital microfluidic biochips (DMFBs), aiming to improve their resistance to faults. DMFBs promise major advances in bioanalysis by allowing for automation and miniaturization of complex lab procedures. Yet DMFB designs are complex and integrate many components which can result in many different types of faults and errors. This can reduce their reliability. Therefore we propose a design flow that includes four main stages: fault modeling, fault analysis, synthesis of fault tolerance and fault tolerance testing. In fault modeling we identify likely faults and determine their root causes. Fault analysis measures the effects of these faults on performance. During synthesis of fault tolerance we create designs that reduce known faults. Finally during fault tolerance testing we evaluate if the resulting design functions reliably. We demonstrate this design flow using an example of designing a chip for crystallization of proteins, involving complex biochemical reactions. Fault injection tests confirm the new design is robust and effective. Contributions of this work include a comprehensive design flow for DMFBs that is illustrated through a case study, along with consideration of potential limits and future directions. This design flow serves as a foundation for developing high reliability and robustness into diverse bioanalysis applications.\n"
     ]
    },
    {
     "name": "stderr",
     "output_type": "stream",
     "text": [
      "\r",
      "Paraphrasing texts:  40%|████      | 81/200 [09:38<17:11,  8.67s/it]"
     ]
    },
    {
     "name": "stdout",
     "output_type": "stream",
     "text": [
      "This paper introduces a new method of behavior planning for connected autonomous vehicles by using feedback based deep reinforcement learning. Research goals focus on developing a system capable of learning from prior experience and making timely decisions to ensure road safety and efficiency. Proposed approach uses a combination of deep reinforcement learning and feedback control. Stability and robustness are enhanced by the use of control feedback components. Results show this approach performs much better than traditional planning methods in terms of both safety and efficiency. Results indicate the feasibility of this approach as a practical solution for vehicle behavior planning.\n"
     ]
    },
    {
     "name": "stderr",
     "output_type": "stream",
     "text": [
      "\r",
      "Paraphrasing texts:  41%|████      | 82/200 [09:43<15:20,  7.80s/it]"
     ]
    },
    {
     "name": "stdout",
     "output_type": "stream",
     "text": [
      "This paper introduces a new approach to fast Bayesian calibration of brain tumor models by means of a geometry aware neural solver. Proposed method uses deep learning to solve efficiently the inverse problem that maps MR scans to tumor physical parameters while respecting underlying geometric constraints. The solver is trained using a mix of simulated and real data; results show marked improvement in both accuracy and computational time over traditional optimization methods. Results of this study offer promising solutions for estimating physical tumor properties based on medical images and have potential for use in personalized medicine and radiation therapy planning.\n"
     ]
    },
    {
     "name": "stderr",
     "output_type": "stream",
     "text": [
      "\r",
      "Paraphrasing texts:  42%|████▏     | 83/200 [09:49<13:58,  7.17s/it]"
     ]
    },
    {
     "name": "stdout",
     "output_type": "stream",
     "text": [
      "This paper investigates use of self supervised learning approaches to enhance representation learning from tabular data. Typical methods for learning features from tables require predefined features or fixed embeddings which often do not reflect underlying structure. We introduce an alternative approach that makes use of intrinsic structure and relationships within the table to learn more useful feature representations. Specifically, we define two supervised learning tasks targeting prediction of missing values and reconstruction of corrupted tables. Results show that this method performs better compared to current methods on real world data sets. Results suggest that supervised learning self supervised offers promise for improvement in representation learning of tabular data and also other downstream tasks such as classification and regression.\n"
     ]
    },
    {
     "name": "stderr",
     "output_type": "stream",
     "text": [
      "\r",
      "Paraphrasing texts:  42%|████▏     | 84/200 [09:56<13:37,  7.05s/it]"
     ]
    },
    {
     "name": "stdout",
     "output_type": "stream",
     "text": [
      "This paper studies few shot audio classification, where one tries to categorize sounds into a limited number of classes based on very little labeled data. Focus is on evaluating various methods for dealing with scarcity of labeled data like transfer learning and meta learning. Results show these methods greatly improve performance compared to standard approaches. Performance is also analyzed depending on factors including size of labeled data used, number of classes, and signal complexity. Insights from this study contribute to designing better models for classification tasks which are useful for speech recognition, music analysis and other audio surveillance systems.\n"
     ]
    },
    {
     "name": "stderr",
     "output_type": "stream",
     "text": [
      "\r",
      "Paraphrasing texts:  42%|████▎     | 85/200 [10:02<12:49,  6.69s/it]"
     ]
    },
    {
     "name": "stdout",
     "output_type": "stream",
     "text": [
      "Ride sharing services have become popular in most big cities all over the world. In Nigeria, ORide is one of the main ride sharing services that offer convenient transportation to people commuting. Driver anonymity is a longstanding problem which worries people's safety and trust. This paper presents an empirical study into user perceptions regarding anonymity of drivers and related safety implications. We surveyed 500 users in Lagos, Nigeria and asked them what they think about anonymity and what influences their choice to use this service. Results showed that many users are worried about anonymity and want more information like driver names and pictures. Factors influencing this concern include previous experiences with the service, gender and age. Also, our research indicates risks of anonymity including trouble recognizing drivers during accidents or security incidents. From our results we recommend ways for ORide and other companies to reduce anonymity risks while still protecting users' safety and privacy. Our study adds to the growing literature on ride sharing services in developing countries and highlights the importance of finding balance between privacy and safety for such services.\n"
     ]
    },
    {
     "name": "stderr",
     "output_type": "stream",
     "text": [
      "\r",
      "Paraphrasing texts:  43%|████▎     | 86/200 [10:12<14:55,  7.86s/it]"
     ]
    },
    {
     "name": "stdout",
     "output_type": "stream",
     "text": [
      "This paper looks at status reporting in wireless sensor networks which is not continuous but intermittent. It focuses specifically on joint scheduling of sensing and retransmission operations for high efficiency. Authors suggest a new scheduling algorithm that strikes a balance between sensing quality and energy usage by dynamically changing sensing and retransmission intervals according to network conditions. Results from simulations show effectiveness of this new algorithm compared to conventional scheduling methods. Findings are significant for design and deployment of such networks for diverse applications such as environmental monitoring, industrial automation and healthcare.\n"
     ]
    },
    {
     "name": "stderr",
     "output_type": "stream",
     "text": [
      "\r",
      "Paraphrasing texts:  44%|████▎     | 87/200 [10:18<13:31,  7.18s/it]"
     ]
    },
    {
     "name": "stdout",
     "output_type": "stream",
     "text": [
      "This paper introduces a new approach to detect cells in large MIMO systems using distributed expectation propagation (DEP). Large MIMO systems promise high spectral efficiency in wireless networks but detection algorithms are often complex and hard to implement. DEP solves this issue by decomposing detection into smaller tasks which multiple processing elements can work on simultaneously. Performance evaluation through simulations compares this approach favorably to current best methods. Results indicate DEP performs comparably or better while being less computationally intensive and consuming less memory. In addition, because it distributes processing load, this approach scales easily to large networks with low overhead. Discussion also considers potential use beyond cell detection including distributed optimization and inference. Results show DEP is promising both for improving performance and efficiency in cell detection and potentially in other distributed computing contexts.\n"
     ]
    },
    {
     "name": "stderr",
     "output_type": "stream",
     "text": [
      "\r",
      "Paraphrasing texts:  44%|████▍     | 88/200 [10:26<14:01,  7.51s/it]"
     ]
    },
    {
     "name": "stdout",
     "output_type": "stream",
     "text": [
      "This paper introduces a new way to solve the problem of detecting objects when some types are rare and slices appear rarely. We use targeted active learning and use submodular mutual information. Our solution is called Talisman. It selects important samples iteratively to label aiming at improving detector performance on rare types and slices. Talisman uses a sub modular function to measure mutual information among labeled and unlabeled samples; it uses this measure to choose samples that are most informative. Also this method takes into account target classes and slices, so that the system can give priority to selecting samples from those interesting rare classes and slices. Results show that Talisman improves detector performance on rare types and slices compared to other benchmark datasets. Results also show that our approach performs better than many leading active learning methods especially in scenarios where such rare types and slices appear. Overall, Talisman framework shows promise as a promising approach to targeted active learning for object detection, especially dealing with rare types and slices.\n"
     ]
    },
    {
     "name": "stderr",
     "output_type": "stream",
     "text": [
      "\r",
      "Paraphrasing texts:  44%|████▍     | 89/200 [10:36<15:18,  8.27s/it]"
     ]
    },
    {
     "name": "stdout",
     "output_type": "stream",
     "text": [
      "This paper introduces a new method for removing artifacts from attributes of geometry point clouds through compression. The method uses a two step process: downsampling of point cloud data using a quadtree method and then removal of artifacts. The artifact removal uses local regression and takes advantage of spatial and attribute information of nearby points to estimate and remove artifacts. Results are compared to benchmarks and show improved performance based on both quantitative and qualitative metrics; the processing is efficient and easy to integrate into existing frameworks. Results of this research suggest that new high performance compression techniques are developed for point cloud data.\n"
     ]
    },
    {
     "name": "stderr",
     "output_type": "stream",
     "text": [
      "\r",
      "Paraphrasing texts:  45%|████▌     | 90/200 [10:42<13:57,  7.61s/it]"
     ]
    },
    {
     "name": "stdout",
     "output_type": "stream",
     "text": [
      "This paper develops tight bounds for randomized load balancing under arbitrary network topologies. Load balancing is a basic issue in distributed computing and randomized algorithms have been widely applied to resolve it. Previous work has given loose bounds for performance of such algorithms on arbitrary networks. To close this gap we introduce a new analysis framework that lets us derive tight bounds for expected maximum load of randomized load balancers. We use this framework by means of an innovative application of classic balls and bins problem and bound probability that any bin gets too many balls. Using this result we obtain tight bounds on expected maximum load that apply for any topology. Experimental results show effectiveness of our framework. In particular we show that our framework can accurately predict performance of load balancing algorithms on diverse topologies including real internet topologies. Results from this study are very valuable because they shed light on performance of load balancing on arbitrary topologies and can guide system design and analysis relying on load balancing.\n"
     ]
    },
    {
     "name": "stderr",
     "output_type": "stream",
     "text": [
      "\r",
      "Paraphrasing texts:  46%|████▌     | 91/200 [10:52<14:57,  8.24s/it]"
     ]
    },
    {
     "name": "stdout",
     "output_type": "stream",
     "text": [
      "This paper studies diffusion based molecular communication using relaying between two nanomachines. Diffusion is considered a promising way for communications at very small scales where electromagnetic waves don't work well. In this study we consider relaying in which two nanomachines exchange information via diffusion of molecules in a medium. We model the medium as a compartmental system where each compartment represents distinct environments with different reaction rates. We develop a mathematical framework to model reaction rates within the medium and signal molecules and derive analytical expressions for bit error rate (BER) and capacity of the communication system. Using this proposed framework we investigate how reaction of medium affects system performance. Simulation results show that medium reaction has a big impact on BER and capacity and the framework allows us to optimize performance by tuning reaction rates. Results from this study may be helpful for designing and optimizing systems using diffusion communication especially when chemical reactions of medium matter.\n"
     ]
    },
    {
     "name": "stderr",
     "output_type": "stream",
     "text": [
      "\r",
      "Paraphrasing texts:  46%|████▌     | 92/200 [11:01<15:24,  8.56s/it]"
     ]
    },
    {
     "name": "stdout",
     "output_type": "stream",
     "text": [
      "We present here a new approach to infer correlated signals through free energy exploration. This method estimates the free energy landscape for a set of correlated signals and explores that landscape to find the most probable configuration of those signals. We base our method on assuming that free energy is an adequate approximation for system entropy and that exploration of this landscape leads to inferring underlying structures among correlated signals. To validate our approach we use different data sets both synthetic and real and we compare performances against other methods. Results show that free energy exploration outperforms previous approaches in many cases and infers structure effectively. Our approach has broad application in signal processing and machine learning including analysis of complex systems, inference of hidden variables and pattern discovery in high dimensions.\n"
     ]
    },
    {
     "name": "stderr",
     "output_type": "stream",
     "text": [
      "\r",
      "Paraphrasing texts:  46%|████▋     | 93/200 [11:09<14:45,  8.28s/it]"
     ]
    },
    {
     "name": "stdout",
     "output_type": "stream",
     "text": [
      "With increasing complexity of software systems, reliability and deployability are becoming critical issues. There has been emerging promise in using record and replay (R&R) approaches to improve system reliability by recording and reproducing execution traces in a controlled environment. However, existing methods face challenges related to scalability, precision and overhead. This technical report introduces an engineering approach for R&R that overcomes these limitations. First, it identifies critical requirements for engineering R&R systems such as support for multi tier systems, efficient collection and storage of data, and low overhead for recording and replay. Then we present our system architecture that uses virtualization and distributed tracing to achieve high scalability and precision. We also introduce new techniques to minimize overhead such as adaptive sampling and selective replay. Experiments conducted on real world applications have demonstrated effectiveness of our approach: our system captures and reproduces complex execution traces accurately and efficiently along with giving insight into system behavior under various conditions. Results also show that this system is useful for identifying and diagnosing performance and reliability problems. In summary, our engineering approach for R&R provides a practical way to improve deployability and reliability of software systems especially for large and complex ones. The system facilitates debugging and testing tasks by software engineers and developers; future research will integrate this R&R system into typical workflow and explore further applications in fields like security and compliance.\n"
     ]
    },
    {
     "name": "stderr",
     "output_type": "stream",
     "text": [
      "\r",
      "Paraphrasing texts:  47%|████▋     | 94/200 [11:23<17:30,  9.91s/it]"
     ]
    },
    {
     "name": "stdout",
     "output_type": "stream",
     "text": [
      "This paper studies effectiveness of two main methods to solve Vehicle Routing Problems: sequence optimization and set optimization. Sequence optimization means optimizing the order in which stops are made at various customers by each vehicle; set optimization means grouping customers into clusters that different vehicles will visit. Comparisons between these methods are made through conducting a series of computational tests using benchmark instances of VRP. Different problem sizes and configurations were tested using different combinations of methods, and performance is judged by quality of solutions, computation times and scalability. Results indicate that effectiveness of one method over another depends largely on specific features of the problem. For smaller and medium sized instances where demands among customers are similar, sequence optimization performs better; for larger and more complex ones with varied customer demands and multiple depot locations, set optimization excels. However, mixed methods combining both approaches are also effective for some cases. Overall findings provide insight into relative advantages and disadvantages of different methods for VRP and suggest useful guidelines for professionals and researchers in VRP selection.\n"
     ]
    },
    {
     "name": "stderr",
     "output_type": "stream",
     "text": [
      "\r",
      "Paraphrasing texts:  48%|████▊     | 95/200 [11:33<17:33, 10.03s/it]"
     ]
    },
    {
     "name": "stdout",
     "output_type": "stream",
     "text": [
      "This paper introduces a new way to answer questions about images by using dependency trees to combine information from both visuals and language. This new method uses graphs based on dependencies among words in the question and also incorporates features of the image. Through reasoning using these elements, the proposed technique performs better than top methods on benchmark tasks for visual question answering. Results show that this system also explains its results clearly by using visualizations of dependency trees. Overall this research points toward new ways to develop systems that are transparent and can communicate their decisions to humans.\n"
     ]
    },
    {
     "name": "stderr",
     "output_type": "stream",
     "text": [
      "\r",
      "Paraphrasing texts:  48%|████▊     | 96/200 [11:39<15:08,  8.73s/it]"
     ]
    },
    {
     "name": "stdout",
     "output_type": "stream",
     "text": [
      "This paper introduces a new detection method for MIMO multiple access channels that combines low complexity with full diversity gain. It exploits structural features of the channel matrix and uses iterative detection to achieve this. Performance is assessed via simulations comparing this proposed method against traditional detection methods using metrics like Bit Error Rate (BER) and computational load. Results show this new scheme achieves full diversity benefits along with better BER performance compared to current methods; meanwhile, its computational load remains very low. Proposed method has promise as an important solution for high speed communication systems which need low computational cost.\n"
     ]
    },
    {
     "name": "stderr",
     "output_type": "stream",
     "text": [
      "\r",
      "Paraphrasing texts:  48%|████▊     | 97/200 [11:45<13:36,  7.92s/it]"
     ]
    },
    {
     "name": "stdout",
     "output_type": "stream",
     "text": [
      "This paper looks at why people judge differently when it comes to errors called erasure and undetected errors in digital communication systems. It focuses specifically on why people perceive and appraise these different kinds of errors differently and what makes them do so. The paper starts by defining erasure and undetected errors and explains their importance in digital communication systems. Next, it reviews previous work about how people judge these errors and highlights that there is no consensus among researchers. Methodology includes experiments where people rate the severity of probabilities of erasures and undetected errors in a simulation of digital communication. Both quantitative measures (like severity ratings) and qualitative information (such as estimated probabilities and reasons for judgment) are collected from participants. Results show that people usually judge undetected errors more harshly and they think that they affect trust more strongly. Factors influencing this distinction include system design, users' experience, and personal differences regarding risk perception. Overall this paper deepens our understanding of how we judge errors in digital communication and offers guidance for designers and engineers to build better systems.\n"
     ]
    },
    {
     "name": "stderr",
     "output_type": "stream",
     "text": [
      "\r",
      "Paraphrasing texts:  49%|████▉     | 98/200 [11:56<15:04,  8.87s/it]"
     ]
    },
    {
     "name": "stdout",
     "output_type": "stream",
     "text": [
      "Expired domain names are referred to as the neglected side of the internet. This paper looks into the practice of taking over these domain names along with the related online resources. We investigate reasons and tactics used by those who take over these abandoned assets and the possible consequences for previous owners and the internet at large. Results from our research show that hijacking of such domains is becoming a growing concern; it poses a significant risk to internet stability and security. We end with suggestions for policymakers and registrars to deal with this issue and safeguard domain owner rights.\n"
     ]
    },
    {
     "name": "stderr",
     "output_type": "stream",
     "text": [
      "\r",
      "Paraphrasing texts:  50%|████▉     | 99/200 [12:02<13:24,  7.97s/it]"
     ]
    },
    {
     "name": "stdout",
     "output_type": "stream",
     "text": [
      "This paper introduces a new method for anomaly detection using multiple similarity criteria and Pareto depth analysis. It tackles shortcomings in current methods by looking at many criteria and examining scores of Pareto depth. Pareto depth measures how far away a data point is from other points that represent good tradeoffs among different attributes. Through Pareto depth analysis this new method finds anomalies that stand out significantly from those good tradeoffs and clarifies the tradeoffs among different attributes. Performance of this new method is evaluated on various real data sets and results show higher performance compared to leading methods. This approach works in diverse fields such as finance, healthcare, and cybersecurity and thus detection of anomalies is critical to system integrity and security. Results of this study contribute to anomaly detection research and this new method could be incorporated into practical applications.\n"
     ]
    },
    {
     "name": "stderr",
     "output_type": "stream",
     "text": [
      "\r",
      "Paraphrasing texts:  50%|█████     | 100/200 [12:10<13:30,  8.11s/it]"
     ]
    },
    {
     "name": "stdout",
     "output_type": "stream",
     "text": [
      "This paper introduces a deep reinforcement learning approach for joint optimization of spectrum and energy efficiency alongside security in C-V2X communication networks. Novel use of deep reinforcement learning is employed here to address complex optimization problems; resulting in high quality solutions which balance spectrum and energy efficiency and strengthen network security. Results from simulation experiments show the proposed method performs better than previous optimization approaches. Insights regarding joint optimization with security are also provided by this research.\n"
     ]
    },
    {
     "name": "stderr",
     "output_type": "stream",
     "text": [
      "\r",
      "Paraphrasing texts:  50%|█████     | 101/200 [12:15<11:40,  7.07s/it]"
     ]
    },
    {
     "name": "stdout",
     "output_type": "stream",
     "text": [
      "This paper introduces a model for classifying different kinds of vulnerabilities in smart contracts using an Attention based Bidirectional LSTM (AWDLSTM) network with an encoder based on natural language processing that has been pre trained. The aim here is to effectively identify various types of vulnerabilities so that decentralized applications can be secure and dependable. Using an encoder from natural language processing to extract features from smart contract code and using the AWDLSTM network for classification are employed by the model. Results of testing demonstrate that the proposed method surpasses previous approaches and offers a promising solution for classification of vulnerabilities in smart contracts.\n"
     ]
    },
    {
     "name": "stderr",
     "output_type": "stream",
     "text": [
      "\r",
      "Paraphrasing texts:  51%|█████     | 102/200 [12:21<11:09,  6.83s/it]"
     ]
    },
    {
     "name": "stdout",
     "output_type": "stream",
     "text": [
      "Adaptive motion planning is important for autonomous systems especially robots. We present a new approach to motion planning using artificial potentials and prior paths. This method combines an algorithm based on potentials with a previous path to overcome limitations of traditional potential fields such as local minima and slow convergence. Performance is compared using simulations and real robot experiments and this new approach shows better performance compared to traditional potential field approaches. Results show that using prior paths can improve performance of planning algorithms based on potentials and make them more fit for practical use.\n"
     ]
    },
    {
     "name": "stderr",
     "output_type": "stream",
     "text": [
      "\r",
      "Paraphrasing texts:  52%|█████▏    | 103/200 [12:26<10:22,  6.42s/it]"
     ]
    },
    {
     "name": "stdout",
     "output_type": "stream",
     "text": [
      "This paper reviews Ultra Reliable Low Latency Communications (URLLC) targeting critical applications of Massive Machine Type Communications (MMTC). It starts by introducing the basics of MMTC along with important demands like low latency and high reliability. Then it concentrates on how URLLC serves to satisfy very stringent demands of important MMTC tasks like autonomous driving and industrial automation. The authors discuss key features and design principles of URLLC including reliability and latency improvements, coding and modulation techniques, and network architecture. Challenges in deploying URLLC in MMTC systems are discussed and there is insight into future research directions in this field. Finally the authors summarize results and suggest future lines of research.\n"
     ]
    },
    {
     "name": "stderr",
     "output_type": "stream",
     "text": [
      "\r",
      "Paraphrasing texts:  52%|█████▏    | 104/200 [12:34<10:37,  6.64s/it]"
     ]
    },
    {
     "name": "stdout",
     "output_type": "stream",
     "text": [
      "This paper introduces a new approach to cooperative verification using collective generation of invariants. The method relies on the idea that many agents working together are able to produce mathematical descriptions of what the system should do. These invariants can be used to verify that the system functions correctly. Results show that this method performs better than previous approaches because it thoroughly explores system behavior and finds errors overlooked by other methods. Results from experiments show effectiveness across diverse practical examples and emphasize that this approach has broad applicability within verification domain.\n"
     ]
    },
    {
     "name": "stderr",
     "output_type": "stream",
     "text": [
      "\r",
      "Paraphrasing texts:  52%|█████▎    | 105/200 [12:39<09:55,  6.27s/it]"
     ]
    },
    {
     "name": "stdout",
     "output_type": "stream",
     "text": [
      "This study introduces a new approach to simultaneous localization and mapping using stereo cameras for outdoor construction sites where there are large moving things. Proposed here is an approach which uses hierarchical masking to ignore dynamic objects and improve precision. Masking occurs through different stages starting with a coarse mask and refining it further to get a better mask. Also introduced is a module that classifies object states to distinguish static objects and enhance robustness of masking. Effectiveness of this method is shown by extensive testing on real outdoor construction site scenarios; results show performance advantage over current top methods in terms of accuracy and robustness regarding big moving stuff.\n"
     ]
    },
    {
     "name": "stderr",
     "output_type": "stream",
     "text": [
      "\r",
      "Paraphrasing texts:  53%|█████▎    | 106/200 [12:45<09:54,  6.33s/it]"
     ]
    },
    {
     "name": "stdout",
     "output_type": "stream",
     "text": [
      "This paper looks at how \"different things work for different people\" applies to different kinds of dialogue tasks by investigating different pre training methods. They test effectiveness of these methods on various dialogue tasks and find that there is no best fit method that works equally well for everything. Different methods work better depending on what kind of task you have. Researchers conclude that careful consideration of specific task characteristics is necessary when selecting a method of pre training to get top performance.\n"
     ]
    },
    {
     "name": "stderr",
     "output_type": "stream",
     "text": [
      "\r",
      "Paraphrasing texts:  54%|█████▎    | 107/200 [12:50<09:07,  5.89s/it]"
     ]
    },
    {
     "name": "stdout",
     "output_type": "stream",
     "text": [
      "This paper introduces a Newton type method for switching system optimal control that exploits system structure to increase computational efficiency. Results compare favorably against other methods and show greater accuracy and faster convergence. Results indicate effectiveness of exploiting structure using Newton type method and suggest promising directions for future research into this problem.\n"
     ]
    },
    {
     "name": "stderr",
     "output_type": "stream",
     "text": [
      "\r",
      "Paraphrasing texts:  54%|█████▍    | 108/200 [12:54<07:50,  5.12s/it]"
     ]
    },
    {
     "name": "stdout",
     "output_type": "stream",
     "text": [
      "This paper explores connections among Artin automorphisms, cyclotomic function fields and folded list decodable codes. Artin automorphisms are important algebraic functions central to number theory and algebraic geometry; cyclotomic function fields are algebraic extensions of rationals obtained by adding roots of unity. Also, folded list decodable codes are special kinds of error correcting codes with desirable properties and they are extensively used in communication engineering. We show how one can use Artin automorphisms on cyclotomic function fields to produce codes that outperform previous approaches. Results indicate that better understanding of these automorphisms could lead to new advances for code design. Our work has practical implications in cryptography, communication engineering and computer science. Numerical simulations support results and point to advantages of the approach. This study paves new ways for future research and makes an important contribution to number theory, algebraic geometry and coding theory.\n"
     ]
    },
    {
     "name": "stderr",
     "output_type": "stream",
     "text": [
      "\r",
      "Paraphrasing texts:  55%|█████▍    | 109/200 [13:03<09:46,  6.45s/it]"
     ]
    },
    {
     "name": "stdout",
     "output_type": "stream",
     "text": [
      "This paper looks into how important traceability is for neuroimaging analysis and offers a way to ensure high quality results. With increasing complexity and diversity in imaging data, there are many difficulties for researchers like potential mistakes and inconsistency in data handling and analysis. The study asserts that having a traceable and transparent process is key to maintain integrity and reliability of results and describes an integrated approach towards achieving that. This approach integrates tools and best practices from software engineering and data management with emphasis on automation, version control and metadata tracking. Detailed evaluation is also given of this solution along with advantages such as higher efficiency, lower error risk and better collaboration sharing results. Results of this work have significant implications for neuroimaging community and support broader efforts to enhance reliability and transparency of research.\n"
     ]
    },
    {
     "name": "stderr",
     "output_type": "stream",
     "text": [
      "\r",
      "Paraphrasing texts:  55%|█████▌    | 110/200 [13:11<10:22,  6.92s/it]"
     ]
    },
    {
     "name": "stdout",
     "output_type": "stream",
     "text": [
      "This paper studies ways to resolve privacy conflicts among different users in social media. Because these platforms collect large amounts of personal information from millions of users and are therefore targets for privacy violations, there is now a strong need for good methods to handle conflicts between different parties. The research introduces a framework for handling privacy conflicts which considers privacy preferences of people involved. It integrates ideas from game theory, computational social choice and privacy enhancing technology to find a common solution. Experimental evaluations show that this proposed framework works well and can resolve conflicts realistically within a typical social media environment. Results from this research will help build privacy preserving social media sites and give useful guidance to practitioners and policymakers.\n"
     ]
    },
    {
     "name": "stderr",
     "output_type": "stream",
     "text": [
      "\r",
      "Paraphrasing texts:  56%|█████▌    | 111/200 [13:18<10:17,  6.94s/it]"
     ]
    },
    {
     "name": "stdout",
     "output_type": "stream",
     "text": [
      "Learning and inference of relations within cortical networks is critical for understanding brain functioning. This paper presents a novel computational framework that models this process using deep learning theory. The framework uses artificial neural networks to study large datasets of sensory input and associated output targets. Through training on this dataset the framework learns the relationship between inputs and outputs. Results show that this new framework can reliably infer underlying relationships within cortical networks and opens new avenues for further investigation into brain function. Results also have significant implications for developing new AI systems and advancing knowledge about brain functions.\n"
     ]
    },
    {
     "name": "stderr",
     "output_type": "stream",
     "text": [
      "\r",
      "Paraphrasing texts:  56%|█████▌    | 112/200 [13:24<09:38,  6.58s/it]"
     ]
    },
    {
     "name": "stdout",
     "output_type": "stream",
     "text": [
      "This paper looks into the use of new words and phrases on Facebook. It collected lots of data from posts and comments for analysis and identified the most frequent ones along with their usage patterns. Results show that on Facebook such terms are mainly used to convey emotion and to be funny and to express feeling of belonging. Findings also indicate that young people use these new terms more frequently and that they spread quickly because of high connectivity. This study brings light to the role of social media in shaping language and underscores importance of tracking development of new terms in this context.\n"
     ]
    },
    {
     "name": "stderr",
     "output_type": "stream",
     "text": [
      "\r",
      "Paraphrasing texts:  56%|█████▋    | 113/200 [13:30<09:14,  6.38s/it]"
     ]
    },
    {
     "name": "stdout",
     "output_type": "stream",
     "text": [
      "This paper introduces an algorithm that performs well on large networks by exploiting parallel processing capabilities of modern computers. It targets nodes with very high degree, which are problematic when using traditional methods to count triangles. The authors designed their method so that it scales up and processes big data quickly. Experimental results show the proposed method runs faster and better than other methods at triangle counting. Results show effectiveness of parallel processing and open new avenues for designing efficient algorithms for graph analysis.\n"
     ]
    },
    {
     "name": "stderr",
     "output_type": "stream",
     "text": [
      "\r",
      "Paraphrasing texts:  57%|█████▋    | 114/200 [13:35<08:30,  5.94s/it]"
     ]
    },
    {
     "name": "stdout",
     "output_type": "stream",
     "text": [
      "This paper introduces a new method for understanding causal structures via a semantic framework based on category theory. Category theory is a mathematical discipline used here to define relationships among variables and effects resulting from changes in these variables. The core contribution of this paper is the introduction of a categorical causal model that enables reasoning about causal relations among variables concisely and intuitively. The authors provide various case studies to show how useful this categorical causal model is across diverse fields such as physics, biology and social sciences. Results show that using the semantic framework based on category theory is an effective way to formalize and reason clearly and consistently about causal relationships.\n"
     ]
    },
    {
     "name": "stderr",
     "output_type": "stream",
     "text": [
      "\r",
      "Paraphrasing texts:  57%|█████▊    | 115/200 [13:41<08:41,  6.14s/it]"
     ]
    },
    {
     "name": "stdout",
     "output_type": "stream",
     "text": [
      "This paper looks at scaling up acid transactions by partitioning operations. Acid refers to atomicity, consistency, isolation and durability which are essential for transaction security and reliability. As databases grow larger and more complex, it becomes hard to maintain these qualities. This paper suggests using operation partitioning as a method to scale up acid transactions and thus improving performance and reliability. Methodology involves implementation of partitioning in a real application and evaluation of results for different metrics. Results show that partitioning operations is promising; it increases performance and reliability while maintaining fundamental Acid features.\n"
     ]
    },
    {
     "name": "stderr",
     "output_type": "stream",
     "text": [
      "\r",
      "Paraphrasing texts:  58%|█████▊    | 116/200 [13:47<08:30,  6.07s/it]"
     ]
    },
    {
     "name": "stdout",
     "output_type": "stream",
     "text": [
      "This paper introduces a new way to manage congestion in networks using Remote Direct Memory Access (RDMA). Called Dart, this method splits the network into smaller subnets and assigns each subnet to deal with different kinds of traffic. Dart reacts quickly to congestion and reduces latency for important applications. Results show Dart performs better than leading methods at both throughput and fairness; it also maintains low latency for real time apps. Results indicate Dart is promising as a solution for managing congestion in RDMA data center networks.\n"
     ]
    },
    {
     "name": "stderr",
     "output_type": "stream",
     "text": [
      "\r",
      "Paraphrasing texts:  58%|█████▊    | 117/200 [13:53<08:06,  5.86s/it]"
     ]
    },
    {
     "name": "stdout",
     "output_type": "stream",
     "text": [
      "This paper introduces an innovative approach for both classification and semantic segmentation using structured networks which use only binary weights and activations. Compared to networks with floating point weights and activations, this new method reduces memory and computational load and maintains high accuracy. Results show that this specific structure improves classification performance. This work also extends this approach to segmentation tasks and demonstrates great improvements over current methods. Experiments conducted on benchmark datasets validate effectiveness of this new method. Overall, this structured binary neural network offers a promising way to achieve accurate classification and segmentation at low computational cost.\n"
     ]
    },
    {
     "name": "stderr",
     "output_type": "stream",
     "text": [
      "\r",
      "Paraphrasing texts:  59%|█████▉    | 118/200 [13:59<08:00,  5.86s/it]"
     ]
    },
    {
     "name": "stdout",
     "output_type": "stream",
     "text": [
      "This paper introduces a new approach to Bayesian optimization for combinatorics which uses the Cartesian product of graphs to solve challenges related to high dimensional spaces, discrete elements and lack of separability. We show that our method excels at navigating through the search space and outperforms other methods on a broad set of benchmark problems. In addition, scalability to big data sets is demonstrated and thus the method is applicable to many different real world domains. Results of this work are important contributions to the growing community of Bayesian optimization and have broader relevance to diverse optimization tasks in machine learning and elsewhere.\n"
     ]
    },
    {
     "name": "stderr",
     "output_type": "stream",
     "text": [
      "\r",
      "Paraphrasing texts:  60%|█████▉    | 119/200 [14:05<08:02,  5.95s/it]"
     ]
    },
    {
     "name": "stdout",
     "output_type": "stream",
     "text": [
      "This paper looks at how to select an energy plan in markets where consumers have retail choice. Authors introduce two competitive algorithms for consumers to decide whether to continue with their current plan or to switch to a different one. One algorithm called \"Stay or Switch\" uses history of energy use and costs to find best strategy. The other called \"Adaptive Stay or Switch\" learns from changes in the market and adjusts plan selection. Performance of these algorithms is evaluated via simulations using real market data; results show both perform better than others and save consumers money.\n"
     ]
    },
    {
     "name": "stderr",
     "output_type": "stream",
     "text": [
      "\r",
      "Paraphrasing texts:  60%|██████    | 120/200 [14:11<07:53,  5.92s/it]"
     ]
    },
    {
     "name": "stdout",
     "output_type": "stream",
     "text": [
      "Heuristics for iterative optimization (IOHs) are a class of algorithms widely employed to deal with complex issues across different domains. Performance and scalability are key to IOH success; therefore benchmarking and profiling are important means for assessing and enhancing performance. We introduce here iohprofiler as a new benchmark and profiling tool specifically designed to meet demands of this algorithm class. iohprofiler supplies a broad range of benchmark problems, performance measures and profiling tools to facilitate researchers and practitioners to assess and enhance performance and scalability of IOHs. The paper introduces the design and implementation of iohprofiler and reports experimental results showing effectiveness at benchmarking and profiling different IOHs. Results show advantages of using iohprofiler for performance evaluation and improvement and thus it becomes very useful for researchers and practitioners working on this field.\n"
     ]
    },
    {
     "name": "stderr",
     "output_type": "stream",
     "text": [
      "\r",
      "Paraphrasing texts:  60%|██████    | 121/200 [14:19<08:54,  6.77s/it]"
     ]
    },
    {
     "name": "stdout",
     "output_type": "stream",
     "text": [
      "This paper studies how groups evolve during running races. We use data from different races to look at changes in group size and composition through time and at what causes groups to be formed and dissolved. We find that groups typically form quickly at the start of a race; they are shaped by pacing strategies, social interactions and environmental conditions. We also see that groups disintegrate as a race continues and runners adopt independent paces. Results indicate important dynamics among group behaviors in long events and suggest implications for designing course layouts and training plans.\n"
     ]
    },
    {
     "name": "stderr",
     "output_type": "stream",
     "text": [
      "\r",
      "Paraphrasing texts:  61%|██████    | 122/200 [14:25<08:21,  6.43s/it]"
     ]
    },
    {
     "name": "stdout",
     "output_type": "stream",
     "text": [
      "This study introduces a new method for classifying artists based on music using Convolutional Recurrent Neural Networks (CRNNs). The system extracts features both temporally and spectrally directly from raw audio signals. This allows capturing fine short and long term patterns in the audio data. Performance is evaluated against large datasets and compared to leading methods; results indicate that the proposed model using CRNNs performs very well in terms of accuracy and speed. Results also show great promise for applying deep learning for artist classification tasks.\n"
     ]
    },
    {
     "name": "stderr",
     "output_type": "stream",
     "text": [
      "\r",
      "Paraphrasing texts:  62%|██████▏   | 123/200 [14:31<07:55,  6.17s/it]"
     ]
    },
    {
     "name": "stdout",
     "output_type": "stream",
     "text": [
      "This paper investigates how common and what roles heterogeneous motifs play within complex systems. Motifs are specific connections among system components, and they have been widely studied in homogeneous motifs in which all components have the same function. But most real world networks are heterogeneous; nodes have diverse functions and characteristics. Here we introduce a method for finding heterogeneous motifs and study their prevalence in diverse real systems such as biology, society and technology. Analysis shows that heterogeneous motifs appear much more frequently than homogeneous ones in many systems. They are crucial for processing and regulating information. We also find that many motifs are related to modular organization, propagation of signals and feedback loops. We also show that the same motifs appear in many systems suggesting that they are fundamental building blocks of complex networks. Results have major implications for designing and understanding complex systems. Considering the function of heterogeneous motifs leads to insight into mechanisms that underlie system behavior and developing better strategies for manipulation and control of systems. Moreover this method for finding motifs works on a broad range of networks thereby enhancing understanding of the intricate connection between structure and function in complex systems.\n"
     ]
    },
    {
     "name": "stderr",
     "output_type": "stream",
     "text": [
      "\r",
      "Paraphrasing texts:  62%|██████▏   | 124/200 [14:42<09:39,  7.62s/it]"
     ]
    },
    {
     "name": "stdout",
     "output_type": "stream",
     "text": [
      "This paper introduces a new approach to bidirectional updates on detailed medical records through blockchain technology. Typical ways of updating medical information are slow, prone to errors and not transparent. This new method aims to overcome these shortcomings by making use of security and immutability attributes of blockchain to enable fast and transparent updates of medical data. The system architecture includes a blockchain network, smart contract and user interface. Smart contracts define rules for updating medical information including conditions for granting access and types of updates permitted. User interface makes interaction between patients and providers easy and comfortable. Privacy is ensured through fine granular access control allowing patients to grant varying levels of access depending on provider roles and responsibilities. Encryption and decryption are also used to protect sensitive data. Performance and security were evaluated by implementing a prototype and conducting experiments. Results show high efficiency and scalability with ability to process many transactions per second. Security is strong and immutability prevents tampering. Concluding remarks state this blockchain system offers a new solution for efficient and transparent updates of medical records and is suitable for practical use due to its security and performance characteristics.\n"
     ]
    },
    {
     "name": "stderr",
     "output_type": "stream",
     "text": [
      "\r",
      "Paraphrasing texts:  62%|██████▎   | 125/200 [14:53<10:51,  8.69s/it]"
     ]
    },
    {
     "name": "stdout",
     "output_type": "stream",
     "text": [
      "This paper investigates how to use machine learning algorithms to forecast congestion related to routing in High Level Synthesis of FPGAs. Congestion issues are major impediments in FPGA design and can result in delays and higher costs. Accurately predicting congestion is important for optimizing design parameters and ensuring timely product delivery. We propose a methodology that integrates machine learning models like decision trees and random forests with traditional congestion prediction metrics. We also study how different feature extraction techniques and learning algorithms affect the accuracy of congestion prediction. Experimental results indicate that this approach performs well and surpasses traditional congestion forecasting methods. Results show that techniques like Principal Component Analysis (PCA) and Independent Component Analysis (ICA) significantly enhance performance. Results show this research offers an efficient way to forecast congestion during synthesis; this approach optimizes design parameters and reduces iteration counts, which ultimately reduces development costs and speeds up delivery time. This approach also opens the door for further application in optimization problems specific to FPGA design. This research shows the importance of incorporating machine learning into FPGA design.\n"
     ]
    },
    {
     "name": "stderr",
     "output_type": "stream",
     "text": [
      "\r",
      "Paraphrasing texts:  63%|██████▎   | 126/200 [15:03<11:24,  9.25s/it]"
     ]
    },
    {
     "name": "stdout",
     "output_type": "stream",
     "text": [
      "A concept from game theory called far sighted collusion occurs when multiple players act together to achieve a common goal and sometimes sacrifice short term benefits for long term gains. This idea has been explored in different fields such as economics and psychology and recently also in computer science. In this paper we look at the stable marriage problem from an algorithmic and discrete math point of view. This problem deals with pairing two sets of elements so there are no pairs that would prefer each other over what they are matched with. We study when collusion among players of this problem can be beneficial and show that such collusion can yield more stable solutions. Results from our work shed new light on how far sighted behavior plays a role in matching problems and have significant implications for designing algorithms and mechanisms for practical solutions to the stable marriage problem.\n"
     ]
    },
    {
     "name": "stderr",
     "output_type": "stream",
     "text": [
      "\r",
      "Paraphrasing texts:  64%|██████▎   | 127/200 [15:12<10:54,  8.96s/it]"
     ]
    },
    {
     "name": "stdout",
     "output_type": "stream",
     "text": [
      "This paper looks at how political discussions on Twitter have changed from 2014 to 2019. Using data from Twitter we look at trends in political discussions and identify key shifts. Results show that Twitter is becoming more important for political talk as more people are joining these conversations. We also find that political discussions on Twitter have become more divided among participants and have grown more confrontational. Results suggest this reflects larger changes in politics where more people use social media to express views and get involved politically. Research shows we need to keep an eye on changes in political discussions online and continue studying what these changes mean for discourse and democracy.\n"
     ]
    },
    {
     "name": "stderr",
     "output_type": "stream",
     "text": [
      "\r",
      "Paraphrasing texts:  64%|██████▍   | 128/200 [15:18<09:58,  8.31s/it]"
     ]
    },
    {
     "name": "stdout",
     "output_type": "stream",
     "text": [
      "This research develops new algorithms for solving multi objective optimization problems using decomposition methods. It introduces two different designs of algorithms using different frameworks. One focuses on developing an MOEA based on decomposition techniques; these techniques convert a complex problem into simpler ones. The other framework integrates decomposition methods into existing MOEAs to enhance them. Algorithms are tested against a set of benchmark problems and compared with top performing MOEAs. Results indicate they converge and spread better and produce good sets of diverse solutions. This work gives important guidance on MOEA design and shows effectiveness of MOEAs using decomposition methods.\n"
     ]
    },
    {
     "name": "stderr",
     "output_type": "stream",
     "text": [
      "\r",
      "Paraphrasing texts:  64%|██████▍   | 129/200 [15:25<09:04,  7.67s/it]"
     ]
    },
    {
     "name": "stdout",
     "output_type": "stream",
     "text": [
      "This paper introduces a new heterogeneous graph embedding framework named MTHetGNN for forecasting multivariate time series. By integrating strengths of Graph Neural Networks (GNN) and Attention Mechanisms (AM), this framework models intricate interrelationships among multiple time series along with their dependencies. This framework uses a heterogeneous graph to represent relationships between different types of time series and applies graph convolutional neural networks (GCN) to learn node representations within the graph. Attention mechanism is used to capture significance of each node during forecasting. Performance of this framework is evaluated on different tasks and compared favorably against leading methods; results indicate superior performance in both accuracy and computational efficiency. Results show that this research offers new approaches to tackle challenges in forecasting multivariate time series and suggests promising application domains including finance, energy and transportation.\n"
     ]
    },
    {
     "name": "stderr",
     "output_type": "stream",
     "text": [
      "\r",
      "Paraphrasing texts:  65%|██████▌   | 130/200 [15:33<09:10,  7.86s/it]"
     ]
    },
    {
     "name": "stdout",
     "output_type": "stream",
     "text": [
      "This paper introduces a new way to derive theorems in linear logic that uses a declarative approach. Linear logic is a kind of logic very useful for studying computation because it handles resource usage naturally. However, deriving theorems from linear logic poses a challenge to those unfamiliar with its rules and strategies. In order to address this difficulty, authors suggest an approach to deriving theorems that relies on a high level algebraic representation of proofs. The main idea behind their method is to use rewrite rules capturing core structural elements of proofs and systematically applying them in an automated fashion until a theorem is obtained. Results indicate that this method works well and efficiently for deriving theorems in implication logic and also suggests its applicability to other logics and related tasks.\n"
     ]
    },
    {
     "name": "stderr",
     "output_type": "stream",
     "text": [
      "\r",
      "Paraphrasing texts:  66%|██████▌   | 131/200 [15:41<09:03,  7.87s/it]"
     ]
    },
    {
     "name": "stdout",
     "output_type": "stream",
     "text": [
      "Temporal pattern mining is important across finance, health care, and engineering because they generate lots of time series data regularly. Conventional methods tend to be slow and expensive for dealing with big data. Mutual information has been widely used to measure dependency among variables and has been successful at reducing data dimensionality. This paper introduces an efficient way to mine temporal patterns from large data sets by utilizing mutual information. The method involves three steps: preprocessing data, feature selection based on mutual information and mining temporal patterns. Preprocessing removes irrelevant data and normalizes the data. Feature selection selects important features by using mutual information. Finally, prefix span algorithm is modified to extract frequent temporal patterns from selected features. Results show effectiveness on different real datasets and compare favorably against leading methods. Compared to other methods, our method performs better in terms of both speed and accuracy and deals well with high dimensional data. This new method can be used broadly for diverse applications such as finance, health and engineering to quickly extract valuable patterns from large time series data.\n"
     ]
    },
    {
     "name": "stderr",
     "output_type": "stream",
     "text": [
      "\r",
      "Paraphrasing texts:  66%|██████▌   | 132/200 [15:51<09:48,  8.66s/it]"
     ]
    },
    {
     "name": "stdout",
     "output_type": "stream",
     "text": [
      "This paper is about fair division issues under heterogenous matroids that appear in diverse allocation scenarios where different resources have different properties and priority levels. We develop a new algorithmic framework that ensures both fairness and efficiency by making use of structural features of matroids and the idea of envy freedom up to one item (EF1). Our approach builds upon existing research on matroid intersections and partitions and is suitable for many agents and indivisible goods. We also conduct a theoretical analysis of the algorithm showing that it attains a constant approximation ratio for social welfare and EF1 envy freedom. Empirical results using synthetic and real data show practical effectiveness of this proposal surpassing current leading algorithms on both objective and evaluation by human subjects. Overall we contribute to literature on fair mechanisms allocation and provide an important tool for dealing with complicated constraints in practice.\n"
     ]
    },
    {
     "name": "stderr",
     "output_type": "stream",
     "text": [
      "\r",
      "Paraphrasing texts:  66%|██████▋   | 133/200 [16:00<09:38,  8.64s/it]"
     ]
    },
    {
     "name": "stdout",
     "output_type": "stream",
     "text": [
      "This paper introduces an approach based on deep learning for detecting attacks like DDoS and DoS in IoT networks. Using residual networks (ResNet) as a core component, the method learns features from traffic data and distinguishes between normal behavior and attacks. A large dataset containing various attack types and normal traffic is used to train the ResNet model. Results show that using this model leads to high accuracy for detection and outperforms baselines. Results also show the approach is effective against zero days; these are new types of attacks that avoid detection via signatures. Additionally, the false positive rate is very low which prevents unnecessary disruptions due to false alarms. Results show overall effectiveness of deep learning approaches for detecting attacks in IoT networks and emphasize usefulness of ResNets.\n"
     ]
    },
    {
     "name": "stderr",
     "output_type": "stream",
     "text": [
      "\r",
      "Paraphrasing texts:  67%|██████▋   | 134/200 [16:08<09:16,  8.44s/it]"
     ]
    },
    {
     "name": "stdout",
     "output_type": "stream",
     "text": [
      "As there is growing need for fast internet access and robust mobile network coverage, drones with built-in cell stations are emerging as promising solutions to boost network coverage in remote and disaster zones. But managing handovers, i.e., transferring user connections to new stations, is difficult because these drones move quickly and have small coverage. This paper introduces a strategy for managing handovers for stations mounted on drones. Our strategy minimizes latency and ensures smooth connections for multiple users when such station moves. It uses an active rather than passive approach where the station initiates the handover before losing user contact. We also consider the position and speed of the station and quality of communication links between user and station. Performance of the proposed method was evaluated through simulations of a realistic urban environment. Results showed that latency was reduced by up to 50% compared to traditional reactive approaches. Throughput also improved and failure rates decreased. Overall, our research shows that this strategy works well and enhances service quality and connectivity for users in low network coverage regions. Future work might integrate this strategy with other methods and assess its efficacy under various deployment conditions.\n"
     ]
    },
    {
     "name": "stderr",
     "output_type": "stream",
     "text": [
      "\r",
      "Paraphrasing texts:  68%|██████▊   | 135/200 [16:19<10:05,  9.32s/it]"
     ]
    },
    {
     "name": "stdout",
     "output_type": "stream",
     "text": [
      "DeepCert introduces a new way of checking how well neural networks recognize images under realistic conditions. The goal is to ensure that these networks perform reliably in practice, handling images that might have been corrupted, partially covered or changed from what they were trained on. Using a blend of formal verification and learning, DeepCert provides probabilistic guarantees regarding robustness for specific classifiers with respect to certain transformation sets. Results show this approach performs much better compared to previous work when verifying robustness. Results also suggest DeepCert is viable for increasing confidence and trust in classification systems used practically.\n"
     ]
    },
    {
     "name": "stderr",
     "output_type": "stream",
     "text": [
      "\r",
      "Paraphrasing texts:  68%|██████▊   | 136/200 [16:25<08:52,  8.33s/it]"
     ]
    },
    {
     "name": "stdout",
     "output_type": "stream",
     "text": [
      "This paper introduces a new method for efficient and scalable training of models that handle multiple languages and tasks together. Recent research has shown these models to be very useful in NLP because they can process different languages simultaneously. However, training them can take a long time and consume a lot of computing resources, thus making them impractical. To counter this limitation, this new method makes use of distributed training across multiple nodes along with adaptive optimization techniques to decrease time needed for training and lower memory use. Task awareness through gradient accumulation is introduced as a new technique where resources are better balanced among different tasks during training. Furthermore, an adaptive optimizer is used that modifies learning rate and momentum values according to task characteristics dynamically. Results using a large dataset show high performance on various tasks including language modeling, translation, and POS tagging. Our method reduces training times and memory use substantially and promises a way forward for scaling up and improving efficiency of multitask models that handle multiple languages. Implications for real world NLP work are very promising.\n"
     ]
    },
    {
     "name": "stderr",
     "output_type": "stream",
     "text": [
      "\r",
      "Paraphrasing texts:  68%|██████▊   | 137/200 [16:36<09:23,  8.95s/it]"
     ]
    },
    {
     "name": "stdout",
     "output_type": "stream",
     "text": [
      "This paper introduces a new deep learning model for traffic forecasting called CDGNet. CDGNet is based on dynamic graphs and incorporates both spatial and temporal relationships into traffic data. Specifically, CDGNet uses a dynamic graph convolutional neural network to recognize correlations among different regions within traffic networks and uses a recurrent neural network with an attention mechanism for time pattern recognition. Performance of CDGNet was evaluated using real data and compared against leading models. Results show CDGNet excels in both short term and long term accuracy of traffic forecasting. CDGNet successfully captures complex spatio temporal relationships and generates high performance forecasts efficiently. Overall, this study offers promising approaches to traffic forecasting with broad implications such as improved management of traffic, urban planning and intelligent transportation systems. Contributions include the advancement of smart and efficient transportation systems which mitigate congestion, enhance safety and raise quality of life in cities.\n"
     ]
    },
    {
     "name": "stderr",
     "output_type": "stream",
     "text": [
      "\r",
      "Paraphrasing texts:  69%|██████▉   | 138/200 [16:45<09:17,  9.00s/it]"
     ]
    },
    {
     "name": "stdout",
     "output_type": "stream",
     "text": [
      "This paper looks at how to create a Critical Geometric Graph (CGG) via a distributed method in dense Wireless Sensor Networks (WSNs). CGG is important in WSNs and useful for many applications because it describes relationships among sensors. But making CGG in dense networks is difficult because there are lots of sensors and they can communicate only short distances. Therefore, we propose a new distributed algorithm that uses properties of Delaunay triangulation and Gabriel graph. This algorithm iterates and has three major phases: selecting nodes, local construction and global synchronization. Each node selects candidates neighbors based on triangulation in selecting phase. Local construction phase lets each node use selected neighbors and build local subgraphs with Gabriel graph. Finally in synchronization phase, local graphs are merged into final CGG. Results show that the proposed algorithm makes accurate and efficient CGG even in dense networks. Performance comparison also shows it is faster and uses less power. Overall, this distributed algorithm provides a good way to make CGG in dense WSNs, which is important for tasks such as localization, routing and coverage control.\n"
     ]
    },
    {
     "name": "stderr",
     "output_type": "stream",
     "text": [
      "\r",
      "Paraphrasing texts:  70%|██████▉   | 139/200 [16:56<09:53,  9.73s/it]"
     ]
    },
    {
     "name": "stdout",
     "output_type": "stream",
     "text": [
      "Today communications are everywhere. Social media, instant messaging apps, and online forums have become widespread; they produce huge amounts of conversational data daily. Observing and analyzing conversations among people has become a useful tool to understand and forecast behavior in these networks. But with larger and larger networks, new methods are needed to analyze conversation data. This paper introduces a framework for representing conversations designed for scalability. It uses graph structure of communication networks to make a compact representation of data that can be quickly processed. We use clustering and sequence modeling to discover topics in conversations and represent them as sequences of topic vectors. This representation reduces data dimensionality and makes overhear algorithms more efficient. We test our framework on a large dataset of forum conversations and compare its performance against baselines. Results show better accuracy and efficiency. Scalability is demonstrated through various size datasets containing millions of messages. Overall, our framework offers a new way to represent conversations for scalability. By exploiting network structure and lowering data dimensionality, our approach allows for more efficient large network analysis.\n"
     ]
    },
    {
     "name": "stderr",
     "output_type": "stream",
     "text": [
      "\r",
      "Paraphrasing texts:  70%|███████   | 140/200 [17:07<09:58,  9.98s/it]"
     ]
    },
    {
     "name": "stdout",
     "output_type": "stream",
     "text": [
      "This paper studies random caching and cooperative transmission together in networks with different characteristics. Authors suggest a new method for better wireless data transmission using caching at intermediary nodes. This approach merges advantages of cooperation and caching and results in better performance and lower latency. Authors perform detailed simulation and evaluation to show effectiveness of their suggestion. Results indicate significant improvement in network performance, specifically in terms of throughput and energy efficiency over traditional methods. Results also show how various factors like number of caches and cache size impact performance. Results are valuable for designing future networks. In summary this paper offers promising solutions for enhancing network performance through integration of caching and cooperative transmission. Results of this research are important for network design and can serve as a basis for developing new technology.\n"
     ]
    },
    {
     "name": "stderr",
     "output_type": "stream",
     "text": [
      "\r",
      "Paraphrasing texts:  70%|███████   | 141/200 [17:14<09:05,  9.25s/it]"
     ]
    },
    {
     "name": "stdout",
     "output_type": "stream",
     "text": [
      "This paper introduces a fast simulation technique that predicts temperature changes along overhead power lines. This method uses analytical solutions for heat transfer coupled with numerical weather predictions (NWP) to simulate temperature distributions along these lines very accurately. Proposed simulation method is efficient enough to work well in real time for monitoring and control of lines. Results of a demonstration case show that method works effectively at different weather conditions and clearly demonstrates that this new simulation method has great promise for enhancing reliability and efficiency of operation for overhead power lines.\n"
     ]
    },
    {
     "name": "stderr",
     "output_type": "stream",
     "text": [
      "\r",
      "Paraphrasing texts:  71%|███████   | 142/200 [17:20<07:49,  8.10s/it]"
     ]
    },
    {
     "name": "stdout",
     "output_type": "stream",
     "text": [
      "This paper introduces a new method of Bayesian optimization which takes advantage of specific domain knowledge for optimizing performance of the ATRIAS biped, a bipedal robot. Bayesian optimization is an effective tool for finding solutions for difficult problems, but it can perform even better when we take into account relevant background information. In this study, we use Bayesian optimization using prior beliefs about parameters affecting performance of ATRIAS. These prior beliefs are used as priors in the optimization algorithm. Results of simulation experiments show that this new method requires fewer function evaluations than others to find optimal solutions. This method also reveals important aspects of how the ATRIAS biped behaves by identifying key parameters and their interactions. Results indicate that integrating domain knowledge improves optimization efficiency and deeper understanding of considered systems. This research advances the literature on Bayesian optimization and shows promise for optimizing complex systems such as bipeds. It also emphasizes importance of incorporating domain knowledge to enhance performance of optimization algorithms.\n"
     ]
    },
    {
     "name": "stderr",
     "output_type": "stream",
     "text": [
      "\r",
      "Paraphrasing texts:  72%|███████▏  | 143/200 [17:29<08:10,  8.61s/it]"
     ]
    },
    {
     "name": "stdout",
     "output_type": "stream",
     "text": [
      "This paper investigates coordination policies for robotic swarms. These swarms consist of a large number of simple robots that can cooperate to do complicated things. But it's hard to coordinate them because they're complicated systems and there's no central controller. We suggest using reinforcement learning here. Using this approach we use a central critic and decentralized agents to learn coordination policies. The critic looks at overall swarm state and gives feedback to the agents who then act locally based on observation of local environment. Critic feedback updates actor policies to gradually learn coordination among swarming robots. Performance on benchmarks such as formation control and avoidance of obstacles and cooperation transport is evaluated. Results show that this method learns coordination well; performing high performance and generalizing to new environments too. Overall this work shows promise for reinforcement learning of coordination policies for swarms and establishes a basis for further research. Coordination through this method could result in advanced and efficient swarms that can handle various environments effectively.\n"
     ]
    },
    {
     "name": "stderr",
     "output_type": "stream",
     "text": [
      "\r",
      "Paraphrasing texts:  72%|███████▏  | 144/200 [17:39<08:22,  8.97s/it]"
     ]
    },
    {
     "name": "stdout",
     "output_type": "stream",
     "text": [
      "This paper introduces Serket which is a new architecture for linking stochastic models into large cognitive systems. The architecture relies on modularity and enables integration of different models into one system. Using strength of stochastic models such as handling uncertainty and making probabilistic predictions while also dealing with their drawbacks like difficulty of integrating diverse models, Serket is evaluated on various tasks including language understanding and generation, decision making and perception. Results show that performance of Serket surpasses previous work concerning accuracy, scalability and interpretability. At the conclusion, this paper discusses implications for further development of advanced cognitive systems and potential applications such as AI and robotics.\n"
     ]
    },
    {
     "name": "stderr",
     "output_type": "stream",
     "text": [
      "\r",
      "Paraphrasing texts:  72%|███████▎  | 145/200 [17:46<07:33,  8.24s/it]"
     ]
    },
    {
     "name": "stdout",
     "output_type": "stream",
     "text": [
      "This paper investigates ethical issues concerning actuarial risk assessment and intervention methods to reduce forecasted negative results. Traditionally, actuaries assess risks using predictive algorithms to determine which people are at high risk for bad results and then distribute resources accordingly. But there are ethical concerns over discrimination and disparate treatment through this method. The paper contends that reframing this debate to intervene rather than predict results leads to more ethical and fair practice for risk assessment. Interventions should aim to fix underlying causes of risk and increase good results instead of just reducing foreseen bad results. In conclusion, consideration of ethics is important for actuarial risk assessment and dialogue is necessary about proper use of interventions.\n"
     ]
    },
    {
     "name": "stderr",
     "output_type": "stream",
     "text": [
      "\r",
      "Paraphrasing texts:  73%|███████▎  | 146/200 [17:53<07:09,  7.95s/it]"
     ]
    },
    {
     "name": "stdout",
     "output_type": "stream",
     "text": [
      "This study introduces a framework for enhancing lexical semantic resources using distributional semantics. We aim to overcome the shortcomings of traditional lexical resources like WordNet and Ontology by incorporating statistical information extracted from large corpora of text. This framework consists of three main parts: data acquisition, feature extraction, and semantic enhancement. Data acquisition retrieves a vast amount of text from diverse sources such as forums, news, and social media. Feature extraction uses algorithms such as word2vec and GloVe to extract word vector representations from acquired text. Finally, we integrate these vectors into existing resources like WordNet and Ontology to increase semantic scope and quality. Performance evaluation on benchmark tasks such as word similarity and analogy shows that this proposed framework greatly enhances performance of current lexical semantic resources. This framework offers practical means for improving lexical semantic resources and could affect many NLP tasks.\n"
     ]
    },
    {
     "name": "stderr",
     "output_type": "stream",
     "text": [
      "\r",
      "Paraphrasing texts:  74%|███████▎  | 147/200 [18:02<07:14,  8.20s/it]"
     ]
    },
    {
     "name": "stdout",
     "output_type": "stream",
     "text": [
      "This paper introduces a new method for sequence learning using Recurrent Neural Networks along with Semantic Variational Autoencoders (RNN-SVAE). This system combines an encoding and decoding architecture from typical autoencoders together with variational inference and recurrence to enhance learning of sequential data. Learning meaningful latent representations is at core of this approach and allows for high coherence semantic generation of outputs. Results indicate performance improvements over previous sequence models on many text generation tasks and shows capability to capture deep structure and meaning in sequences.\n"
     ]
    },
    {
     "name": "stderr",
     "output_type": "stream",
     "text": [
      "\r",
      "Paraphrasing texts:  74%|███████▍  | 148/200 [18:07<06:24,  7.40s/it]"
     ]
    },
    {
     "name": "stdout",
     "output_type": "stream",
     "text": [
      "This paper introduces a new way of detecting deception attacks in systems that use networks. It uses a sequential detection framework along with watermark embedding. The authors embed a unique watermark into the system inputs and monitor the outputs for any unusual behaviors. Using sequential hypothesis testing they can detect if there are attacks by looking at how well the watermark correlates with the output. Results show this method works very well at finding different kinds of deception attacks with high accuracy but low false alarms. Research here shows promise for making these systems more secure and reliable against harmful attacks.\n"
     ]
    },
    {
     "name": "stderr",
     "output_type": "stream",
     "text": [
      "\r",
      "Paraphrasing texts:  74%|███████▍  | 149/200 [18:13<05:52,  6.90s/it]"
     ]
    },
    {
     "name": "stdout",
     "output_type": "stream",
     "text": [
      "This paper introduces an algorithm for solving large linear programs efficiently through use of shared memory parallel processing. The new algorithm makes use of inherent parallelism in modern processors and uses efficient data structures and methods to improve performance. It utilizes dynamic scheduling of tasks based on a task parallelism model. Problems are divided into smaller tasks and solved separately using the simplex method. Load balancing is used to distribute work evenly among processors. Performance was tested on diverse benchmark problems of differing size and nature. Results show that the algorithm scales well and outperforms sequential simplex. Further performance enhancement is made through advanced optimization techniques such as lazy updates and column layout. Results indicate that this approach will have a strong impact on LP and particularly on large scale optimization problems. The algorithm is very flexible and easily extensible to other types of LP like mixed integer programming and network flow. Overall results show feasibility and efficacy of shared memory parallelism for large scale LP problems opening up avenues for future research.\n"
     ]
    },
    {
     "name": "stderr",
     "output_type": "stream",
     "text": [
      "\r",
      "Paraphrasing texts:  75%|███████▌  | 150/200 [18:23<06:28,  7.78s/it]"
     ]
    },
    {
     "name": "stdout",
     "output_type": "stream",
     "text": [
      "This paper introduces a new method called Zoom SVD for extracting important features at specified time intervals from very large data sets. This method is intended to be both quick and low memory usage, making it useful for studying high numbers of observations in series of time. Zoom SVD relies on extending the Singular Value Decomposition (SVD) algorithm so as to efficiently compute major modes of variation within the data. It also uses a zooming mechanism which lets users focus on particular intervals of interest and computes SVD just on those parts of data. Performance is tested using diverse real datasets and results show that this method outperforms other SVD approaches by being much quicker and saving more memory while still performing equally or better at finding relevant features. Overall, this study presents promising means for processing time series data broadly across disciplines.\n"
     ]
    },
    {
     "name": "stderr",
     "output_type": "stream",
     "text": [
      "\r",
      "Paraphrasing texts:  76%|███████▌  | 151/200 [18:31<06:31,  7.98s/it]"
     ]
    },
    {
     "name": "stdout",
     "output_type": "stream",
     "text": [
      "This paper introduces a new method for face recognition using transformed shape features. Proposed method transforms facial features into a new shape representation which serves as input for a recognition model. Transformation considers variability inherent in features like illumination, pose and expression to produce robust face representation. Results obtained from experiments on various public datasets show this new approach performs better compared to leading methods in accuracy and robustness. Results indicate that transformation of shape features holds promise for future research into face recognition.\n"
     ]
    },
    {
     "name": "stderr",
     "output_type": "stream",
     "text": [
      "\r",
      "Paraphrasing texts:  76%|███████▌  | 152/200 [18:36<05:39,  7.07s/it]"
     ]
    },
    {
     "name": "stdout",
     "output_type": "stream",
     "text": [
      "This paper puts forward using neural nets as an instrument for analysis of attack patterns and generation of solutions for anticipated threats. Identification of attack patterns is crucial for cybersecurity; recognizing and dealing with such patterns is a significant task for cybersecurity experts. We develop a new method based on neural nets which uses machine learning techniques to detect and understand attack pattern features. Supervised and unsupervised learning is used to extract important features from large datasets of attacks. Neural nets use these features to recognize and classify threats and generate practical solutions for reducing threat impact. Results show the approach successfully analyzes attack patterns and generates actionable results with high precision and efficiency. Proposed model could enhance cybersecurity by offering a broad and automated way to detect and handle security risks.\n"
     ]
    },
    {
     "name": "stderr",
     "output_type": "stream",
     "text": [
      "\r",
      "Paraphrasing texts:  76%|███████▋  | 153/200 [18:44<05:39,  7.21s/it]"
     ]
    },
    {
     "name": "stdout",
     "output_type": "stream",
     "text": [
      "The Internet of Things (IoT) is growing very fast; billions of devices are now connected to the Internet. As such growth has come, there are many security problems because most IoT devices have limited resources and don't have strong security measures. To combat this situation, a new architecture called OSCAR (Object Security Architecture for IoT) is introduced. OSCAR is a lightweight security design that employs object oriented security methods to defend against different kinds of attacks. This proposed architecture includes three major parts: object modeling, security for objects and communication among objects. Object modeling describes the structure and behavior of IoT objects and their security attributes. Security for objects is designed to protect them against various security threats. Communication specifies protocols and procedures for secure interactions among IoT objects. Performance metrics like memory and processing overheads, latency, and energy consumption are used to evaluate the proposed architecture. Results indicate that OSCAR offers good security performance and low overhead. It also supports services like confidentiality, integrity, authentication and access control. Compared to other existing architectures, OSCAR performs better on security and performance. Finally, OSCAR is implemented on diverse IoT devices including sensors, actuators and gateways showing practicality and effectiveness. In summary, this proposed architecture OSCAR offers lightweight and effective security solutions that can be widely adopted to IoT systems. Using object oriented security methods makes OSCAR adaptable and scalable, dealing with security issues posed by IoT.\n"
     ]
    },
    {
     "name": "stderr",
     "output_type": "stream",
     "text": [
      "\r",
      "Paraphrasing texts:  77%|███████▋  | 154/200 [18:58<07:10,  9.36s/it]"
     ]
    },
    {
     "name": "stdout",
     "output_type": "stream",
     "text": [
      "In recent years, 5G technology has become important for wireless communications systems and delivers high speed data transfers along with low latency. With growing demand for 5G services in high population areas, there is a need for effective ways to select radio access technologies (RATs) for these networks. This paper examines key factors that affect RAT selection for dense 5G wireless networks including network architecture, density, available spectrum and user needs. A new approach using machine learning algorithms is proposed which selects the best RAT for a given situation based on current network conditions. Metrics such as network traffic, interference and coverage are used to make rational decisions about RAT selection. Results of extensive simulations and experiments show this approach performs better than traditional methods in terms of network performance and user satisfaction. Results of this research shed light on challenges of selection of RAT for dense 5G networks and suggest useful solutions for operators and network designers to optimize networks and enhance user experience. Expected impact of this approach on network development and advancement of wireless communication systems is large.\n"
     ]
    },
    {
     "name": "stderr",
     "output_type": "stream",
     "text": [
      "\r",
      "Paraphrasing texts:  78%|███████▊  | 155/200 [19:09<07:18,  9.74s/it]"
     ]
    },
    {
     "name": "stdout",
     "output_type": "stream",
     "text": [
      "This paper introduces Lamassu which is a new technique for secure storage at the host side that enables storage of sensitive data directly on client devices without compromising security. Lamassu secures data through confidentiality, integrity and authenticity while using minimal storage space for encrypted data. It achieves this by using an innovative approach combining authenticated encryption with inline encryption techniques. Thus Lamassu encrypts data as it is created and does not require extra storage space for the encrypted data. Lamassu also ensures that data is secure throughout transmission and storage. Results of this work show security properties such as formal proofs and performance evaluations demonstrating effectiveness in terms of efficiency in storage, speed and security. Authors also detail practical uses of Lamassu in diverse contexts like cloud storage and networking. In summary results of this research indicate that Lamassu performs well as an effective technique for efficient host side storage and has important practical uses across many scenarios.\n"
     ]
    },
    {
     "name": "stderr",
     "output_type": "stream",
     "text": [
      "\r",
      "Paraphrasing texts:  78%|███████▊  | 156/200 [19:18<07:03,  9.63s/it]"
     ]
    },
    {
     "name": "stdout",
     "output_type": "stream",
     "text": [
      "This paper surveys the decomposition of tensors and its application in signal processing and machine learning. Decomposition of tensors is a strong method to analyze high dimensional data that frequently occurs in practical situations. Initially, this paper introduces tensors and tensor decomposition briefly, discussing different formats and the mathematical basis of decomposition. Following this, the paper details key decomposition methods like Tucker decomposition, CPD, and PARAFAC2; describing algorithms, pros and cons for each one. Also, the paper reviews various applications, including tensor completion, regression and clustering. Finally, concluding remarks and open questions are presented. Overall, this paper provides a broad overview of decomposition of tensors and related use cases.\n"
     ]
    },
    {
     "name": "stderr",
     "output_type": "stream",
     "text": [
      "\r",
      "Paraphrasing texts:  78%|███████▊  | 157/200 [19:25<06:20,  8.85s/it]"
     ]
    },
    {
     "name": "stdout",
     "output_type": "stream",
     "text": [
      "Since Erdős and Kleitman's seminal work from 1971, there has been ongoing research into matching theory within families of sets. This paper focuses on two key questions: finding maximum matchings and maximal matchings. Maximum matching concerns finding largest possible matchings within given families of sets. We propose a new algorithm that obtains better upper bounds on the number of edges in matchings compared to previous bounds. It is also faster and thus practical for large families of sets. Maximal matching aims to find matchings that cannot be further enlarged. We show this is strongly connected to combinatorial structure of these families and introduce a new measure called maximal matching degree. Using this measure we prove new upper bounds on maximal matching degree and this leads to results about existence of maximal matchings in some classes of set families. Results improve those of Erdős and Kleitman and open up new ways of thinking about matching structures. Applications range broadly across computer science, operations research and other disciplines.\n"
     ]
    },
    {
     "name": "stderr",
     "output_type": "stream",
     "text": [
      "\r",
      "Paraphrasing texts:  79%|███████▉  | 158/200 [19:36<06:29,  9.28s/it]"
     ]
    },
    {
     "name": "stdout",
     "output_type": "stream",
     "text": [
      "This paper introduces Augury, an application focused on time series analysis and forecasting of performance metrics of systems and networks. Augury uses advanced machine learning methods like neural nets and time series decomposition to discern trends and anomalies in performance metrics. Augury also supplies a broad range of forecast models that enable system admins to accurately predict future performance metrics. Effectiveness of Augury was validated using real data from different systems and networks. Results show that Augury excels at accuracy, scalability and speed compared to previous solutions. Moreover, Augury offers important clues about root causes of performance problems which may help optimize system and network performance. Augury promises to improve efficiency and reliability of complicated systems and networks and lower costs and effort related to performance monitoring and management.\n"
     ]
    },
    {
     "name": "stderr",
     "output_type": "stream",
     "text": [
      "\r",
      "Paraphrasing texts:  80%|███████▉  | 159/200 [19:43<06:01,  8.83s/it]"
     ]
    },
    {
     "name": "stdout",
     "output_type": "stream",
     "text": [
      "This paper studies packing and covering properties of subspace codes for error correction using random linear network coding. We study the relationship between minimum distance and maximal rate of such codes and construct new codes with optimal packing and covering properties. Specifically, we suggest a method to construct codes having large minimum distance which optimize the balance between minimum distance and maximal rate. We also look into the covering radius of these codes and show that this optimization is achieved in certain ranges. Results are important for designing practical codes that work well for error correction through random linear network coding.\n"
     ]
    },
    {
     "name": "stderr",
     "output_type": "stream",
     "text": [
      "\r",
      "Paraphrasing texts:  80%|████████  | 160/200 [19:49<05:16,  7.91s/it]"
     ]
    },
    {
     "name": "stdout",
     "output_type": "stream",
     "text": [
      "This paper analyzes two leading solutions for mobile broadband in South Asia: WiMAX and LTE. It seeks to discern which technology offers reliable and high speeds. We look at the current infrastructure for mobile broadband in South Asia and specific challenges like population density and geography. An in depth look at these technologies is given: including technical specs, deployment needs and performance features. Results of this study compare both technologies in terms of factors such as coverage, capacity, latency and cost. Conclusions are drawn about best technology to meet South Asian needs. Findings from this paper will be helpful to policy makers, mobile operators and others in telecom industry aiming to enhance broadband connectivity in South Asia.\n"
     ]
    },
    {
     "name": "stderr",
     "output_type": "stream",
     "text": [
      "\r",
      "Paraphrasing texts:  80%|████████  | 161/200 [19:56<04:59,  7.67s/it]"
     ]
    },
    {
     "name": "stdout",
     "output_type": "stream",
     "text": [
      "This paper reports a comprehensive study on bloated dependencies within the Maven ecosystem. Aimed at understanding the degree and effect of bloated dependencies on Maven project builds and performance, this research uses both static code analysis and dynamic profiling to identify and measure these dependencies. Results indicate that bloated dependencies are frequent among Maven projects and have significant effects on slowing down build times and increasing build system memory usage. Recommendations for reducing these dependencies' influence are given such as using dependency management methods and adopting lighter alternatives. The findings contribute greatly to developers, build engineers, and managers aiming to optimize Maven build processes and enhance project performance.\n"
     ]
    },
    {
     "name": "stderr",
     "output_type": "stream",
     "text": [
      "\r",
      "Paraphrasing texts:  81%|████████  | 162/200 [20:03<04:37,  7.30s/it]"
     ]
    },
    {
     "name": "stdout",
     "output_type": "stream",
     "text": [
      "This paper looks at what makes a good summary relevant to education and considers what aspects of this are important for automatic summarization technology. Its goal is to find out which key features like conciseness and coherence matter most and how those features influence effectiveness when summaries are used in education. Results will illuminate how well summaries work in education and suggest ways to improve automatic summarization technology.\n"
     ]
    },
    {
     "name": "stderr",
     "output_type": "stream",
     "text": [
      "\r",
      "Paraphrasing texts:  82%|████████▏ | 163/200 [20:07<03:56,  6.39s/it]"
     ]
    },
    {
     "name": "stdout",
     "output_type": "stream",
     "text": [
      "This paper investigates using heterogeneity for robust best arm selection in federated settings. Authors consider the challenge of choosing the best option from multiple arms distributed among many agents which may have different distributions. Proposed solution uses heterogeneity among agents to develop an efficient and robust algorithm for identifying the best arm. Performance of this algorithm is assessed on diverse simulated scenarios; results show it outperforms other methods. Results of this work advance robust algorithms for federated bandit selection which has wide application such as personalized recommendation systems and online advertising.\n"
     ]
    },
    {
     "name": "stderr",
     "output_type": "stream",
     "text": [
      "\r",
      "Paraphrasing texts:  82%|████████▏ | 164/200 [20:13<03:41,  6.15s/it]"
     ]
    },
    {
     "name": "stdout",
     "output_type": "stream",
     "text": [
      "Frequency estimation is crucial for many applications in signal processing. This paper introduces a new approach to estimating frequencies with one sided errors, a type of estimation where the estimated value must fall within an acceptable upper or lower limit of the actual value. Our proposed method uses a modified version of periodogram together with a statistical hypothesis test. Results compare our proposed approach favorably against previous methods regarding accuracy, robustness, and computational costs. We show that our method performs better under different scenarios. Proposed method is useful for researchers and practitioners in signal processing where high quality frequency estimation with one-sided limits is essential.\n"
     ]
    },
    {
     "name": "stderr",
     "output_type": "stream",
     "text": [
      "\r",
      "Paraphrasing texts:  82%|████████▎ | 165/200 [20:19<03:37,  6.21s/it]"
     ]
    },
    {
     "name": "stdout",
     "output_type": "stream",
     "text": [
      "Fishing is a very popular pastime but anglers frequently encounter difficulties related to finding and catching fish. This research set out to investigate these difficulties and propose ways to solve them. We interviewed some experienced anglers to find out about their experiences, challenges, and preferred means of locating and catching fish. Results indicate that angling challenges are mainly about restricted access to spots, poor water quality and dwindling fish populations. To deal with those issues, the study suggests making access to fishing sites better, taking conservation steps to safeguard both fish and their habitat and educating anglers on best practices for sustainable fishing. Findings from this research could guide management and policy to support sustainable use of fishing resources and enhance the overall enjoyment of fishing among anglers.\n"
     ]
    },
    {
     "name": "stderr",
     "output_type": "stream",
     "text": [
      "\r",
      "Paraphrasing texts:  83%|████████▎ | 166/200 [20:27<03:47,  6.68s/it]"
     ]
    },
    {
     "name": "stdout",
     "output_type": "stream",
     "text": [
      "This paper looks into processes and roles and how they interact within organizational contexts. Its goal is to understand better how these things work together and how that impacts overall performance. By reviewing relevant literature carefully, this paper identifies different kinds of processes and roles and the tasks they do. Also it looks at different interactions between processes and roles like dependencies, conflicts, and cooperation. Methods used include both qualitative and quantitative approaches such as case studies and surveys along with statistical analysis. Results show that processes and roles are key drivers of success and that good interaction is important. In conclusion the paper gives some practical advice for organizations to improve process, roles and interactions for better performance.\n"
     ]
    },
    {
     "name": "stderr",
     "output_type": "stream",
     "text": [
      "\r",
      "Paraphrasing texts:  84%|████████▎ | 167/200 [20:34<03:42,  6.75s/it]"
     ]
    },
    {
     "name": "stdout",
     "output_type": "stream",
     "text": [
      "This paper introduces a new method for spreading dynamics optimization via message passing. Based on a blend of graph theory and probability theory, this method accurately models how information or influence spreads through networks. Authors show effectiveness of this approach using simulations and experiments on diverse network structures; they show substantial performance gains over other approaches. Results from this study have wide relevance including for such areas as social network analysis, marketing and network design.\n"
     ]
    },
    {
     "name": "stderr",
     "output_type": "stream",
     "text": [
      "\r",
      "Paraphrasing texts:  84%|████████▍ | 168/200 [20:38<03:14,  6.09s/it]"
     ]
    },
    {
     "name": "stdout",
     "output_type": "stream",
     "text": [
      "This paper introduces a new algorithm to determine optimal pricing for an electricity system in smart microgrid networks. The algorithm uses a framework for solving multiple objectives that takes into consideration economic and technical factors. Economic goals aim to maximize profits of the microgrid operator; technical goals minimize total costs to consumers. The new method uses real time information about demand and supply and adjusts electricity prices accordingly by considering factors like renewable generation capacity, storage capacity and load management strategies. Performance of this algorithm has been assessed through simulation studies and compared to other pricing methods; results show significant improvement in overall network efficiency along with substantial economic benefits for both operator and consumers. This work also advances smart grid technology and supplies a useful means to optimize pricing in microgrid systems.\n"
     ]
    },
    {
     "name": "stderr",
     "output_type": "stream",
     "text": [
      "\r",
      "Paraphrasing texts:  84%|████████▍ | 169/200 [20:46<03:23,  6.56s/it]"
     ]
    },
    {
     "name": "stdout",
     "output_type": "stream",
     "text": [
      "In recent years there has been increasing interest in studying computational complexity of different versions of combinatorial voter control problems in elections. Combinatorial voter control refers to the issue of strategically changing votes of some subset of voters to influence the result of an election. This paper analyzes the computational complexity of many variants of this problem comprehensively. Initially we look at the standard voter control problem, where the aim is to minimize the number of vote changes needed to secure a desired winner. We show this problem is NP hard, meaning it is computationally impractical for large instances of the problem. Then we investigate variants which consider limits like budget and restriction on number of changes per voter. We find that these variants are also hard and provide approximation algorithms for solving them. Finally we look at the problem under different election systems such as single winner, multi winner and proportional representation. We show the problem's hardness depends on the system and develop algorithms for each. Overall this paper provides an analysis of the computational complexity of combinatorial voting control problems and gives insight into designing algorithms for these problems.\n"
     ]
    },
    {
     "name": "stderr",
     "output_type": "stream",
     "text": [
      "\r",
      "Paraphrasing texts:  85%|████████▌ | 170/200 [20:57<03:57,  7.92s/it]"
     ]
    },
    {
     "name": "stdout",
     "output_type": "stream",
     "text": [
      "This paper introduces a method for estimating subgraph frequency from data sampled from ego-centric views, both with attributes and without. The approach uses the fact that subgraph frequencies can be estimated by multiplying the frequencies of subgraphs found in sample data by a ratio between total subgraphs in the full graph and those in the sample. Results show that this method performs well in terms of accuracy when compared to synthetic and real data. Results also suggest that this approach has utility in diverse applications including mining graph patterns and conducting network analysis.\n"
     ]
    },
    {
     "name": "stderr",
     "output_type": "stream",
     "text": [
      "\r",
      "Paraphrasing texts:  86%|████████▌ | 171/200 [21:02<03:29,  7.22s/it]"
     ]
    },
    {
     "name": "stdout",
     "output_type": "stream",
     "text": [
      "A new platform called Visual Genome is introduced in this paper which couples language and vision by using dense annotations from crowd workers. This paper describes how they annotate and create a very large set of images with fine scene descriptions and object and relationship annotations along with question answer pairs. Quality of the data is evaluated by comparison against other datasets and demonstrated usefulness for different vision and NLP tasks. Challenges and future work are discussed as well including quality improvements and expansion of annotation scope. Concluding remarks state that this platform provides great benefit for research in both vision and NLP and has strong potential to move the field forward.\n"
     ]
    },
    {
     "name": "stderr",
     "output_type": "stream",
     "text": [
      "\r",
      "Paraphrasing texts:  86%|████████▌ | 172/200 [21:09<03:15,  6.97s/it]"
     ]
    },
    {
     "name": "stdout",
     "output_type": "stream",
     "text": [
      "This paper investigates scheduling algorithms for distributed event analysis in hybrid environments involving both edges and clouds. The goal is to distribute workload evenly between these components to ensure prompt and reliable analysis of events. A hybrid approach of splitting tasks and balancing loads is used dynamically according to resource availability on edges and clouds. Results show that this method distributes processing work effectively, reduces latency and enhances overall performance for event analysis. Results also indicate this research offers practical solutions for analytics in edge cloud environments that are important for applications like IoT and CPS systems.\n"
     ]
    },
    {
     "name": "stderr",
     "output_type": "stream",
     "text": [
      "\r",
      "Paraphrasing texts:  86%|████████▋ | 173/200 [21:14<02:56,  6.55s/it]"
     ]
    },
    {
     "name": "stdout",
     "output_type": "stream",
     "text": [
      "This study introduces a new deep bilateral learning approach for enhancing images in real time. The approach makes use of deep learning to improve visual quality while preserving essential features like edges and textures. Bilateral filtering is used to enforce smoothness and retain edges, and a deep neural network learns a mapping from low quality to high quality images. Results on a benchmark dataset show that performance of this approach surpasses leading methods regarding both visual quality and computational efficiency. Results from this work will have substantial impact across many different application domains including photography, computer vision and image processing.\n"
     ]
    },
    {
     "name": "stderr",
     "output_type": "stream",
     "text": [
      "\r",
      "Paraphrasing texts:  87%|████████▋ | 174/200 [21:20<02:45,  6.38s/it]"
     ]
    },
    {
     "name": "stdout",
     "output_type": "stream",
     "text": [
      "This paper introduces a framework for specific ranking of knowledge base attributes. The method was tested using two case studies: one based on data about advisors for doctoral students and another based on medical conditions. Results show this specific ranking framework performs better than previous methods in terms of accuracy and relevance. Results suggest benefits for enhancing quality and performance of systems that rely on knowledge bases, especially those related to academic advising and diagnosis of diseases. Full version of the paper includes further analysis of the proposed approach including detailed description of implementation and thorough evaluation against these two case studies.\n"
     ]
    },
    {
     "name": "stderr",
     "output_type": "stream",
     "text": [
      "\r",
      "Paraphrasing texts:  88%|████████▊ | 175/200 [21:26<02:35,  6.23s/it]"
     ]
    },
    {
     "name": "stdout",
     "output_type": "stream",
     "text": [
      "Color constancy refers to the human visual system's ability to judge accurately the colors of objects under varying illumination conditions. For this reason, this has been difficult for computer vision systems which have attempted solutions such as using gray world, white patch and shades of gray. Yet those methods are not effective under all circumstances and they demand high computational power. This paper formulates adaptive color constancy as a few shot learning problem. Proposed approach uses meta learning framework to allow the model to quickly adapt to new cameras and light conditions using very little data. Results show the approach excels in both performance and efficiency compared to previous algorithms using diverse datasets. This work introduces a promising avenue for handling adaptive color constancy and could have broad impacts in vision computing and image processing.\n"
     ]
    },
    {
     "name": "stderr",
     "output_type": "stream",
     "text": [
      "\r",
      "Paraphrasing texts:  88%|████████▊ | 176/200 [21:34<02:41,  6.75s/it]"
     ]
    },
    {
     "name": "stdout",
     "output_type": "stream",
     "text": [
      "This paper looks at the concept of liveness within broadcasting networks. Liveness means real time transmission as opposed to prerecorded or on demand materials. We study how this idea has developed along with digital media and growing usage of social media sites. We look at existing literature that covers both theoretical and empirical studies across diverse disciplines. We report our own research on audience perceptions and understanding of liveness through qualitative and quantitative methods. We find that definition of liveness is fluid and depends on various cultural, technical and social factors. People's expectations and interpretations of liveness vary based on content type and context. In conclusion, liveness remains an important feature of broadcasting especially for live events and breaking news. But with ongoing development of digital media, we should reconsider liveness to accommodate newer engagement and interactivity.\n"
     ]
    },
    {
     "name": "stderr",
     "output_type": "stream",
     "text": [
      "\r",
      "Paraphrasing texts:  88%|████████▊ | 177/200 [21:43<02:46,  7.25s/it]"
     ]
    },
    {
     "name": "stdout",
     "output_type": "stream",
     "text": [
      "This paper introduces a new method for spatiotemporal modeling using connected vehicles. It integrates deep learning with generative models and performs effective modeling of complex spatial and temporal relationships among vehicle data. Results show high performance relative to traditional machine learning methods. Results from this study open promising avenues of future research into modeling spatiotemporal data; it also has practical implications for prediction and control of traffic and intelligent system design.\n"
     ]
    },
    {
     "name": "stderr",
     "output_type": "stream",
     "text": [
      "\r",
      "Paraphrasing texts:  89%|████████▉ | 178/200 [21:47<02:22,  6.48s/it]"
     ]
    },
    {
     "name": "stdout",
     "output_type": "stream",
     "text": [
      "Recent years have seen growing concerns about security threats posed by adversarial attacks targeting deep neural networks. This paper introduces a new strategy for defense that leverages information about the shapes of inputs. Our solution involves preprocessing input data to retain its shape and then feeding it into a trained deep network that can recognize those shapes. Results from our experiments show that this method works well against different types of attacks, both white box and black box, and significantly outperforms traditional defenses in terms of overall accuracy. Results indicate that including information about shape is effective for defense against such attacks; this research suggests that this approach merits further study as a promising path forward.\n"
     ]
    },
    {
     "name": "stderr",
     "output_type": "stream",
     "text": [
      "\r",
      "Paraphrasing texts:  90%|████████▉ | 179/200 [21:54<02:18,  6.61s/it]"
     ]
    },
    {
     "name": "stdout",
     "output_type": "stream",
     "text": [
      "Explanation of machine learning means using algorithms to explain why a model makes predictions. These algorithms offer great benefits but can cause harm if misused. This paper looks at both sides of this issue, focusing on ethical considerations. On the positive side, explanation through algorithmic means increases transparency and responsibility regarding decision making by offering clear reasons behind model predictions. This helps stakeholders to understand and trust decisions made by those models which improves effectiveness and efficiency. Yet there are also negative aspects to consider. If training data has bias, explanations produced from algorithms can perpetuate such bias and promote discrimination. Moreover, explanations generated by algorithms can be misleading so that decisions are wrong because of missing or inaccurate information. Ethical concerns are very high and practitioners must think about these when designing and deploying these algorithms. In conclusion, more research and discussion are needed to realize benefits while reducing harms of explanation via machine learning.\n"
     ]
    },
    {
     "name": "stderr",
     "output_type": "stream",
     "text": [
      "\r",
      "Paraphrasing texts:  90%|█████████ | 180/200 [22:03<02:27,  7.39s/it]"
     ]
    },
    {
     "name": "stdout",
     "output_type": "stream",
     "text": [
      "This study looks into using Local Interpretability Measure of Explanation with Outlier Detection (LIMEOUT) to improve fairness of machine learning (ML) models. LIMEOUT is a new approach that integrates LIME for explanation of model predictions locally with outlier detection for finding examples far from the training data distribution. Results show that LIMEOUT effectively enhances fairness of ML models by performing well on diverse fairness challenges benchmark datasets. Results indicate that LIMEOUT significantly reduces bias in prediction outcomes. Moreover, this paper shows that LIMEOUT can also serve to provide clear and understandable explanation for decisions made by ML models thereby enhancing credibility and accountability. Overall, the study indicates that LIMEOUT is an important advance towards making ML models both fairer and more transparent and hence mitigates ethical issues that arise with their usage across different sectors.\n"
     ]
    },
    {
     "name": "stderr",
     "output_type": "stream",
     "text": [
      "\r",
      "Paraphrasing texts:  90%|█████████ | 181/200 [22:12<02:27,  7.75s/it]"
     ]
    },
    {
     "name": "stdout",
     "output_type": "stream",
     "text": [
      "Permutations play a role in many different fields such as cryptography and computer science as well as pure mathematics. Relations among permutations are important for practical application; however, discerning those relations is difficult. This paper investigates the testability of such relation among permutations specifically. We concentrate on whether two permutations are identical, inverses, or conjugates to each other by probing them through some fixed set of points. We give efficient algorithms for testing these properties and prove they use only a low number of queries. The algorithms rely on methods from both group theory and graph theory, and their proofs use tools from probabilistic combinatorics and algebraic geometry. We also establish lower bounds on the number of queries needed which shows that our algorithms are nearly optimal. Results of this work impact studies into permutation groups and their uses in computing and cryptography.\n"
     ]
    },
    {
     "name": "stderr",
     "output_type": "stream",
     "text": [
      "\r",
      "Paraphrasing texts:  91%|█████████ | 182/200 [22:21<02:24,  8.01s/it]"
     ]
    },
    {
     "name": "stdout",
     "output_type": "stream",
     "text": [
      "This paper introduces a new way of doing something called Re-ID by using transformer models. We call this method TransReID. Using attention mechanisms from transformers, we capture important relationships between feature maps and global context. Results show that TransReID outperforms other top methods on some important datasets. We also study the effect of different parts of TransReID such as number of layers and model size and also augmentations. Results help us understand how good this new method is and how it can work well in real life.\n"
     ]
    },
    {
     "name": "stderr",
     "output_type": "stream",
     "text": [
      "\r",
      "Paraphrasing texts:  92%|█████████▏| 183/200 [22:26<02:04,  7.30s/it]"
     ]
    },
    {
     "name": "stdout",
     "output_type": "stream",
     "text": [
      "This paper does a review of bibliometrics to study research trends and patterns of the digital revolution in agriculture. It looks at studies published between 2011 and 2021 using databases such as Scopus, Web of Science and Google Scholar. Focus of the analysis is growth of research in this area, top cited researchers and papers, and major themes and trends. Results show steady growth of research over recent decade with special focus on precision agriculture and sensor technologies along with big data analytics. Most cited researchers and papers tend to be from developed countries showing a large gap in research from developing countries. Results point to further work needed especially in developing countries to deal with challenges and opportunities of digital agricultural revolution.\n"
     ]
    },
    {
     "name": "stderr",
     "output_type": "stream",
     "text": [
      "\r",
      "Paraphrasing texts:  92%|█████████▏| 184/200 [22:34<01:57,  7.36s/it]"
     ]
    },
    {
     "name": "stdout",
     "output_type": "stream",
     "text": [
      "The Ethics and Society Review of Artificial Intelligence (ESR) is a detailed review of the moral and ethical implications of AI research. It looks closely at current issues in AI ethics and analyzes different ethical frameworks and principles that have been suggested for AI development. Challenges and limits of those frameworks are also discussed. The ESR also considers how different kinds of social and political institutions shape AI ethics; this includes government agencies, businesses, and nongovernmental groups. Finally the paper suggests some recommendations for future research such as increased cooperation among AI researchers, ethicists and society and proactivity towards ethical issues that take into account societal impacts of AI.\n"
     ]
    },
    {
     "name": "stderr",
     "output_type": "stream",
     "text": [
      "\r",
      "Paraphrasing texts:  92%|█████████▎| 185/200 [22:41<01:47,  7.20s/it]"
     ]
    },
    {
     "name": "stdout",
     "output_type": "stream",
     "text": [
      "As demand grows for continuous monitoring of the environment, there is development of energy efficient sensor nodes which can collect energy directly from their surroundings. This paper introduces EICO; an energy harvesting sensor node that optimizes both energy and information. It includes several new features such as an adaptive power management system that minimizes energy consumption, a sensing module that dynamically adjusts sensing frequency based on environmental activity levels and a machine learning algorithm that forecasts energy availability and adjusts sensing frequency. Results show that EICO has much longer lifetimes and better sensing accuracy compared to other nodes that also harvest energy. Results suggest EICO could revolutionize environmental monitoring by collecting continuous and precise data with very low energy use.\n"
     ]
    },
    {
     "name": "stderr",
     "output_type": "stream",
     "text": [
      "\r",
      "Paraphrasing texts:  93%|█████████▎| 186/200 [22:48<01:40,  7.18s/it]"
     ]
    },
    {
     "name": "stdout",
     "output_type": "stream",
     "text": [
      "This paper introduces a new way to model epistemic uncertainty via Bayesian confidence calibration. Uncertainty due to lack of knowledge about a system often leads to large prediction errors. Bayesian methods are frequently used to model such uncertainty, but these methods tend to overestimate uncertainty when the model is misspecified or when data is scarce. To solve this problem, we present a new approach based on calibrated confidence estimation. Specifically, we introduce a calibration function that adjusts uncertainty estimates made by Bayesian models based on reliability of data and level of specification mismatch. We show effectiveness using both synthetic and real data and compare against popular methods for uncertainty modeling. Results indicate that our method produces better and more reliable uncertainty estimates that are useful for decisions under uncertainty. Finally we discuss possible application areas for this method including finance, engineering and healthcare.\n"
     ]
    },
    {
     "name": "stderr",
     "output_type": "stream",
     "text": [
      "\r",
      "Paraphrasing texts:  94%|█████████▎| 187/200 [22:56<01:37,  7.54s/it]"
     ]
    },
    {
     "name": "stdout",
     "output_type": "stream",
     "text": [
      "This paper investigates how genetic algorithms can be used to enhance loadability in distribution systems. The purpose is to maximize transfer of load among feeders and thereby overall system performance. Using a realistic system model the authors propose an approach using genetic algorithms to solve the optimization problem. Performance of this method is tested on different load profiles and results indicate that genetic algorithm methods work well for load transfer and increase loadability of the system. Comparisons with other approaches also show that genetic algorithm methods outperform others in terms of improved loadability. Results of this research can help distribution system operators to develop better transfer strategies and enhance performance.\n"
     ]
    },
    {
     "name": "stderr",
     "output_type": "stream",
     "text": [
      "\r",
      "Paraphrasing texts:  94%|█████████▍| 188/200 [23:03<01:26,  7.23s/it]"
     ]
    },
    {
     "name": "stdout",
     "output_type": "stream",
     "text": [
      "This paper studies performance metrics for wireless powered cognitive radio networks (WPCRNs) using CS and MC methods. It focuses on using extra energy from main users to energize secondary users. It also looks at performance changes due to different system parameters such as the number of primary and secondary users, compression ratios for CS and MC ranks. Simulations are used to test proposed approaches and compare them against other methods. Results indicate that combining CS and MC methods substantially improves system performance and increases efficiency compared to usual means. Results from this study could be very useful for further research on WPCRNs and contribute to designing good communication systems.\n"
     ]
    },
    {
     "name": "stderr",
     "output_type": "stream",
     "text": [
      "Paraphrasing texts:  95%|█████████▌| 190/200 [23:20<01:21,  8.14s/it]"
     ]
    },
    {
     "name": "stdout",
     "output_type": "stream",
     "text": [
      "This paper studies the Conditional Lucas & Kanade (CLK) algorithm which is a common technique in computer vision for computing optical flow from one frame to another in a video sequence. We introduce a new enhancement of the original Lucas and Kanade (LK) algorithm by including a spatially varying weight matrix. This modification allows us to compute optical flow conditioned on local features and thus enhance both accuracy and robustness to changes in lighting and occlusion. Performance evaluation was done using standard benchmark datasets and comparisons were made against top algorithms for optical flow. Results show that this enhanced CLK algorithm performs better than the original LK algorithm and competing methods especially in hard cases with large displacements and occlusions. We also show practical benefits of the CLK algorithm in real life such as visual odometry where reliable estimation of camera motion is important. Results indicate that this algorithm excels both in accuracy and computational efficiency. Overall we conclude that the enhanced CLK algorithm is an effective improvement over the original LK algorithm and has promise to advance computer vision in diverse practical tasks.\n",
      "This paper introduces a new dataset called 'Amigos' which focuses on research into emotions, personalities and moods at both individual and group level. Data includes audio and video recordings alongside self reports. Procedures for collecting data are described along with measures of affect, personality and mood. Ethical concerns are also addressed. Results show how this data set is useful for research in psychology of sociality, affective computing and HCI among others. In summary, Amigos dataset is very important for those who want to study emotions, personality and mood across both individual and social levels.\n"
     ]
    },
    {
     "name": "stderr",
     "output_type": "stream",
     "text": [
      "\r",
      "Paraphrasing texts:  96%|█████████▌| 191/200 [23:26<01:07,  7.52s/it]"
     ]
    },
    {
     "name": "stdout",
     "output_type": "stream",
     "text": [
      "This study looks at connectivity properties of random annulus graphs and geometric block models. These models are frequently employed in network science to represent networks with inherent geometric structures. Specifically, we focus on critical threshold for connectivity: where networks go from disconnected to connected. Initially we define random annulus graphs, which are random graphs formed by linking points within an annulus with connection probability depending on Euclidean distances between points. We prove that critical threshold for connectivity depends on simple functions of annulus parameters. Next we study geometric block model which generates random graphs by dividing d dimensional space into blocks and linking points within the same block with some probability. Results show that critical threshold of connectivity depends on product of block probabilities and volume of blocks. Finally we compare thresholds for connectivity in random annulus graph versus geometric block model. Results show that connectivity threshold in block model is larger than or equal to that of annulus model. This result matters a lot to design and analysis of systems like wireless sensor networks and social networks. In sum, this paper offers key insight into connectivity properties of random graphs with inherent geometric features.\n"
     ]
    },
    {
     "name": "stderr",
     "output_type": "stream",
     "text": [
      "\r",
      "Paraphrasing texts:  96%|█████████▌| 192/200 [23:37<01:08,  8.62s/it]"
     ]
    },
    {
     "name": "stdout",
     "output_type": "stream",
     "text": [
      "The fast Fourier transform (FFT) is a key tool in diverse areas like science and engineering; examples include processing signals and images and doing simulations. As data volume grows, so does the computational cost for computing FFTs. Thus, development of efficient parallel algorithms for FFTs is important. This paper introduces a new parallel algorithm for multidimensional FFT using MPI on high performance computers. A two stage approach is proposed that uses distributed one dimensional FFT alongside block cyclic distribution. We exploit properties of cyclic distribution to minimize communication burden and balance load among processors. We also employ recent features of MPI to optimize communication and lower synchronization overhead. Performance and scalability of this algorithm are demonstrated on different hardware setups such as large cluster and supercomputers. Results show that the algorithm attains nearly linear speedup up to thousands of processors and outperforms existing parallel FFT libraries for big data. Our method is very effective and significantly reduces computation time for multidimensional FFT; this will improve simulation speed and data analysis accuracy across many disciplines.\n"
     ]
    },
    {
     "name": "stderr",
     "output_type": "stream",
     "text": [
      "\r",
      "Paraphrasing texts:  96%|█████████▋| 193/200 [23:48<01:03,  9.13s/it]"
     ]
    },
    {
     "name": "stdout",
     "output_type": "stream",
     "text": [
      "This paper introduces an Approximate Dynamic Programming (ADP) method for disaster recovery management. Current methods tend to rely on fixed and rigid plans that fail to suit the unpredictable nature of post disaster scenarios. Proposed ADP uses past disaster experience to adaptively adjust strategies according to evolving conditions of the affected community. This approach blends data driven machine learning techniques with a framework for dynamic optimization to achieve flexible decision making for recovery management. It addresses diverse goals including reducing recovery time, maximizing resource use, and lowering costs while considering uncertainties and constraints of the recovery process. Feedback from community and recovery stakeholders can also enhance learning and ongoing improvement. A hypothetical community hit by a major earthquake serves as a case study. Results show that this new approach produces high quality recovery plans surpassing previous static plans. Furthermore, ADP swiftly adjusts to environmental changes allowing effective and efficient management. Overall, this research shows potential benefits of ADP for disaster recovery management offering decision makers a strong tool for disaster preparation and response. ADP learns from past events, flexibly adapts to changing environments and efficiently balances diverse recovery goals thus creating more resilient and sustainable communities.\n"
     ]
    },
    {
     "name": "stderr",
     "output_type": "stream",
     "text": [
      "\r",
      "Paraphrasing texts:  97%|█████████▋| 194/200 [23:59<00:59,  9.87s/it]"
     ]
    },
    {
     "name": "stdout",
     "output_type": "stream",
     "text": [
      "This paper introduces a new method for optimizing trajectories of cooperative swarms of UAVs operating at dual frequencies so that performance improves. This new method makes use of the specific advantages of dual frequency UAVs which can work concurrently in different frequency bands to boost both communication and sensing abilities. This paper formulates the trajectory optimization as a multi objective optimization problem considering various goals like reducing total time spent on mission, reducing energy consumption by UAVs and increasing quality of communication and sensing links among UAVs. Genetic algorithms are used to search for trajectories that optimize these goals. Simulation results presented show effectiveness of this method to significantly reduce mission times and energy consumption while also improving quality of communication and sensing links among UAVs. Practical significance and future research directions are also discussed in this paper. Overall this research advances the body of knowledge about coordinated UAV swarms and offers a promising approach for trajectory optimization for dual frequency UAVs in practice.\n"
     ]
    },
    {
     "name": "stderr",
     "output_type": "stream",
     "text": [
      "\r",
      "Paraphrasing texts:  98%|█████████▊| 195/200 [24:09<00:48,  9.74s/it]"
     ]
    },
    {
     "name": "stdout",
     "output_type": "stream",
     "text": [
      "Reinforcement learning (RL) is one of the most important methods for solving decision making problems; agents learn by acting and receiving a reward. In practice however, there is often noise or variation in rewards that can result in poor decisions. This paper looks at reinforcement learning with noisy rewards through two major themes: (1) how reward noise impacts learning and algorithm performance and (2) development of robust algorithms capable of handling noise well. The study considers different types of noise like Gaussian noise and attacks and compares different RL algorithms such as value based and actor critic methods. Results show that noise has a strong effect on learning and algorithm performance and suggests that we need better algorithms to deal with these issues. The paper offers guidance and ideas for further research and applications ranging from robotics to games and autonomous systems.\n"
     ]
    },
    {
     "name": "stderr",
     "output_type": "stream",
     "text": [
      "\r",
      "Paraphrasing texts:  98%|█████████▊| 196/200 [24:17<00:37,  9.30s/it]"
     ]
    },
    {
     "name": "stdout",
     "output_type": "stream",
     "text": [
      "This paper establishes a lower bound for solving Boolean satisfiability problems using deterministic Turing machines. SAT is an important question in computer science asking whether we can assign true/false values to variables so that a given Boolean formula evaluates to true. Here we show that any algorithm running on such machines will take at least 2 to the power of n divided by a polynomial function of n in time; here n refers to the number of variables in the input formula and polynomial functions are related to n. To prove this result, this paper develops a new method of creating hard SAT instances. This method involves adding redundant clauses in a way such that satisfying assignments have to satisfy a large fraction of them. We show that checking these clauses takes a long time and this results in our lower bound. The significance of this work is that it proves a strong lower bound for SAT on deterministic machines which is a central topic in theoretical computer science. Results imply that efficient deterministic algorithms do not exist for solving SAT and have broader implications for algorithm design and analysis. Concluding remarks mention some promising lines for further research using ideas from this paper.\n"
     ]
    },
    {
     "name": "stderr",
     "output_type": "stream",
     "text": [
      "\r",
      "Paraphrasing texts:  98%|█████████▊| 197/200 [24:28<00:29,  9.91s/it]"
     ]
    },
    {
     "name": "stdout",
     "output_type": "stream",
     "text": [
      "We introduce a parallel implementation of Ensemble Kalman Filter (EnKF) that uses modifications of Cholesky decomposition. EnKF is a common method for data assimilation using Monte Carlo approaches to estimate states of complicated systems. But its usual implementation can be quite costly in terms of computing power, especially when dealing with large problems. We improve on this by proposing a parallel version of EnKF which exploits modification of Cholesky decomposition to distribute processing among many processors. Cholesky decomposition factors matrices efficiently and computes square roots of positive definite ones. Using this trick, our parallel EnKF reduces computation time substantially while maintaining high accuracy. Performance is assessed through numerical tests and results show substantial speed ups compared to sequential code. Results have wide impact such as in weather prediction, climate modeling and seismic imaging where EnKF processes very large datasets in near real time.\n"
     ]
    },
    {
     "name": "stderr",
     "output_type": "stream",
     "text": [
      "\r",
      "Paraphrasing texts:  99%|█████████▉| 198/200 [24:37<00:19,  9.58s/it]"
     ]
    },
    {
     "name": "stdout",
     "output_type": "stream",
     "text": [
      "As YouTube becomes more popular as a place to share content, there are growing concerns regarding risks to children due to exposure to harmful or inappropriate material. This paper focuses on detection, characterization and analysis of unsafe content and people who promote such content on YouTube. We performed a large study of the Kidstube dataset containing more than 100,000 videos to find dangerous content that could harm children including violence, sex, and misleading information. We also looked at behavior of those who take advantage of children's vulnerabilities including deceptive ads and manipulation of search algorithms. Results reveal trends about prevalence of unsafe content on YouTube and tactics used by promoters to reach younger audiences. They also show possible impact on children's welfare. Results emphasize importance of better detection and removal of harmful content along with better regulation of ads to safeguard children against harm.\n"
     ]
    },
    {
     "name": "stderr",
     "output_type": "stream",
     "text": [
      "\r",
      "Paraphrasing texts: 100%|█████████▉| 199/200 [24:46<00:09,  9.30s/it]"
     ]
    },
    {
     "name": "stdout",
     "output_type": "stream",
     "text": [
      "This paper looks at specification methods for bisimulation and modal logic for the π calculus. π calculus is a formal system for modeling dynamic behavior of distributed systems. The paper studies use of bisimulation and modal logic for checking correctness of π calculus models. Authors detail an analysis of algorithm search proof and its implementation within π calculus. Results show effectiveness of using bisimulation and modal logic for checking correctness of π calculus models. Results of this research are significant for designing and implementing verification tools for distributed systems.\n"
     ]
    },
    {
     "name": "stderr",
     "output_type": "stream",
     "text": [
      "Paraphrasing texts: 100%|██████████| 200/200 [24:51<00:00,  7.46s/it]"
     ]
    },
    {
     "name": "stdout",
     "output_type": "stream",
     "text": [
      "Paraphrasing complete! Results saved to paraphrased_results.csv\n"
     ]
    },
    {
     "name": "stderr",
     "output_type": "stream",
     "text": [
      "\n"
     ]
    }
   ],
   "source": [
    "import csv\n",
    "csv_filename = \"paraphrased_results.csv\"\n",
    "with open(csv_filename, \"w\", newline=\"\", encoding=\"utf-8\") as csvfile:\n",
    "    csv_writer = csv.writer(csvfile)\n",
    "    csv_writer.writerow([\"Original Text\", \"Paraphrased Text\"])\n",
    "\n",
    "    for i, ai_text in enumerate(tqdm(ai_texts, desc=\"Paraphrasing texts\")):\n",
    "            prompt = f\"\"\"Please paraphrase the following text to make it more human-like while preserving the original meaning.\n",
    "(Provide ONLY the paraphrased text with no additional commentary or responses)\n",
    "\n",
    "{ai_text}\n",
    "\n",
    "Paraphrased text:\"\"\"\n",
    "\n",
    "            inputs = tokenizer(prompt, return_tensors=\"pt\").to(device)\n",
    "\n",
    "            with torch.no_grad():\n",
    "                outputs = model.generate(\n",
    "                    inputs.input_ids,\n",
    "                    max_new_tokens=512,\n",
    "                    temperature=0.7,\n",
    "                    top_p=0.9,\n",
    "                    do_sample=True\n",
    "                )\n",
    "\n",
    "            full_output = tokenizer.decode(outputs[0], skip_special_tokens=True)\n",
    "            paraphrased_text = full_output.split(\"Paraphrased text:\")[-1].strip()\n",
    "            print(paraphrased_text)\n",
    "            csv_writer.writerow([ai_text, paraphrased_text])\n",
    "            del inputs, outputs\n",
    "            gc.collect()\n",
    "            torch.cuda.empty_cache() if torch.cuda.is_available() else None\n",
    "\n",
    "print(f\"Paraphrasing complete! Results saved to {csv_filename}\")"
   ]
  },
  {
   "cell_type": "markdown",
   "metadata": {
    "id": "NpGlubpkp3IR"
   },
   "source": [
    "# DETECTION"
   ]
  },
  {
   "cell_type": "code",
   "execution_count": null,
   "metadata": {
    "id": "EiRJ3f4bmbwW"
   },
   "outputs": [],
   "source": [
    "import pandas as pd\n",
    "import numpy as np\n",
    "from sklearn.metrics import roc_auc_score\n",
    "import random\n",
    "from transformers import (pipeline, AutoTokenizer, AutoModel, T5ForConditionalGeneration, T5Tokenizer, AutoModelForCausalLM)"
   ]
  },
  {
   "cell_type": "code",
   "execution_count": null,
   "metadata": {
    "id": "B-HCAL0ap-6k"
   },
   "outputs": [],
   "source": [
    "qd = pd.read_csv('paraphrased_results.csv')\n",
    "qd_texts = qd['Paraphrased Text'].tolist()"
   ]
  },
  {
   "cell_type": "code",
   "execution_count": null,
   "metadata": {
    "colab": {
     "base_uri": "https://localhost:8080/"
    },
    "id": "YgAu1IE1qAot",
    "outputId": "4a5f7af8-6a5a-47bc-c2bd-dfacd015d554"
   },
   "outputs": [
    {
     "name": "stdout",
     "output_type": "stream",
     "text": [
      "Data preparation complete. Saved to 'combined_texts.csv'\n"
     ]
    }
   ],
   "source": [
    "qd = pd.read_csv('paraphrased_results.csv')\n",
    "qd_texts = qd['Paraphrased Text'].tolist()\n",
    "\n",
    "ai_data = {'text': qd_texts, 'label': 1, 'source': 'AI'}\n",
    "human_data = {'text': hum_texts, 'label': 0, 'source': 'Human'}\n",
    "\n",
    "ai_df = pd.DataFrame(ai_data)\n",
    "human_df = pd.DataFrame(human_data)\n",
    "combined_df = pd.concat([ai_df, human_df], ignore_index=True)\n",
    "random.seed(42)\n",
    "shuffled_df = combined_df.sample(frac=1, random_state=42).reset_index(drop=True)\n",
    "shuffled_df.to_csv('combined_texts.csv', index=False)\n",
    "\n",
    "print(\"Data preparation complete. Saved to 'combined_texts.csv'\")"
   ]
  },
  {
   "cell_type": "markdown",
   "metadata": {
    "id": "CKy9sTYp0TIt"
   },
   "source": [
    "### RADAR - getting scores"
   ]
  },
  {
   "cell_type": "code",
   "execution_count": null,
   "metadata": {
    "id": "8ZiPgByHqDd9"
   },
   "outputs": [],
   "source": [
    "class Radar():\n",
    "    def __init__(self, device=\"cuda\"):\n",
    "        self.judge_model = pipeline(\n",
    "            \"text-classification\",\n",
    "            model=\"TrustSafeAI/RADAR-Vicuna-7B\",\n",
    "            tokenizer=\"TrustSafeAI/RADAR-Vicuna-7B\",\n",
    "            max_length=512,\n",
    "            padding='max_length',\n",
    "            truncation=True,\n",
    "            device=device,\n",
    "        )\n",
    "\n",
    "    def score(self, response_list):\n",
    "        scores = self.judge_model(response_list)\n",
    "        return [\n",
    "            (\n",
    "                score[\"score\"]\n",
    "                if score[\"label\"] == \"LABEL_0\"\n",
    "                else 1 - score[\"score\"]\n",
    "            )\n",
    "            for score in scores\n",
    "        ]"
   ]
  },
  {
   "cell_type": "markdown",
   "metadata": {
    "id": "SRI3nkdf0Yzo"
   },
   "source": [
    "### DETECTGPT - getting scores"
   ]
  },
  {
   "cell_type": "code",
   "execution_count": null,
   "metadata": {
    "id": "s1WA-YVJqGJF"
   },
   "outputs": [],
   "source": [
    "class DetectGPT():\n",
    "    def __init__(self, device=\"cpu\"):\n",
    "        self.device = device\n",
    "        self.judge_model = None\n",
    "\n",
    "    def _load_model(self):\n",
    "        if self.judge_model is None:\n",
    "            print(\"Loading DetectGPT model...\")\n",
    "            self.judge_model = pipeline(\n",
    "                \"text-classification\",\n",
    "                model=\"Hello-SimpleAI/chatgpt-detector-roberta\",  # Example model\n",
    "                tokenizer=\"Hello-SimpleAI/chatgpt-detector-roberta\",\n",
    "                max_length=512,\n",
    "                padding='max_length',\n",
    "                truncation=True,\n",
    "                device=self.device,\n",
    "            )\n",
    "            print(\"DetectGPT model loaded successfully\")\n",
    "\n",
    "    def score(self, response_list):\n",
    "        self._load_model()\n",
    "        scores = self.judge_model(response_list)\n",
    "        return [\n",
    "            (score[\"score\"] if score[\"label\"] == \"1\" else 1 - score[\"score\"])\n",
    "            for score in scores\n",
    "        ]"
   ]
  },
  {
   "cell_type": "code",
   "execution_count": null,
   "metadata": {
    "id": "cPxeuCVQqIS8"
   },
   "outputs": [],
   "source": [
    "df = pd.read_csv('combined_texts.csv')\n",
    "responses = df['text'].tolist()\n",
    "\n",
    "def get_scores(judge):\n",
    "    return judge.score(responses)"
   ]
  },
  {
   "cell_type": "code",
   "execution_count": null,
   "metadata": {
    "colab": {
     "base_uri": "https://localhost:8080/"
    },
    "id": "Bdyzw8svqLKv",
    "outputId": "cde3fd11-b24e-4fe2-e18d-0af2efc043ad"
   },
   "outputs": [
    {
     "name": "stderr",
     "output_type": "stream",
     "text": [
      "Device set to use cuda\n"
     ]
    },
    {
     "name": "stdout",
     "output_type": "stream",
     "text": [
      "Loading DetectGPT model...\n"
     ]
    },
    {
     "name": "stderr",
     "output_type": "stream",
     "text": [
      "Device set to use cpu\n"
     ]
    },
    {
     "name": "stdout",
     "output_type": "stream",
     "text": [
      "DetectGPT model loaded successfully\n"
     ]
    }
   ],
   "source": [
    "judge = Radar()\n",
    "scores_radar = get_scores(judge)\n",
    "judge = DetectGPT()\n",
    "scores_detectgpt = get_scores(judge)\n",
    "\n",
    "combined_df = pd.read_csv('combined_texts.csv')\n",
    "combined_df['detectgpt_score'] = scores_detectgpt\n",
    "combined_df['radar_score'] = scores_radar\n",
    "combined_df.to_csv('authormist_scored.csv', index=False)"
   ]
  },
  {
   "cell_type": "code",
   "execution_count": null,
   "metadata": {
    "colab": {
     "base_uri": "https://localhost:8080/",
     "height": 206
    },
    "id": "sWM6lYByqM73",
    "outputId": "797dfbc6-0982-47bc-8b9e-e884b35fa54f"
   },
   "outputs": [
    {
     "data": {
      "application/vnd.google.colaboratory.intrinsic+json": {
       "summary": "{\n  \"name\": \"combined_df\",\n  \"rows\": 350,\n  \"fields\": [\n    {\n      \"column\": \"text\",\n      \"properties\": {\n        \"dtype\": \"string\",\n        \"num_unique_values\": 350,\n        \"samples\": [\n          \"This study introduces a framework for enhancing lexical semantic resources using distributional semantics. We aim to overcome the shortcomings of traditional lexical resources like WordNet and Ontology by incorporating statistical information extracted from large corpora of text. This framework consists of three main parts: data acquisition, feature extraction, and semantic enhancement. Data acquisition retrieves a vast amount of text from diverse sources such as forums, news, and social media. Feature extraction uses algorithms such as word2vec and GloVe to extract word vector representations from acquired text. Finally, we integrate these vectors into existing resources like WordNet and Ontology to increase semantic scope and quality. Performance evaluation on benchmark tasks such as word similarity and analogy shows that this proposed framework greatly enhances performance of current lexical semantic resources. This framework offers practical means for improving lexical semantic resources and could affect many NLP tasks.\",\n          \"This paper studies how groups evolve during running races. We use data from different races to look at changes in group size and composition through time and at what causes groups to be formed and dissolved. We find that groups typically form quickly at the start of a race; they are shaped by pacing strategies, social interactions and environmental conditions. We also see that groups disintegrate as a race continues and runners adopt independent paces. Results indicate important dynamics among group behaviors in long events and suggest implications for designing course layouts and training plans.\",\n          \"This paper proposes a new way to enhance slope limiters for use on grids that vary in size and direction. Slope limiters help stop unphysical results from occurring during computer simulations like those of fluid dynamics. Previous work has mostly concentrated on using these limiters on regular grids; this study looks at them on irregular grids too. Using a mix of adaptation techniques and new limiters, the new approach improves simulation accuracy and reliability. Results show that this new approach overcomes shortcomings of previous limiters and works well on a variety of tests. Study outcomes should be important for further development of simulation methods for irregular grids.\"\n        ],\n        \"semantic_type\": \"\",\n        \"description\": \"\"\n      }\n    },\n    {\n      \"column\": \"label\",\n      \"properties\": {\n        \"dtype\": \"number\",\n        \"std\": 0,\n        \"min\": 0,\n        \"max\": 1,\n        \"num_unique_values\": 2,\n        \"samples\": [\n          0,\n          1\n        ],\n        \"semantic_type\": \"\",\n        \"description\": \"\"\n      }\n    },\n    {\n      \"column\": \"source\",\n      \"properties\": {\n        \"dtype\": \"category\",\n        \"num_unique_values\": 2,\n        \"samples\": [\n          \"Human\",\n          \"AI\"\n        ],\n        \"semantic_type\": \"\",\n        \"description\": \"\"\n      }\n    },\n    {\n      \"column\": \"detectgpt_score\",\n      \"properties\": {\n        \"dtype\": \"number\",\n        \"std\": 0.045210057946720485,\n        \"min\": 0.00025004148483276367,\n        \"max\": 0.3396959900856018,\n        \"num_unique_values\": 349,\n        \"samples\": [\n          0.02757948637008667,\n          0.0007118582725524902\n        ],\n        \"semantic_type\": \"\",\n        \"description\": \"\"\n      }\n    },\n    {\n      \"column\": \"radar_score\",\n      \"properties\": {\n        \"dtype\": \"number\",\n        \"std\": 0.3339409427173395,\n        \"min\": 0.0032587647438049316,\n        \"max\": 0.99356609582901,\n        \"num_unique_values\": 350,\n        \"samples\": [\n          0.02170085906982422,\n          0.3161104917526245\n        ],\n        \"semantic_type\": \"\",\n        \"description\": \"\"\n      }\n    }\n  ]\n}",
       "type": "dataframe",
       "variable_name": "combined_df"
      },
      "text/html": [
       "\n",
       "  <div id=\"df-0c17a736-294d-4ef9-bbd3-ac528a381e99\" class=\"colab-df-container\">\n",
       "    <div>\n",
       "<style scoped>\n",
       "    .dataframe tbody tr th:only-of-type {\n",
       "        vertical-align: middle;\n",
       "    }\n",
       "\n",
       "    .dataframe tbody tr th {\n",
       "        vertical-align: top;\n",
       "    }\n",
       "\n",
       "    .dataframe thead th {\n",
       "        text-align: right;\n",
       "    }\n",
       "</style>\n",
       "<table border=\"1\" class=\"dataframe\">\n",
       "  <thead>\n",
       "    <tr style=\"text-align: right;\">\n",
       "      <th></th>\n",
       "      <th>text</th>\n",
       "      <th>label</th>\n",
       "      <th>source</th>\n",
       "      <th>detectgpt_score</th>\n",
       "      <th>radar_score</th>\n",
       "    </tr>\n",
       "  </thead>\n",
       "  <tbody>\n",
       "    <tr>\n",
       "      <th>0</th>\n",
       "      <td>Since Erdős and Kleitman's seminal work from 1...</td>\n",
       "      <td>1</td>\n",
       "      <td>AI</td>\n",
       "      <td>0.000911</td>\n",
       "      <td>0.009735</td>\n",
       "    </tr>\n",
       "    <tr>\n",
       "      <th>1</th>\n",
       "      <td>The field of Artificial Intelligence (AI) and,...</td>\n",
       "      <td>0</td>\n",
       "      <td>Human</td>\n",
       "      <td>0.005574</td>\n",
       "      <td>0.119807</td>\n",
       "    </tr>\n",
       "    <tr>\n",
       "      <th>2</th>\n",
       "      <td>In this paper, we present the design, implemen...</td>\n",
       "      <td>0</td>\n",
       "      <td>Human</td>\n",
       "      <td>0.000514</td>\n",
       "      <td>0.008606</td>\n",
       "    </tr>\n",
       "    <tr>\n",
       "      <th>3</th>\n",
       "      <td>Fueled by the rapid development of communicati...</td>\n",
       "      <td>0</td>\n",
       "      <td>Human</td>\n",
       "      <td>0.035434</td>\n",
       "      <td>0.016804</td>\n",
       "    </tr>\n",
       "    <tr>\n",
       "      <th>4</th>\n",
       "      <td>This paper introduces Lamassu which is a new t...</td>\n",
       "      <td>1</td>\n",
       "      <td>AI</td>\n",
       "      <td>0.001695</td>\n",
       "      <td>0.098543</td>\n",
       "    </tr>\n",
       "  </tbody>\n",
       "</table>\n",
       "</div>\n",
       "    <div class=\"colab-df-buttons\">\n",
       "\n",
       "  <div class=\"colab-df-container\">\n",
       "    <button class=\"colab-df-convert\" onclick=\"convertToInteractive('df-0c17a736-294d-4ef9-bbd3-ac528a381e99')\"\n",
       "            title=\"Convert this dataframe to an interactive table.\"\n",
       "            style=\"display:none;\">\n",
       "\n",
       "  <svg xmlns=\"http://www.w3.org/2000/svg\" height=\"24px\" viewBox=\"0 -960 960 960\">\n",
       "    <path d=\"M120-120v-720h720v720H120Zm60-500h600v-160H180v160Zm220 220h160v-160H400v160Zm0 220h160v-160H400v160ZM180-400h160v-160H180v160Zm440 0h160v-160H620v160ZM180-180h160v-160H180v160Zm440 0h160v-160H620v160Z\"/>\n",
       "  </svg>\n",
       "    </button>\n",
       "\n",
       "  <style>\n",
       "    .colab-df-container {\n",
       "      display:flex;\n",
       "      gap: 12px;\n",
       "    }\n",
       "\n",
       "    .colab-df-convert {\n",
       "      background-color: #E8F0FE;\n",
       "      border: none;\n",
       "      border-radius: 50%;\n",
       "      cursor: pointer;\n",
       "      display: none;\n",
       "      fill: #1967D2;\n",
       "      height: 32px;\n",
       "      padding: 0 0 0 0;\n",
       "      width: 32px;\n",
       "    }\n",
       "\n",
       "    .colab-df-convert:hover {\n",
       "      background-color: #E2EBFA;\n",
       "      box-shadow: 0px 1px 2px rgba(60, 64, 67, 0.3), 0px 1px 3px 1px rgba(60, 64, 67, 0.15);\n",
       "      fill: #174EA6;\n",
       "    }\n",
       "\n",
       "    .colab-df-buttons div {\n",
       "      margin-bottom: 4px;\n",
       "    }\n",
       "\n",
       "    [theme=dark] .colab-df-convert {\n",
       "      background-color: #3B4455;\n",
       "      fill: #D2E3FC;\n",
       "    }\n",
       "\n",
       "    [theme=dark] .colab-df-convert:hover {\n",
       "      background-color: #434B5C;\n",
       "      box-shadow: 0px 1px 3px 1px rgba(0, 0, 0, 0.15);\n",
       "      filter: drop-shadow(0px 1px 2px rgba(0, 0, 0, 0.3));\n",
       "      fill: #FFFFFF;\n",
       "    }\n",
       "  </style>\n",
       "\n",
       "    <script>\n",
       "      const buttonEl =\n",
       "        document.querySelector('#df-0c17a736-294d-4ef9-bbd3-ac528a381e99 button.colab-df-convert');\n",
       "      buttonEl.style.display =\n",
       "        google.colab.kernel.accessAllowed ? 'block' : 'none';\n",
       "\n",
       "      async function convertToInteractive(key) {\n",
       "        const element = document.querySelector('#df-0c17a736-294d-4ef9-bbd3-ac528a381e99');\n",
       "        const dataTable =\n",
       "          await google.colab.kernel.invokeFunction('convertToInteractive',\n",
       "                                                    [key], {});\n",
       "        if (!dataTable) return;\n",
       "\n",
       "        const docLinkHtml = 'Like what you see? Visit the ' +\n",
       "          '<a target=\"_blank\" href=https://colab.research.google.com/notebooks/data_table.ipynb>data table notebook</a>'\n",
       "          + ' to learn more about interactive tables.';\n",
       "        element.innerHTML = '';\n",
       "        dataTable['output_type'] = 'display_data';\n",
       "        await google.colab.output.renderOutput(dataTable, element);\n",
       "        const docLink = document.createElement('div');\n",
       "        docLink.innerHTML = docLinkHtml;\n",
       "        element.appendChild(docLink);\n",
       "      }\n",
       "    </script>\n",
       "  </div>\n",
       "\n",
       "\n",
       "    <div id=\"df-8b843d18-1f64-423d-9090-7064b145673c\">\n",
       "      <button class=\"colab-df-quickchart\" onclick=\"quickchart('df-8b843d18-1f64-423d-9090-7064b145673c')\"\n",
       "                title=\"Suggest charts\"\n",
       "                style=\"display:none;\">\n",
       "\n",
       "<svg xmlns=\"http://www.w3.org/2000/svg\" height=\"24px\"viewBox=\"0 0 24 24\"\n",
       "     width=\"24px\">\n",
       "    <g>\n",
       "        <path d=\"M19 3H5c-1.1 0-2 .9-2 2v14c0 1.1.9 2 2 2h14c1.1 0 2-.9 2-2V5c0-1.1-.9-2-2-2zM9 17H7v-7h2v7zm4 0h-2V7h2v10zm4 0h-2v-4h2v4z\"/>\n",
       "    </g>\n",
       "</svg>\n",
       "      </button>\n",
       "\n",
       "<style>\n",
       "  .colab-df-quickchart {\n",
       "      --bg-color: #E8F0FE;\n",
       "      --fill-color: #1967D2;\n",
       "      --hover-bg-color: #E2EBFA;\n",
       "      --hover-fill-color: #174EA6;\n",
       "      --disabled-fill-color: #AAA;\n",
       "      --disabled-bg-color: #DDD;\n",
       "  }\n",
       "\n",
       "  [theme=dark] .colab-df-quickchart {\n",
       "      --bg-color: #3B4455;\n",
       "      --fill-color: #D2E3FC;\n",
       "      --hover-bg-color: #434B5C;\n",
       "      --hover-fill-color: #FFFFFF;\n",
       "      --disabled-bg-color: #3B4455;\n",
       "      --disabled-fill-color: #666;\n",
       "  }\n",
       "\n",
       "  .colab-df-quickchart {\n",
       "    background-color: var(--bg-color);\n",
       "    border: none;\n",
       "    border-radius: 50%;\n",
       "    cursor: pointer;\n",
       "    display: none;\n",
       "    fill: var(--fill-color);\n",
       "    height: 32px;\n",
       "    padding: 0;\n",
       "    width: 32px;\n",
       "  }\n",
       "\n",
       "  .colab-df-quickchart:hover {\n",
       "    background-color: var(--hover-bg-color);\n",
       "    box-shadow: 0 1px 2px rgba(60, 64, 67, 0.3), 0 1px 3px 1px rgba(60, 64, 67, 0.15);\n",
       "    fill: var(--button-hover-fill-color);\n",
       "  }\n",
       "\n",
       "  .colab-df-quickchart-complete:disabled,\n",
       "  .colab-df-quickchart-complete:disabled:hover {\n",
       "    background-color: var(--disabled-bg-color);\n",
       "    fill: var(--disabled-fill-color);\n",
       "    box-shadow: none;\n",
       "  }\n",
       "\n",
       "  .colab-df-spinner {\n",
       "    border: 2px solid var(--fill-color);\n",
       "    border-color: transparent;\n",
       "    border-bottom-color: var(--fill-color);\n",
       "    animation:\n",
       "      spin 1s steps(1) infinite;\n",
       "  }\n",
       "\n",
       "  @keyframes spin {\n",
       "    0% {\n",
       "      border-color: transparent;\n",
       "      border-bottom-color: var(--fill-color);\n",
       "      border-left-color: var(--fill-color);\n",
       "    }\n",
       "    20% {\n",
       "      border-color: transparent;\n",
       "      border-left-color: var(--fill-color);\n",
       "      border-top-color: var(--fill-color);\n",
       "    }\n",
       "    30% {\n",
       "      border-color: transparent;\n",
       "      border-left-color: var(--fill-color);\n",
       "      border-top-color: var(--fill-color);\n",
       "      border-right-color: var(--fill-color);\n",
       "    }\n",
       "    40% {\n",
       "      border-color: transparent;\n",
       "      border-right-color: var(--fill-color);\n",
       "      border-top-color: var(--fill-color);\n",
       "    }\n",
       "    60% {\n",
       "      border-color: transparent;\n",
       "      border-right-color: var(--fill-color);\n",
       "    }\n",
       "    80% {\n",
       "      border-color: transparent;\n",
       "      border-right-color: var(--fill-color);\n",
       "      border-bottom-color: var(--fill-color);\n",
       "    }\n",
       "    90% {\n",
       "      border-color: transparent;\n",
       "      border-bottom-color: var(--fill-color);\n",
       "    }\n",
       "  }\n",
       "</style>\n",
       "\n",
       "      <script>\n",
       "        async function quickchart(key) {\n",
       "          const quickchartButtonEl =\n",
       "            document.querySelector('#' + key + ' button');\n",
       "          quickchartButtonEl.disabled = true;  // To prevent multiple clicks.\n",
       "          quickchartButtonEl.classList.add('colab-df-spinner');\n",
       "          try {\n",
       "            const charts = await google.colab.kernel.invokeFunction(\n",
       "                'suggestCharts', [key], {});\n",
       "          } catch (error) {\n",
       "            console.error('Error during call to suggestCharts:', error);\n",
       "          }\n",
       "          quickchartButtonEl.classList.remove('colab-df-spinner');\n",
       "          quickchartButtonEl.classList.add('colab-df-quickchart-complete');\n",
       "        }\n",
       "        (() => {\n",
       "          let quickchartButtonEl =\n",
       "            document.querySelector('#df-8b843d18-1f64-423d-9090-7064b145673c button');\n",
       "          quickchartButtonEl.style.display =\n",
       "            google.colab.kernel.accessAllowed ? 'block' : 'none';\n",
       "        })();\n",
       "      </script>\n",
       "    </div>\n",
       "\n",
       "    </div>\n",
       "  </div>\n"
      ],
      "text/plain": [
       "                                                text  label source  \\\n",
       "0  Since Erdős and Kleitman's seminal work from 1...      1     AI   \n",
       "1  The field of Artificial Intelligence (AI) and,...      0  Human   \n",
       "2  In this paper, we present the design, implemen...      0  Human   \n",
       "3  Fueled by the rapid development of communicati...      0  Human   \n",
       "4  This paper introduces Lamassu which is a new t...      1     AI   \n",
       "\n",
       "   detectgpt_score  radar_score  \n",
       "0         0.000911     0.009735  \n",
       "1         0.005574     0.119807  \n",
       "2         0.000514     0.008606  \n",
       "3         0.035434     0.016804  \n",
       "4         0.001695     0.098543  "
      ]
     },
     "execution_count": 76,
     "metadata": {},
     "output_type": "execute_result"
    }
   ],
   "source": [
    "combined_df.head()"
   ]
  },
  {
   "cell_type": "markdown",
   "metadata": {
    "id": "e2pKscf40gbZ"
   },
   "source": [
    "### RADAR - getting labels"
   ]
  },
  {
   "cell_type": "code",
   "execution_count": null,
   "metadata": {
    "id": "lpdW3PQUrDDP"
   },
   "outputs": [],
   "source": [
    "class Radar():\n",
    "    def __init__(self, device=\"cuda\"):\n",
    "        self.judge_model = pipeline(\n",
    "            \"text-classification\",\n",
    "            model=\"TrustSafeAI/RADAR-Vicuna-7B\",\n",
    "            tokenizer=\"TrustSafeAI/RADAR-Vicuna-7B\",\n",
    "            max_length=512,\n",
    "            padding='max_length',\n",
    "            truncation=True,\n",
    "            device=device,\n",
    "        )\n",
    "\n",
    "    def score(self, response_list):\n",
    "        scores = self.judge_model(response_list)\n",
    "        return [score[\"label\"] for score in scores]"
   ]
  },
  {
   "cell_type": "markdown",
   "metadata": {
    "id": "JXZqGRt70i0o"
   },
   "source": [
    "### DetectGPT - getting labels"
   ]
  },
  {
   "cell_type": "code",
   "execution_count": null,
   "metadata": {
    "id": "wPpE2kQQrHUo"
   },
   "outputs": [],
   "source": [
    "class DetectGPT():\n",
    "    def __init__(self, device=\"cpu\"):\n",
    "        self.device = device\n",
    "        self.judge_model = None\n",
    "\n",
    "    def _load_model(self):\n",
    "        if self.judge_model is None:\n",
    "            print(\"Loading DetectGPT model...\")\n",
    "            self.judge_model = pipeline(\n",
    "                \"text-classification\",\n",
    "                model=\"Hello-SimpleAI/chatgpt-detector-roberta\",  # Example model\n",
    "                tokenizer=\"Hello-SimpleAI/chatgpt-detector-roberta\",\n",
    "                max_length=512,\n",
    "                padding='max_length',\n",
    "                truncation=True,\n",
    "                device=self.device,\n",
    "            )\n",
    "            print(\"DetectGPT model loaded successfully\")\n",
    "\n",
    "    def score(self, response_list):\n",
    "        self._load_model()\n",
    "        scores = self.judge_model(response_list)\n",
    "        return [score[\"label\"] for score in scores]"
   ]
  },
  {
   "cell_type": "code",
   "execution_count": null,
   "metadata": {
    "id": "BiIdBjq6rJoF"
   },
   "outputs": [],
   "source": [
    "df = pd.read_csv('authormist_scored.csv')\n",
    "responses = df['text'].tolist()\n",
    "\n",
    "def get_scores(judge):\n",
    "    return judge.score(responses)"
   ]
  },
  {
   "cell_type": "code",
   "execution_count": null,
   "metadata": {
    "colab": {
     "base_uri": "https://localhost:8080/"
    },
    "id": "CTSsbsFdrMD-",
    "outputId": "710c6519-3aba-4113-ded0-fd5f7671539f"
   },
   "outputs": [
    {
     "name": "stderr",
     "output_type": "stream",
     "text": [
      "Device set to use cuda\n"
     ]
    },
    {
     "name": "stdout",
     "output_type": "stream",
     "text": [
      "Loading DetectGPT model...\n"
     ]
    },
    {
     "name": "stderr",
     "output_type": "stream",
     "text": [
      "Device set to use cpu\n"
     ]
    },
    {
     "name": "stdout",
     "output_type": "stream",
     "text": [
      "DetectGPT model loaded successfully\n"
     ]
    }
   ],
   "source": [
    "judge = Radar()\n",
    "scores_radar = get_scores(judge)\n",
    "judge = DetectGPT()\n",
    "scores_detectgpt = get_scores(judge)\n",
    "\n",
    "combined_df = pd.read_csv('authormist_scored.csv')\n",
    "combined_df['detectgpt_labels'] = scores_detectgpt\n",
    "combined_df['radar_labels'] = scores_radar\n",
    "combined_df.to_csv('authormist_scored.csv', index=False)"
   ]
  },
  {
   "cell_type": "markdown",
   "metadata": {
    "id": "DkO1jxIB0pvU"
   },
   "source": [
    "## AUROC scores on RADAR and DetectGPT Scores"
   ]
  },
  {
   "cell_type": "code",
   "execution_count": null,
   "metadata": {
    "colab": {
     "base_uri": "https://localhost:8080/"
    },
    "id": "UeC1fP1Ka9JU",
    "outputId": "0c620076-a33c-44a3-9d19-5459f3bea7b3"
   },
   "outputs": [
    {
     "name": "stdout",
     "output_type": "stream",
     "text": [
      "RADAR AUROC Score: 0.903800\n",
      "DETECTGPT AUROC Score: 0.467617\n"
     ]
    }
   ],
   "source": [
    "import numpy as np\n",
    "from sklearn.metrics import roc_auc_score\n",
    "\n",
    "auroc_radar = roc_auc_score(combined_df['label'], combined_df['radar_score'])\n",
    "print(f\"RADAR AUROC Score: {auroc_radar:.6f}\")\n",
    "auroc_detectgpt = roc_auc_score(combined_df['label'], combined_df['detectgpt_score'])\n",
    "print(f\"DETECTGPT AUROC Score: {auroc_detectgpt:.6f}\")"
   ]
  },
  {
   "cell_type": "markdown",
   "metadata": {
    "id": "6PEIk3zcu60V"
   },
   "source": [
    "###More RADAR Metrics"
   ]
  },
  {
   "cell_type": "code",
   "execution_count": null,
   "metadata": {
    "colab": {
     "base_uri": "https://localhost:8080/"
    },
    "id": "LAdWMbkQjDpK",
    "outputId": "a0734827-73cf-419d-b37c-23ff01764e0e"
   },
   "outputs": [
    {
     "name": "stdout",
     "output_type": "stream",
     "text": [
      "True Negatives: 1\n",
      "False Positives: 149\n",
      "False Negatives: 87\n",
      "True Positives: 113\n",
      "Precision: 0.431298\n",
      "Recall: 0.565000\n",
      "F1 Score: 0.489177\n",
      "Accuracy: 0.325714\n",
      "Attack Success Rate: 0.435000\n"
     ]
    }
   ],
   "source": [
    "from sklearn.metrics import f1_score, precision_score, recall_score, accuracy_score, confusion_matrix\n",
    "\n",
    "# 1. Convert radar labels into binary labels\n",
    "binary_predictions = (combined_df['radar_labels'] == \"LABEL_1\").astype(int)\n",
    "\n",
    "# 2. Confusion matrix\n",
    "tn, fp, fn, tp = confusion_matrix(combined_df['label'], binary_predictions).ravel()\n",
    "\n",
    "print(\"True Negatives:\", tn)\n",
    "print(\"False Positives:\", fp)\n",
    "print(\"False Negatives:\", fn)\n",
    "print(\"True Positives:\", tp)\n",
    "\n",
    "# 3. Metrics\n",
    "precision = precision_score(combined_df['label'], binary_predictions)\n",
    "recall = recall_score(combined_df['label'], binary_predictions)\n",
    "f1 = f1_score(combined_df['label'], binary_predictions)\n",
    "accuracy = accuracy_score(combined_df['label'], binary_predictions)\n",
    "\n",
    "print(f\"Precision: {precision:.6f}\")\n",
    "print(f\"Recall: {recall:.6f}\")\n",
    "print(f\"F1 Score: {f1:.6f}\")\n",
    "print(f\"Accuracy: {accuracy:.6f}\")\n",
    "\n",
    "# 4. Attack Success Rate (ASR)\n",
    "# ASR = fraction of \"AIs misclassified as Human\" = FN / (TP + FN)\n",
    "asr = fn / (tp + fn) if (tp + fn) > 0 else 0\n",
    "print(f\"Attack Success Rate: {asr:.6f}\")\n"
   ]
  },
  {
   "cell_type": "markdown",
   "metadata": {
    "id": "Ide7faqdvIiJ"
   },
   "source": [
    "### DetectGPT Metrics"
   ]
  },
  {
   "cell_type": "code",
   "execution_count": null,
   "metadata": {
    "colab": {
     "base_uri": "https://localhost:8080/"
    },
    "id": "-EF3jn7GjSaO",
    "outputId": "4aecbf3c-061a-4476-d37e-f9ea78b52f7d"
   },
   "outputs": [
    {
     "name": "stdout",
     "output_type": "stream",
     "text": [
      "True Negatives: 149\n",
      "False Positives: 1\n",
      "False Negatives: 194\n",
      "True Positives: 6\n",
      "Precision: 0.857143\n",
      "Recall: 0.030000\n",
      "F1 Score: 0.057971\n",
      "Accuracy: 0.442857\n",
      "Attack Success Rate: 0.970000\n"
     ]
    }
   ],
   "source": [
    "from sklearn.metrics import f1_score, precision_score, recall_score, accuracy_score, confusion_matrix\n",
    "\n",
    "# 1. Map detectgpt labels to 0/1\n",
    "binary_predictions = (combined_df['detectgpt_labels'] == \"ChatGPT\").astype(int)\n",
    "\n",
    "# 2. Get confusion matrix\n",
    "tn, fp, fn, tp = confusion_matrix(combined_df['label'], binary_predictions).ravel()\n",
    "\n",
    "print(\"True Negatives:\", tn)\n",
    "print(\"False Positives:\", fp)\n",
    "print(\"False Negatives:\", fn)\n",
    "print(\"True Positives:\", tp)\n",
    "\n",
    "# 3. Compute metrics\n",
    "precision = precision_score(combined_df['label'], binary_predictions)\n",
    "recall = recall_score(combined_df['label'], binary_predictions)\n",
    "f1 = f1_score(combined_df['label'], binary_predictions)\n",
    "accuracy = accuracy_score(combined_df['label'], binary_predictions)\n",
    "\n",
    "print(f\"Precision: {precision:.6f}\")\n",
    "print(f\"Recall: {recall:.6f}\")\n",
    "print(f\"F1 Score: {f1:.6f}\")\n",
    "print(f\"Accuracy: {accuracy:.6f}\")\n",
    "\n",
    "# 4. Attack Success Rate (ASR)\n",
    "asr = fn / (tp + fn) if (tp + fn) > 0 else 0\n",
    "print(f\"Attack Success Rate: {asr:.6f}\")\n"
   ]
  },
  {
   "cell_type": "markdown",
   "metadata": {
    "id": "97_bV6cT0w0z"
   },
   "source": [
    "### Plots"
   ]
  },
  {
   "cell_type": "code",
   "execution_count": null,
   "metadata": {
    "colab": {
     "base_uri": "https://localhost:8080/",
     "height": 564
    },
    "id": "N4pM9gn9vLqK",
    "outputId": "69849c93-eed9-4acc-f5b4-ae19c87c8f49"
   },
   "outputs": [
    {
     "data": {
      "image/png": "[encoded data removed]",
      "text/plain": [
       "<Figure size 1000x600 with 1 Axes>"
      ]
     },
     "metadata": {},
     "output_type": "display_data"
    }
   ],
   "source": [
    "import pandas as pd\n",
    "import matplotlib.pyplot as plt\n",
    "import seaborn as sns\n",
    "\n",
    "model_col = \"source\"\n",
    "score_col = \"radar_score\"\n",
    "\n",
    "models = combined_df[model_col].unique()\n",
    "\n",
    "# Plot KDE for smooth distributions\n",
    "plt.figure(figsize=(10, 6))\n",
    "for model in models:\n",
    "    subset = combined_df[combined_df[model_col] == model]\n",
    "    sns.kdeplot(subset[score_col].dropna(), label=model, fill=True, alpha=0.4)  # Fill for better visibility\n",
    "\n",
    "# Add labels and title\n",
    "plt.xlabel(\"RADAR Score\")\n",
    "plt.ylabel(\"Density\")\n",
    "plt.title(\"Distribution of RADAR Scores by Model\")\n",
    "plt.legend(title=\"Models\")\n",
    "\n",
    "# Show plot\n",
    "plt.show()"
   ]
  },
  {
   "cell_type": "code",
   "execution_count": null,
   "metadata": {
    "colab": {
     "base_uri": "https://localhost:8080/",
     "height": 564
    },
    "id": "bmPxHGTw6UlF",
    "outputId": "b80ec6bb-f842-4367-cdc3-8656a19a61bd"
   },
   "outputs": [
    {
     "data": {
      "image/png": "[encoded data removed]",
      "text/plain": [
       "<Figure size 1000x600 with 1 Axes>"
      ]
     },
     "metadata": {},
     "output_type": "display_data"
    }
   ],
   "source": [
    "import pandas as pd\n",
    "import matplotlib.pyplot as plt\n",
    "import seaborn as sns\n",
    "\n",
    "model_col = \"source\"\n",
    "score_col = \"detectgpt_score\"\n",
    "\n",
    "models = combined_df[model_col].unique()\n",
    "\n",
    "# Plot KDE for smooth distributions\n",
    "plt.figure(figsize=(10, 6))\n",
    "for model in models:\n",
    "    subset = combined_df[combined_df[model_col] == model]\n",
    "    sns.kdeplot(subset[score_col].dropna(), label=model, fill=True, alpha=0.4)  # Fill for better visibility\n",
    "\n",
    "# Add labels and title\n",
    "plt.xlabel(\"DetectGPT Score\")\n",
    "plt.ylabel(\"Density\")\n",
    "plt.title(\"Distribution of DetectGPT Scores by Model\")\n",
    "plt.legend(title=\"Models\")\n",
    "\n",
    "# Show plot\n",
    "plt.show()"
   ]
  },
  {
   "cell_type": "code",
   "execution_count": null,
   "metadata": {
    "colab": {
     "base_uri": "https://localhost:8080/",
     "height": 725
    },
    "id": "7aqdKkXplhtB",
    "outputId": "2a0495bd-802b-4104-d3d0-4b5db18c4dfb"
   },
   "outputs": [
    {
     "data": {
      "image/png": "[encoded data removed]",
      "text/plain": [
       "<Figure size 1000x800 with 1 Axes>"
      ]
     },
     "metadata": {},
     "output_type": "display_data"
    }
   ],
   "source": [
    "from sklearn.metrics import roc_curve\n",
    "\n",
    "# Calculate ROC curve points for both detectors\n",
    "fpr_radar, tpr_radar, _ = roc_curve(combined_df['label'], combined_df['radar_score'])\n",
    "fpr_wild, tpr_wild, _ = roc_curve(combined_df['label'], combined_df['detectgpt_score'])\n",
    "\n",
    "# Create a figure with appropriate size\n",
    "plt.figure(figsize=(10, 8))\n",
    "\n",
    "# Plot both ROC curves\n",
    "plt.plot(fpr_radar, tpr_radar, color='blue', lw=2,\n",
    "         label=f'RADAR (AUROC = {auroc_radar:.4f})')\n",
    "plt.plot(fpr_wild, tpr_wild, color='red', lw=2,\n",
    "         label=f'DETECTGPT (AUROC = {auroc_detectgpt:.4f})')\n",
    "\n",
    "# Plot the diagonal reference line\n",
    "plt.plot([0, 1], [0, 1], color='gray', lw=1, linestyle='--')\n",
    "\n",
    "# Add labels and formatting\n",
    "plt.xlim([0.0, 1.0])\n",
    "plt.ylim([0.0, 1.05])\n",
    "plt.xlabel('False Positive Rate', fontsize=14)\n",
    "plt.ylabel('True Positive Rate', fontsize=14)\n",
    "plt.title('ROC Curves for AI Text Detection Models', fontsize=16)\n",
    "plt.legend(loc=\"lower right\", fontsize=12)\n",
    "plt.grid(True, alpha=0.3)\n",
    "\n",
    "# Show the plot\n",
    "plt.show()"
   ]
  },
  {
   "cell_type": "code",
   "execution_count": null,
   "metadata": {
    "colab": {
     "base_uri": "https://localhost:8080/",
     "height": 564
    },
    "id": "Dd5Wmva82IWr",
    "outputId": "e6a32893-bda0-4f22-87e4-125c16d5e33c"
   },
   "outputs": [
    {
     "data": {
      "image/png": "[encoded data removed]",
      "text/plain": [
       "<Figure size 1000x600 with 1 Axes>"
      ]
     },
     "metadata": {},
     "output_type": "display_data"
    }
   ],
   "source": [
    "import pandas as pd\n",
    "import matplotlib.pyplot as plt\n",
    "import seaborn as sns\n",
    "import numpy as np\n",
    "\n",
    "model_col = \"source\"\n",
    "score_col = \"radar_score\"\n",
    "\n",
    "models = combined_df[model_col].unique()\n",
    "\n",
    "plt.figure(figsize=(10, 6))\n",
    "\n",
    "# Loop through Human and AI separately\n",
    "for model in models:\n",
    "    subset = combined_df[combined_df[model_col] == model]\n",
    "    scores = subset[score_col].dropna()\n",
    "    sorted_scores = np.sort(scores)\n",
    "    cdf = np.arange(1, len(sorted_scores)+1) / len(sorted_scores)\n",
    "    plt.plot(sorted_scores, cdf, label=model)\n",
    "\n",
    "# Add labels and title\n",
    "plt.xlabel(\"RADAR Score\")\n",
    "plt.ylabel(\"Cumulative Probability\")\n",
    "plt.title(\"CDF of RADAR Scores by Model\")\n",
    "plt.legend(title=\"Models\")\n",
    "plt.grid(True)\n",
    "plt.show()\n"
   ]
  },
  {
   "cell_type": "code",
   "execution_count": null,
   "metadata": {
    "colab": {
     "base_uri": "https://localhost:8080/",
     "height": 564
    },
    "id": "-VIvUuXyxMDL",
    "outputId": "e227e8b8-cca4-4153-817c-3698968fb01e"
   },
   "outputs": [
    {
     "data": {
      "image/png": "[encoded data removed]",
      "text/plain": [
       "<Figure size 1000x600 with 1 Axes>"
      ]
     },
     "metadata": {},
     "output_type": "display_data"
    }
   ],
   "source": [
    "import pandas as pd\n",
    "import matplotlib.pyplot as plt\n",
    "import seaborn as sns\n",
    "import numpy as np\n",
    "\n",
    "model_col = \"source\"\n",
    "score_col = \"detectgpt_score\"\n",
    "\n",
    "models = combined_df[model_col].unique()\n",
    "\n",
    "plt.figure(figsize=(10, 6))\n",
    "\n",
    "# Loop through Human and AI separately\n",
    "for model in models:\n",
    "    subset = combined_df[combined_df[model_col] == model]\n",
    "    scores = subset[score_col].dropna()\n",
    "    sorted_scores = np.sort(scores)\n",
    "    cdf = np.arange(1, len(sorted_scores)+1) / len(sorted_scores)\n",
    "    plt.plot(sorted_scores, cdf, label=model)\n",
    "\n",
    "# Add labels and title\n",
    "plt.xlabel(\"DetectGPT Score\")\n",
    "plt.ylabel(\"Cumulative Probability\")\n",
    "plt.title(\"CDF of DetectGPT Scores by Model\")\n",
    "plt.legend(title=\"Models\")\n",
    "plt.grid(True)\n",
    "plt.show()"
   ]
  },
  {
   "cell_type": "code",
   "execution_count": null,
   "metadata": {
    "id": "SUh31cfa2V5q"
   },
   "outputs": [],
   "source": []
  }
 ],
 "metadata": {
  "accelerator": "GPU",
  "colab": {
   "gpuType": "A100",
   "machine_shape": "hm",
   "provenance": []
  },
  "kernelspec": {
   "display_name": "Python 3",
   "name": "python3"
  },
  "language_info": {
   "name": "python"
  }
 },
 "nbformat": 4,
 "nbformat_minor": 0
}
