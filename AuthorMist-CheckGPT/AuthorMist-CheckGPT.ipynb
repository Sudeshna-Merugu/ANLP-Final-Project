{
  "nbformat": 4,
  "nbformat_minor": 0,
  "metadata": {
    "colab": {
      "provenance": [],
      "gpuType": "A100"
    },
    "kernelspec": {
      "name": "python3",
      "display_name": "Python 3"
    },
    "language_info": {
      "name": "python"
    },
    "accelerator": "GPU",
    "widgets": {
      "application/vnd.jupyter.widget-state+json": {
        "7069881b32354cc4a64c6eb8d8d2c39d": {
          "model_module": "@jupyter-widgets/controls",
          "model_name": "HBoxModel",
          "model_module_version": "1.5.0",
          "state": {
            "_dom_classes": [],
            "_model_module": "@jupyter-widgets/controls",
            "_model_module_version": "1.5.0",
            "_model_name": "HBoxModel",
            "_view_count": null,
            "_view_module": "@jupyter-widgets/controls",
            "_view_module_version": "1.5.0",
            "_view_name": "HBoxView",
            "box_style": "",
            "children": [
              "IPY_MODEL_da3eab67bfd4477e8fcb1615a28d906e",
              "IPY_MODEL_b0bfcd634e1e487a934cf648fc02806f",
              "IPY_MODEL_a7988bb68c164802adc6aaa1de600b08"
            ],
            "layout": "IPY_MODEL_07a0589b5bea41afb86e6cccc622485e"
          }
        },
        "da3eab67bfd4477e8fcb1615a28d906e": {
          "model_module": "@jupyter-widgets/controls",
          "model_name": "HTMLModel",
          "model_module_version": "1.5.0",
          "state": {
            "_dom_classes": [],
            "_model_module": "@jupyter-widgets/controls",
            "_model_module_version": "1.5.0",
            "_model_name": "HTMLModel",
            "_view_count": null,
            "_view_module": "@jupyter-widgets/controls",
            "_view_module_version": "1.5.0",
            "_view_name": "HTMLView",
            "description": "",
            "description_tooltip": null,
            "layout": "IPY_MODEL_914ed57b749047e0a8a0085591f057c8",
            "placeholder": "​",
            "style": "IPY_MODEL_344d8647bc3b44f68a75d9e58285590a",
            "value": "Loading checkpoint shards: 100%"
          }
        },
        "b0bfcd634e1e487a934cf648fc02806f": {
          "model_module": "@jupyter-widgets/controls",
          "model_name": "FloatProgressModel",
          "model_module_version": "1.5.0",
          "state": {
            "_dom_classes": [],
            "_model_module": "@jupyter-widgets/controls",
            "_model_module_version": "1.5.0",
            "_model_name": "FloatProgressModel",
            "_view_count": null,
            "_view_module": "@jupyter-widgets/controls",
            "_view_module_version": "1.5.0",
            "_view_name": "ProgressView",
            "bar_style": "success",
            "description": "",
            "description_tooltip": null,
            "layout": "IPY_MODEL_2565b59c1cbf463a9a0f789459c34cea",
            "max": 3,
            "min": 0,
            "orientation": "horizontal",
            "style": "IPY_MODEL_c726240c3c3d4fb096e1a9c6469b7d17",
            "value": 3
          }
        },
        "a7988bb68c164802adc6aaa1de600b08": {
          "model_module": "@jupyter-widgets/controls",
          "model_name": "HTMLModel",
          "model_module_version": "1.5.0",
          "state": {
            "_dom_classes": [],
            "_model_module": "@jupyter-widgets/controls",
            "_model_module_version": "1.5.0",
            "_model_name": "HTMLModel",
            "_view_count": null,
            "_view_module": "@jupyter-widgets/controls",
            "_view_module_version": "1.5.0",
            "_view_name": "HTMLView",
            "description": "",
            "description_tooltip": null,
            "layout": "IPY_MODEL_1d84505bf7624f7aad270f72fae16bc8",
            "placeholder": "​",
            "style": "IPY_MODEL_8acf2eae62f44e77971c1b9651ad35e0",
            "value": " 3/3 [00:00&lt;00:00, 18.61it/s]"
          }
        },
        "07a0589b5bea41afb86e6cccc622485e": {
          "model_module": "@jupyter-widgets/base",
          "model_name": "LayoutModel",
          "model_module_version": "1.2.0",
          "state": {
            "_model_module": "@jupyter-widgets/base",
            "_model_module_version": "1.2.0",
            "_model_name": "LayoutModel",
            "_view_count": null,
            "_view_module": "@jupyter-widgets/base",
            "_view_module_version": "1.2.0",
            "_view_name": "LayoutView",
            "align_content": null,
            "align_items": null,
            "align_self": null,
            "border": null,
            "bottom": null,
            "display": null,
            "flex": null,
            "flex_flow": null,
            "grid_area": null,
            "grid_auto_columns": null,
            "grid_auto_flow": null,
            "grid_auto_rows": null,
            "grid_column": null,
            "grid_gap": null,
            "grid_row": null,
            "grid_template_areas": null,
            "grid_template_columns": null,
            "grid_template_rows": null,
            "height": null,
            "justify_content": null,
            "justify_items": null,
            "left": null,
            "margin": null,
            "max_height": null,
            "max_width": null,
            "min_height": null,
            "min_width": null,
            "object_fit": null,
            "object_position": null,
            "order": null,
            "overflow": null,
            "overflow_x": null,
            "overflow_y": null,
            "padding": null,
            "right": null,
            "top": null,
            "visibility": null,
            "width": null
          }
        },
        "914ed57b749047e0a8a0085591f057c8": {
          "model_module": "@jupyter-widgets/base",
          "model_name": "LayoutModel",
          "model_module_version": "1.2.0",
          "state": {
            "_model_module": "@jupyter-widgets/base",
            "_model_module_version": "1.2.0",
            "_model_name": "LayoutModel",
            "_view_count": null,
            "_view_module": "@jupyter-widgets/base",
            "_view_module_version": "1.2.0",
            "_view_name": "LayoutView",
            "align_content": null,
            "align_items": null,
            "align_self": null,
            "border": null,
            "bottom": null,
            "display": null,
            "flex": null,
            "flex_flow": null,
            "grid_area": null,
            "grid_auto_columns": null,
            "grid_auto_flow": null,
            "grid_auto_rows": null,
            "grid_column": null,
            "grid_gap": null,
            "grid_row": null,
            "grid_template_areas": null,
            "grid_template_columns": null,
            "grid_template_rows": null,
            "height": null,
            "justify_content": null,
            "justify_items": null,
            "left": null,
            "margin": null,
            "max_height": null,
            "max_width": null,
            "min_height": null,
            "min_width": null,
            "object_fit": null,
            "object_position": null,
            "order": null,
            "overflow": null,
            "overflow_x": null,
            "overflow_y": null,
            "padding": null,
            "right": null,
            "top": null,
            "visibility": null,
            "width": null
          }
        },
        "344d8647bc3b44f68a75d9e58285590a": {
          "model_module": "@jupyter-widgets/controls",
          "model_name": "DescriptionStyleModel",
          "model_module_version": "1.5.0",
          "state": {
            "_model_module": "@jupyter-widgets/controls",
            "_model_module_version": "1.5.0",
            "_model_name": "DescriptionStyleModel",
            "_view_count": null,
            "_view_module": "@jupyter-widgets/base",
            "_view_module_version": "1.2.0",
            "_view_name": "StyleView",
            "description_width": ""
          }
        },
        "2565b59c1cbf463a9a0f789459c34cea": {
          "model_module": "@jupyter-widgets/base",
          "model_name": "LayoutModel",
          "model_module_version": "1.2.0",
          "state": {
            "_model_module": "@jupyter-widgets/base",
            "_model_module_version": "1.2.0",
            "_model_name": "LayoutModel",
            "_view_count": null,
            "_view_module": "@jupyter-widgets/base",
            "_view_module_version": "1.2.0",
            "_view_name": "LayoutView",
            "align_content": null,
            "align_items": null,
            "align_self": null,
            "border": null,
            "bottom": null,
            "display": null,
            "flex": null,
            "flex_flow": null,
            "grid_area": null,
            "grid_auto_columns": null,
            "grid_auto_flow": null,
            "grid_auto_rows": null,
            "grid_column": null,
            "grid_gap": null,
            "grid_row": null,
            "grid_template_areas": null,
            "grid_template_columns": null,
            "grid_template_rows": null,
            "height": null,
            "justify_content": null,
            "justify_items": null,
            "left": null,
            "margin": null,
            "max_height": null,
            "max_width": null,
            "min_height": null,
            "min_width": null,
            "object_fit": null,
            "object_position": null,
            "order": null,
            "overflow": null,
            "overflow_x": null,
            "overflow_y": null,
            "padding": null,
            "right": null,
            "top": null,
            "visibility": null,
            "width": null
          }
        },
        "c726240c3c3d4fb096e1a9c6469b7d17": {
          "model_module": "@jupyter-widgets/controls",
          "model_name": "ProgressStyleModel",
          "model_module_version": "1.5.0",
          "state": {
            "_model_module": "@jupyter-widgets/controls",
            "_model_module_version": "1.5.0",
            "_model_name": "ProgressStyleModel",
            "_view_count": null,
            "_view_module": "@jupyter-widgets/base",
            "_view_module_version": "1.2.0",
            "_view_name": "StyleView",
            "bar_color": null,
            "description_width": ""
          }
        },
        "1d84505bf7624f7aad270f72fae16bc8": {
          "model_module": "@jupyter-widgets/base",
          "model_name": "LayoutModel",
          "model_module_version": "1.2.0",
          "state": {
            "_model_module": "@jupyter-widgets/base",
            "_model_module_version": "1.2.0",
            "_model_name": "LayoutModel",
            "_view_count": null,
            "_view_module": "@jupyter-widgets/base",
            "_view_module_version": "1.2.0",
            "_view_name": "LayoutView",
            "align_content": null,
            "align_items": null,
            "align_self": null,
            "border": null,
            "bottom": null,
            "display": null,
            "flex": null,
            "flex_flow": null,
            "grid_area": null,
            "grid_auto_columns": null,
            "grid_auto_flow": null,
            "grid_auto_rows": null,
            "grid_column": null,
            "grid_gap": null,
            "grid_row": null,
            "grid_template_areas": null,
            "grid_template_columns": null,
            "grid_template_rows": null,
            "height": null,
            "justify_content": null,
            "justify_items": null,
            "left": null,
            "margin": null,
            "max_height": null,
            "max_width": null,
            "min_height": null,
            "min_width": null,
            "object_fit": null,
            "object_position": null,
            "order": null,
            "overflow": null,
            "overflow_x": null,
            "overflow_y": null,
            "padding": null,
            "right": null,
            "top": null,
            "visibility": null,
            "width": null
          }
        },
        "8acf2eae62f44e77971c1b9651ad35e0": {
          "model_module": "@jupyter-widgets/controls",
          "model_name": "DescriptionStyleModel",
          "model_module_version": "1.5.0",
          "state": {
            "_model_module": "@jupyter-widgets/controls",
            "_model_module_version": "1.5.0",
            "_model_name": "DescriptionStyleModel",
            "_view_count": null,
            "_view_module": "@jupyter-widgets/base",
            "_view_module_version": "1.2.0",
            "_view_name": "StyleView",
            "description_width": ""
          }
        }
      }
    }
  },
  "cells": [
    {
      "cell_type": "code",
      "source": [
        "!git clone https://github.com/liuzey/CheckGPT-v2.git"
      ],
      "metadata": {
        "colab": {
          "base_uri": "https://localhost:8080/"
        },
        "id": "_Y7EH_cbhgQ5",
        "outputId": "8f5875bc-43ca-4ea4-9ce5-63380a65d7a2"
      },
      "execution_count": 1,
      "outputs": [
        {
          "output_type": "stream",
          "name": "stdout",
          "text": [
            "Cloning into 'CheckGPT-v2'...\n",
            "remote: Enumerating objects: 145, done.\u001b[K\n",
            "remote: Counting objects: 100% (38/38), done.\u001b[K\n",
            "remote: Compressing objects: 100% (25/25), done.\u001b[K\n",
            "remote: Total 145 (delta 14), reused 29 (delta 9), pack-reused 107 (from 1)\u001b[K\n",
            "Receiving objects: 100% (145/145), 1.10 GiB | 17.35 MiB/s, done.\n",
            "Resolving deltas: 100% (50/50), done.\n",
            "Updating files: 100% (68/68), done.\n"
          ]
        }
      ]
    },
    {
      "cell_type": "code",
      "source": [
        "!pip install datasets"
      ],
      "metadata": {
        "id": "4DFIN_oSiovw"
      },
      "execution_count": null,
      "outputs": []
    },
    {
      "cell_type": "markdown",
      "source": [
        "## Getting AI and Human Generated text from our dataset\n",
        "\n"
      ],
      "metadata": {
        "id": "jabLJxQfR4sq"
      }
    },
    {
      "cell_type": "code",
      "execution_count": 13,
      "metadata": {
        "id": "z8IXtUH5R1JT"
      },
      "outputs": [],
      "source": [
        "import json\n",
        "from datasets import Dataset\n",
        "from sklearn.model_selection import train_test_split\n",
        "\n",
        "# Load AI-generated texts\n",
        "with open('CheckGPT-v2/GPABenchmark/CS_TASK1/gpt.json', 'r') as f:\n",
        "    gpt_data = json.load(f)\n",
        "ai_texts = list(gpt_data.values())  # <-- fixed here\n",
        "\n",
        "# Load Human-written texts\n",
        "with open('CheckGPT-v2/GPABenchmark/CS_TASK1/hum.json', 'r') as f:\n",
        "    hum_data = json.load(f)\n",
        "hum_texts = list(hum_data.values())  # <-- fixed here"
      ]
    },
    {
      "cell_type": "code",
      "source": [
        "hum_texts = hum_texts[:150]\n",
        "ai_texts = ai_texts[:200]"
      ],
      "metadata": {
        "id": "ZnzsZuLujA8s"
      },
      "execution_count": 15,
      "outputs": []
    },
    {
      "cell_type": "markdown",
      "source": [
        "## Loading AuthorMist as a Paraphraser for Testing"
      ],
      "metadata": {
        "id": "0lCjzxZHSl1t"
      }
    },
    {
      "cell_type": "code",
      "source": [
        "import csv\n",
        "from tqdm import tqdm\n",
        "import gc\n",
        "from transformers import AutoModelForCausalLM, AutoTokenizer\n",
        "import torch\n",
        "\n",
        "model_name = \"authormist/authormist-originality\"\n",
        "tokenizer = AutoTokenizer.from_pretrained(model_name)\n",
        "model = AutoModelForCausalLM.from_pretrained(model_name).to(device)\n",
        "\n",
        "gc.collect()\n",
        "\n",
        "device = \"cuda\" if torch.cuda.is_available() else \"cpu\"\n",
        "\n",
        "csv_filename = \"paraphrased_results.csv\"\n",
        "with open(csv_filename, \"w\", newline=\"\", encoding=\"utf-8\") as csvfile:\n",
        "    csv_writer = csv.writer(csvfile)\n",
        "    csv_writer.writerow([\"Original Text\", \"Paraphrased Text\"])\n",
        "\n",
        "    for i, ai_text in enumerate(tqdm(ai_texts[100:], desc=\"Paraphrasing texts\")):\n",
        "            prompt = f\"\"\"Please paraphrase the following text to make it more human-like while preserving the original meaning.\n",
        "(Provide ONLY the paraphrased text with no additional commentary or responses)\n",
        "\n",
        "{ai_text}\n",
        "\n",
        "Paraphrased text:\"\"\"\n",
        "\n",
        "            inputs = tokenizer(prompt, return_tensors=\"pt\").to(device)\n",
        "\n",
        "            with torch.no_grad():\n",
        "                outputs = model.generate(\n",
        "                    inputs.input_ids,\n",
        "                    max_new_tokens=512,\n",
        "                    temperature=0.7,\n",
        "                    top_p=0.9,\n",
        "                    do_sample=True\n",
        "                )\n",
        "\n",
        "            full_output = tokenizer.decode(outputs[0], skip_special_tokens=True)\n",
        "            paraphrased_text = full_output.split(\"Paraphrased text:\")[-1].strip()\n",
        "            print(paraphrased_text)\n",
        "            csv_writer.writerow([ai_text, paraphrased_text])\n",
        "            del inputs, outputs\n",
        "            gc.collect()\n",
        "            torch.cuda.empty_cache() if torch.cuda.is_available() else None\n",
        "\n",
        "print(f\"Paraphrasing complete! Results saved to {csv_filename}\")"
      ],
      "metadata": {
        "id": "K2m13-I0TAPr",
        "colab": {
          "base_uri": "https://localhost:8080/",
          "height": 1000,
          "referenced_widgets": [
            "7069881b32354cc4a64c6eb8d8d2c39d",
            "da3eab67bfd4477e8fcb1615a28d906e",
            "b0bfcd634e1e487a934cf648fc02806f",
            "a7988bb68c164802adc6aaa1de600b08",
            "07a0589b5bea41afb86e6cccc622485e",
            "914ed57b749047e0a8a0085591f057c8",
            "344d8647bc3b44f68a75d9e58285590a",
            "2565b59c1cbf463a9a0f789459c34cea",
            "c726240c3c3d4fb096e1a9c6469b7d17",
            "1d84505bf7624f7aad270f72fae16bc8",
            "8acf2eae62f44e77971c1b9651ad35e0"
          ]
        },
        "collapsed": true,
        "outputId": "d70969eb-faaf-43d5-9343-ab667a3ca244"
      },
      "execution_count": 18,
      "outputs": [
        {
          "output_type": "display_data",
          "data": {
            "text/plain": [
              "Loading checkpoint shards:   0%|          | 0/3 [00:00<?, ?it/s]"
            ],
            "application/vnd.jupyter.widget-view+json": {
              "version_major": 2,
              "version_minor": 0,
              "model_id": "7069881b32354cc4a64c6eb8d8d2c39d"
            }
          },
          "metadata": {}
        },
        {
          "output_type": "stream",
          "name": "stderr",
          "text": [
            "Paraphrasing texts:   1%|          | 1/100 [00:05<09:14,  5.60s/it]"
          ]
        },
        {
          "output_type": "stream",
          "name": "stdout",
          "text": [
            "This paper studies Nash equilibria of matching markets by looking at stable results of markets where buyers and sellers need to be matched prior to trade. Using game theory and mathematical models, this study looks into conditions under which stable equilibria emerge and factors that may cause instability. The paper also considers implications for real world markets and discusses possible policy interventions that might enhance market performance. Overall this research stresses importance of understanding dynamic features of matching markets to design effective policies that balance efficiency and equity in significant economic systems.\n"
          ]
        },
        {
          "output_type": "stream",
          "name": "stderr",
          "text": [
            "\rParaphrasing texts:   2%|▏         | 2/100 [00:11<09:00,  5.52s/it]"
          ]
        },
        {
          "output_type": "stream",
          "name": "stdout",
          "text": [
            "This paper analyzes and evaluates the communication infrastructure for real wide area monitoring systems using 3G technology. It looks at performance aspects including reliability, scalability, and efficiency. Literature review and simulation and experiment data are used to conduct this comprehensive analysis. Results show that 3G technology performs well regarding reliability and efficiency for monitoring systems; however scalability is constrained by current network capacity. Results conclude that while this system works well for smaller to medium systems, it may not scale well for large systems. Study provides useful information to designers, researchers, and practitioners concerning design, deployment, and optimization of communication infrastructure for WAMS.\n"
          ]
        },
        {
          "output_type": "stream",
          "name": "stderr",
          "text": [
            "\rParaphrasing texts:   3%|▎         | 3/100 [00:18<10:03,  6.22s/it]"
          ]
        },
        {
          "output_type": "stream",
          "name": "stdout",
          "text": [
            "This paper introduces a new method for indexing subgraphs in large graphs called Compact Neighborhood Index (CNI). Aimed at reducing storage space compared to previous methods, CNI still retains fast performance for querying subgraphs. It does this by storing neighborhoods of vertices compactly and using a combination of hashing and bit manipulation to efficiently index and query subgraphs. Performance evaluations are conducted using multiple real data sets and compare favorably against leading indexes; the results demonstrate notable reduction in index sizes along with equivalent query performance to other indexes. Furthermore, CNI excels compared to others when dealing with graphs having high clustering coefficients which frequently appear in reality. In summary, this research advances promising development towards building more efficient and scalable indexes for large graphs that will prove valuable in diverse areas including social networks, biology and transport networks.\n"
          ]
        },
        {
          "output_type": "stream",
          "name": "stderr",
          "text": [
            "\rParaphrasing texts:   4%|▍         | 4/100 [00:24<10:15,  6.41s/it]"
          ]
        },
        {
          "output_type": "stream",
          "name": "stdout",
          "text": [
            "This paper introduces a new method for modeling language using neural networks and trans dimensional random fields. The use of random fields permits flexible and efficient integration of diverse data sources. Specifically, the method uses neural networks to extract features from input data which are then incorporated into a random field model. Resulting model captures complex word and sentence relationships and performs tasks like generation, translation and sentiment analysis. Results on benchmark datasets show this model excels compared to leading models in terms of both accuracy and performance. Generalization also stands out as better. Thus the model works well with out of distribution and noisy data. Overall, this paper offers new insights into language modeling by blending neural networks with random fields; promising improvements for NLP. Results suggest high accuracy and efficiency for this approach.\n",
            "Deployment of 5G wireless communication systems is critical for many diverse applications like IoT and autonomous driving; reliability and low latency are essential. Millimeter waves (mm waves) seem promising but have different propagation characteristics compared to traditional frequencies below 6 GHz. Such differences introduce considerable challenges to network design and deployment. This paper investigates propagation characteristics for small scale local area and transitional environments using a custom mm wave testbed at 28 GHz. Measurements include path loss, delay spread, and angular spread under different scenarios such as clear line of sight (LOS) and scenarios without clear line of sight (NLOS). Results show propagation depends greatly on specific environments and scenarios; custom antennas and beamforming design are needed for reliable communication. LOS environments generally work well for mm wave propagation but NLOS and transitional environments pose significant challenges due to high attenuation and scattering. Overall this work reveals important insights into propagation characteristics and points out future research and development needs for practical 5G networks across different settings.\n"
          ]
        },
        {
          "output_type": "stream",
          "name": "stderr",
          "text": [
            "Paraphrasing texts:   6%|▌         | 6/100 [00:42<12:17,  7.84s/it]"
          ]
        },
        {
          "output_type": "stream",
          "name": "stdout",
          "text": [
            "This paper explores the economic factors contributing to vulnerability and exploitation in today's societies by drawing on interdisciplinary perspectives including economics, sociology, and politics. Using a comparative approach, the paper studies how power dynamics, globalization and neoliberal economic policies affect patterns of vulnerability and exploitation. First, the paper looks at the definition of vulnerability and considers how economic factors like poverty and precarious employment affect both individuals and groups. Then it focuses on mechanisms of trade and exploitation, looking at how globalization and transnational corporations exploit vulnerable populations in the Global South. Next, it analyzes how neoliberal policies exacerbate vulnerability and exploitation. Arguments are made that deregulation, privatization and austerity measures weaken labor protection and social safety nets and leave vulnerable people even more susceptible to exploitation. Ultimately, the conclusion stresses possible approaches to address economic factors that lead to vulnerability and exploitation. Prioritizing social protection and labor rights is emphasized along with global efforts to promote fair development and reduce inequality. In summary, this paper illuminates the complex economic dynamics behind vulnerability and exploitation and draws attention to the need for intervention.\n"
          ]
        },
        {
          "output_type": "stream",
          "name": "stderr",
          "text": [
            "\rParaphrasing texts:   7%|▋         | 7/100 [00:50<12:00,  7.75s/it]"
          ]
        },
        {
          "output_type": "stream",
          "name": "stdout",
          "text": [
            "This paper introduces a new method for inferring social connections based on individuals' mobility data called \"walk2friends.\" It uses GPS data to derive patterns of movement and identifies and predicts relationships among people. Using a large dataset of real mobility traces collected at a university campus alongside social network connections, the paper evaluates the effectiveness of the proposed approach. Detailed descriptions are given of preprocessing GPS data, construction of mobility profiles and application of a machine learning algorithm for link prediction. Results show that this method performs better compared to other approaches in terms of accuracy and speed. Analysis also considers factors affecting accuracy such as time and space resolution, proximity and interaction frequency, and individual mobility patterns. Results indicate that this method shows promise for inference of relationships and can be applied broadly for various purposes including improving targeting marketing and advertising and identifying new social contacts. Insights into dynamics of social networks also emerge.\n"
          ]
        },
        {
          "output_type": "stream",
          "name": "stderr",
          "text": [
            "\rParaphrasing texts:   8%|▊         | 8/100 [00:55<10:33,  6.88s/it]"
          ]
        },
        {
          "output_type": "stream",
          "name": "stdout",
          "text": [
            "This paper examines how reinforcement learning, specifically Q learning, can be applied to financial models including Black Scholes and Black Scholes Merton. An agent called QLBS learns to make optimal decisions regarding portfolio management and evaluates performance against traditional approaches. Results show that QLBS outperforms existing methods with respect to both return and risk management. The study suggests that reinforcement learning has potential in finance and highlights importance of considering changing market conditions when managing portfolios. Results are important contributions toward further development of advanced financial decision making and also practical value to investors and portfolio managers.\n",
            "This paper investigates how to improve exploration using Evolution Strategies for Deep Reinforcement Learning. Authors introduce a new approach that uses a population of agents that seek novelty to enhance search space exploration. These novelty seeking agents learn to explore novel states, actions and experiences in an environment. Then the main population of RL agents uses these explorations to evolve. Results from various benchmark environments show this approach works better than traditional Evolution Strategies regarding sample efficiency and asymptotic performance. Results suggest including a population of novelty seekers can substantially improve the exploration process for Evolution Strategies in Deep RL.\n"
          ]
        },
        {
          "output_type": "stream",
          "name": "stderr",
          "text": [
            "Paraphrasing texts:  10%|█         | 10/100 [01:09<10:43,  7.15s/it]"
          ]
        },
        {
          "output_type": "stream",
          "name": "stdout",
          "text": [
            "This paper looks into how to use machine learning and topological data analysis for classifying chatter during turning operations. Turning often results in chatter which causes poor surface finishes, tool wear and damage to both workpiece and machine tools. This research aims to develop a good system to detect and diagnose chatter accurately and reliably. Research methodology gathers vibration signals during turning and converts them into time frequency representation using wavelets. Time frequency images are analyzed using topological data analysis which extracts unique topological features and chatter patterns. Support Vector Machines and Random Forests are used to train classifiers based on extracted features. Performance evaluation uses metrics like accuracy, precision and recall. Results show the proposed method can distinguish between different types of chatter such as regenerative and forced chatter. Persistent homology feature extraction makes a unique and robust representation for chatter patterns thereby improving accuracy and reliability of classifier. Study concludes that integrating machine learning and topological data analysis provides strong approach for chatter classification which aids real time detection and diagnosis. Proposed method promises higher quality machining process, less downtime and higher overall productivity.\n"
          ]
        },
        {
          "output_type": "stream",
          "name": "stderr",
          "text": [
            "\rParaphrasing texts:  11%|█         | 11/100 [01:16<10:45,  7.26s/it]"
          ]
        },
        {
          "output_type": "stream",
          "name": "stdout",
          "text": [
            "Using fuzzing has grown more common as a way to discover unknown vulnerabilities during software testing. But traditional fuzzing relies on random inputs which generate a large number of irrelevant test cases that do not reveal new flaws. This paper introduces a novel approach to increase effectiveness by integrating software complexity metrics into fuzzing process. Metrics introduced include code complexity, control flow complexity and data complexity. We use these metrics to guide case generation focusing on areas where vulnerabilities are most likely to occur. Results from experiments on known vulnerable open source software show significant improvement in effectiveness through reduction of irrelevant cases and increase in finding new vulnerabilities. Compared against leading fuzzing techniques our approach consistently performs better in terms of finding vulnerabilities. Study shows effectiveness of incorporating software complexity metrics into fuzzing process for testing. Approach is easy to integrate into existing fuzzing tools and useful for identifying and fixing software vulnerabilities.\n"
          ]
        },
        {
          "output_type": "stream",
          "name": "stderr",
          "text": [
            "\rParaphrasing texts:  12%|█▏        | 12/100 [01:20<09:18,  6.35s/it]"
          ]
        },
        {
          "output_type": "stream",
          "name": "stdout",
          "text": [
            "This paper introduces an innovative way to access secondary spectrum using SINR requirements. Based on transforming restrictions we can use spectrum resources more efficiently. A new method is simulated and compared against traditional approaches regarding serving users and resource efficiency. Results indicate this new method significantly outperforms previous work; thus showing promise for practical implementation. This paper contributes important knowledge to researchers and practitioners working on spectrum management and suggests promising directions for future work on optimization of access to spectrum with SINR criteria.\n",
            "This paper introduces an improved bound for sub packetization in minimum storage regenerating codes. MSR codes are important for distributed storage systems and consist of redundancy that allows data to be reconstructed from partial failures. A refinement in analysis of this process leads to this new bound which is tighter than previous bounds. The new bound supports more efficient design for MSR codes. Numerical simulations also show advantages of this new bound. This result contributes to the field of distributed storage and has potential impact on system design and implementation.\n"
          ]
        },
        {
          "output_type": "stream",
          "name": "stderr",
          "text": [
            "Paraphrasing texts:  14%|█▍        | 14/100 [01:34<09:42,  6.77s/it]"
          ]
        },
        {
          "output_type": "stream",
          "name": "stdout",
          "text": [
            "This paper introduces a new approach for scaling up heuristic planning by using relational decision trees (RDTs) as part of the planning procedure. While heuristic planning works well for solving many practical issues, performance drops when dealing with very complicated tasks or large search spaces. RDTs could enhance scalability by making search more efficient and effective. Proposed method uses RDTs to model relationships among different states in the search space and guide the search process. RDTs are learned using a decision tree learning algorithm from a set of examples; this lets them capture complex relationships that simple heuristics might miss. Using learned relationships, RDTs guide selection of promising branches of the search tree. Results of empirical evaluations show that using RDTs greatly improves scalability and performance especially for problems with big search spaces and complex relationships among states. Also performs better compared to leading algorithms on most tasks, showing high effectiveness and broad applicability. Overall, this approach suggests a promising avenue to improve both scalability and performance of heuristic planning and impacts diverse real world applications significantly.\n"
          ]
        },
        {
          "output_type": "stream",
          "name": "stderr",
          "text": [
            "\rParaphrasing texts:  15%|█▌        | 15/100 [01:44<11:00,  7.77s/it]"
          ]
        },
        {
          "output_type": "stream",
          "name": "stdout",
          "text": [
            "This paper investigates the use of crowdsourcing as a way of generating content for serious games based on scenarios. Serious games are increasingly recognized as effective tools for education across diverse fields such as health care, business, and military training. However, creation of realistic and engaging scenarios is frequently time consuming and costly. Using collective intelligence and creativity of many contributors through crowdsourcing seems promising. The paper reports on a study where a crowdsourcing platform was used to collect content for a serious game designed to teach conflict resolution skills to medical students. Mixed methods were used: quantitative analysis of collected data from the crowd alongside qualitative analysis of user feedback. Results show high quality content from crowd and this content contributes effectively towards the learning tool. Key challenges and limitations also arise when creating content via crowdsourcing like careful moderation, quality control and good communication with contributors. In summary, the paper offers important insights into both potentials and limitations of using crowdsourcing as a way of generating content for serious games based on scenarios. Results point out that using crowdsourcing can be powerful for game designers who seek to create effective and engaging serious games; however careful planning and execution are essential for high quality and relevancy of generated content.\n",
            "This paper presents Snsapi as a cross platform middleware designed for rapid deployment of decentralized social networks. Such networks avoid privacy and security issues typically found in central ones. However, setting up decentralized networks is hard due to the requisite skills like programming, system administration and networking. To simplify this, Snsapi provides a high level API that hides the technical complexities. Design and implementation of Snsapi are modular allowing easy extension and customization. It supports diverse protocols such as Diaspora, Mastodon and Activity Pub. Core features include user authentication, content management and node communication. These core features can also be extended via plugins. Performance evaluation shows low overhead and scalability. Results indicate that Snsapi is a powerful tool for developers aiming to deploy decentralized social networks without deep technical knowledge. Its modularity, cross platform compatibility and extensibility make it significant contribution to growing decentralized social network ecosystem.\n"
          ]
        },
        {
          "output_type": "stream",
          "name": "stderr",
          "text": [
            "Paraphrasing texts:  17%|█▋        | 17/100 [01:57<09:36,  6.94s/it]"
          ]
        },
        {
          "output_type": "stream",
          "name": "stdout",
          "text": [
            "This paper considers design of mechanisms for auctions where revenue is maximized. Auctions like this are common in telecom and transport sectors, where bidders have different budgets and valuations for the same thing. This paper introduces a new mechanism which considers both bidders' budget constraints and valuations and ensures high revenue for auctioneer. Performance of this mechanism is tested using simulations and compared against other mechanisms from previous literature. Results show this new mechanism performs better than previous ones in terms of revenue and efficiency. Conclusions include important considerations for designing auction mechanisms in real life use cases.\n"
          ]
        },
        {
          "output_type": "stream",
          "name": "stderr",
          "text": [
            "\rParaphrasing texts:  18%|█▊        | 18/100 [02:02<08:48,  6.45s/it]"
          ]
        },
        {
          "output_type": "stream",
          "name": "stdout",
          "text": [
            "This paper looks into different kinds of faults in machine learning systems and their effect on result accuracy and dependability. It starts by defining what faults mean for machine learning systems, including overfitting, underfitting and data bias. Then this paper systematically analyzes the most frequent faults and the root causes of those faults and offers ways to detect and reduce them. Results show that fault occurrence has a big negative impact on system results accuracy and reliability and stresses the need for careful supervision and evaluation of these systems. At the end the paper suggests directions for further research and practical use of machine learning in business.\n"
          ]
        },
        {
          "output_type": "stream",
          "name": "stderr",
          "text": [
            "\rParaphrasing texts:  19%|█▉        | 19/100 [02:08<08:28,  6.28s/it]"
          ]
        },
        {
          "output_type": "stream",
          "name": "stdout",
          "text": [
            "This paper introduces a new scalable architecture for decoders specifically targeted at fault tolerant quantum computing. Proposed design aims to resolve issues present in current systems including large scale correction of errors, high computational cost and lack of scalability. This new architecture bases itself on an innovative approach to quantum error correction using many parallel decoder units to perform efficient and scalable correction. Also this design has built in fault tolerance mechanisms to reduce hardware errors and maintain stability and reliability of computation. Results from simulation and experiment evaluations show marked improvements over previous solutions in terms of scalability and fault tolerance along with reduced computational overhead. This new architecture is anticipated to be very important for enabling large scale systems and progress in quantum technology.\n"
          ]
        },
        {
          "output_type": "stream",
          "name": "stderr",
          "text": [
            "\rParaphrasing texts:  20%|██        | 20/100 [02:13<08:02,  6.03s/it]"
          ]
        },
        {
          "output_type": "stream",
          "name": "stdout",
          "text": [
            "Stable view synthesis is very important in computer vision and graphics. It aims at synthesizing new views based on a set of input images so that they are of high quality and consistent with reality. This paper reviews the leading work regarding this topic, both old and recent methods. Authors assess the pros and cons of different methods and compare them against different datasets and benchmarks. They also consider issues like integration of deep learning, handling complicated and dynamic scenes, and development of interactive and real time systems. Overall, this paper serves as an important reference for researchers and practitioners and underscores how critical stable view synthesis is for diverse applications.\n"
          ]
        },
        {
          "output_type": "stream",
          "name": "stderr",
          "text": [
            "\rParaphrasing texts:  21%|██        | 21/100 [02:17<06:51,  5.20s/it]"
          ]
        },
        {
          "output_type": "stream",
          "name": "stdout",
          "text": [
            "This paper looks again at removing elements and using a method called Heaviside projection to deal with reintroducing those elements into designs. By doing this it handles issues of both too much density and too little density that are usual problems with existing methods of element removal. Results show that using this new approach yields better optimization outcomes and leads to better performing designs overall.\n",
            "This paper reviews critically current work on using randomized machine learning for predicting output from renewable energy sources. The review covers leading approaches along with limitations and prospects for further development. Results and new views about how to utilize randomized learning are also discussed. Authors discuss advantages and disadvantages of different randomized approaches and suggest new avenues for future research. The paper ends by reflecting on implications for designing better and more efficient systems for predicting renewable energy.\n"
          ]
        },
        {
          "output_type": "stream",
          "name": "stderr",
          "text": [
            "Paraphrasing texts:  23%|██▎       | 23/100 [02:26<06:15,  4.87s/it]"
          ]
        },
        {
          "output_type": "stream",
          "name": "stdout",
          "text": [
            "Convolutional Neural Opacity Radiance Fields (CNORF) is a deep learning approach used to solve problems related to radiance transfer through scattering in the atmosphere. This work introduces an innovative approach using a convolutional neural network to predict radiance fields from scene geometry and atmospheric conditions. The model is trained on a large collection of synthetic scenes and generalizes well to real data. Results indicate that this method outperforms leading approaches both in terms of accuracy and computational speed. Proposed method also has potential application value in remote sensing and real time rendering of scattering effects.\n"
          ]
        },
        {
          "output_type": "stream",
          "name": "stderr",
          "text": [
            "\rParaphrasing texts:  24%|██▍       | 24/100 [02:30<05:57,  4.70s/it]"
          ]
        },
        {
          "output_type": "stream",
          "name": "stdout",
          "text": [
            "This study examines the idea of consistency within diversity as applied to crowd counting and focuses particularly on partitioning intervals for counts. It aims to go deep into this subject matter and analyze various techniques used for partitioning intervals along with their advantages and disadvantages. Research also looks at how different methods affect accuracy of crowd counting and offers guidance on balancing consistency and diversity in this area. Results from this work can be important for developing better systems for counting crowds and offer useful understanding of the difficulties involved.\n"
          ]
        },
        {
          "output_type": "stream",
          "name": "stderr",
          "text": [
            "\rParaphrasing texts:  25%|██▌       | 25/100 [02:34<05:41,  4.55s/it]"
          ]
        },
        {
          "output_type": "stream",
          "name": "stdout",
          "text": [
            "This paper introduces a new method for anticipating actions from a first person perspective. Action anticipation involves prediction of future actions based on past actions of an individual. This task is hard because human actions are unpredictable and change constantly. The proposed method integrates computer vision and machine learning techniques to process videos in real time and predict actions as they occur. Results on benchmark data sets show that this method performs well compared to leading approaches; applications include HCI, robotics, and sports analysis.\n"
          ]
        },
        {
          "output_type": "stream",
          "name": "stderr",
          "text": [
            "\rParaphrasing texts:  26%|██▌       | 26/100 [02:38<05:25,  4.39s/it]"
          ]
        },
        {
          "output_type": "stream",
          "name": "stdout",
          "text": [
            "This paper introduces a framework for safe reinforcement learning using models for intelligent vehicles that consider time varying states and controls. The proposed system integrates model predictive control (MPC) and reinforcement learning to balance between exploration and exploitation and to ensure safety. Results from testing this framework on a simulated scenario show effectiveness in keeping safety while performing better than traditional methods of MPC and RL. This research offers promising solutions for making decisions safely and efficiently in systems with changing constraints.\n"
          ]
        },
        {
          "output_type": "stream",
          "name": "stderr",
          "text": [
            "\rParaphrasing texts:  27%|██▋       | 27/100 [02:44<05:49,  4.78s/it]"
          ]
        },
        {
          "output_type": "stream",
          "name": "stdout",
          "text": [
            "This paper looks into how Bayesian optimization can be used to optimize both the structure and parameters of function networks. Function networks are mathematical representations that model intricate relations between inputs and outputs. Finding the best configuration of structure and parameters that reduce prediction error relative to actual data is a difficult problem. Bayesian optimization is a framework that uses probability theory for global optimization and has been widely successful in diverse fields such as machine learning. In this paper the authors develop an approach using Bayesian optimization specifically for function network optimization and evaluate its effectiveness using various test cases. Results show that compared to traditional optimization methods, this new approach performs better and offers reliable solutions for optimizing function networks.\n",
            "Ramsey's theorem is an important mathematical fact which states that monochromatic cliques will exist in any graph colored with distinct colors. This paper introduces two extensions to Ramsey's theorem that go beyond this fundamental result. One extension looks into finding cliques of a specific size having all edges of one color. The other extension broadens the use of coloring from graphs to hypergraphs. Results of both extensions show how deep the concept of monochromatic cliques goes and how they are guaranteed to occur in various kinds of graphs and hypergraphs. Results here advance further research into combinatorics as well as applications of Ramsey theory.\n"
          ]
        },
        {
          "output_type": "stream",
          "name": "stderr",
          "text": [
            "Paraphrasing texts:  29%|██▉       | 29/100 [02:53<05:35,  4.72s/it]"
          ]
        },
        {
          "output_type": "stream",
          "name": "stdout",
          "text": [
            "This paper investigates the estimation of mixing time for reversible Markov chains using just one sample path. Authors introduce a novel approach which doesn't need multiple paths nor stationary distribution knowledge. They base this new approach on statistical analysis of convergence of sample path distribution to stationary distribution. Results on different examples show that this proposed method gives good mixing time estimates and performs better compared to existing methods. Conclusion states this new method is useful for analyzing mixing times for reversible Markov chains.\n"
          ]
        },
        {
          "output_type": "stream",
          "name": "stderr",
          "text": [
            "\rParaphrasing texts:  30%|███       | 30/100 [02:59<05:39,  4.85s/it]"
          ]
        },
        {
          "output_type": "stream",
          "name": "stdout",
          "text": [
            "This paper looks at rationality in security decision making by using an analogy of dancing pigs alongside discussion of externalities. The research tries to discern how decision makers manage conflicting interests including cost and public opinion. Quantitative and qualitative methods are used to measure how much security decisions are guided by rational considerations versus external factors like media interest and public pressure. Results show that practical decisions are typically influenced by a mix of rational and irrational factors and that decision makers need to consider carefully the consequences of their actions. The paper ends by proposing ways to improve rationality in security decision making given this context.\n"
          ]
        },
        {
          "output_type": "stream",
          "name": "stderr",
          "text": [
            "\rParaphrasing texts:  31%|███       | 31/100 [03:03<05:25,  4.72s/it]"
          ]
        },
        {
          "output_type": "stream",
          "name": "stdout",
          "text": [
            "This paper thoroughly evaluates security of mail distribution systems both traditional and modern. It looks at threats such as unauthorized access, theft of data and tampering. An in depth look at security measures currently used like encryption and authentication is provided. Results show current security measures mitigate certain risks but there is still room for enhancement. Authors recommend best practices to improve security along with suggestions for further research in this domain. Results of this work are important for those who depend on secure and reliable mail delivery systems.\n"
          ]
        },
        {
          "output_type": "stream",
          "name": "stderr",
          "text": [
            "\rParaphrasing texts:  32%|███▏      | 32/100 [03:07<05:07,  4.52s/it]"
          ]
        },
        {
          "output_type": "stream",
          "name": "stdout",
          "text": [
            "This paper introduces a new way to design controllers that perform optimally over an infinite time period for large networks where communications can be unreliable. The focus is on using decentralized control methods that consider limitations on communications and risks of failure to guarantee stability and optimality. This approach merges control theory and networking control to create a broad framework for designing robust controllers. Results from numerical simulation show this new approach works well at high performance levels even when communication is not reliable.\n"
          ]
        },
        {
          "output_type": "stream",
          "name": "stderr",
          "text": [
            "\rParaphrasing texts:  33%|███▎      | 33/100 [03:13<05:22,  4.81s/it]"
          ]
        },
        {
          "output_type": "stream",
          "name": "stdout",
          "text": [
            "This paper studies stability of linear Structural Equation Models (SEM) in causal inference. SEMs are commonly used for studying complex systems and identifying causal relations between variables. However, stability and robustness against measurement error and omitted variables is an important factor that has to be taken into consideration. The paper thoroughly evaluates stability across different contexts including varying sample sizes, measurement error, and omitted variables. Results indicate that SEMs can be unstable under some circumstances and that measurement error and omission of variables significantly affect stability. Findings from this work are important for ensuring validity and reliability of SEMs in causal inference and suggest direction for future research.\n",
            "In this paper we introduce an efficient framework for performing amortized Bayesian inference on complicated hierarchical and nonlinear systems. We base this framework on variational inference and take advantage of structural and pattern characteristics of the data to minimize computational costs for inference. Using amortization we approximate the posterior distribution of parameters and states of this system efficiently and at scale. Performance of this framework is tested on a variety of difficult real data sets; results indicate that accurate extraction of latent structures and patterns along with substantial reductions in computational time relative to traditional Bayesian inference techniques. This work has significance for analyzing complex systems and may generate new insights into them.\n"
          ]
        },
        {
          "output_type": "stream",
          "name": "stderr",
          "text": [
            "Paraphrasing texts:  35%|███▌      | 35/100 [03:25<06:07,  5.66s/it]"
          ]
        },
        {
          "output_type": "stream",
          "name": "stdout",
          "text": [
            "This paper introduces a new approach for producing scalable and realistic datasets for recommendations using fractal expansions. Based on the inherent fractal nature of interaction between users and items this approach uses self similarity properties of fractals to create synthetic data that closely resembles real world scenarios. To evaluate the effectiveness of this approach we compare performance of leading recommendation algorithms using both synthetic and actual data. Results show that the expanded fractal datasets have similar statistical features as real data and also offer an improved scalability and efficiency when generating large datasets. We also study how different expansion parameters affect resulting datasets and give guidance about choosing suitable parameters for various recommendation cases. Limitations and potential future work are also discussed including ways to incorporate temporal dynamics and user feedback into the expansion process. Overall, this approach provides promise for generating realistic datasets for both academic research and practical use.\n"
          ]
        },
        {
          "output_type": "stream",
          "name": "stderr",
          "text": [
            "\rParaphrasing texts:  36%|███▌      | 36/100 [03:30<05:54,  5.53s/it]"
          ]
        },
        {
          "output_type": "stream",
          "name": "stdout",
          "text": [
            "This paper looks at how well three different ways of allocating information work to improve performance by teams that work on specific tasks. Using experiments with human subjects we find that both elitism (giving information to top performers) and egalitarianism (sharing information equally among all members) work better than welfarism (allocating information to those who need it most). Results indicate that policies that prioritize individual performance work better compared to ones that focus on need. Practical benefits can be drawn from this research for both companies hoping to enhance team performance and government officials creating policies for group settings.\n"
          ]
        },
        {
          "output_type": "stream",
          "name": "stderr",
          "text": [
            "\rParaphrasing texts:  37%|███▋      | 37/100 [03:40<07:07,  6.79s/it]"
          ]
        },
        {
          "output_type": "stream",
          "name": "stdout",
          "text": [
            "This paper introduces a parallel algorithm for weighted random sampling of large data sets. Sampling proportional to weight is common in statistics, machine learning and data mining as we draw samples from a dataset. The new algorithm makes use of parallel processing and distributed systems to get high performance and scalability. Based on reservoir sampling, which keeps a reservoir of fixed size and randomly replaces elements according to weights, this algorithm is parallelized by partitioning the data into smaller parts and performing reservoir sampling independently on each part. Results from all parts are merged into final sample set. Further improvement is made through dynamic load balancing strategy that fine tunes subset sizes to reduce communication burden and even out workload. Evaluation shows this algorithm excels in efficiency and accuracy using both simulated and real data. Results also indicate high speedup and good scalability as dataset size and computing nodes increase. Comparison with other parallel algorithms shows better performance and flexibility. Conclusion: This paper introduces a parallel algorithm that leverages modern parallel systems. It provides efficient and scalable solutions for large scale statistical and mining tasks that need weighted random sampling. Future work might extend and customize this algorithm for different sampling methods and weightings.\n",
            "This paper investigates using Bayesian heat maps for classification under circumstances involving unreliable sources of information. Typically, traditional heatmap classifiers assume high accuracy and reliability of inputs, but in practice this is often not the case; data tends to be noisy and prone to error. The suggested approach uses a Bayesian framework to model uncertainty in input data and perform probabilistic classification that considers source reliability. Results show this approach performs better than traditional methods especially when data is noisy or unreliable. Analysis also considers how different priors and hyper parameters affect performance and discusses possible uses in image processing, remote sensing and medical diagnosis.\n"
          ]
        },
        {
          "output_type": "stream",
          "name": "stderr",
          "text": [
            "Paraphrasing texts:  39%|███▉      | 39/100 [03:51<06:08,  6.05s/it]"
          ]
        },
        {
          "output_type": "stream",
          "name": "stdout",
          "text": [
            "Quantization bias is an important issue in machine learning that often leads to poor performance of models. This paper introduces a new way of addressing this by using bias itself. Proposed approach includes addition of bias terms during quantization which reduces quantization errors and improves model performance. Results from many experiments on diverse datasets and models show that this proposed approach significantly mitigates quantization bias and achieves higher accuracy compared to other common quantization methods. Insights are also provided regarding tradeoffs between quantization errors and bias and emphasize consideration of both factors during quantization. Results of this work are significant for practical deployment of learned models in constrained resources.\n"
          ]
        },
        {
          "output_type": "stream",
          "name": "stderr",
          "text": [
            "\rParaphrasing texts:  40%|████      | 40/100 [03:58<06:24,  6.41s/it]"
          ]
        },
        {
          "output_type": "stream",
          "name": "stdout",
          "text": [
            "This paper looks into an approach called Filter Early Match Late (FEML) to boost recognition of places through network based visual place recognition (VPR). The approach works by filtering images to limit the ones compared at later stages when matching occurs. A convolutional neural network is trained to predict the likelihood of a given image pair matching. Images that pass the filter are compared using descriptor matching algorithms. Results show improved performance on the difficult RobotCar Seasons dataset. Robustness to variations like lighting conditions and seasons is also shown. Experiments reveal that learned filters focus on distinctive regions such as edges of roads and facades of buildings which are important for recognition. Insights gained can inform design of future approaches. In summary, the paper shows effectiveness of FEML approach for better network based VPR and also gives useful insights into how the approach works.\n"
          ]
        },
        {
          "output_type": "stream",
          "name": "stderr",
          "text": [
            "\rParaphrasing texts:  41%|████      | 41/100 [04:05<06:35,  6.71s/it]"
          ]
        },
        {
          "output_type": "stream",
          "name": "stdout",
          "text": [
            "This paper studies creation of smart city IoT services by large collaborations. Increasing demand for smart city service integration of IoT technology allows cities to provide more efficient and sustainable service. Implementation of smart city services is difficult and requires cooperation among different stakeholders including government agencies, private firms and academic institutions. Study looks into challenges and opportunities of large collaboration towards creating such services. Results show that collaboration is important to overcome technical, organizational and regulatory barriers that prevent smart city service implementation. Conclusion is that large collaboration increases efficiency and effectiveness of smart city service development and also helps in developing new services that fit citizens' needs. Insights are provided for policymakers, academics and practitioners involved in smart IoT city service creation. Findings emphasize establishment of effective collaboration mechanisms and open data sharing and dealing with privacy and security issues. Paper also suggests that smart city initiatives must consider perspectives and needs of all stakeholders.\n",
            "This paper looks at where we stand today in AI development and discusses efforts to advance responsible development and deployment. It begins by defining responsible AI and some of its core values such as transparency, accountability, fairness and ethics. We then look at the current landscape of AI and the problems associated with it, such as lack of clear guidelines and regulations, need for diverse viewpoints and stakeholder participation and difficulty of making sure this is done practically. We also look at roles played by different stakeholders like governments, corporations and academia in promoting responsible AI. We also consider current initiatives and good practices such as development of ethical frameworks, establishment of ethics committees and embedding ethics into education curriculum. Finally we conclude that responsible AI matters and that there is a need for ongoing collaboration among all parties. We urge development of clear standards and embedding ethics directly into the development and use process so that AI is built responsibly and sustainably.\n"
          ]
        },
        {
          "output_type": "stream",
          "name": "stderr",
          "text": [
            "Paraphrasing texts:  43%|████▎     | 43/100 [04:19<06:12,  6.53s/it]"
          ]
        },
        {
          "output_type": "stream",
          "name": "stdout",
          "text": [
            "This paper introduces a new approach for generating realistic facial expressions in three dimensions by using adversarial learning and dense guidance of geometry. Proposed method uses landmark relationships related to facial expressions to direct synthesis and thus yields superior results compared to earlier approaches relying only on appearance features. Adversarial part of this method pushes synthesized expressions closer to the distribution of real expressions and therefore produces more natural and convincing results. Results of evaluations comparing performance are very good, showing that this approach surpasses current top methods in realism and consistency with input geometry. Results show great potential for use across diverse areas such as computer graphics, vision and human interaction.\n"
          ]
        },
        {
          "output_type": "stream",
          "name": "stderr",
          "text": [
            "\rParaphrasing texts:  44%|████▍     | 44/100 [04:25<06:00,  6.44s/it]"
          ]
        },
        {
          "output_type": "stream",
          "name": "stdout",
          "text": [
            "This paper investigates improving segmentation accuracy in videos captured by unmanned aerial vehicles (UAVs). We focus on using new framework called uvid-net that integrates time information. We propose a method based on 3D convolutional neural networks to extract spatio-temporal features from video frames and process them with a feature pyramid network to generate multiscale feature maps. Then a decoder network creates the final segmentation maps. Results show that this new framework outperforms other top methods in terms of accuracy especially on hard distinctions like cars and buildings. Results indicate this framework has potential benefits in applications including urban planning, disaster relief, and precision farming. Using 3D conv nets to incorporate time information greatly enhances segmentation accuracy.\n"
          ]
        },
        {
          "output_type": "stream",
          "name": "stderr",
          "text": [
            "\rParaphrasing texts:  45%|████▌     | 45/100 [04:30<05:36,  6.12s/it]"
          ]
        },
        {
          "output_type": "stream",
          "name": "stdout",
          "text": [
            "This research introduces a systematic process for designing industrial specific languages. It includes four main stages: domain analysis, language definition, implementation and deployment. In domain analysis phase, experts from both the domain and language engineering teams work together to define important concepts and related language features. Language definition stage defines these features using a meta language and they are tested against certain quality standards. Implementation phase transforms those defined features into executable code. Finally, in deployment phase, the resulting language is installed into target environments and measured on effectiveness. Results of applying this process to various industrial sectors show that this process produces high quality and efficient languages.\n"
          ]
        },
        {
          "output_type": "stream",
          "name": "stderr",
          "text": [
            "\rParaphrasing texts:  46%|████▌     | 46/100 [04:35<05:03,  5.62s/it]"
          ]
        },
        {
          "output_type": "stream",
          "name": "stdout",
          "text": [
            "This paper introduces a pipeline for automatic extraction of statistical reports and experimental conditions from scientific articles using machine learning. The pipeline has three main parts: a preprocessing component that cleans and organizes raw text; a module that detects and extracts statistical reports from preprocessed text; and another one that extracts relevant experimental conditions associated with detected statistical reports. Evaluation results show high precision and recall when extracting reports and conditions. Proposed pipeline greatly simplifies this task by automating key information extraction, thus improving the efficiency of research.\n",
            "This paper introduces an innovative approach to reliably detect compressed and encrypted data. Such detection problems occur frequently, such as identifying harmful content in network traffic or detecting secret information in forensic analysis. Current detection methods have shortcomings regarding accuracy, efficiency, or specificity towards certain kinds of compression or encryption. Here we present a method based on machine learning which combines feature extraction and classification for reliable detection. This method identifies a wide variety of compression and encryption techniques; some are new to literature. We test our method using diverse datasets and show it excels both in terms of detection accuracy and efficiency compared to leading approaches today. Our solution works broadly and integrates smoothly into systems used to detect harmful or sensitive content.\n"
          ]
        },
        {
          "output_type": "stream",
          "name": "stderr",
          "text": [
            "Paraphrasing texts:  48%|████▊     | 48/100 [04:47<05:08,  5.92s/it]"
          ]
        },
        {
          "output_type": "stream",
          "name": "stdout",
          "text": [
            "This paper investigates weaknesses in machine learning systems related to image scaling attacks and suggests a new way to defend against these types of attacks. These attacks alter the sizes and resolutions of images to confuse learning systems and cause them to classify incorrectly. This paper looks at vulnerabilities that are affected by these attacks including ones dependent upon inputs and other attacks like gradient masking and model inversion. It also introduces a new defense method that uses adversarial examples that have been crafted carefully to mix into the data. Experiments on various benchmark datasets show that this defense succeeds in defending against diverse attack scenarios. Overall this research stresses the importance of understanding the interaction among different vulnerabilities in ML systems and proposes a new defense method that mitigates risks of attacks based on image scaling.\n"
          ]
        },
        {
          "output_type": "stream",
          "name": "stderr",
          "text": [
            "\rParaphrasing texts:  49%|████▉     | 49/100 [04:55<05:40,  6.68s/it]"
          ]
        },
        {
          "output_type": "stream",
          "name": "stdout",
          "text": [
            "This paper looks into using methods based on graphs for predicting relationships between human phenotypes and genes. Phenotypes are observable traits like body characteristics and biochemical properties of individuals; genes are the hereditary instructions that underlie those traits. Relationships between phenotypes and genes tend to be complicated and hard to predict and understanding them better can help understand disease development and treatment. Using data from public databases which contain associations between genes and phenotypes along with interaction among proteins, researchers apply various methods such as similarity among nodes, paths and factorization matrices to predict new associations. Performance of different methods is measured through cross validation and standard metrics. Results show that graph based methods work well in predicting new associations and performance improves when methods are combined. Results suggest that graph methods have potential to predict relationships between human traits and genes and serve as a useful framework for further research. Results also suggest that this research might contribute to future development of new treatments for genetic diseases and better understanding of genetics behind human traits.\n"
          ]
        },
        {
          "output_type": "stream",
          "name": "stderr",
          "text": [
            "\rParaphrasing texts:  50%|█████     | 50/100 [05:02<05:31,  6.64s/it]"
          ]
        },
        {
          "output_type": "stream",
          "name": "stdout",
          "text": [
            "This research paper studies segmentation of objects of interest in videos by using a new method that associates objects with transformers. Transformers are networks used for natural language processing. This research proposes a two step process. First, using a traditional object detector we find objects within video frames. Then we assign each object to a transformer that learns appearance and motion features over time. Transformer outputs embeddings which are used as inputs into a fully convolutional network that produces pixel level segmentation masks. Performance is evaluated against leading datasets and compared to best current methods. Results indicate that linking objects with transformers improves performance and outperforms previous work on many datasets. In summary this research introduces an innovative approach to video object segmentation that integrates benefits of both old CV methods and newer deep learning architectures.\n",
            "This paper introduces a design strategy based on learning for use in assisted reminiscence therapy using robots for people with dementia. The new approach combines a model aiming to improve therapeutic outcomes by means of personalized and interactive reminiscence sessions. The model considers the current cognitive and emotional state of patients along with their previous life experiences and preferred mode of communication. The strategy uses machine learning algorithms to process patient data and adjust therapy sessions accordingly; this results in an individually tailored and efficient experience. Results from a small pilot test show that this approach works effectively at improving overall wellbeing and both cognitive and emotional states of the patients. Results also suggest that learning strategies are promising and useful for designing and deploying robot assisted reminiscence therapy and delivering personalized care to people with dementia.\n"
          ]
        },
        {
          "output_type": "stream",
          "name": "stderr",
          "text": [
            "Paraphrasing texts:  52%|█████▏    | 52/100 [05:14<04:57,  6.19s/it]"
          ]
        },
        {
          "output_type": "stream",
          "name": "stdout",
          "text": [
            "This paper looks at hidden data practices as they relate to facilities management using an example of a major company. Usually data curation is seen as something technical but this research emphasizes the importance of understanding social and organizational aspects of data curation. Through interviews and observation we find various hidden practices such as informal communications channels, making ad hoc tools and processes, and embedding data into decisions. We argue that these hidden practices are critical for managing facilities effectively but they are usually ignored or not valued enough. At the end we suggest ways for managers to better support and value these hidden data curation activities.\n"
          ]
        },
        {
          "output_type": "stream",
          "name": "stderr",
          "text": [
            "\rParaphrasing texts:  53%|█████▎    | 53/100 [05:22<05:19,  6.80s/it]"
          ]
        },
        {
          "output_type": "stream",
          "name": "stdout",
          "text": [
            "A long time ago, people have studied how easy or hard it is to solve Constraint Satisfaction Problems (CSPs). This paper looks at CSPs whose solutions must avoid specific sets of constraints called forbidden patterns. We start by defining forbidden patterns as small groups of constraints that cannot be used together. Then we define a family of CSPs based on these forbidden patterns and study their computational difficulty. We find some of them are easy to solve quickly but others are very difficult. Particularly we find that a big class of CSPs becomes easy to solve efficiently even if the number of variables is very large. We also find there is a close connection between how hard a CSP is to solve and what forbidden patterns are used. Results from our work are important for designing algorithms for solving CSPs. Using forbidden patterns can help guide development of efficient algorithms. They also reveal which types of forbidden patterns make CSPs hard and this can inform benchmarking design for CSP solvers.\n"
          ]
        },
        {
          "output_type": "stream",
          "name": "stderr",
          "text": [
            "\rParaphrasing texts:  54%|█████▍    | 54/100 [05:31<05:41,  7.43s/it]"
          ]
        },
        {
          "output_type": "stream",
          "name": "stdout",
          "text": [
            "An important consideration in communication networks is the embedding capacity for information flow: this is the maximum amount of information that can be transmitted reliably. This paper investigates embedding capacity under renewal traffic, which is a kind of traffic pattern where inter arrival times of successive packets are drawn from a distribution that might vary over time. Based on queueing theory, we derive analytical expressions for different types of channels under renewal traffic. We find that embedding capacity is very sensitive to statistical characteristics of inter arrival time distributions and can behave unexpectedly; for example, capacity decreases with higher arrival rates or becomes infinite for certain parameter ranges. We also study how various system parameters such as channel capacity and noise levels affect embedding capacity. Numerical results indicate that embedding capacity can be greatly improved using coding schemes that exploit temporal structure of this traffic. Results of our work advance fundamental understanding of information transmission in networks and offer insight into designing effective coding schemes for practical use. Methods developed here can also be useful to optimize performance across different network contexts including wireless and wired networks and Internet of Things.\n",
            "This study looks at distributed estimation and learning in networks that differ in important ways. The principal aim is to develop algorithms and techniques that enable nodes within such networks to collaborate and jointly estimate an unknown parameter using observations they have locally. A major difficulty in these networks is heterogeneity among the nodes. Nodes might vary greatly in terms of their computing power, communication abilities and quality of measurements. Proposed methods balance competing costs like computation cost and communication cost against performance goals. Both theory and experiments show effectiveness of these new methods. Results from this work offer insight into designing efficient algorithms for distributed estimation and learning in heterogeneous networks; they also suggest possible uses including wireless sensor networks, machine learning and robotics.\n"
          ]
        },
        {
          "output_type": "stream",
          "name": "stderr",
          "text": [
            "Paraphrasing texts:  56%|█████▌    | 56/100 [05:44<05:16,  7.20s/it]"
          ]
        },
        {
          "output_type": "stream",
          "name": "stdout",
          "text": [
            "This paper studies how violating assumptions about equal variances affects classifiers designed using linear discriminant analysis (LDA). LDA is a common statistical method used for classification but typically assumes that variance among features is uniform across different classes. This assumption does not hold up well in practical settings. Violations of this assumption can impact classifier performance. Here we develop a new approach that uses weights based on covariance matrices to account for differing variances and compares this method with standard LDA approaches using both simulated and real data at different levels of variance differences. Results indicate that our new method performs better than standard LDA when variance varies among classes. Performance improvement is also seen for classifying real data with varying variance. A procedure is given to choose optimal weight schemes that maximize accuracy. Results point to importance of considering variance heterogeneity and suggest that this new approach is useful for designing classifiers where variance differs among features.\n"
          ]
        },
        {
          "output_type": "stream",
          "name": "stderr",
          "text": [
            "\rParaphrasing texts:  57%|█████▋    | 57/100 [05:52<05:10,  7.22s/it]"
          ]
        },
        {
          "output_type": "stream",
          "name": "stdout",
          "text": [
            "This paper investigates the use of serverless protocols for inventory and tracking using unmanned aerial vehicles (UAVs). We introduce a framework for a serverless inventory and tracking system that enables UAVs to autonomously gather real time inventory data and transmit them to a remote server. Our system includes a UAV equipped with sensors, a local storage module and wireless communication hardware. As the UAV traverses predefined routes it collects data about inventory items and transmits those data to a remote server using serverless protocol. We also discuss benefits and drawbacks of our proposed system like enhanced security, lower latency and scalability. Results from simulations and experiments show feasibility and effectiveness of the proposed serverless inventory and tracking system. Findings indicate that using serverless protocol may indeed provide a promising solution for inventory and tracking using UAVs by offering better security, efficiency and scalability.\n"
          ]
        },
        {
          "output_type": "stream",
          "name": "stderr",
          "text": [
            "\rParaphrasing texts:  58%|█████▊    | 58/100 [05:57<04:36,  6.58s/it]"
          ]
        },
        {
          "output_type": "stream",
          "name": "stdout",
          "text": [
            "Authors propose use of deep learning for improving auction mechanisms for managing edge computing resources in mobile blockchain networks. They argue current mechanisms are ineffective at handling the fast dynamics of mobile devices and network states. They suggest an approach using deep reinforcement learning which considers factors like congestion, mobility and resource availability for determining best resource allocation. Results from simulation studies compare against traditional auction methods and indicate this new approach significantly increases resource usage efficiency and decreases latency. Overall performance improves. Results point to great potential for deep learning to transform resource management in mobile blockchains and open lines for further study in this field.\n"
          ]
        },
        {
          "output_type": "stream",
          "name": "stderr",
          "text": [
            "\rParaphrasing texts:  59%|█████▉    | 59/100 [06:01<03:55,  5.75s/it]"
          ]
        },
        {
          "output_type": "stream",
          "name": "stdout",
          "text": [
            "This study investigates a new training method named Viser (for Visual Self regularization). Viser introduces an additional branch into neural nets which learns to reconstruct images. This branch functions as a regularizer that pushes learning towards robust features by penalizing divergence from input image. Results show that Viser improves generalization performance across different benchmarks for image classification. Analysis also shows that this method lets the network acquire significant and discriminating features.\n",
            "This paper investigates using stochastic gradient methods for optimization online. Often this is important in high dimensions where projection onto a set of constraints is computationally difficult or impractical. The authors present a new algorithm that optimizes convex and submodular functions using stochastic gradients and prove theoretical guarantees for convergence and performance. Results show that this new approach works well and efficiently on diverse optimization problems. Results indicate that this proposed method is promising as an alternative to traditional online optimization methods that require projection.\n"
          ]
        },
        {
          "output_type": "stream",
          "name": "stderr",
          "text": [
            "Paraphrasing texts:  61%|██████    | 61/100 [06:11<03:39,  5.63s/it]"
          ]
        },
        {
          "output_type": "stream",
          "name": "stdout",
          "text": [
            "This paper investigates control issues related to multi class queues in the Halfin-Whitt regime. Under this regime, the queues are very busy and performance evaluation focuses on long run behavior. Main goal is to design a policy minimizing long run average cost while also maintaining stability. First, the authors formulate the problem via an MDP framework and use dynamic programming to derive optimal policy. They present a heuristic policy which is simple to apply and has low resource requirements. Performance evaluation uses simulations and compared against the optimal policy. Results show the heuristic policy performs nearly as well as the optimal one and excels over other commonly used policies. Implications and design suggestions are discussed. Conclusions highlight contributions of the study and suggest further avenues for research.\n"
          ]
        },
        {
          "output_type": "stream",
          "name": "stderr",
          "text": [
            "\rParaphrasing texts:  62%|██████▏   | 62/100 [06:17<03:30,  5.55s/it]"
          ]
        },
        {
          "output_type": "stream",
          "name": "stdout",
          "text": [
            "This paper studies incidence coloring of graphs with high MAD. MAD is a measurement of connectivity of a graph. Incidence coloring assigns colors to both vertices and edges of a graph such that no adjacent vertices or edges share the same color. Research into incidence coloring is relevant to fields such as graph theory and computer science. This work aims to find tight bounds for incidence chromatic numbers of high MAD graphs. We apply diverse techniques such as graph decomposition and algebra to analyze the relationship between MAD and incidence chromatic number. Results give new insight into coloring behavior of high connectivity graphs and advance algorithm development for incidence coloring problems.\n"
          ]
        },
        {
          "output_type": "stream",
          "name": "stderr",
          "text": [
            "\rParaphrasing texts:  63%|██████▎   | 63/100 [06:26<04:03,  6.58s/it]"
          ]
        },
        {
          "output_type": "stream",
          "name": "stdout",
          "text": [
            "Autoscaling has become important for cloud applications to meet the fluctuating demand of users. Traditionally, autoscaling relies on fixed rules which do not work well with the fluidity of cloud environments. This paper examines two new approaches to autoscaling: one that learns awareness and another that adapts. The one that learns awareness uses machine learning to forecast future demand based on past data and current system status. The adaptive one uses control theory to adjust scaling rules dynamically according to real feedback from the system. For evaluation purposes, experiments were run using an application hosted in the cloud and compared performance against traditional methods. Results indicate both awareness and adaptive autoscaling perform better than previous methods regarding response times and resource use. Adaptive scaling also works better for spikes in demand while awareness works better for long term trend prediction. This research highlights potential benefits of awareness and adaptive autoscaling for cloud services and offers insight into their advantages and disadvantages. We think that these methods could enhance management of resources for cloud providers, improve user service quality and reduce costs due to over provisioning.\n",
            "This study investigates allocation of locally produced electricity in renewable communities. It analyses current means of distributing energy and identifies challenges related to storage and distribution. It also examines prospects for decentralized systems where production and consumption occur within a single community; how such systems might enhance energy efficiency and decrease reliance on main energy grids. Also discussed are roles of government policies and regulations to promote renewable communities and benefits like enhanced energy security and lower emissions along with stronger local economies. Results show these communities hold great potential to transform the energy sector and contribute to a more sustainable future; however, effectiveness of policy and regulation is stressed as key for their growth and development.\n"
          ]
        },
        {
          "output_type": "stream",
          "name": "stderr",
          "text": [
            "Paraphrasing texts:  65%|██████▌   | 65/100 [06:35<03:16,  5.62s/it]"
          ]
        },
        {
          "output_type": "stream",
          "name": "stdout",
          "text": [
            "This paper compares how academics and members of society communicate about pandemics. The goal is to look at differences in how information about the pandemic spreads among these groups and to find out what influences their communication preferences. Results show clear distinctions regarding preferred sources of information, level of detail needed, and preferred ways of communicating. Results from this research will help those who make policies and communicate to better understand different groups' needs and preferences during a pandemic and adapt their communications accordingly.\n"
          ]
        },
        {
          "output_type": "stream",
          "name": "stderr",
          "text": [
            "\rParaphrasing texts:  66%|██████▌   | 66/100 [06:40<03:03,  5.40s/it]"
          ]
        },
        {
          "output_type": "stream",
          "name": "stdout",
          "text": [
            "This paper introduces a new approach to predict how much longer hard disks will last by using bidirectional LSTM networks. Historical operation data of HDDs is used to train deep learning models which estimate remaining useful life (RUL). Bidirectional LSTM is selected as the model structure because it excels at capturing both past and future context in sequence data. Results of experiments demonstrate that this new method performs better than leading methods in accuracy and stability. This paper makes important contributions to predictive maintenance for HDDs and shows great promise for using deep learning for RUL estimation.\n"
          ]
        },
        {
          "output_type": "stream",
          "name": "stderr",
          "text": [
            "\rParaphrasing texts:  67%|██████▋   | 67/100 [06:45<02:50,  5.17s/it]"
          ]
        },
        {
          "output_type": "stream",
          "name": "stdout",
          "text": [
            "We also broaden the idea of nonextensivity to economics and consider its potential as a tool to model economic systems. By including ideas from nonextensive statistical mechanics we can take into consideration heterogeneity and long range correlations that are usually not taken into account by conventional economic theories. Results show that models using these new methods represent dynamics underlying economic systems more accurately and could lead to better policy design. Thus this work points out importance of integrating statistical mechanics into economics and shows promise to improve our understanding of complicated economic systems.\n"
          ]
        },
        {
          "output_type": "stream",
          "name": "stderr",
          "text": [
            "\rParaphrasing texts:  68%|██████▊   | 68/100 [06:49<02:37,  4.93s/it]"
          ]
        },
        {
          "output_type": "stream",
          "name": "stdout",
          "text": [
            "This paper introduces a new approach to dynamically allocate network resources online. Proposed method deals with problems of allocating resources according to real time and takes into consideration that network demands vary unpredictably. Method relies on principles of convex optimization and uses a set of online algorithms to achieve near optimal resource allocation. Performance is assessed by extensive simulations and results show effectiveness in terms of resource use and system efficiency versus traditional allocation methods. Approach has great potential to greatly enhance system performance especially when dealing with fast changing conditions.\n"
          ]
        },
        {
          "output_type": "stream",
          "name": "stderr",
          "text": [
            "\rParaphrasing texts:  69%|██████▉   | 69/100 [06:53<02:27,  4.74s/it]"
          ]
        },
        {
          "output_type": "stream",
          "name": "stdout",
          "text": [
            "This paper introduces Frauddroid as a new system for automatic detection of fraud in Android apps. Using machine learning, this system analyzes app behavior in real time to detect anomalies that signal fraudulent activity. Designed for efficiency and effectiveness, Frauddroid reduces costs and effort involved with manual fraud detection. Results of experiments show high accuracy in spotting fraud while having very low rates of false positives. This system has great promise to greatly enhance security on Android and prevent advertisers from losing money due to fraud.\n",
            "This paper introduces a way to understand timing traces of partially synchronous systems during runtime. The authors look at exchange of messages and execution of processes and propose a technique to capture and visualize trace data. Results from this study reveal insights into dynamic behavior of such systems; this knowledge helps with debugging and performance analysis. Evaluation using actual systems shows effectiveness in clearly grasping system behavior. Findings of this research advance distributed systems field and suggest new ways to monitor and analyze these systems.\n"
          ]
        },
        {
          "output_type": "stream",
          "name": "stderr",
          "text": [
            "Paraphrasing texts:  71%|███████   | 71/100 [07:02<02:14,  4.63s/it]"
          ]
        },
        {
          "output_type": "stream",
          "name": "stdout",
          "text": [
            "This paper introduces a new approach for automatic segmentation of three dimensional retinal Optical Coherence Tomography (OCT) volumes by enhancing the boundary surfaces. This process starts by applying an enhancement algorithm to improve quality of the boundaries; this enhanced surface then serves as the basis for segmentation processing. Results show that this approach produces accurate and reliable segmentation of retinal tissue from OCT volume data and provides an important tool for retinal disease analysis and interpretation. Research here advances advanced imaging methods and holds promise for better diagnosis and treatment of retinal diseases.\n"
          ]
        },
        {
          "output_type": "stream",
          "name": "stderr",
          "text": [
            "\rParaphrasing texts:  72%|███████▏  | 72/100 [07:06<02:00,  4.29s/it]"
          ]
        },
        {
          "output_type": "stream",
          "name": "stdout",
          "text": [
            "This paper looks at applying ordinary differential equations (ODE) to Markov Decision Processes (MDPs). It also considers optimizing costs based on Kullback-Leibler divergence (KL). Results are presented via numerical simulation and show this approach provides both efficiency and accuracy compared to traditional methods like dynamic programming. The paper concludes by considering implications for control and decision making and suggests future directions.\n"
          ]
        },
        {
          "output_type": "stream",
          "name": "stderr",
          "text": [
            "\rParaphrasing texts:  73%|███████▎  | 73/100 [07:11<02:05,  4.64s/it]"
          ]
        },
        {
          "output_type": "stream",
          "name": "stdout",
          "text": [
            "This paper reports on an investigation into transmit beamforming for exploiting interference in Z channel in underlaid cognitive radios. The main thrust of this work focuses on designing and implementing an algorithm which maximizes performance in cognitive radio networks through exploitation of interference present in Z channel. This algorithm uses a combination of game theory and optimization methods; its aim is to enhance performance by optimizing transmission amidst interference. Results of simulation and experimentations indicate significant enhancement of performance including higher capacity and better reliability. Results of this research are important for design and deployment of cognitive radios and also illustrate how transmit beamforming can be a valuable means to boost performance.\n"
          ]
        },
        {
          "output_type": "stream",
          "name": "stderr",
          "text": [
            "\rParaphrasing texts:  74%|███████▍  | 74/100 [07:15<01:55,  4.42s/it]"
          ]
        },
        {
          "output_type": "stream",
          "name": "stdout",
          "text": [
            "This research introduces a new way to combine evidence from many different sources so we can make better and more reliable decisions. Proposed method considers variability and uncertainty of each source separately and uses a mathematical basis to systematically integrate evidence. Results from simulations indicate this new method excels in both accuracy and reliability, especially handling a high number of sources. Applications of this method are wide ranging including medical diagnosis, recommender systems and data fusion in sensor networks.\n"
          ]
        },
        {
          "output_type": "stream",
          "name": "stderr",
          "text": [
            "\rParaphrasing texts:  75%|███████▌  | 75/100 [07:20<01:54,  4.60s/it]"
          ]
        },
        {
          "output_type": "stream",
          "name": "stdout",
          "text": [
            "This paper introduces a new adversarially trained Normalized Auto Encoder with Noise (ANNAE) for text generation. ANNAE learns by combining adversarial training and normalization methods to boost quality of generated text. Proposed model combines benefits of auto encoders with a noise layer added to encode process to generate more varied and robust representation of inputs. ANNAE also uses normalization methods to increase stability and convergence during training. Results from evaluation on various benchmark datasets show that ANNAE excels in both quality and diversity of generated text when compared against leading models.\n",
            "This paper proposes a new approach to improve speech recognition in robots by mimicking localization of sounds through biological bilateral hearing. Authors want to design auditory systems for robots that work like humans so they can better distinguish speech amid noise. The system uses two microphones as ears do to locate sound sources binaurally and isolate target speech from other sounds. Results show this new approach greatly improves speech recognition accuracy over conventional monaural methods. Authors conclude this approach might open the way for breakthroughs in robot speech recognition and the development of more advanced and realistic robots.\n"
          ]
        },
        {
          "output_type": "stream",
          "name": "stderr",
          "text": [
            "Paraphrasing texts:  77%|███████▋  | 77/100 [07:31<01:54,  4.97s/it]"
          ]
        },
        {
          "output_type": "stream",
          "name": "stdout",
          "text": [
            "Chest X-ray imaging is important for diagnosing lung diseases but they lack detail which makes smaller lung features hard to see. This paper introduces a new method using deep learning to increase visibility of lung features. We use a fully convolutional neural network (FCNN) that has been trained on a large set of X-rays and corresponding CT scans. Through training the network predicts CT values for each pixel, thus converting low resolution X-rays into high resolution ones. Enhanced images clearly show more details like nodules and blood vessels. Results show that this FCNN approach improves detection of lung features better than before and could also raise the accuracy of disease diagnosis.\n"
          ]
        },
        {
          "output_type": "stream",
          "name": "stderr",
          "text": [
            "\rParaphrasing texts:  78%|███████▊  | 78/100 [07:36<01:48,  4.92s/it]"
          ]
        },
        {
          "output_type": "stream",
          "name": "stdout",
          "text": [
            "This paper summarizes results of a workshop on Social Robots for Therapy; this event concentrated on investigating autonomy and ethical issues related to using social robots in therapeutic contexts. Participants came from different backgrounds like robotics, psychology and ethics who met to talk about benefits and risks of employing social robots in therapy. Issues discussed included development of clear ethical guidelines for robot use in therapy, design of robots that encourage user independence and impact on human therapy relationships. Concluding remarks called for sustained collaborative work and research into ensuring safety and effectiveness when using social robots as therapy tools.\n"
          ]
        },
        {
          "output_type": "stream",
          "name": "stderr",
          "text": [
            "\rParaphrasing texts:  79%|███████▉  | 79/100 [07:42<01:54,  5.44s/it]"
          ]
        },
        {
          "output_type": "stream",
          "name": "stdout",
          "text": [
            "This paper introduces a new way of doing volumetric semantic mapping online and calls this approach Panoptic Fusion. It looks at both \"stuff\" and \"things\" levels. Panoptic Fusion integrates visual information from a 3D LiDAR sensor and semantic information from 2D RGB images into a single dense environment representation. Proposed approach uses a novel fusion method combining different data types probabilistically. Results are accurate and rich semantically; they enable efficient and effective decisions for robotic tasks. Experimental evaluations have been conducted in diverse indoor and outdoor scenarios, showing this method excels current leading methods. Results show strong performance on segmentation of semantic classes and reconstruction of 3D structure; promising results suggest this method will advance perception capabilities in real world applications very well.\n"
          ]
        },
        {
          "output_type": "stream",
          "name": "stderr",
          "text": [
            "\rParaphrasing texts:  80%|████████  | 80/100 [07:48<01:52,  5.62s/it]"
          ]
        },
        {
          "output_type": "stream",
          "name": "stdout",
          "text": [
            "This paper introduces a scalable preconditioner using multilevel domain decomposition to solve large scale simulations for neutron transport equations. It uses an algorithm based on subspaces to create a hierarchy of nested domains which capture essential physics of the problem. Adaptive thresholding is incorporated to enhance effectiveness of this coarsening process. Results show the preconditioner reduces iteration counts of Krylov subspace solvers significantly, producing fast and accurate results. Performance and scalability are demonstrated via numerical tests on realistic test cases, such as reactor cores with up to 100 million degrees of freedom. Results demonstrate excellent parallel efficiency and the approach is effective and accurate at solving large neutron transport problems on modern high performance computers.\n",
            "This paper introduces a new method for learning Lie algebras using unlabelled data pairs. While previous research has focused on Lie algebra learning mathematically, most existing methods need labeled data or strong structural assumptions. We introduce a new algorithm that uses deep neural networks to learn Lie algebras directly from data without needing any labels or strong assumptions. Our algorithm mixes unsupervised and supervised learning to learn Lie algebra structure. It evaluates performance across various datasets and demonstrates effectiveness. Results show this new method excels at both accuracy and efficiency compared to previous methods; moreover, it opens up potential applications in diverse areas including graphics and robotics where Lie algebra learning is important.\n"
          ]
        },
        {
          "output_type": "stream",
          "name": "stderr",
          "text": [
            "Paraphrasing texts:  82%|████████▏ | 82/100 [08:00<01:41,  5.66s/it]"
          ]
        },
        {
          "output_type": "stream",
          "name": "stdout",
          "text": [
            "This paper introduces new approaches for learning based reflections and beamforming using intelligent reflecting surfaces (IRS). Proposed method uses deep neural networks (DNNs) to estimate channels and direct signals toward target direction at once. DNNs are trained end to end to minimize MSE between desired and received signal. Unlike traditional methods this method does not rely on explicit channel estimation and performs better with more diverse channel models. Simulation results show this approach excels at performance metrics like beamforming accuracy and resistance to channel uncertainty. Results from this work indicate promising future directions for practical implementation of IRSs and suggest further research into design of IRSs based on DNNs.\n"
          ]
        },
        {
          "output_type": "stream",
          "name": "stderr",
          "text": [
            "\rParaphrasing texts:  83%|████████▎ | 83/100 [08:05<01:33,  5.51s/it]"
          ]
        },
        {
          "output_type": "stream",
          "name": "stdout",
          "text": [
            "This paper studies performance of language tools for fifteen EU official less resource languages. It examines effectiveness of tools in tagging parts of speech, recognizing names of entities, parsing dependencies and translating. Results are compared using various evaluation metrics and show different effectiveness levels across languages and tasks. Areas needing further development of language tools are also identified. Findings of this research are valuable for policymakers and researchers focused on development and support of low resource languages; they contribute to growing literature on language tool development and evaluation for low resource languages and are important to preserve linguistic diversity and promote multilingualism within the EU.\n"
          ]
        },
        {
          "output_type": "stream",
          "name": "stderr",
          "text": [
            "\rParaphrasing texts:  84%|████████▍ | 84/100 [08:10<01:24,  5.31s/it]"
          ]
        },
        {
          "output_type": "stream",
          "name": "stdout",
          "text": [
            "Cutting edge research on Dynamic Neural Garments studies how to integrate wearable technology with advanced machine learning algorithms. Research seeks to create smarter clothes that adjust to wearer and environment in real time. This paper gives an overview of current best practices in this area including recent advances in making smart garments. Authors look at different methods for creating these garments which include sensors, actuators and learning algorithms. Also discussed are obstacles and limitations that have to be overcome for this technology to become practical. Concluding remarks touch on application possibilities and future research directions for this promising field.\n"
          ]
        },
        {
          "output_type": "stream",
          "name": "stderr",
          "text": [
            "\rParaphrasing texts:  85%|████████▌ | 85/100 [08:19<01:35,  6.36s/it]"
          ]
        },
        {
          "output_type": "stream",
          "name": "stdout",
          "text": [
            "This paper introduces a new algorithm called PromiPS that performs fast approximate maximum inner product searches in high dimensions. It tackles this challenging issue where search space grows exponentially. The method employs a lightweight index to achieve fast queries while keeping storage needs low. Using a divide and conquer strategy, PromiPS splits high dimensions into subspaces that are easier to search. Hierarchical indexing is used to reduce the number of dot products needed at query time. PromiPS also implements a probabilistic pruning strategy to further decrease the number of dot products. Performance evaluation shows that PromiPS outperforms top competitors in both query time and index size; sometimes it achieves up to ten times speedups and reductions to one hundred times in index size. Results also indicate scalability to large data sets. Overall, this paper presents an important advancement in nearest neighbor search for high dimensions by providing an efficient approach that balances high accuracy and low cost. Lightweight index use in PromiPS makes it particularly useful for scenarios with constrained storage like mobile and embedded systems.\n",
            "As the popularity of electric vehicles increases, there is also an upsurge in charging stations. But such stations face risks from cyberattacks like ransomware. This type of attack can cause shutdowns and inconvenience to users. In this paper we develop a deep learning method to detect ransomware attacks in Supervisory Control And Data Acquisition (SCADA) systems of charging stations. We use a CNN to analyze network traffic generated by SCADA systems and identify ransomware attack patterns. We test our method using a simulated dataset of attacks and normal traffic. Results show high accuracy in distinguishing ransomware attacks. We compare against other machine learning approaches and find that ours performs better in both accuracy and false positives. Proposed approach is useful for early detection of ransomware attacks in charging station SCADA systems so that we can reduce impact on EV users.\n"
          ]
        },
        {
          "output_type": "stream",
          "name": "stderr",
          "text": [
            "Paraphrasing texts:  87%|████████▋ | 87/100 [08:35<01:35,  7.38s/it]"
          ]
        },
        {
          "output_type": "stream",
          "name": "stdout",
          "text": [
            "This paper looks at how to use Bayesian deep learning techniques to deal with the need for quick intervention by instructors on forums for massive open online courses (MOOCs). MOOCs are very popular because they are easy to access and flexible. But the large number of students taking them makes it hard for instructors to give prompt and personalized feedback especially on forums where students ask questions and seek help. We propose a solution using deep learning models based on Bayesian theory. We consider various factors like nature of the question, time elapsed since posting and level of urgency expressed by students. By including these factors, we can identify urgent questions that instructors should intervene on promptly. Data from a major MOOC platform was used and this solution was compared against other methods. Results show this model outperforms others in terms of accuracy and efficiency, especially in distinguishing urgent questions requiring prompt handling. Results have important implications for instructors who struggle with managing student questions and providing personalized feedback. Results also indicate that Bayesian deep learning models offer great potential to enhance the quality of online education and improve learning experiences for students.\n"
          ]
        },
        {
          "output_type": "stream",
          "name": "stderr",
          "text": [
            "\rParaphrasing texts:  88%|████████▊ | 88/100 [08:41<01:22,  6.90s/it]"
          ]
        },
        {
          "output_type": "stream",
          "name": "stdout",
          "text": [
            "This paper presents a new benchmark dataset focusing on questions about electronics and an architecture for question answering using multi task learning. The benchmark dataset contains many varied questions and answers about things like smartphones and laptops as well as other consumer electronics. Authors design and implement a framework that uses shared knowledge and representations learned from diverse tasks to improve performance. Results of experiments show this new method performs much better than previous methods both in terms of accuracy and efficiency. Analysis of results also indicates strengths and weaknesses of this new framework. Contributions include development of a new dataset for QA on electronics and introduction of a novel framework based on multi task learning that could work well in other domains too.\n"
          ]
        },
        {
          "output_type": "stream",
          "name": "stderr",
          "text": [
            "\rParaphrasing texts:  89%|████████▉ | 89/100 [08:49<01:21,  7.43s/it]"
          ]
        },
        {
          "output_type": "stream",
          "name": "stdout",
          "text": [
            "This paper introduces a new approach for training an automatic planner for cardiac MRI using supervision through spatial relationships among different views. The aim is to overcome difficulties encountered when collecting large amounts of annotated data for supervised learning and shortcomings of unsupervised approaches which rely on fixed criteria to select views. Three core components are involved: one selects candidate views based on spatial relations between current and neighboring views; another synthesizes images for selected candidates using a generative model; and finally there is an evaluation component that judges quality using a discriminator network and selects the highest quality view. Experiments have been performed using a public dataset of cardiac MR images. Results show that this method performs better than previous unsupervised methods both in terms of quality and accuracy of view selection. Moreover, performance matches supervised methods that need lots of annotated data. Conclusion: this approach offers promising solutions to automatic view planning through leveraging spatial relationships and employing unsupervised learning. This approach also shows promise to lessen annotation burden and enhance efficiency and accuracy in cardiac MRI.\n",
            "This paper investigates relationships between logics and games for true concurrency aiming to develop an integrated framework for reasoning about concurrent systems. The paper starts by defining true concurrency as simultaneous execution of multiple processes and reviews previous models of concurrency that highlight their advantages and drawbacks. It proposes a new approach for reasoning about concurrency that integrates elements of both logic and game theory. Specifically, it introduces a new logic for concurrency based on the idea of bisimulation and shows how this logic can be used to reason about behavior of concurrent systems. The paper also introduces a game theoretic model for concurrency that allows analysis of interaction among multiple agents. Results are demonstrated through case study applications including distributed and multi agent systems. Results show effectiveness of the new approach at reasoning about complex concurrent systems. Overall, this paper offers a new and comprehensive approach integrating logic and game theory. This is expected to benefit researchers and practitioners dealing with concurrent systems and serve as a solid base for future research.\n"
          ]
        },
        {
          "output_type": "stream",
          "name": "stderr",
          "text": [
            "Paraphrasing texts:  91%|█████████ | 91/100 [09:02<01:00,  6.74s/it]"
          ]
        },
        {
          "output_type": "stream",
          "name": "stdout",
          "text": [
            "This paper introduces a new way of using posterior matching on Gaussian Multiple Access Channel (GMAC) with feedback. It promises to improve performance compared to traditional decoding methods. Using this method, users code words are matched up with received channel outputs, and feedback is used to refine this match. There is also a quantization step to reduce feedback rate. Theory says that this scheme achieves a better rate region and simulation results show it works well in practice. This new scheme with feedback looks promising for enhancing performance in GMAC communication systems.\n"
          ]
        },
        {
          "output_type": "stream",
          "name": "stderr",
          "text": [
            "\rParaphrasing texts:  92%|█████████▏| 92/100 [09:09<00:53,  6.65s/it]"
          ]
        },
        {
          "output_type": "stream",
          "name": "stdout",
          "text": [
            "This paper looks at whether Tree Memory Networks (TMNs) are effective tools for modeling long term dependencies in sequential data. Traditional neural nets fail because they have limited memory. TMNs are recursive networks that process long dependencies hierarchically. We compare performance of TMNs against traditional nets using different kinds of sequential data tasks like natural language processing and music generation. Results show TMNs outperform standard nets in capturing long term dependencies and achieve high scores. Visualizing learned hierarchy shows TMNs capture relevant linguistic and musical elements that align with human intuition. We also consider future uses such as language understanding and time series analysis. Results indicate TMNs show promise for modeling long dependencies; this work also sheds light on neural mechanisms related to long term memory processing.\n"
          ]
        },
        {
          "output_type": "stream",
          "name": "stderr",
          "text": [
            "\rParaphrasing texts:  93%|█████████▎| 93/100 [09:14<00:44,  6.38s/it]"
          ]
        },
        {
          "output_type": "stream",
          "name": "stdout",
          "text": [
            "This paper presents a hybrid network for learning common representations among different kinds of data including text, images, and sound. It combines unsupervised and supervised learning to deal with challenges of embedding diverse types of data into a single space and retaining important features of each type. Unsupervised part learns common features using a cross modal auto encoder; supervised learning uses a classifier to boost discrimination power of the network. Results on various benchmarks show that this hybrid network performs better compared to leading techniques on retrieval and classification tasks. Conclusion is drawn that hybrid transfer network enables effective integration of information from different data types and will be useful for diverse downstream applications like recommendation and search.\n"
          ]
        },
        {
          "output_type": "stream",
          "name": "stderr",
          "text": [
            "\rParaphrasing texts:  94%|█████████▍| 94/100 [09:22<00:40,  6.74s/it]"
          ]
        },
        {
          "output_type": "stream",
          "name": "stdout",
          "text": [
            "This paper introduces Cryptoguard, a tool designed to precisely find cryptographic vulnerabilities in large Java projects. Cryptography is critical for protecting data but introducing flaws can cause serious issues. Large software projects pose a challenge when searching for these flaws manually. Cryptoguard uses static analysis to automatically detect misuse of cryptographic APIs such as using weak crypto algorithms or incorrect key sizes. Rules based on good practice and standards guide Cryptoguard to highlight potential vulnerabilities. The tool strives to avoid false positives and reports only real flaws. Evaluation of Cryptoguard against 12 major open source Java projects shows its efficacy at high precision. Results indicate that Cryptoguard finds flaws that other tools miss and that it uncovers new vulnerabilities too. In summary, Cryptoguard is powerful for automatic vulnerability detection in large Java projects. Developers can use it to find and fix vulnerabilities and thus improve system security.\n",
            "This paper studies age of information (AoI) reduction for a device that harvests energy to update itself. Both erasures and feedback are considered. AoI is a measurement of data freshness in a communications system. This research looks at situations where the device has low energy reserves and must harvest energy from its surroundings to perform updates. Sometimes this causes loss of information and increases AoI. We compare performance against two scenarios: one with feedback where the device gets information regarding status of updates and another without feedback where there is no such information. Results show that feedback helps reduce AoI significantly when dealing with erasure issues. Results of this research are important for designing efficient communication systems that must keep data current.\n"
          ]
        },
        {
          "output_type": "stream",
          "name": "stderr",
          "text": [
            "Paraphrasing texts:  96%|█████████▌| 96/100 [09:34<00:25,  6.46s/it]"
          ]
        },
        {
          "output_type": "stream",
          "name": "stdout",
          "text": [
            "This paper reports on proceedings of the joint 25th International Workshop on Expressiveness in Concurrent Systems and 15th Workshop on Structural Operational Semantics. The workshops brought together specialists in theory of computer science to review recent progress and advances in concurrency and operational semantics. The goal of the workshops was to serve as a forum where researchers could share ideas, present recent results and foster discussion about where the field should go next. The paper summarizes main themes and topics discussed at the workshops, such as expressiveness of concurrent models, development of new techniques for operational semantics and application of those techniques to practical systems. The paper also notes promising new directions resulting from the workshops and makes suggestions for further research in this area.\n"
          ]
        },
        {
          "output_type": "stream",
          "name": "stderr",
          "text": [
            "\rParaphrasing texts:  97%|█████████▋| 97/100 [09:39<00:18,  6.09s/it]"
          ]
        },
        {
          "output_type": "stream",
          "name": "stdout",
          "text": [
            "This paper studies the development and testing of Odys, a search engine that combines massive parallelism with integrated database management systems and database informed information retrieval. This work seeks to overcome scaling and performance issues of typical engines through the use of DBIR integration into a single system. Results are tested on large data sets and compared to leading search engines. Performance improvements are shown in both query processing speed and retrieval accuracy. Results show that Odys excels relative to current engines. This study adds to the field by showing feasibility and advantages of tight integration between DBMS and IR for large scale search application.\n"
          ]
        },
        {
          "output_type": "stream",
          "name": "stderr",
          "text": [
            "\rParaphrasing texts:  98%|█████████▊| 98/100 [09:46<00:12,  6.08s/it]"
          ]
        },
        {
          "output_type": "stream",
          "name": "stdout",
          "text": [
            "This paper investigates the relationship between $q$ entropies and generalized Fisher information. Entropies are related to Shannon entropy and they are widely used in areas including statistical mechanics, information theory and signal processing. Generalized Fisher information quantifies the information content regarding an important parameter. The authors prove a Cramér Rao type inequality that relates these two quantities; this inequality sets bounds on variance of unbiased estimators of the parameter via derivatives of $q$ entropy against the parameter. The inequality holds for a wide range of distributions and allows us to derive lower bounds for variance of any unbiased estimator. Results obtained here have wide applicability across different disciplines for designing and analyzing statistical inference methods.\n"
          ]
        },
        {
          "output_type": "stream",
          "name": "stderr",
          "text": [
            "\rParaphrasing texts:  99%|█████████▉| 99/100 [09:53<00:06,  6.35s/it]"
          ]
        },
        {
          "output_type": "stream",
          "name": "stdout",
          "text": [
            "This paper studies coordinated beamforming in dense wireless cooperative networks as an important issue for high data rates and energy efficiency in modern wireless communications. To solve this problem, we present an algorithm scalable for coordination among multiple base stations and users that also reduces interference from dense deployments. The proposed method uses the sparsity of channel matrices and channel statistics together to jointly optimize beamforming vectors and power distribution among cooperating nodes. Distributed implementation makes this feasible for large networks with many base stations and users. Performance is evaluated using simulations in diverse network scenarios such as varying densities of users and antennas. Results show significant performance improvements over leading beamforming techniques, especially under dense conditions. Overall, we propose scalable and efficient solutions to coordinated beamforming for dense wireless cooperation networks; this has major significance for system design in future wireless communication systems.\n",
            "Recently, there has been a sharp increase in demand for wireless communications services and consequently a shortage of radio spectrum. One approach to addressing this shortage is to share spectrum among different service providers; this can allow them to use the same band more efficiently. However, there are many technical and economic obstacles to sharing spectrum including interferences and coordination expenses. To mitigate these challenges and to stimulate sharing, some countries have put in place subsidy policies that provide financial support to those who engage in spectrum sharing. This paper investigates how these subsidy policies influence incentives for sharing. Through a literature review, we identify different types of subsidy policies and their goals. We analyze how different subsidy mechanisms affect incentives for sharing such as the level of subsidies, allocation criteria, and subsidy duration. Results indicate that subsidies can effectively stimulate sharing by lowering coordination costs and raising benefits from shared use. However, the design of subsidy mechanisms is key for achieving results; levels and allocations of subsidies can affect different operators differently. We conclude by considering tradeoffs between pros and cons of subsidy policies and offer recommendations to policymakers to improve subsidy usage for sharing. Overall, our work points out the importance of subsidy policies to promote sharing and suggests ways to design effective subsidy schemes. Results of this study could guide policymakers and regulators in more efficient management and allocation of radio spectrum.\n"
          ]
        },
        {
          "output_type": "stream",
          "name": "stderr",
          "text": [
            "Paraphrasing texts: 100%|██████████| 100/100 [10:04<00:00,  6.04s/it]"
          ]
        },
        {
          "output_type": "stream",
          "name": "stdout",
          "text": [
            "Paraphrasing complete! Results saved to paraphrased_results.csv\n"
          ]
        },
        {
          "output_type": "stream",
          "name": "stderr",
          "text": [
            "\n"
          ]
        }
      ]
    },
    {
      "cell_type": "markdown",
      "source": [
        "# DETECTION"
      ],
      "metadata": {
        "id": "cRl4j4m0TPEi"
      }
    },
    {
      "cell_type": "code",
      "source": [
        "import pandas as pd\n",
        "import numpy as np\n",
        "from sklearn.metrics import roc_auc_score\n",
        "import random\n",
        "from transformers import (pipeline, AutoTokenizer, AutoModel, T5ForConditionalGeneration, T5Tokenizer, AutoModelForCausalLM)"
      ],
      "metadata": {
        "id": "4OhPpUajWGPN"
      },
      "execution_count": 19,
      "outputs": []
    },
    {
      "cell_type": "code",
      "source": [
        "qd = pd.read_csv('paraphrased_results.csv')\n",
        "qd_texts = qd['Paraphrased Text'].tolist()"
      ],
      "metadata": {
        "id": "oByCnTNTVFi0"
      },
      "execution_count": 20,
      "outputs": []
    },
    {
      "cell_type": "code",
      "source": [
        "qd = pd.read_csv('paraphrased_results.csv')\n",
        "qd_texts = qd['Paraphrased Text'].tolist()\n",
        "\n",
        "ai_data = {'text': qd_texts, 'label': 1, 'source': 'AI'}\n",
        "human_data = {'text': hum_texts, 'label': 0, 'source': 'Human'}\n",
        "\n",
        "ai_df = pd.DataFrame(ai_data)\n",
        "human_df = pd.DataFrame(human_data)\n",
        "combined_df = pd.concat([ai_df, human_df], ignore_index=True)\n",
        "random.seed(42)\n",
        "shuffled_df = combined_df.sample(frac=1, random_state=42).reset_index(drop=True)\n",
        "shuffled_df.to_csv('combined_texts.csv', index=False)\n",
        "\n",
        "print(\"Data preparation complete. Saved to 'combined_texts.csv'\")"
      ],
      "metadata": {
        "id": "NZv0Ga1dUOa6",
        "colab": {
          "base_uri": "https://localhost:8080/"
        },
        "outputId": "2eeef5c4-f6c9-49bb-a4d5-a15e925cffe7"
      },
      "execution_count": 21,
      "outputs": [
        {
          "output_type": "stream",
          "name": "stdout",
          "text": [
            "Data preparation complete. Saved to 'combined_texts.csv'\n"
          ]
        }
      ]
    },
    {
      "cell_type": "markdown",
      "source": [
        "### RADAR - getting scores"
      ],
      "metadata": {
        "id": "vMWotYw1WSQN"
      }
    },
    {
      "cell_type": "code",
      "source": [
        "class Radar():\n",
        "    def __init__(self, device=\"cuda\"):\n",
        "        self.judge_model = pipeline(\n",
        "            \"text-classification\",\n",
        "            model=\"TrustSafeAI/RADAR-Vicuna-7B\",\n",
        "            tokenizer=\"TrustSafeAI/RADAR-Vicuna-7B\",\n",
        "            max_length=512,\n",
        "            padding='max_length',\n",
        "            truncation=True,\n",
        "            device=device,\n",
        "        )\n",
        "\n",
        "    def score(self, response_list):\n",
        "        scores = self.judge_model(response_list)\n",
        "        return [\n",
        "            (\n",
        "                score[\"score\"]\n",
        "                if score[\"label\"] == \"LABEL_0\"\n",
        "                else 1 - score[\"score\"]\n",
        "            )\n",
        "            for score in scores\n",
        "        ]"
      ],
      "metadata": {
        "id": "oqXTAhhhWTpN"
      },
      "execution_count": 44,
      "outputs": []
    },
    {
      "cell_type": "markdown",
      "source": [
        "\n",
        "\n",
        "### DETECTGPT - getting scores"
      ],
      "metadata": {
        "id": "kK4xKyynWbQz"
      }
    },
    {
      "cell_type": "code",
      "source": [
        "class DetectGPT():\n",
        "    def __init__(self, device=\"cpu\"):\n",
        "        self.device = device\n",
        "        self.judge_model = None\n",
        "\n",
        "    def _load_model(self):\n",
        "        if self.judge_model is None:\n",
        "            print(\"Loading DetectGPT model...\")\n",
        "            self.judge_model = pipeline(\n",
        "                \"text-classification\",\n",
        "                model=\"Hello-SimpleAI/chatgpt-detector-roberta\",  # Example model\n",
        "                tokenizer=\"Hello-SimpleAI/chatgpt-detector-roberta\",\n",
        "                max_length=512,\n",
        "                padding='max_length',\n",
        "                truncation=True,\n",
        "                device=self.device,\n",
        "            )\n",
        "            print(\"DetectGPT model loaded successfully\")\n",
        "\n",
        "    def score(self, response_list):\n",
        "        self._load_model()\n",
        "        scores = self.judge_model(response_list)\n",
        "        return [\n",
        "            (score[\"score\"] if score[\"label\"] == \"1\" else 1 - score[\"score\"])\n",
        "            for score in scores\n",
        "        ]"
      ],
      "metadata": {
        "id": "AyEbm6yyWa07"
      },
      "execution_count": 45,
      "outputs": []
    },
    {
      "cell_type": "code",
      "source": [
        "df = pd.read_csv('combined_texts.csv')\n",
        "responses = df['text'].tolist()\n",
        "\n",
        "def get_scores(judge):\n",
        "    return judge.score(responses)"
      ],
      "metadata": {
        "id": "OMjZz2JkWf5I"
      },
      "execution_count": 46,
      "outputs": []
    },
    {
      "cell_type": "code",
      "source": [
        "judge = Radar()\n",
        "scores_radar = get_scores(judge)\n",
        "judge = DetectGPT()\n",
        "scores_detectgpt = get_scores(judge)\n",
        "\n",
        "combined_df = pd.read_csv('combined_texts.csv')\n",
        "combined_df['detectgpt_score'] = scores_detectgpt\n",
        "combined_df['radar_score'] = scores_radar\n",
        "combined_df.to_csv('authormist_scored.csv', index=False)"
      ],
      "metadata": {
        "id": "wF_bA_RNWht0",
        "colab": {
          "base_uri": "https://localhost:8080/"
        },
        "outputId": "5174bff8-198c-4e4b-d666-aee4588518a2"
      },
      "execution_count": 47,
      "outputs": [
        {
          "output_type": "stream",
          "name": "stderr",
          "text": [
            "Device set to use cuda\n"
          ]
        },
        {
          "output_type": "stream",
          "name": "stdout",
          "text": [
            "Loading DetectGPT model...\n"
          ]
        },
        {
          "output_type": "stream",
          "name": "stderr",
          "text": [
            "Device set to use cpu\n"
          ]
        },
        {
          "output_type": "stream",
          "name": "stdout",
          "text": [
            "DetectGPT model loaded successfully\n"
          ]
        }
      ]
    },
    {
      "cell_type": "code",
      "source": [
        "combined_df.head()"
      ],
      "metadata": {
        "colab": {
          "base_uri": "https://localhost:8080/",
          "height": 206
        },
        "id": "q65AskXKogWM",
        "outputId": "f9d42423-33e6-4925-8d02-1c0e5d2a7ae1"
      },
      "execution_count": 48,
      "outputs": [
        {
          "output_type": "execute_result",
          "data": {
            "text/plain": [
              "                                                text  label source  \\\n",
              "0  Attempt to fully discover the temporal diversi...      0  Human   \n",
              "1  This paper introduces a new method for inferri...      1     AI   \n",
              "2  This paper investigates the relationship betwe...      1     AI   \n",
              "3  This paper investigates control issues related...      1     AI   \n",
              "4  MIMO processing plays a central part towards t...      0  Human   \n",
              "\n",
              "   detectgpt_score  radar_score  \n",
              "0         0.001085     0.020639  \n",
              "1         0.007140     0.040706  \n",
              "2         0.000322     0.126753  \n",
              "3         0.000374     0.129403  \n",
              "4         0.000879     0.009042  "
            ],
            "text/html": [
              "\n",
              "  <div id=\"df-a270dbc5-5d0a-4954-8dab-6701abaac89c\" class=\"colab-df-container\">\n",
              "    <div>\n",
              "<style scoped>\n",
              "    .dataframe tbody tr th:only-of-type {\n",
              "        vertical-align: middle;\n",
              "    }\n",
              "\n",
              "    .dataframe tbody tr th {\n",
              "        vertical-align: top;\n",
              "    }\n",
              "\n",
              "    .dataframe thead th {\n",
              "        text-align: right;\n",
              "    }\n",
              "</style>\n",
              "<table border=\"1\" class=\"dataframe\">\n",
              "  <thead>\n",
              "    <tr style=\"text-align: right;\">\n",
              "      <th></th>\n",
              "      <th>text</th>\n",
              "      <th>label</th>\n",
              "      <th>source</th>\n",
              "      <th>detectgpt_score</th>\n",
              "      <th>radar_score</th>\n",
              "    </tr>\n",
              "  </thead>\n",
              "  <tbody>\n",
              "    <tr>\n",
              "      <th>0</th>\n",
              "      <td>Attempt to fully discover the temporal diversi...</td>\n",
              "      <td>0</td>\n",
              "      <td>Human</td>\n",
              "      <td>0.001085</td>\n",
              "      <td>0.020639</td>\n",
              "    </tr>\n",
              "    <tr>\n",
              "      <th>1</th>\n",
              "      <td>This paper introduces a new method for inferri...</td>\n",
              "      <td>1</td>\n",
              "      <td>AI</td>\n",
              "      <td>0.007140</td>\n",
              "      <td>0.040706</td>\n",
              "    </tr>\n",
              "    <tr>\n",
              "      <th>2</th>\n",
              "      <td>This paper investigates the relationship betwe...</td>\n",
              "      <td>1</td>\n",
              "      <td>AI</td>\n",
              "      <td>0.000322</td>\n",
              "      <td>0.126753</td>\n",
              "    </tr>\n",
              "    <tr>\n",
              "      <th>3</th>\n",
              "      <td>This paper investigates control issues related...</td>\n",
              "      <td>1</td>\n",
              "      <td>AI</td>\n",
              "      <td>0.000374</td>\n",
              "      <td>0.129403</td>\n",
              "    </tr>\n",
              "    <tr>\n",
              "      <th>4</th>\n",
              "      <td>MIMO processing plays a central part towards t...</td>\n",
              "      <td>0</td>\n",
              "      <td>Human</td>\n",
              "      <td>0.000879</td>\n",
              "      <td>0.009042</td>\n",
              "    </tr>\n",
              "  </tbody>\n",
              "</table>\n",
              "</div>\n",
              "    <div class=\"colab-df-buttons\">\n",
              "\n",
              "  <div class=\"colab-df-container\">\n",
              "    <button class=\"colab-df-convert\" onclick=\"convertToInteractive('df-a270dbc5-5d0a-4954-8dab-6701abaac89c')\"\n",
              "            title=\"Convert this dataframe to an interactive table.\"\n",
              "            style=\"display:none;\">\n",
              "\n",
              "  <svg xmlns=\"http://www.w3.org/2000/svg\" height=\"24px\" viewBox=\"0 -960 960 960\">\n",
              "    <path d=\"M120-120v-720h720v720H120Zm60-500h600v-160H180v160Zm220 220h160v-160H400v160Zm0 220h160v-160H400v160ZM180-400h160v-160H180v160Zm440 0h160v-160H620v160ZM180-180h160v-160H180v160Zm440 0h160v-160H620v160Z\"/>\n",
              "  </svg>\n",
              "    </button>\n",
              "\n",
              "  <style>\n",
              "    .colab-df-container {\n",
              "      display:flex;\n",
              "      gap: 12px;\n",
              "    }\n",
              "\n",
              "    .colab-df-convert {\n",
              "      background-color: #E8F0FE;\n",
              "      border: none;\n",
              "      border-radius: 50%;\n",
              "      cursor: pointer;\n",
              "      display: none;\n",
              "      fill: #1967D2;\n",
              "      height: 32px;\n",
              "      padding: 0 0 0 0;\n",
              "      width: 32px;\n",
              "    }\n",
              "\n",
              "    .colab-df-convert:hover {\n",
              "      background-color: #E2EBFA;\n",
              "      box-shadow: 0px 1px 2px rgba(60, 64, 67, 0.3), 0px 1px 3px 1px rgba(60, 64, 67, 0.15);\n",
              "      fill: #174EA6;\n",
              "    }\n",
              "\n",
              "    .colab-df-buttons div {\n",
              "      margin-bottom: 4px;\n",
              "    }\n",
              "\n",
              "    [theme=dark] .colab-df-convert {\n",
              "      background-color: #3B4455;\n",
              "      fill: #D2E3FC;\n",
              "    }\n",
              "\n",
              "    [theme=dark] .colab-df-convert:hover {\n",
              "      background-color: #434B5C;\n",
              "      box-shadow: 0px 1px 3px 1px rgba(0, 0, 0, 0.15);\n",
              "      filter: drop-shadow(0px 1px 2px rgba(0, 0, 0, 0.3));\n",
              "      fill: #FFFFFF;\n",
              "    }\n",
              "  </style>\n",
              "\n",
              "    <script>\n",
              "      const buttonEl =\n",
              "        document.querySelector('#df-a270dbc5-5d0a-4954-8dab-6701abaac89c button.colab-df-convert');\n",
              "      buttonEl.style.display =\n",
              "        google.colab.kernel.accessAllowed ? 'block' : 'none';\n",
              "\n",
              "      async function convertToInteractive(key) {\n",
              "        const element = document.querySelector('#df-a270dbc5-5d0a-4954-8dab-6701abaac89c');\n",
              "        const dataTable =\n",
              "          await google.colab.kernel.invokeFunction('convertToInteractive',\n",
              "                                                    [key], {});\n",
              "        if (!dataTable) return;\n",
              "\n",
              "        const docLinkHtml = 'Like what you see? Visit the ' +\n",
              "          '<a target=\"_blank\" href=https://colab.research.google.com/notebooks/data_table.ipynb>data table notebook</a>'\n",
              "          + ' to learn more about interactive tables.';\n",
              "        element.innerHTML = '';\n",
              "        dataTable['output_type'] = 'display_data';\n",
              "        await google.colab.output.renderOutput(dataTable, element);\n",
              "        const docLink = document.createElement('div');\n",
              "        docLink.innerHTML = docLinkHtml;\n",
              "        element.appendChild(docLink);\n",
              "      }\n",
              "    </script>\n",
              "  </div>\n",
              "\n",
              "\n",
              "    <div id=\"df-b13a830d-6d48-45b5-83bc-014cf585f994\">\n",
              "      <button class=\"colab-df-quickchart\" onclick=\"quickchart('df-b13a830d-6d48-45b5-83bc-014cf585f994')\"\n",
              "                title=\"Suggest charts\"\n",
              "                style=\"display:none;\">\n",
              "\n",
              "<svg xmlns=\"http://www.w3.org/2000/svg\" height=\"24px\"viewBox=\"0 0 24 24\"\n",
              "     width=\"24px\">\n",
              "    <g>\n",
              "        <path d=\"M19 3H5c-1.1 0-2 .9-2 2v14c0 1.1.9 2 2 2h14c1.1 0 2-.9 2-2V5c0-1.1-.9-2-2-2zM9 17H7v-7h2v7zm4 0h-2V7h2v10zm4 0h-2v-4h2v4z\"/>\n",
              "    </g>\n",
              "</svg>\n",
              "      </button>\n",
              "\n",
              "<style>\n",
              "  .colab-df-quickchart {\n",
              "      --bg-color: #E8F0FE;\n",
              "      --fill-color: #1967D2;\n",
              "      --hover-bg-color: #E2EBFA;\n",
              "      --hover-fill-color: #174EA6;\n",
              "      --disabled-fill-color: #AAA;\n",
              "      --disabled-bg-color: #DDD;\n",
              "  }\n",
              "\n",
              "  [theme=dark] .colab-df-quickchart {\n",
              "      --bg-color: #3B4455;\n",
              "      --fill-color: #D2E3FC;\n",
              "      --hover-bg-color: #434B5C;\n",
              "      --hover-fill-color: #FFFFFF;\n",
              "      --disabled-bg-color: #3B4455;\n",
              "      --disabled-fill-color: #666;\n",
              "  }\n",
              "\n",
              "  .colab-df-quickchart {\n",
              "    background-color: var(--bg-color);\n",
              "    border: none;\n",
              "    border-radius: 50%;\n",
              "    cursor: pointer;\n",
              "    display: none;\n",
              "    fill: var(--fill-color);\n",
              "    height: 32px;\n",
              "    padding: 0;\n",
              "    width: 32px;\n",
              "  }\n",
              "\n",
              "  .colab-df-quickchart:hover {\n",
              "    background-color: var(--hover-bg-color);\n",
              "    box-shadow: 0 1px 2px rgba(60, 64, 67, 0.3), 0 1px 3px 1px rgba(60, 64, 67, 0.15);\n",
              "    fill: var(--button-hover-fill-color);\n",
              "  }\n",
              "\n",
              "  .colab-df-quickchart-complete:disabled,\n",
              "  .colab-df-quickchart-complete:disabled:hover {\n",
              "    background-color: var(--disabled-bg-color);\n",
              "    fill: var(--disabled-fill-color);\n",
              "    box-shadow: none;\n",
              "  }\n",
              "\n",
              "  .colab-df-spinner {\n",
              "    border: 2px solid var(--fill-color);\n",
              "    border-color: transparent;\n",
              "    border-bottom-color: var(--fill-color);\n",
              "    animation:\n",
              "      spin 1s steps(1) infinite;\n",
              "  }\n",
              "\n",
              "  @keyframes spin {\n",
              "    0% {\n",
              "      border-color: transparent;\n",
              "      border-bottom-color: var(--fill-color);\n",
              "      border-left-color: var(--fill-color);\n",
              "    }\n",
              "    20% {\n",
              "      border-color: transparent;\n",
              "      border-left-color: var(--fill-color);\n",
              "      border-top-color: var(--fill-color);\n",
              "    }\n",
              "    30% {\n",
              "      border-color: transparent;\n",
              "      border-left-color: var(--fill-color);\n",
              "      border-top-color: var(--fill-color);\n",
              "      border-right-color: var(--fill-color);\n",
              "    }\n",
              "    40% {\n",
              "      border-color: transparent;\n",
              "      border-right-color: var(--fill-color);\n",
              "      border-top-color: var(--fill-color);\n",
              "    }\n",
              "    60% {\n",
              "      border-color: transparent;\n",
              "      border-right-color: var(--fill-color);\n",
              "    }\n",
              "    80% {\n",
              "      border-color: transparent;\n",
              "      border-right-color: var(--fill-color);\n",
              "      border-bottom-color: var(--fill-color);\n",
              "    }\n",
              "    90% {\n",
              "      border-color: transparent;\n",
              "      border-bottom-color: var(--fill-color);\n",
              "    }\n",
              "  }\n",
              "</style>\n",
              "\n",
              "      <script>\n",
              "        async function quickchart(key) {\n",
              "          const quickchartButtonEl =\n",
              "            document.querySelector('#' + key + ' button');\n",
              "          quickchartButtonEl.disabled = true;  // To prevent multiple clicks.\n",
              "          quickchartButtonEl.classList.add('colab-df-spinner');\n",
              "          try {\n",
              "            const charts = await google.colab.kernel.invokeFunction(\n",
              "                'suggestCharts', [key], {});\n",
              "          } catch (error) {\n",
              "            console.error('Error during call to suggestCharts:', error);\n",
              "          }\n",
              "          quickchartButtonEl.classList.remove('colab-df-spinner');\n",
              "          quickchartButtonEl.classList.add('colab-df-quickchart-complete');\n",
              "        }\n",
              "        (() => {\n",
              "          let quickchartButtonEl =\n",
              "            document.querySelector('#df-b13a830d-6d48-45b5-83bc-014cf585f994 button');\n",
              "          quickchartButtonEl.style.display =\n",
              "            google.colab.kernel.accessAllowed ? 'block' : 'none';\n",
              "        })();\n",
              "      </script>\n",
              "    </div>\n",
              "\n",
              "    </div>\n",
              "  </div>\n"
            ],
            "application/vnd.google.colaboratory.intrinsic+json": {
              "type": "dataframe",
              "variable_name": "combined_df",
              "summary": "{\n  \"name\": \"combined_df\",\n  \"rows\": 250,\n  \"fields\": [\n    {\n      \"column\": \"text\",\n      \"properties\": {\n        \"dtype\": \"string\",\n        \"num_unique_values\": 250,\n        \"samples\": [\n          \"Millions of drivers worldwide have enjoyed financial benefits and work schedule flexibility through a ride-sharing economy, but meanwhile they have suffered from the lack of a sense of identity and career achievement. Equipped with social identity and contest theories, financially incentivized team competitions have been an effective instrument to increase drivers' productivity, job satisfaction, and retention, and to improve revenue over cost for ride-sharing platforms. While these competitions are overall effective, the decisive factors behind the treatment effects and how they affect the outcomes of individual drivers have been largely mysterious. In this study, we analyze data collected from more than 500 large-scale team competitions organized by a leading ride-sharing platform, building machine learning models to predict individual treatment effects. Through a careful investigation of features and predictors, we are able to reduce out-sample prediction error by more than 24%. Through interpreting the best-performing models, we discover many novel and actionable insights regarding how to optimize the design and the execution of team competitions on ride-sharing platforms. A simulated analysis demonstrates that by simply changing a few contest design options, the average treatment effect of a real competition is expected to increase by as much as 26%. Our procedure and findings shed light on how to analyze and optimize large-scale online field experiments in general.\",\n          \"Multi-view detection incorporates multiple camera views to alleviate occlusion in crowded scenes, where the state-of-the-art approaches adopt homography transformations to project multi-view features to the ground plane. However, we find that these 2D transformations do not take into account the object's height, and with this neglection features along the vertical direction of same object are likely not projected onto the same ground plane point, leading to impure ground-plane features. To solve this problem, we propose VFA, voxelized 3D feature aggregation, for feature transformation and aggregation in multi-view detection. Specifically, we voxelize the 3D space, project the voxels onto each camera view, and associate 2D features with these projected voxels. This allows us to identify and then aggregate 2D features along the same vertical line, alleviating projection distortions to a large extent. Additionally, because different kinds of objects (human vs. cattle) have different shapes on the ground plane, we introduce the oriented Gaussian encoding to match such shapes, leading to increased accuracy and efficiency. We perform experiments on multiview 2D detection and multiview 3D detection problems. Results on four datasets (including a newly introduced MultiviewC dataset) show that our system is very competitive compared with the state-of-the-art approaches. %Our code and data will be open-sourced.Code and MultiviewC are released at https://github.com/Robert-Mar/VFA.\",\n          \"This paper introduces Cryptoguard, a tool designed to precisely find cryptographic vulnerabilities in large Java projects. Cryptography is critical for protecting data but introducing flaws can cause serious issues. Large software projects pose a challenge when searching for these flaws manually. Cryptoguard uses static analysis to automatically detect misuse of cryptographic APIs such as using weak crypto algorithms or incorrect key sizes. Rules based on good practice and standards guide Cryptoguard to highlight potential vulnerabilities. The tool strives to avoid false positives and reports only real flaws. Evaluation of Cryptoguard against 12 major open source Java projects shows its efficacy at high precision. Results indicate that Cryptoguard finds flaws that other tools miss and that it uncovers new vulnerabilities too. In summary, Cryptoguard is powerful for automatic vulnerability detection in large Java projects. Developers can use it to find and fix vulnerabilities and thus improve system security.\"\n        ],\n        \"semantic_type\": \"\",\n        \"description\": \"\"\n      }\n    },\n    {\n      \"column\": \"label\",\n      \"properties\": {\n        \"dtype\": \"number\",\n        \"std\": 0,\n        \"min\": 0,\n        \"max\": 1,\n        \"num_unique_values\": 2,\n        \"samples\": [\n          1,\n          0\n        ],\n        \"semantic_type\": \"\",\n        \"description\": \"\"\n      }\n    },\n    {\n      \"column\": \"source\",\n      \"properties\": {\n        \"dtype\": \"category\",\n        \"num_unique_values\": 2,\n        \"samples\": [\n          \"AI\",\n          \"Human\"\n        ],\n        \"semantic_type\": \"\",\n        \"description\": \"\"\n      }\n    },\n    {\n      \"column\": \"detectgpt_score\",\n      \"properties\": {\n        \"dtype\": \"number\",\n        \"std\": 0.05072638839502244,\n        \"min\": 0.00025004148483276367,\n        \"max\": 0.3396959900856018,\n        \"num_unique_values\": 249,\n        \"samples\": [\n          0.0005704760551452637,\n          0.06917107105255127\n        ],\n        \"semantic_type\": \"\",\n        \"description\": \"\"\n      }\n    },\n    {\n      \"column\": \"radar_score\",\n      \"properties\": {\n        \"dtype\": \"number\",\n        \"std\": 0.30336771578326693,\n        \"min\": 0.0032587647438049316,\n        \"max\": 0.9957982897758484,\n        \"num_unique_values\": 250,\n        \"samples\": [\n          0.02077275514602661,\n          0.012288510799407959\n        ],\n        \"semantic_type\": \"\",\n        \"description\": \"\"\n      }\n    }\n  ]\n}"
            }
          },
          "metadata": {},
          "execution_count": 48
        }
      ]
    },
    {
      "cell_type": "markdown",
      "source": [
        "### RADAR - getting labels"
      ],
      "metadata": {
        "id": "pBTCx4vHYUOy"
      }
    },
    {
      "cell_type": "code",
      "source": [
        "class Radar():\n",
        "    def __init__(self, device=\"cuda\"):\n",
        "        self.judge_model = pipeline(\n",
        "            \"text-classification\",\n",
        "            model=\"TrustSafeAI/RADAR-Vicuna-7B\",\n",
        "            tokenizer=\"TrustSafeAI/RADAR-Vicuna-7B\",\n",
        "            max_length=512,\n",
        "            padding='max_length',\n",
        "            truncation=True,\n",
        "            device=device,\n",
        "        )\n",
        "\n",
        "    def score(self, response_list):\n",
        "        scores = self.judge_model(response_list)\n",
        "        return [score[\"label\"] for score in scores]"
      ],
      "metadata": {
        "id": "XAw09Y6EYXq8"
      },
      "execution_count": 49,
      "outputs": []
    },
    {
      "cell_type": "markdown",
      "source": [
        "### DetectGPT - getting labels"
      ],
      "metadata": {
        "id": "Wj8eQm8SYgWT"
      }
    },
    {
      "cell_type": "code",
      "source": [
        "class DetectGPT():\n",
        "    def __init__(self, device=\"cpu\"):\n",
        "        self.device = device\n",
        "        self.judge_model = None\n",
        "\n",
        "    def _load_model(self):\n",
        "        if self.judge_model is None:\n",
        "            print(\"Loading DetectGPT model...\")\n",
        "            self.judge_model = pipeline(\n",
        "                \"text-classification\",\n",
        "                model=\"Hello-SimpleAI/chatgpt-detector-roberta\",  # Example model\n",
        "                tokenizer=\"Hello-SimpleAI/chatgpt-detector-roberta\",\n",
        "                max_length=512,\n",
        "                padding='max_length',\n",
        "                truncation=True,\n",
        "                device=self.device,\n",
        "            )\n",
        "            print(\"DetectGPT model loaded successfully\")\n",
        "\n",
        "    def score(self, response_list):\n",
        "        self._load_model()\n",
        "        scores = self.judge_model(response_list)\n",
        "        return [score[\"label\"] for score in scores]"
      ],
      "metadata": {
        "id": "9NfKRPyOYo-c"
      },
      "execution_count": 50,
      "outputs": []
    },
    {
      "cell_type": "code",
      "source": [
        "df = pd.read_csv('authormist_scored.csv')\n",
        "responses = df['text'].tolist()\n",
        "\n",
        "def get_scores(judge):\n",
        "    return judge.score(responses)"
      ],
      "metadata": {
        "id": "VoQFns_LYwDw"
      },
      "execution_count": 51,
      "outputs": []
    },
    {
      "cell_type": "code",
      "source": [
        "judge = Radar()\n",
        "scores_radar = get_scores(judge)\n",
        "judge = DetectGPT()\n",
        "scores_detectgpt = get_scores(judge)\n",
        "\n",
        "combined_df = pd.read_csv('authormist_scored.csv')\n",
        "combined_df['detectgpt_labels'] = scores_detectgpt\n",
        "combined_df['radar_labels'] = scores_radar\n",
        "combined_df.to_csv('authormist_scored.csv', index=False)"
      ],
      "metadata": {
        "colab": {
          "base_uri": "https://localhost:8080/"
        },
        "id": "LzVPrGGvY0nc",
        "outputId": "362f5ee7-03bf-458d-ac23-d11f1d789b64"
      },
      "execution_count": 52,
      "outputs": [
        {
          "output_type": "stream",
          "name": "stderr",
          "text": [
            "Device set to use cuda\n"
          ]
        },
        {
          "output_type": "stream",
          "name": "stdout",
          "text": [
            "Loading DetectGPT model...\n"
          ]
        },
        {
          "output_type": "stream",
          "name": "stderr",
          "text": [
            "Device set to use cpu\n"
          ]
        },
        {
          "output_type": "stream",
          "name": "stdout",
          "text": [
            "DetectGPT model loaded successfully\n"
          ]
        }
      ]
    },
    {
      "cell_type": "code",
      "source": [
        "combined_df"
      ],
      "metadata": {
        "colab": {
          "base_uri": "https://localhost:8080/",
          "height": 597
        },
        "id": "_dGZYLsWqPc2",
        "outputId": "43dd185c-af2b-41a9-dee6-9cffa66a64a6"
      },
      "execution_count": 53,
      "outputs": [
        {
          "output_type": "execute_result",
          "data": {
            "text/plain": [
              "                                                  text  label source  \\\n",
              "0    Attempt to fully discover the temporal diversi...      0  Human   \n",
              "1    This paper introduces a new method for inferri...      1     AI   \n",
              "2    This paper investigates the relationship betwe...      1     AI   \n",
              "3    This paper investigates control issues related...      1     AI   \n",
              "4    MIMO processing plays a central part towards t...      0  Human   \n",
              "..                                                 ...    ...    ...   \n",
              "245  Human pose estimation is a fundamental yet cha...      0  Human   \n",
              "246  This paper investigates the use of crowdsourci...      1     AI   \n",
              "247  This paper presents a hybrid network for learn...      1     AI   \n",
              "248  Dense Multi-GPU systems have recently gained a...      0  Human   \n",
              "249  We study exploration in stochastic multi-armed...      0  Human   \n",
              "\n",
              "     detectgpt_score  radar_score detectgpt_labels radar_labels  \n",
              "0           0.001085     0.020639            Human      LABEL_1  \n",
              "1           0.007140     0.040706            Human      LABEL_1  \n",
              "2           0.000322     0.126753            Human      LABEL_1  \n",
              "3           0.000374     0.129403            Human      LABEL_1  \n",
              "4           0.000879     0.009042            Human      LABEL_1  \n",
              "..               ...          ...              ...          ...  \n",
              "245         0.001395     0.009603            Human      LABEL_1  \n",
              "246         0.006321     0.195242            Human      LABEL_1  \n",
              "247         0.000432     0.049660            Human      LABEL_1  \n",
              "248         0.007426     0.009725            Human      LABEL_1  \n",
              "249         0.014389     0.015977            Human      LABEL_1  \n",
              "\n",
              "[250 rows x 7 columns]"
            ],
            "text/html": [
              "\n",
              "  <div id=\"df-291c8d9d-ea75-42b4-bed0-f583a9ff86da\" class=\"colab-df-container\">\n",
              "    <div>\n",
              "<style scoped>\n",
              "    .dataframe tbody tr th:only-of-type {\n",
              "        vertical-align: middle;\n",
              "    }\n",
              "\n",
              "    .dataframe tbody tr th {\n",
              "        vertical-align: top;\n",
              "    }\n",
              "\n",
              "    .dataframe thead th {\n",
              "        text-align: right;\n",
              "    }\n",
              "</style>\n",
              "<table border=\"1\" class=\"dataframe\">\n",
              "  <thead>\n",
              "    <tr style=\"text-align: right;\">\n",
              "      <th></th>\n",
              "      <th>text</th>\n",
              "      <th>label</th>\n",
              "      <th>source</th>\n",
              "      <th>detectgpt_score</th>\n",
              "      <th>radar_score</th>\n",
              "      <th>detectgpt_labels</th>\n",
              "      <th>radar_labels</th>\n",
              "    </tr>\n",
              "  </thead>\n",
              "  <tbody>\n",
              "    <tr>\n",
              "      <th>0</th>\n",
              "      <td>Attempt to fully discover the temporal diversi...</td>\n",
              "      <td>0</td>\n",
              "      <td>Human</td>\n",
              "      <td>0.001085</td>\n",
              "      <td>0.020639</td>\n",
              "      <td>Human</td>\n",
              "      <td>LABEL_1</td>\n",
              "    </tr>\n",
              "    <tr>\n",
              "      <th>1</th>\n",
              "      <td>This paper introduces a new method for inferri...</td>\n",
              "      <td>1</td>\n",
              "      <td>AI</td>\n",
              "      <td>0.007140</td>\n",
              "      <td>0.040706</td>\n",
              "      <td>Human</td>\n",
              "      <td>LABEL_1</td>\n",
              "    </tr>\n",
              "    <tr>\n",
              "      <th>2</th>\n",
              "      <td>This paper investigates the relationship betwe...</td>\n",
              "      <td>1</td>\n",
              "      <td>AI</td>\n",
              "      <td>0.000322</td>\n",
              "      <td>0.126753</td>\n",
              "      <td>Human</td>\n",
              "      <td>LABEL_1</td>\n",
              "    </tr>\n",
              "    <tr>\n",
              "      <th>3</th>\n",
              "      <td>This paper investigates control issues related...</td>\n",
              "      <td>1</td>\n",
              "      <td>AI</td>\n",
              "      <td>0.000374</td>\n",
              "      <td>0.129403</td>\n",
              "      <td>Human</td>\n",
              "      <td>LABEL_1</td>\n",
              "    </tr>\n",
              "    <tr>\n",
              "      <th>4</th>\n",
              "      <td>MIMO processing plays a central part towards t...</td>\n",
              "      <td>0</td>\n",
              "      <td>Human</td>\n",
              "      <td>0.000879</td>\n",
              "      <td>0.009042</td>\n",
              "      <td>Human</td>\n",
              "      <td>LABEL_1</td>\n",
              "    </tr>\n",
              "    <tr>\n",
              "      <th>...</th>\n",
              "      <td>...</td>\n",
              "      <td>...</td>\n",
              "      <td>...</td>\n",
              "      <td>...</td>\n",
              "      <td>...</td>\n",
              "      <td>...</td>\n",
              "      <td>...</td>\n",
              "    </tr>\n",
              "    <tr>\n",
              "      <th>245</th>\n",
              "      <td>Human pose estimation is a fundamental yet cha...</td>\n",
              "      <td>0</td>\n",
              "      <td>Human</td>\n",
              "      <td>0.001395</td>\n",
              "      <td>0.009603</td>\n",
              "      <td>Human</td>\n",
              "      <td>LABEL_1</td>\n",
              "    </tr>\n",
              "    <tr>\n",
              "      <th>246</th>\n",
              "      <td>This paper investigates the use of crowdsourci...</td>\n",
              "      <td>1</td>\n",
              "      <td>AI</td>\n",
              "      <td>0.006321</td>\n",
              "      <td>0.195242</td>\n",
              "      <td>Human</td>\n",
              "      <td>LABEL_1</td>\n",
              "    </tr>\n",
              "    <tr>\n",
              "      <th>247</th>\n",
              "      <td>This paper presents a hybrid network for learn...</td>\n",
              "      <td>1</td>\n",
              "      <td>AI</td>\n",
              "      <td>0.000432</td>\n",
              "      <td>0.049660</td>\n",
              "      <td>Human</td>\n",
              "      <td>LABEL_1</td>\n",
              "    </tr>\n",
              "    <tr>\n",
              "      <th>248</th>\n",
              "      <td>Dense Multi-GPU systems have recently gained a...</td>\n",
              "      <td>0</td>\n",
              "      <td>Human</td>\n",
              "      <td>0.007426</td>\n",
              "      <td>0.009725</td>\n",
              "      <td>Human</td>\n",
              "      <td>LABEL_1</td>\n",
              "    </tr>\n",
              "    <tr>\n",
              "      <th>249</th>\n",
              "      <td>We study exploration in stochastic multi-armed...</td>\n",
              "      <td>0</td>\n",
              "      <td>Human</td>\n",
              "      <td>0.014389</td>\n",
              "      <td>0.015977</td>\n",
              "      <td>Human</td>\n",
              "      <td>LABEL_1</td>\n",
              "    </tr>\n",
              "  </tbody>\n",
              "</table>\n",
              "<p>250 rows × 7 columns</p>\n",
              "</div>\n",
              "    <div class=\"colab-df-buttons\">\n",
              "\n",
              "  <div class=\"colab-df-container\">\n",
              "    <button class=\"colab-df-convert\" onclick=\"convertToInteractive('df-291c8d9d-ea75-42b4-bed0-f583a9ff86da')\"\n",
              "            title=\"Convert this dataframe to an interactive table.\"\n",
              "            style=\"display:none;\">\n",
              "\n",
              "  <svg xmlns=\"http://www.w3.org/2000/svg\" height=\"24px\" viewBox=\"0 -960 960 960\">\n",
              "    <path d=\"M120-120v-720h720v720H120Zm60-500h600v-160H180v160Zm220 220h160v-160H400v160Zm0 220h160v-160H400v160ZM180-400h160v-160H180v160Zm440 0h160v-160H620v160ZM180-180h160v-160H180v160Zm440 0h160v-160H620v160Z\"/>\n",
              "  </svg>\n",
              "    </button>\n",
              "\n",
              "  <style>\n",
              "    .colab-df-container {\n",
              "      display:flex;\n",
              "      gap: 12px;\n",
              "    }\n",
              "\n",
              "    .colab-df-convert {\n",
              "      background-color: #E8F0FE;\n",
              "      border: none;\n",
              "      border-radius: 50%;\n",
              "      cursor: pointer;\n",
              "      display: none;\n",
              "      fill: #1967D2;\n",
              "      height: 32px;\n",
              "      padding: 0 0 0 0;\n",
              "      width: 32px;\n",
              "    }\n",
              "\n",
              "    .colab-df-convert:hover {\n",
              "      background-color: #E2EBFA;\n",
              "      box-shadow: 0px 1px 2px rgba(60, 64, 67, 0.3), 0px 1px 3px 1px rgba(60, 64, 67, 0.15);\n",
              "      fill: #174EA6;\n",
              "    }\n",
              "\n",
              "    .colab-df-buttons div {\n",
              "      margin-bottom: 4px;\n",
              "    }\n",
              "\n",
              "    [theme=dark] .colab-df-convert {\n",
              "      background-color: #3B4455;\n",
              "      fill: #D2E3FC;\n",
              "    }\n",
              "\n",
              "    [theme=dark] .colab-df-convert:hover {\n",
              "      background-color: #434B5C;\n",
              "      box-shadow: 0px 1px 3px 1px rgba(0, 0, 0, 0.15);\n",
              "      filter: drop-shadow(0px 1px 2px rgba(0, 0, 0, 0.3));\n",
              "      fill: #FFFFFF;\n",
              "    }\n",
              "  </style>\n",
              "\n",
              "    <script>\n",
              "      const buttonEl =\n",
              "        document.querySelector('#df-291c8d9d-ea75-42b4-bed0-f583a9ff86da button.colab-df-convert');\n",
              "      buttonEl.style.display =\n",
              "        google.colab.kernel.accessAllowed ? 'block' : 'none';\n",
              "\n",
              "      async function convertToInteractive(key) {\n",
              "        const element = document.querySelector('#df-291c8d9d-ea75-42b4-bed0-f583a9ff86da');\n",
              "        const dataTable =\n",
              "          await google.colab.kernel.invokeFunction('convertToInteractive',\n",
              "                                                    [key], {});\n",
              "        if (!dataTable) return;\n",
              "\n",
              "        const docLinkHtml = 'Like what you see? Visit the ' +\n",
              "          '<a target=\"_blank\" href=https://colab.research.google.com/notebooks/data_table.ipynb>data table notebook</a>'\n",
              "          + ' to learn more about interactive tables.';\n",
              "        element.innerHTML = '';\n",
              "        dataTable['output_type'] = 'display_data';\n",
              "        await google.colab.output.renderOutput(dataTable, element);\n",
              "        const docLink = document.createElement('div');\n",
              "        docLink.innerHTML = docLinkHtml;\n",
              "        element.appendChild(docLink);\n",
              "      }\n",
              "    </script>\n",
              "  </div>\n",
              "\n",
              "\n",
              "    <div id=\"df-00ca86de-ee64-44a1-a6fb-57541f7b22fd\">\n",
              "      <button class=\"colab-df-quickchart\" onclick=\"quickchart('df-00ca86de-ee64-44a1-a6fb-57541f7b22fd')\"\n",
              "                title=\"Suggest charts\"\n",
              "                style=\"display:none;\">\n",
              "\n",
              "<svg xmlns=\"http://www.w3.org/2000/svg\" height=\"24px\"viewBox=\"0 0 24 24\"\n",
              "     width=\"24px\">\n",
              "    <g>\n",
              "        <path d=\"M19 3H5c-1.1 0-2 .9-2 2v14c0 1.1.9 2 2 2h14c1.1 0 2-.9 2-2V5c0-1.1-.9-2-2-2zM9 17H7v-7h2v7zm4 0h-2V7h2v10zm4 0h-2v-4h2v4z\"/>\n",
              "    </g>\n",
              "</svg>\n",
              "      </button>\n",
              "\n",
              "<style>\n",
              "  .colab-df-quickchart {\n",
              "      --bg-color: #E8F0FE;\n",
              "      --fill-color: #1967D2;\n",
              "      --hover-bg-color: #E2EBFA;\n",
              "      --hover-fill-color: #174EA6;\n",
              "      --disabled-fill-color: #AAA;\n",
              "      --disabled-bg-color: #DDD;\n",
              "  }\n",
              "\n",
              "  [theme=dark] .colab-df-quickchart {\n",
              "      --bg-color: #3B4455;\n",
              "      --fill-color: #D2E3FC;\n",
              "      --hover-bg-color: #434B5C;\n",
              "      --hover-fill-color: #FFFFFF;\n",
              "      --disabled-bg-color: #3B4455;\n",
              "      --disabled-fill-color: #666;\n",
              "  }\n",
              "\n",
              "  .colab-df-quickchart {\n",
              "    background-color: var(--bg-color);\n",
              "    border: none;\n",
              "    border-radius: 50%;\n",
              "    cursor: pointer;\n",
              "    display: none;\n",
              "    fill: var(--fill-color);\n",
              "    height: 32px;\n",
              "    padding: 0;\n",
              "    width: 32px;\n",
              "  }\n",
              "\n",
              "  .colab-df-quickchart:hover {\n",
              "    background-color: var(--hover-bg-color);\n",
              "    box-shadow: 0 1px 2px rgba(60, 64, 67, 0.3), 0 1px 3px 1px rgba(60, 64, 67, 0.15);\n",
              "    fill: var(--button-hover-fill-color);\n",
              "  }\n",
              "\n",
              "  .colab-df-quickchart-complete:disabled,\n",
              "  .colab-df-quickchart-complete:disabled:hover {\n",
              "    background-color: var(--disabled-bg-color);\n",
              "    fill: var(--disabled-fill-color);\n",
              "    box-shadow: none;\n",
              "  }\n",
              "\n",
              "  .colab-df-spinner {\n",
              "    border: 2px solid var(--fill-color);\n",
              "    border-color: transparent;\n",
              "    border-bottom-color: var(--fill-color);\n",
              "    animation:\n",
              "      spin 1s steps(1) infinite;\n",
              "  }\n",
              "\n",
              "  @keyframes spin {\n",
              "    0% {\n",
              "      border-color: transparent;\n",
              "      border-bottom-color: var(--fill-color);\n",
              "      border-left-color: var(--fill-color);\n",
              "    }\n",
              "    20% {\n",
              "      border-color: transparent;\n",
              "      border-left-color: var(--fill-color);\n",
              "      border-top-color: var(--fill-color);\n",
              "    }\n",
              "    30% {\n",
              "      border-color: transparent;\n",
              "      border-left-color: var(--fill-color);\n",
              "      border-top-color: var(--fill-color);\n",
              "      border-right-color: var(--fill-color);\n",
              "    }\n",
              "    40% {\n",
              "      border-color: transparent;\n",
              "      border-right-color: var(--fill-color);\n",
              "      border-top-color: var(--fill-color);\n",
              "    }\n",
              "    60% {\n",
              "      border-color: transparent;\n",
              "      border-right-color: var(--fill-color);\n",
              "    }\n",
              "    80% {\n",
              "      border-color: transparent;\n",
              "      border-right-color: var(--fill-color);\n",
              "      border-bottom-color: var(--fill-color);\n",
              "    }\n",
              "    90% {\n",
              "      border-color: transparent;\n",
              "      border-bottom-color: var(--fill-color);\n",
              "    }\n",
              "  }\n",
              "</style>\n",
              "\n",
              "      <script>\n",
              "        async function quickchart(key) {\n",
              "          const quickchartButtonEl =\n",
              "            document.querySelector('#' + key + ' button');\n",
              "          quickchartButtonEl.disabled = true;  // To prevent multiple clicks.\n",
              "          quickchartButtonEl.classList.add('colab-df-spinner');\n",
              "          try {\n",
              "            const charts = await google.colab.kernel.invokeFunction(\n",
              "                'suggestCharts', [key], {});\n",
              "          } catch (error) {\n",
              "            console.error('Error during call to suggestCharts:', error);\n",
              "          }\n",
              "          quickchartButtonEl.classList.remove('colab-df-spinner');\n",
              "          quickchartButtonEl.classList.add('colab-df-quickchart-complete');\n",
              "        }\n",
              "        (() => {\n",
              "          let quickchartButtonEl =\n",
              "            document.querySelector('#df-00ca86de-ee64-44a1-a6fb-57541f7b22fd button');\n",
              "          quickchartButtonEl.style.display =\n",
              "            google.colab.kernel.accessAllowed ? 'block' : 'none';\n",
              "        })();\n",
              "      </script>\n",
              "    </div>\n",
              "\n",
              "  <div id=\"id_bb7956a7-ef58-4f97-8543-607bf0c24c5a\">\n",
              "    <style>\n",
              "      .colab-df-generate {\n",
              "        background-color: #E8F0FE;\n",
              "        border: none;\n",
              "        border-radius: 50%;\n",
              "        cursor: pointer;\n",
              "        display: none;\n",
              "        fill: #1967D2;\n",
              "        height: 32px;\n",
              "        padding: 0 0 0 0;\n",
              "        width: 32px;\n",
              "      }\n",
              "\n",
              "      .colab-df-generate:hover {\n",
              "        background-color: #E2EBFA;\n",
              "        box-shadow: 0px 1px 2px rgba(60, 64, 67, 0.3), 0px 1px 3px 1px rgba(60, 64, 67, 0.15);\n",
              "        fill: #174EA6;\n",
              "      }\n",
              "\n",
              "      [theme=dark] .colab-df-generate {\n",
              "        background-color: #3B4455;\n",
              "        fill: #D2E3FC;\n",
              "      }\n",
              "\n",
              "      [theme=dark] .colab-df-generate:hover {\n",
              "        background-color: #434B5C;\n",
              "        box-shadow: 0px 1px 3px 1px rgba(0, 0, 0, 0.15);\n",
              "        filter: drop-shadow(0px 1px 2px rgba(0, 0, 0, 0.3));\n",
              "        fill: #FFFFFF;\n",
              "      }\n",
              "    </style>\n",
              "    <button class=\"colab-df-generate\" onclick=\"generateWithVariable('combined_df')\"\n",
              "            title=\"Generate code using this dataframe.\"\n",
              "            style=\"display:none;\">\n",
              "\n",
              "  <svg xmlns=\"http://www.w3.org/2000/svg\" height=\"24px\"viewBox=\"0 0 24 24\"\n",
              "       width=\"24px\">\n",
              "    <path d=\"M7,19H8.4L18.45,9,17,7.55,7,17.6ZM5,21V16.75L18.45,3.32a2,2,0,0,1,2.83,0l1.4,1.43a1.91,1.91,0,0,1,.58,1.4,1.91,1.91,0,0,1-.58,1.4L9.25,21ZM18.45,9,17,7.55Zm-12,3A5.31,5.31,0,0,0,4.9,8.1,5.31,5.31,0,0,0,1,6.5,5.31,5.31,0,0,0,4.9,4.9,5.31,5.31,0,0,0,6.5,1,5.31,5.31,0,0,0,8.1,4.9,5.31,5.31,0,0,0,12,6.5,5.46,5.46,0,0,0,6.5,12Z\"/>\n",
              "  </svg>\n",
              "    </button>\n",
              "    <script>\n",
              "      (() => {\n",
              "      const buttonEl =\n",
              "        document.querySelector('#id_bb7956a7-ef58-4f97-8543-607bf0c24c5a button.colab-df-generate');\n",
              "      buttonEl.style.display =\n",
              "        google.colab.kernel.accessAllowed ? 'block' : 'none';\n",
              "\n",
              "      buttonEl.onclick = () => {\n",
              "        google.colab.notebook.generateWithVariable('combined_df');\n",
              "      }\n",
              "      })();\n",
              "    </script>\n",
              "  </div>\n",
              "\n",
              "    </div>\n",
              "  </div>\n"
            ],
            "application/vnd.google.colaboratory.intrinsic+json": {
              "type": "dataframe",
              "variable_name": "combined_df",
              "summary": "{\n  \"name\": \"combined_df\",\n  \"rows\": 250,\n  \"fields\": [\n    {\n      \"column\": \"text\",\n      \"properties\": {\n        \"dtype\": \"string\",\n        \"num_unique_values\": 250,\n        \"samples\": [\n          \"Millions of drivers worldwide have enjoyed financial benefits and work schedule flexibility through a ride-sharing economy, but meanwhile they have suffered from the lack of a sense of identity and career achievement. Equipped with social identity and contest theories, financially incentivized team competitions have been an effective instrument to increase drivers' productivity, job satisfaction, and retention, and to improve revenue over cost for ride-sharing platforms. While these competitions are overall effective, the decisive factors behind the treatment effects and how they affect the outcomes of individual drivers have been largely mysterious. In this study, we analyze data collected from more than 500 large-scale team competitions organized by a leading ride-sharing platform, building machine learning models to predict individual treatment effects. Through a careful investigation of features and predictors, we are able to reduce out-sample prediction error by more than 24%. Through interpreting the best-performing models, we discover many novel and actionable insights regarding how to optimize the design and the execution of team competitions on ride-sharing platforms. A simulated analysis demonstrates that by simply changing a few contest design options, the average treatment effect of a real competition is expected to increase by as much as 26%. Our procedure and findings shed light on how to analyze and optimize large-scale online field experiments in general.\",\n          \"Multi-view detection incorporates multiple camera views to alleviate occlusion in crowded scenes, where the state-of-the-art approaches adopt homography transformations to project multi-view features to the ground plane. However, we find that these 2D transformations do not take into account the object's height, and with this neglection features along the vertical direction of same object are likely not projected onto the same ground plane point, leading to impure ground-plane features. To solve this problem, we propose VFA, voxelized 3D feature aggregation, for feature transformation and aggregation in multi-view detection. Specifically, we voxelize the 3D space, project the voxels onto each camera view, and associate 2D features with these projected voxels. This allows us to identify and then aggregate 2D features along the same vertical line, alleviating projection distortions to a large extent. Additionally, because different kinds of objects (human vs. cattle) have different shapes on the ground plane, we introduce the oriented Gaussian encoding to match such shapes, leading to increased accuracy and efficiency. We perform experiments on multiview 2D detection and multiview 3D detection problems. Results on four datasets (including a newly introduced MultiviewC dataset) show that our system is very competitive compared with the state-of-the-art approaches. %Our code and data will be open-sourced.Code and MultiviewC are released at https://github.com/Robert-Mar/VFA.\",\n          \"This paper introduces Cryptoguard, a tool designed to precisely find cryptographic vulnerabilities in large Java projects. Cryptography is critical for protecting data but introducing flaws can cause serious issues. Large software projects pose a challenge when searching for these flaws manually. Cryptoguard uses static analysis to automatically detect misuse of cryptographic APIs such as using weak crypto algorithms or incorrect key sizes. Rules based on good practice and standards guide Cryptoguard to highlight potential vulnerabilities. The tool strives to avoid false positives and reports only real flaws. Evaluation of Cryptoguard against 12 major open source Java projects shows its efficacy at high precision. Results indicate that Cryptoguard finds flaws that other tools miss and that it uncovers new vulnerabilities too. In summary, Cryptoguard is powerful for automatic vulnerability detection in large Java projects. Developers can use it to find and fix vulnerabilities and thus improve system security.\"\n        ],\n        \"semantic_type\": \"\",\n        \"description\": \"\"\n      }\n    },\n    {\n      \"column\": \"label\",\n      \"properties\": {\n        \"dtype\": \"number\",\n        \"std\": 0,\n        \"min\": 0,\n        \"max\": 1,\n        \"num_unique_values\": 2,\n        \"samples\": [\n          1,\n          0\n        ],\n        \"semantic_type\": \"\",\n        \"description\": \"\"\n      }\n    },\n    {\n      \"column\": \"source\",\n      \"properties\": {\n        \"dtype\": \"category\",\n        \"num_unique_values\": 2,\n        \"samples\": [\n          \"AI\",\n          \"Human\"\n        ],\n        \"semantic_type\": \"\",\n        \"description\": \"\"\n      }\n    },\n    {\n      \"column\": \"detectgpt_score\",\n      \"properties\": {\n        \"dtype\": \"number\",\n        \"std\": 0.05072638839502245,\n        \"min\": 0.0002500414848327,\n        \"max\": 0.3396959900856018,\n        \"num_unique_values\": 249,\n        \"samples\": [\n          0.0005704760551452,\n          0.0691710710525512\n        ],\n        \"semantic_type\": \"\",\n        \"description\": \"\"\n      }\n    },\n    {\n      \"column\": \"radar_score\",\n      \"properties\": {\n        \"dtype\": \"number\",\n        \"std\": 0.303367715783267,\n        \"min\": 0.0032587647438049,\n        \"max\": 0.9957982897758484,\n        \"num_unique_values\": 250,\n        \"samples\": [\n          0.0207727551460266,\n          0.0122885107994079\n        ],\n        \"semantic_type\": \"\",\n        \"description\": \"\"\n      }\n    },\n    {\n      \"column\": \"detectgpt_labels\",\n      \"properties\": {\n        \"dtype\": \"category\",\n        \"num_unique_values\": 2,\n        \"samples\": [\n          \"ChatGPT\",\n          \"Human\"\n        ],\n        \"semantic_type\": \"\",\n        \"description\": \"\"\n      }\n    },\n    {\n      \"column\": \"radar_labels\",\n      \"properties\": {\n        \"dtype\": \"category\",\n        \"num_unique_values\": 2,\n        \"samples\": [\n          \"LABEL_0\",\n          \"LABEL_1\"\n        ],\n        \"semantic_type\": \"\",\n        \"description\": \"\"\n      }\n    }\n  ]\n}"
            }
          },
          "metadata": {},
          "execution_count": 53
        }
      ]
    },
    {
      "cell_type": "markdown",
      "source": [
        "## AUROC scores on RADAR and DetectGPT Scores\n",
        "\n",
        "\n"
      ],
      "metadata": {
        "id": "1nfJJfXRatkq"
      }
    },
    {
      "cell_type": "code",
      "source": [
        "import numpy as np\n",
        "from sklearn.metrics import roc_auc_score\n",
        "\n",
        "auroc_radar = roc_auc_score(combined_df['label'], combined_df['radar_score'])\n",
        "print(f\"RADAR AUROC Score: {auroc_radar:.6f}\")\n",
        "auroc_detectgpt = roc_auc_score(combined_df['label'], combined_df['detectgpt_score'])\n",
        "print(f\"DETECTGPT AUROC Score: {auroc_detectgpt:.6f}\")"
      ],
      "metadata": {
        "colab": {
          "base_uri": "https://localhost:8080/"
        },
        "id": "UeC1fP1Ka9JU",
        "outputId": "7ab07ed0-43eb-464c-bf42-0d93c900bf9f"
      },
      "execution_count": 55,
      "outputs": [
        {
          "output_type": "stream",
          "name": "stdout",
          "text": [
            "RADAR AUROC Score: 0.922933\n",
            "DETECTGPT AUROC Score: 0.435900\n"
          ]
        }
      ]
    },
    {
      "cell_type": "markdown",
      "source": [
        "# More RADAR Metrics"
      ],
      "metadata": {
        "id": "g8Zxx2rxi85N"
      }
    },
    {
      "cell_type": "code",
      "source": [
        "from sklearn.metrics import f1_score, precision_score, recall_score, accuracy_score, confusion_matrix\n",
        "\n",
        "# 1. Convert radar labels into binary labels\n",
        "binary_predictions = (combined_df['radar_labels'] == \"LABEL_1\").astype(int)\n",
        "\n",
        "# 2. Confusion matrix\n",
        "tn, fp, fn, tp = confusion_matrix(combined_df['label'], binary_predictions).ravel()\n",
        "\n",
        "print(\"True Negatives:\", tn)\n",
        "print(\"False Positives:\", fp)\n",
        "print(\"False Negatives:\", fn)\n",
        "print(\"True Positives:\", tp)\n",
        "\n",
        "# 3. Metrics\n",
        "precision = precision_score(combined_df['label'], binary_predictions)\n",
        "recall = recall_score(combined_df['label'], binary_predictions)\n",
        "f1 = f1_score(combined_df['label'], binary_predictions)\n",
        "accuracy = accuracy_score(combined_df['label'], binary_predictions)\n",
        "\n",
        "print(f\"Precision: {precision:.6f}\")\n",
        "print(f\"Recall: {recall:.6f}\")\n",
        "print(f\"F1 Score: {f1:.6f}\")\n",
        "print(f\"Accuracy: {accuracy:.6f}\")\n",
        "\n",
        "# 4. Attack Success Rate (ASR)\n",
        "# ASR = fraction of \"AIs misclassified as Human\" = FN / (TP + FN)\n",
        "asr = fn / (tp + fn) if (tp + fn) > 0 else 0\n",
        "print(f\"Attack Success Rate: {asr:.6f}\")\n"
      ],
      "metadata": {
        "colab": {
          "base_uri": "https://localhost:8080/"
        },
        "id": "LAdWMbkQjDpK",
        "outputId": "6d65da94-174c-4a25-ec16-a20275799d82"
      },
      "execution_count": 63,
      "outputs": [
        {
          "output_type": "stream",
          "name": "stdout",
          "text": [
            "True Negatives: 1\n",
            "False Positives: 149\n",
            "False Negatives: 40\n",
            "True Positives: 60\n",
            "Precision: 0.287081\n",
            "Recall: 0.600000\n",
            "F1 Score: 0.388350\n",
            "Accuracy: 0.244000\n",
            "Attack Success Rate: 0.400000\n"
          ]
        }
      ]
    },
    {
      "cell_type": "markdown",
      "source": [
        "# More DetectGPT Metrics"
      ],
      "metadata": {
        "id": "vrFj7iMrjQfE"
      }
    },
    {
      "cell_type": "code",
      "source": [
        "from sklearn.metrics import f1_score, precision_score, recall_score, accuracy_score, confusion_matrix\n",
        "\n",
        "# 1. Map detectgpt labels to 0/1\n",
        "binary_predictions = (combined_df['detectgpt_labels'] == \"ChatGPT\").astype(int)\n",
        "\n",
        "# 2. Get confusion matrix\n",
        "tn, fp, fn, tp = confusion_matrix(combined_df['label'], binary_predictions).ravel()\n",
        "\n",
        "print(\"True Negatives:\", tn)\n",
        "print(\"False Positives:\", fp)\n",
        "print(\"False Negatives:\", fn)\n",
        "print(\"True Positives:\", tp)\n",
        "\n",
        "# 3. Compute metrics\n",
        "precision = precision_score(combined_df['label'], binary_predictions)\n",
        "recall = recall_score(combined_df['label'], binary_predictions)\n",
        "f1 = f1_score(combined_df['label'], binary_predictions)\n",
        "accuracy = accuracy_score(combined_df['label'], binary_predictions)\n",
        "\n",
        "print(f\"Precision: {precision:.6f}\")\n",
        "print(f\"Recall: {recall:.6f}\")\n",
        "print(f\"F1 Score: {f1:.6f}\")\n",
        "print(f\"Accuracy: {accuracy:.6f}\")\n",
        "\n",
        "# 4. Attack Success Rate (ASR)\n",
        "asr = fn / (tp + fn) if (tp + fn) > 0 else 0\n",
        "print(f\"Attack Success Rate: {asr:.6f}\")\n"
      ],
      "metadata": {
        "colab": {
          "base_uri": "https://localhost:8080/"
        },
        "id": "-EF3jn7GjSaO",
        "outputId": "61b51d1e-c11c-4b26-d1b5-cc23158791f5"
      },
      "execution_count": 64,
      "outputs": [
        {
          "output_type": "stream",
          "name": "stdout",
          "text": [
            "True Negatives: 149\n",
            "False Positives: 1\n",
            "False Negatives: 97\n",
            "True Positives: 3\n",
            "Precision: 0.750000\n",
            "Recall: 0.030000\n",
            "F1 Score: 0.057692\n",
            "Accuracy: 0.608000\n",
            "Attack Success Rate: 0.970000\n"
          ]
        }
      ]
    },
    {
      "cell_type": "code",
      "source": [
        "import pandas as pd\n",
        "import matplotlib.pyplot as plt\n",
        "import seaborn as sns\n",
        "\n",
        "model_col = \"source\"\n",
        "score_col = \"radar_score\"\n",
        "\n",
        "models = combined_df[model_col].unique()\n",
        "\n",
        "# Plot KDE for smooth distributions\n",
        "plt.figure(figsize=(10, 6))\n",
        "for model in models:\n",
        "    subset = combined_df[combined_df[model_col] == model]\n",
        "    sns.kdeplot(subset[score_col].dropna(), label=model, fill=True, alpha=0.4)  # Fill for better visibility\n",
        "\n",
        "# Add labels and title\n",
        "plt.xlabel(\"RADAR Score\")\n",
        "plt.ylabel(\"Density\")\n",
        "plt.title(\"Distribution of RADAR Scores by Model\")\n",
        "plt.legend(title=\"Models\")\n",
        "\n",
        "# Show plot\n",
        "plt.show()"
      ],
      "metadata": {
        "colab": {
          "base_uri": "https://localhost:8080/",
          "height": 564
        },
        "id": "QlfdhuGA5Ssd",
        "outputId": "3d00b92d-09a2-4e20-fc88-0fd85e003fda"
      },
      "execution_count": 58,
      "outputs": [
        {
          "output_type": "display_data",
          "data": {
            "text/plain": [
              "<Figure size 1000x600 with 1 Axes>"
            ],
            "image/png": "[encoded data removed]"
          },
          "metadata": {}
        }
      ]
    },
    {
      "cell_type": "code",
      "source": [
        "import pandas as pd\n",
        "import matplotlib.pyplot as plt\n",
        "import seaborn as sns\n",
        "\n",
        "model_col = \"source\"\n",
        "score_col = \"detectgpt_score\"\n",
        "\n",
        "models = combined_df[model_col].unique()\n",
        "\n",
        "# Plot KDE for smooth distributions\n",
        "plt.figure(figsize=(10, 6))\n",
        "for model in models:\n",
        "    subset = combined_df[combined_df[model_col] == model]\n",
        "    sns.kdeplot(subset[score_col].dropna(), label=model, fill=True, alpha=0.4)  # Fill for better visibility\n",
        "\n",
        "# Add labels and title\n",
        "plt.xlabel(\"DetectGPT Score\")\n",
        "plt.ylabel(\"Density\")\n",
        "plt.title(\"Distribution of DetectGPT Scores by Model\")\n",
        "plt.legend(title=\"Models\")\n",
        "\n",
        "# Show plot\n",
        "plt.show()"
      ],
      "metadata": {
        "colab": {
          "base_uri": "https://localhost:8080/",
          "height": 564
        },
        "id": "bmPxHGTw6UlF",
        "outputId": "0f3a37fd-1e4c-41dc-c1cd-c29b3edcf2fd"
      },
      "execution_count": 59,
      "outputs": [
        {
          "output_type": "display_data",
          "data": {
            "text/plain": [
              "<Figure size 1000x600 with 1 Axes>"
            ],
            "image/png": "[encoded data removed]"
          },
          "metadata": {}
        }
      ]
    },
    {
      "cell_type": "code",
      "source": [
        "from sklearn.metrics import roc_curve\n",
        "\n",
        "# Calculate ROC curve points for both detectors\n",
        "fpr_radar, tpr_radar, _ = roc_curve(combined_df['label'], combined_df['radar_score'])\n",
        "fpr_wild, tpr_wild, _ = roc_curve(combined_df['label'], combined_df['detectgpt_score'])\n",
        "\n",
        "# Create a figure with appropriate size\n",
        "plt.figure(figsize=(10, 8))\n",
        "\n",
        "# Plot both ROC curves\n",
        "plt.plot(fpr_radar, tpr_radar, color='blue', lw=2,\n",
        "         label=f'RADAR (AUROC = {auroc_radar:.4f})')\n",
        "plt.plot(fpr_wild, tpr_wild, color='red', lw=2,\n",
        "         label=f'DETECTGPT (AUROC = {auroc_detectgpt:.4f})')\n",
        "\n",
        "# Plot the diagonal reference line\n",
        "plt.plot([0, 1], [0, 1], color='gray', lw=1, linestyle='--')\n",
        "\n",
        "# Add labels and formatting\n",
        "plt.xlim([0.0, 1.0])\n",
        "plt.ylim([0.0, 1.05])\n",
        "plt.xlabel('False Positive Rate', fontsize=14)\n",
        "plt.ylabel('True Positive Rate', fontsize=14)\n",
        "plt.title('ROC Curves for AI Text Detection Models', fontsize=16)\n",
        "plt.legend(loc=\"lower right\", fontsize=12)\n",
        "plt.grid(True, alpha=0.3)\n",
        "\n",
        "# Show the plot\n",
        "plt.show()"
      ],
      "metadata": {
        "colab": {
          "base_uri": "https://localhost:8080/",
          "height": 725
        },
        "id": "7aqdKkXplhtB",
        "outputId": "2e8dc471-612d-4dc3-8026-e8a0401d2ba1"
      },
      "execution_count": 60,
      "outputs": [
        {
          "output_type": "display_data",
          "data": {
            "text/plain": [
              "<Figure size 1000x800 with 1 Axes>"
            ],
            "image/png": "[encoded data removed]"
          },
          "metadata": {}
        }
      ]
    },
    {
      "cell_type": "code",
      "source": [
        "import pandas as pd\n",
        "import matplotlib.pyplot as plt\n",
        "import seaborn as sns\n",
        "import numpy as np\n",
        "\n",
        "model_col = \"source\"\n",
        "score_col = \"radar_score\"\n",
        "\n",
        "models = combined_df[model_col].unique()\n",
        "\n",
        "plt.figure(figsize=(10, 6))\n",
        "\n",
        "# Loop through Human and AI separately\n",
        "for model in models:\n",
        "    subset = combined_df[combined_df[model_col] == model]\n",
        "    scores = subset[score_col].dropna()\n",
        "    sorted_scores = np.sort(scores)\n",
        "    cdf = np.arange(1, len(sorted_scores)+1) / len(sorted_scores)\n",
        "    plt.plot(sorted_scores, cdf, label=model)\n",
        "\n",
        "# Add labels and title\n",
        "plt.xlabel(\"RADAR Score\")\n",
        "plt.ylabel(\"Cumulative Probability\")\n",
        "plt.title(\"CDF of RADAR Scores by Model\")\n",
        "plt.legend(title=\"Models\")\n",
        "plt.grid(True)\n",
        "plt.show()\n"
      ],
      "metadata": {
        "colab": {
          "base_uri": "https://localhost:8080/",
          "height": 564
        },
        "id": "Dd5Wmva82IWr",
        "outputId": "6aa7b784-1a70-42e8-8ab9-f81c1165433e"
      },
      "execution_count": 66,
      "outputs": [
        {
          "output_type": "display_data",
          "data": {
            "text/plain": [
              "<Figure size 1000x600 with 1 Axes>"
            ],
            "image/png": "[encoded data removed]"
          },
          "metadata": {}
        }
      ]
    },
    {
      "cell_type": "code",
      "source": [
        "import pandas as pd\n",
        "import matplotlib.pyplot as plt\n",
        "import seaborn as sns\n",
        "import numpy as np\n",
        "\n",
        "model_col = \"source\"\n",
        "score_col = \"detectgpt_score\"\n",
        "\n",
        "models = combined_df[model_col].unique()\n",
        "\n",
        "plt.figure(figsize=(10, 6))\n",
        "\n",
        "# Loop through Human and AI separately\n",
        "for model in models:\n",
        "    subset = combined_df[combined_df[model_col] == model]\n",
        "    scores = subset[score_col].dropna()\n",
        "    sorted_scores = np.sort(scores)\n",
        "    cdf = np.arange(1, len(sorted_scores)+1) / len(sorted_scores)\n",
        "    plt.plot(sorted_scores, cdf, label=model)\n",
        "\n",
        "# Add labels and title\n",
        "plt.xlabel(\"DetectGPT Score\")\n",
        "plt.ylabel(\"Cumulative Probability\")\n",
        "plt.title(\"CDF of DetectGPT Scores by Model\")\n",
        "plt.legend(title=\"Models\")\n",
        "plt.grid(True)\n",
        "plt.show()\n"
      ],
      "metadata": {
        "id": "sbC0MkZSn7sO",
        "colab": {
          "base_uri": "https://localhost:8080/",
          "height": 564
        },
        "outputId": "39df3671-0287-479c-dab4-9c281945916e"
      },
      "execution_count": 65,
      "outputs": [
        {
          "output_type": "display_data",
          "data": {
            "text/plain": [
              "<Figure size 1000x600 with 1 Axes>"
            ],
            "image/png": "[encoded data removed]"
          },
          "metadata": {}
        }
      ]
    },
    {
      "cell_type": "code",
      "source": [],
      "metadata": {
        "id": "gm4dDfR_1m7n"
      },
      "execution_count": null,
      "outputs": []
    }
  ]
}